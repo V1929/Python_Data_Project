{
 "cells": [
  {
   "cell_type": "code",
   "execution_count": 2,
   "id": "b5ff01eb-e8ad-44f7-8eb7-6c2bbd880551",
   "metadata": {},
   "outputs": [
    {
     "data": {
      "text/plain": [
       "4"
      ]
     },
     "execution_count": 2,
     "metadata": {},
     "output_type": "execute_result"
    }
   ],
   "source": [
    " 2 + 2"
   ]
  },
  {
   "cell_type": "code",
   "execution_count": 3,
   "id": "2df5673d-004f-4da6-9bc7-dc635f4523a1",
   "metadata": {},
   "outputs": [
    {
     "data": {
      "text/plain": [
       "282"
      ]
     },
     "execution_count": 3,
     "metadata": {},
     "output_type": "execute_result"
    }
   ],
   "source": [
    "282"
   ]
  },
  {
   "cell_type": "code",
   "execution_count": 4,
   "id": "b5789511-8b19-4764-ad02-9fc733e174bc",
   "metadata": {},
   "outputs": [
    {
     "data": {
      "text/plain": [
       "4"
      ]
     },
     "execution_count": 4,
     "metadata": {},
     "output_type": "execute_result"
    }
   ],
   "source": [
    "2*2"
   ]
  },
  {
   "cell_type": "code",
   "execution_count": 5,
   "id": "8680bdaa-5e6d-43df-b29e-f32522cae8c2",
   "metadata": {},
   "outputs": [
    {
     "data": {
      "text/plain": [
       "16"
      ]
     },
     "execution_count": 5,
     "metadata": {},
     "output_type": "execute_result"
    }
   ],
   "source": [
    "3*3\n",
    "4*4"
   ]
  },
  {
   "cell_type": "code",
   "execution_count": 6,
   "id": "69279c32-0d62-436e-9394-9d9f427d7f24",
   "metadata": {},
   "outputs": [
    {
     "name": "stdout",
     "output_type": "stream",
     "text": [
      "4\n",
      "9\n"
     ]
    }
   ],
   "source": [
    "print(2*2)\n",
    "print(3*3)"
   ]
  },
  {
   "cell_type": "code",
   "execution_count": 7,
   "id": "fe3ad85c-3110-420e-a5ce-ab5f3ebde449",
   "metadata": {},
   "outputs": [
    {
     "name": "stdout",
     "output_type": "stream",
     "text": [
      "4\n",
      "9\n"
     ]
    }
   ],
   "source": [
    "print(2*2)\n",
    "print(3*3)"
   ]
  },
  {
   "cell_type": "code",
   "execution_count": 8,
   "id": "e1ee901a-5e7b-43cd-9ab8-7fdb05069a43",
   "metadata": {},
   "outputs": [],
   "source": [
    " salary = 100000"
   ]
  },
  {
   "cell_type": "code",
   "execution_count": 9,
   "id": "c35ed3c0-0520-4ae1-b89d-104b13232f55",
   "metadata": {},
   "outputs": [
    {
     "data": {
      "text/plain": [
       "100000"
      ]
     },
     "execution_count": 9,
     "metadata": {},
     "output_type": "execute_result"
    }
   ],
   "source": [
    "salary"
   ]
  },
  {
   "cell_type": "code",
   "execution_count": 10,
   "id": "2d26a5bd-6bb0-4297-b93c-355c01b6f5d8",
   "metadata": {},
   "outputs": [],
   "source": [
    "base_salary = 100000\n",
    "bonus_rate = .10"
   ]
  },
  {
   "cell_type": "code",
   "execution_count": 11,
   "id": "1063cb48-63e9-4125-86b9-d8378748e4b9",
   "metadata": {},
   "outputs": [],
   "source": [
    "total_salary = (base_salary)*(1+bonus_rate)"
   ]
  },
  {
   "cell_type": "code",
   "execution_count": 12,
   "id": "2d00542c-adee-4f1e-9a01-8b3897a453d5",
   "metadata": {},
   "outputs": [
    {
     "data": {
      "text/plain": [
       "110000.00000000001"
      ]
     },
     "execution_count": 12,
     "metadata": {},
     "output_type": "execute_result"
    }
   ],
   "source": [
    "total_salary\n"
   ]
  },
  {
   "cell_type": "code",
   "execution_count": 13,
   "id": "72214010-1dd3-42e5-8a39-25fe3ec28501",
   "metadata": {},
   "outputs": [],
   "source": [
    "company_name = 'DataWiz Inc'"
   ]
  },
  {
   "cell_type": "code",
   "execution_count": 14,
   "id": "ae4682b4-822f-4219-bcea-d94cfcee220a",
   "metadata": {},
   "outputs": [],
   "source": [
    "job_wfh=True"
   ]
  },
  {
   "cell_type": "code",
   "execution_count": 15,
   "id": "9c4f78b9-303d-4a99-984f-fb480b29ca4c",
   "metadata": {},
   "outputs": [],
   "source": [
    "job_salary=125000"
   ]
  },
  {
   "cell_type": "code",
   "execution_count": 16,
   "id": "95316216-7e1a-4f70-8d11-31f287a04a15",
   "metadata": {},
   "outputs": [],
   "source": [
    "job_count = 42"
   ]
  },
  {
   "cell_type": "code",
   "execution_count": 17,
   "id": "c9c37b87-ea94-4bad-8573-6af4ae5303a8",
   "metadata": {},
   "outputs": [
    {
     "name": "stdout",
     "output_type": "stream",
     "text": [
      "42\n"
     ]
    }
   ],
   "source": [
    "print (job_count)"
   ]
  },
  {
   "cell_type": "code",
   "execution_count": 18,
   "id": "72e130f7-cdb3-4143-9906-895460d64e48",
   "metadata": {},
   "outputs": [],
   "source": [
    "job_title = 'Data Engineer'"
   ]
  },
  {
   "cell_type": "code",
   "execution_count": 19,
   "id": "1c9b0a11-d225-4d41-a5b5-ad2a7e8c650b",
   "metadata": {},
   "outputs": [],
   "source": [
    "company_name = 'DataWorks'"
   ]
  },
  {
   "cell_type": "code",
   "execution_count": 20,
   "id": "d6cfe16b-25cc-4fae-9908-0a832cf4dc5d",
   "metadata": {},
   "outputs": [
    {
     "name": "stdout",
     "output_type": "stream",
     "text": [
      "DataWorks\n"
     ]
    }
   ],
   "source": [
    "print (company_name\n",
    "    )"
   ]
  },
  {
   "cell_type": "code",
   "execution_count": 21,
   "id": "20b17f28-e868-48b8-a777-b4ccf36e28be",
   "metadata": {},
   "outputs": [
    {
     "name": "stdout",
     "output_type": "stream",
     "text": [
      "Data Engineer\n"
     ]
    }
   ],
   "source": [
    "print (job_title)"
   ]
  },
  {
   "cell_type": "code",
   "execution_count": 22,
   "id": "979bb8f6-2cae-472a-88ce-f29450264e1d",
   "metadata": {},
   "outputs": [
    {
     "name": "stdout",
     "output_type": "stream",
     "text": [
      "True\n"
     ]
    }
   ],
   "source": [
    "print(job_wfh)"
   ]
  },
  {
   "cell_type": "code",
   "execution_count": 23,
   "id": "8887016a-bc67-497d-92c9-18b769f7eaed",
   "metadata": {},
   "outputs": [],
   "source": [
    "remote_status=True"
   ]
  },
  {
   "cell_type": "code",
   "execution_count": 24,
   "id": "fd75d23e-2c08-44fd-bb54-5149451a4700",
   "metadata": {},
   "outputs": [
    {
     "name": "stdout",
     "output_type": "stream",
     "text": [
      "True\n"
     ]
    }
   ],
   "source": [
    "print (remote_status)"
   ]
  },
  {
   "cell_type": "code",
   "execution_count": 25,
   "id": "8835810f-8d64-4a5a-9229-18fb7ab95be2",
   "metadata": {},
   "outputs": [],
   "source": [
    " base_salary=110000"
   ]
  },
  {
   "cell_type": "code",
   "execution_count": 26,
   "id": "5cc8da44-fa6e-4a3a-a5d1-6c8bf18f211d",
   "metadata": {},
   "outputs": [],
   "source": [
    "bonus=round((base_salary*.1),-2)"
   ]
  },
  {
   "cell_type": "code",
   "execution_count": 27,
   "id": "b348cbae-f011-4036-b7d3-f3044dbdb67d",
   "metadata": {},
   "outputs": [],
   "source": [
    "total_comp=(base_salary+bonus)"
   ]
  },
  {
   "cell_type": "code",
   "execution_count": 28,
   "id": "6e766088-5436-48c0-989e-fa6a994f118f",
   "metadata": {},
   "outputs": [
    {
     "name": "stdout",
     "output_type": "stream",
     "text": [
      "121000.0\n"
     ]
    }
   ],
   "source": [
    "print (total_comp)"
   ]
  },
  {
   "cell_type": "code",
   "execution_count": 29,
   "id": "b5b5b64f-b589-4cec-a665-e539ad50e1fc",
   "metadata": {},
   "outputs": [],
   "source": [
    "monthly_salary=(72000/12)"
   ]
  },
  {
   "cell_type": "code",
   "execution_count": 30,
   "id": "507b7a7b-f61d-4051-9f07-b56217d21f6a",
   "metadata": {},
   "outputs": [
    {
     "name": "stdout",
     "output_type": "stream",
     "text": [
      "6000.0\n"
     ]
    }
   ],
   "source": [
    "print(monthly_salary)"
   ]
  },
  {
   "cell_type": "code",
   "execution_count": 31,
   "id": "45a6ca4f-4849-49cc-80a0-611c7c2512cc",
   "metadata": {},
   "outputs": [],
   "source": [
    "job_title = 'Data Scientist'"
   ]
  },
  {
   "cell_type": "code",
   "execution_count": 32,
   "id": "193013e5-0f44-4f2b-90dc-c7b897a5f8a3",
   "metadata": {},
   "outputs": [],
   "source": [
    " company_name = 'AI Solutions'"
   ]
  },
  {
   "cell_type": "code",
   "execution_count": 33,
   "id": "c76b8371-2aa4-4735-b3ae-5dc34405b9ab",
   "metadata": {},
   "outputs": [
    {
     "name": "stdout",
     "output_type": "stream",
     "text": [
      "company_name is AI Solutions , the job_title is Data Scientist , with a potential total annual salary of with the bonus of $ 121000.0\n"
     ]
    }
   ],
   "source": [
    "print(\n",
    "    \"company_name is\",company_name,\n",
    "    \", the job_title is\",job_title,\n",
    "    \", with a potential total annual salary of with the bonus of $\",total_comp\n",
    ")"
   ]
  },
  {
   "cell_type": "code",
   "execution_count": 34,
   "id": "fb773e78-2f73-4db1-9884-1a352231859c",
   "metadata": {},
   "outputs": [
    {
     "name": "stdout",
     "output_type": "stream",
     "text": [
      "Help on class str in module builtins:\n",
      "\n",
      "class str(object)\n",
      " |  str(object='') -> str\n",
      " |  str(bytes_or_buffer[, encoding[, errors]]) -> str\n",
      " |\n",
      " |  Create a new string object from the given object. If encoding or\n",
      " |  errors is specified, then the object must expose a data buffer\n",
      " |  that will be decoded using the given encoding and error handler.\n",
      " |  Otherwise, returns the result of object.__str__() (if defined)\n",
      " |  or repr(object).\n",
      " |  encoding defaults to sys.getdefaultencoding().\n",
      " |  errors defaults to 'strict'.\n",
      " |\n",
      " |  Methods defined here:\n",
      " |\n",
      " |  __add__(self, value, /)\n",
      " |      Return self+value.\n",
      " |\n",
      " |  __contains__(self, key, /)\n",
      " |      Return bool(key in self).\n",
      " |\n",
      " |  __eq__(self, value, /)\n",
      " |      Return self==value.\n",
      " |\n",
      " |  __format__(self, format_spec, /)\n",
      " |      Return a formatted version of the string as described by format_spec.\n",
      " |\n",
      " |  __ge__(self, value, /)\n",
      " |      Return self>=value.\n",
      " |\n",
      " |  __getattribute__(self, name, /)\n",
      " |      Return getattr(self, name).\n",
      " |\n",
      " |  __getitem__(self, key, /)\n",
      " |      Return self[key].\n",
      " |\n",
      " |  __getnewargs__(...)\n",
      " |\n",
      " |  __gt__(self, value, /)\n",
      " |      Return self>value.\n",
      " |\n",
      " |  __hash__(self, /)\n",
      " |      Return hash(self).\n",
      " |\n",
      " |  __iter__(self, /)\n",
      " |      Implement iter(self).\n",
      " |\n",
      " |  __le__(self, value, /)\n",
      " |      Return self<=value.\n",
      " |\n",
      " |  __len__(self, /)\n",
      " |      Return len(self).\n",
      " |\n",
      " |  __lt__(self, value, /)\n",
      " |      Return self<value.\n",
      " |\n",
      " |  __mod__(self, value, /)\n",
      " |      Return self%value.\n",
      " |\n",
      " |  __mul__(self, value, /)\n",
      " |      Return self*value.\n",
      " |\n",
      " |  __ne__(self, value, /)\n",
      " |      Return self!=value.\n",
      " |\n",
      " |  __repr__(self, /)\n",
      " |      Return repr(self).\n",
      " |\n",
      " |  __rmod__(self, value, /)\n",
      " |      Return value%self.\n",
      " |\n",
      " |  __rmul__(self, value, /)\n",
      " |      Return value*self.\n",
      " |\n",
      " |  __sizeof__(self, /)\n",
      " |      Return the size of the string in memory, in bytes.\n",
      " |\n",
      " |  __str__(self, /)\n",
      " |      Return str(self).\n",
      " |\n",
      " |  capitalize(self, /)\n",
      " |      Return a capitalized version of the string.\n",
      " |\n",
      " |      More specifically, make the first character have upper case and the rest lower\n",
      " |      case.\n",
      " |\n",
      " |  casefold(self, /)\n",
      " |      Return a version of the string suitable for caseless comparisons.\n",
      " |\n",
      " |  center(self, width, fillchar=' ', /)\n",
      " |      Return a centered string of length width.\n",
      " |\n",
      " |      Padding is done using the specified fill character (default is a space).\n",
      " |\n",
      " |  count(...)\n",
      " |      S.count(sub[, start[, end]]) -> int\n",
      " |\n",
      " |      Return the number of non-overlapping occurrences of substring sub in\n",
      " |      string S[start:end].  Optional arguments start and end are\n",
      " |      interpreted as in slice notation.\n",
      " |\n",
      " |  encode(self, /, encoding='utf-8', errors='strict')\n",
      " |      Encode the string using the codec registered for encoding.\n",
      " |\n",
      " |      encoding\n",
      " |        The encoding in which to encode the string.\n",
      " |      errors\n",
      " |        The error handling scheme to use for encoding errors.\n",
      " |        The default is 'strict' meaning that encoding errors raise a\n",
      " |        UnicodeEncodeError.  Other possible values are 'ignore', 'replace' and\n",
      " |        'xmlcharrefreplace' as well as any other name registered with\n",
      " |        codecs.register_error that can handle UnicodeEncodeErrors.\n",
      " |\n",
      " |  endswith(...)\n",
      " |      S.endswith(suffix[, start[, end]]) -> bool\n",
      " |\n",
      " |      Return True if S ends with the specified suffix, False otherwise.\n",
      " |      With optional start, test S beginning at that position.\n",
      " |      With optional end, stop comparing S at that position.\n",
      " |      suffix can also be a tuple of strings to try.\n",
      " |\n",
      " |  expandtabs(self, /, tabsize=8)\n",
      " |      Return a copy where all tab characters are expanded using spaces.\n",
      " |\n",
      " |      If tabsize is not given, a tab size of 8 characters is assumed.\n",
      " |\n",
      " |  find(...)\n",
      " |      S.find(sub[, start[, end]]) -> int\n",
      " |\n",
      " |      Return the lowest index in S where substring sub is found,\n",
      " |      such that sub is contained within S[start:end].  Optional\n",
      " |      arguments start and end are interpreted as in slice notation.\n",
      " |\n",
      " |      Return -1 on failure.\n",
      " |\n",
      " |  format(...)\n",
      " |      S.format(*args, **kwargs) -> str\n",
      " |\n",
      " |      Return a formatted version of S, using substitutions from args and kwargs.\n",
      " |      The substitutions are identified by braces ('{' and '}').\n",
      " |\n",
      " |  format_map(...)\n",
      " |      S.format_map(mapping) -> str\n",
      " |\n",
      " |      Return a formatted version of S, using substitutions from mapping.\n",
      " |      The substitutions are identified by braces ('{' and '}').\n",
      " |\n",
      " |  index(...)\n",
      " |      S.index(sub[, start[, end]]) -> int\n",
      " |\n",
      " |      Return the lowest index in S where substring sub is found,\n",
      " |      such that sub is contained within S[start:end].  Optional\n",
      " |      arguments start and end are interpreted as in slice notation.\n",
      " |\n",
      " |      Raises ValueError when the substring is not found.\n",
      " |\n",
      " |  isalnum(self, /)\n",
      " |      Return True if the string is an alpha-numeric string, False otherwise.\n",
      " |\n",
      " |      A string is alpha-numeric if all characters in the string are alpha-numeric and\n",
      " |      there is at least one character in the string.\n",
      " |\n",
      " |  isalpha(self, /)\n",
      " |      Return True if the string is an alphabetic string, False otherwise.\n",
      " |\n",
      " |      A string is alphabetic if all characters in the string are alphabetic and there\n",
      " |      is at least one character in the string.\n",
      " |\n",
      " |  isascii(self, /)\n",
      " |      Return True if all characters in the string are ASCII, False otherwise.\n",
      " |\n",
      " |      ASCII characters have code points in the range U+0000-U+007F.\n",
      " |      Empty string is ASCII too.\n",
      " |\n",
      " |  isdecimal(self, /)\n",
      " |      Return True if the string is a decimal string, False otherwise.\n",
      " |\n",
      " |      A string is a decimal string if all characters in the string are decimal and\n",
      " |      there is at least one character in the string.\n",
      " |\n",
      " |  isdigit(self, /)\n",
      " |      Return True if the string is a digit string, False otherwise.\n",
      " |\n",
      " |      A string is a digit string if all characters in the string are digits and there\n",
      " |      is at least one character in the string.\n",
      " |\n",
      " |  isidentifier(self, /)\n",
      " |      Return True if the string is a valid Python identifier, False otherwise.\n",
      " |\n",
      " |      Call keyword.iskeyword(s) to test whether string s is a reserved identifier,\n",
      " |      such as \"def\" or \"class\".\n",
      " |\n",
      " |  islower(self, /)\n",
      " |      Return True if the string is a lowercase string, False otherwise.\n",
      " |\n",
      " |      A string is lowercase if all cased characters in the string are lowercase and\n",
      " |      there is at least one cased character in the string.\n",
      " |\n",
      " |  isnumeric(self, /)\n",
      " |      Return True if the string is a numeric string, False otherwise.\n",
      " |\n",
      " |      A string is numeric if all characters in the string are numeric and there is at\n",
      " |      least one character in the string.\n",
      " |\n",
      " |  isprintable(self, /)\n",
      " |      Return True if the string is printable, False otherwise.\n",
      " |\n",
      " |      A string is printable if all of its characters are considered printable in\n",
      " |      repr() or if it is empty.\n",
      " |\n",
      " |  isspace(self, /)\n",
      " |      Return True if the string is a whitespace string, False otherwise.\n",
      " |\n",
      " |      A string is whitespace if all characters in the string are whitespace and there\n",
      " |      is at least one character in the string.\n",
      " |\n",
      " |  istitle(self, /)\n",
      " |      Return True if the string is a title-cased string, False otherwise.\n",
      " |\n",
      " |      In a title-cased string, upper- and title-case characters may only\n",
      " |      follow uncased characters and lowercase characters only cased ones.\n",
      " |\n",
      " |  isupper(self, /)\n",
      " |      Return True if the string is an uppercase string, False otherwise.\n",
      " |\n",
      " |      A string is uppercase if all cased characters in the string are uppercase and\n",
      " |      there is at least one cased character in the string.\n",
      " |\n",
      " |  join(self, iterable, /)\n",
      " |      Concatenate any number of strings.\n",
      " |\n",
      " |      The string whose method is called is inserted in between each given string.\n",
      " |      The result is returned as a new string.\n",
      " |\n",
      " |      Example: '.'.join(['ab', 'pq', 'rs']) -> 'ab.pq.rs'\n",
      " |\n",
      " |  ljust(self, width, fillchar=' ', /)\n",
      " |      Return a left-justified string of length width.\n",
      " |\n",
      " |      Padding is done using the specified fill character (default is a space).\n",
      " |\n",
      " |  lower(self, /)\n",
      " |      Return a copy of the string converted to lowercase.\n",
      " |\n",
      " |  lstrip(self, chars=None, /)\n",
      " |      Return a copy of the string with leading whitespace removed.\n",
      " |\n",
      " |      If chars is given and not None, remove characters in chars instead.\n",
      " |\n",
      " |  partition(self, sep, /)\n",
      " |      Partition the string into three parts using the given separator.\n",
      " |\n",
      " |      This will search for the separator in the string.  If the separator is found,\n",
      " |      returns a 3-tuple containing the part before the separator, the separator\n",
      " |      itself, and the part after it.\n",
      " |\n",
      " |      If the separator is not found, returns a 3-tuple containing the original string\n",
      " |      and two empty strings.\n",
      " |\n",
      " |  removeprefix(self, prefix, /)\n",
      " |      Return a str with the given prefix string removed if present.\n",
      " |\n",
      " |      If the string starts with the prefix string, return string[len(prefix):].\n",
      " |      Otherwise, return a copy of the original string.\n",
      " |\n",
      " |  removesuffix(self, suffix, /)\n",
      " |      Return a str with the given suffix string removed if present.\n",
      " |\n",
      " |      If the string ends with the suffix string and that suffix is not empty,\n",
      " |      return string[:-len(suffix)]. Otherwise, return a copy of the original\n",
      " |      string.\n",
      " |\n",
      " |  replace(self, old, new, count=-1, /)\n",
      " |      Return a copy with all occurrences of substring old replaced by new.\n",
      " |\n",
      " |        count\n",
      " |          Maximum number of occurrences to replace.\n",
      " |          -1 (the default value) means replace all occurrences.\n",
      " |\n",
      " |      If the optional argument count is given, only the first count occurrences are\n",
      " |      replaced.\n",
      " |\n",
      " |  rfind(...)\n",
      " |      S.rfind(sub[, start[, end]]) -> int\n",
      " |\n",
      " |      Return the highest index in S where substring sub is found,\n",
      " |      such that sub is contained within S[start:end].  Optional\n",
      " |      arguments start and end are interpreted as in slice notation.\n",
      " |\n",
      " |      Return -1 on failure.\n",
      " |\n",
      " |  rindex(...)\n",
      " |      S.rindex(sub[, start[, end]]) -> int\n",
      " |\n",
      " |      Return the highest index in S where substring sub is found,\n",
      " |      such that sub is contained within S[start:end].  Optional\n",
      " |      arguments start and end are interpreted as in slice notation.\n",
      " |\n",
      " |      Raises ValueError when the substring is not found.\n",
      " |\n",
      " |  rjust(self, width, fillchar=' ', /)\n",
      " |      Return a right-justified string of length width.\n",
      " |\n",
      " |      Padding is done using the specified fill character (default is a space).\n",
      " |\n",
      " |  rpartition(self, sep, /)\n",
      " |      Partition the string into three parts using the given separator.\n",
      " |\n",
      " |      This will search for the separator in the string, starting at the end. If\n",
      " |      the separator is found, returns a 3-tuple containing the part before the\n",
      " |      separator, the separator itself, and the part after it.\n",
      " |\n",
      " |      If the separator is not found, returns a 3-tuple containing two empty strings\n",
      " |      and the original string.\n",
      " |\n",
      " |  rsplit(self, /, sep=None, maxsplit=-1)\n",
      " |      Return a list of the substrings in the string, using sep as the separator string.\n",
      " |\n",
      " |        sep\n",
      " |          The separator used to split the string.\n",
      " |\n",
      " |          When set to None (the default value), will split on any whitespace\n",
      " |          character (including \\n \\r \\t \\f and spaces) and will discard\n",
      " |          empty strings from the result.\n",
      " |        maxsplit\n",
      " |          Maximum number of splits.\n",
      " |          -1 (the default value) means no limit.\n",
      " |\n",
      " |      Splitting starts at the end of the string and works to the front.\n",
      " |\n",
      " |  rstrip(self, chars=None, /)\n",
      " |      Return a copy of the string with trailing whitespace removed.\n",
      " |\n",
      " |      If chars is given and not None, remove characters in chars instead.\n",
      " |\n",
      " |  split(self, /, sep=None, maxsplit=-1)\n",
      " |      Return a list of the substrings in the string, using sep as the separator string.\n",
      " |\n",
      " |        sep\n",
      " |          The separator used to split the string.\n",
      " |\n",
      " |          When set to None (the default value), will split on any whitespace\n",
      " |          character (including \\n \\r \\t \\f and spaces) and will discard\n",
      " |          empty strings from the result.\n",
      " |        maxsplit\n",
      " |          Maximum number of splits.\n",
      " |          -1 (the default value) means no limit.\n",
      " |\n",
      " |      Splitting starts at the front of the string and works to the end.\n",
      " |\n",
      " |      Note, str.split() is mainly useful for data that has been intentionally\n",
      " |      delimited.  With natural text that includes punctuation, consider using\n",
      " |      the regular expression module.\n",
      " |\n",
      " |  splitlines(self, /, keepends=False)\n",
      " |      Return a list of the lines in the string, breaking at line boundaries.\n",
      " |\n",
      " |      Line breaks are not included in the resulting list unless keepends is given and\n",
      " |      true.\n",
      " |\n",
      " |  startswith(...)\n",
      " |      S.startswith(prefix[, start[, end]]) -> bool\n",
      " |\n",
      " |      Return True if S starts with the specified prefix, False otherwise.\n",
      " |      With optional start, test S beginning at that position.\n",
      " |      With optional end, stop comparing S at that position.\n",
      " |      prefix can also be a tuple of strings to try.\n",
      " |\n",
      " |  strip(self, chars=None, /)\n",
      " |      Return a copy of the string with leading and trailing whitespace removed.\n",
      " |\n",
      " |      If chars is given and not None, remove characters in chars instead.\n",
      " |\n",
      " |  swapcase(self, /)\n",
      " |      Convert uppercase characters to lowercase and lowercase characters to uppercase.\n",
      " |\n",
      " |  title(self, /)\n",
      " |      Return a version of the string where each word is titlecased.\n",
      " |\n",
      " |      More specifically, words start with uppercased characters and all remaining\n",
      " |      cased characters have lower case.\n",
      " |\n",
      " |  translate(self, table, /)\n",
      " |      Replace each character in the string using the given translation table.\n",
      " |\n",
      " |        table\n",
      " |          Translation table, which must be a mapping of Unicode ordinals to\n",
      " |          Unicode ordinals, strings, or None.\n",
      " |\n",
      " |      The table must implement lookup/indexing via __getitem__, for instance a\n",
      " |      dictionary or list.  If this operation raises LookupError, the character is\n",
      " |      left untouched.  Characters mapped to None are deleted.\n",
      " |\n",
      " |  upper(self, /)\n",
      " |      Return a copy of the string converted to uppercase.\n",
      " |\n",
      " |  zfill(self, width, /)\n",
      " |      Pad a numeric string with zeros on the left, to fill a field of the given width.\n",
      " |\n",
      " |      The string is never truncated.\n",
      " |\n",
      " |  ----------------------------------------------------------------------\n",
      " |  Static methods defined here:\n",
      " |\n",
      " |  __new__(*args, **kwargs)\n",
      " |      Create and return a new object.  See help(type) for accurate signature.\n",
      " |\n",
      " |  maketrans(...)\n",
      " |      Return a translation table usable for str.translate().\n",
      " |\n",
      " |      If there is only one argument, it must be a dictionary mapping Unicode\n",
      " |      ordinals (integers) or characters to Unicode ordinals, strings or None.\n",
      " |      Character keys will be then converted to ordinals.\n",
      " |      If there are two arguments, they must be strings of equal length, and\n",
      " |      in the resulting dictionary, each character in x will be mapped to the\n",
      " |      character at the same position in y. If there is a third argument, it\n",
      " |      must be a string, whose characters will be mapped to None in the result.\n",
      "\n"
     ]
    }
   ],
   "source": [
    "help(str)"
   ]
  },
  {
   "cell_type": "code",
   "execution_count": 35,
   "id": "1b65e53b-c201-4856-9f97-d4478090fd56",
   "metadata": {},
   "outputs": [
    {
     "data": {
      "text/plain": [
       "'data nerd'"
      ]
     },
     "execution_count": 35,
     "metadata": {},
     "output_type": "execute_result"
    }
   ],
   "source": [
    "'data ' + 'nerd'"
   ]
  },
  {
   "cell_type": "code",
   "execution_count": 36,
   "id": "c9de117e-5411-4794-ba57-fcb352e3307a",
   "metadata": {},
   "outputs": [
    {
     "data": {
      "text/plain": [
       "str"
      ]
     },
     "execution_count": 36,
     "metadata": {},
     "output_type": "execute_result"
    }
   ],
   "source": [
    "type(job_title)"
   ]
  },
  {
   "cell_type": "code",
   "execution_count": 37,
   "id": "173e4b41-d01b-4532-9a8f-c0bc80556a95",
   "metadata": {},
   "outputs": [
    {
     "data": {
      "text/plain": [
       "int"
      ]
     },
     "execution_count": 37,
     "metadata": {},
     "output_type": "execute_result"
    }
   ],
   "source": [
    "job_id=102\n",
    "type(job_id)"
   ]
  },
  {
   "cell_type": "code",
   "execution_count": 38,
   "id": "439b12dd-cf99-44b7-b441-f09965ca1f66",
   "metadata": {},
   "outputs": [
    {
     "data": {
      "text/plain": [
       "float"
      ]
     },
     "execution_count": 38,
     "metadata": {},
     "output_type": "execute_result"
    }
   ],
   "source": [
    "job_id=float(102)\n",
    "type(job_id)"
   ]
  },
  {
   "cell_type": "code",
   "execution_count": 39,
   "id": "88f440ec-a5e5-4f84-83dd-3c24e9e06330",
   "metadata": {},
   "outputs": [
    {
     "name": "stdout",
     "output_type": "stream",
     "text": [
      "Help on class float in module builtins:\n",
      "\n",
      "class float(object)\n",
      " |  float(x=0, /)\n",
      " |\n",
      " |  Convert a string or number to a floating point number, if possible.\n",
      " |\n",
      " |  Methods defined here:\n",
      " |\n",
      " |  __abs__(self, /)\n",
      " |      abs(self)\n",
      " |\n",
      " |  __add__(self, value, /)\n",
      " |      Return self+value.\n",
      " |\n",
      " |  __bool__(self, /)\n",
      " |      True if self else False\n",
      " |\n",
      " |  __ceil__(self, /)\n",
      " |      Return the ceiling as an Integral.\n",
      " |\n",
      " |  __divmod__(self, value, /)\n",
      " |      Return divmod(self, value).\n",
      " |\n",
      " |  __eq__(self, value, /)\n",
      " |      Return self==value.\n",
      " |\n",
      " |  __float__(self, /)\n",
      " |      float(self)\n",
      " |\n",
      " |  __floor__(self, /)\n",
      " |      Return the floor as an Integral.\n",
      " |\n",
      " |  __floordiv__(self, value, /)\n",
      " |      Return self//value.\n",
      " |\n",
      " |  __format__(self, format_spec, /)\n",
      " |      Formats the float according to format_spec.\n",
      " |\n",
      " |  __ge__(self, value, /)\n",
      " |      Return self>=value.\n",
      " |\n",
      " |  __getattribute__(self, name, /)\n",
      " |      Return getattr(self, name).\n",
      " |\n",
      " |  __getnewargs__(self, /)\n",
      " |\n",
      " |  __gt__(self, value, /)\n",
      " |      Return self>value.\n",
      " |\n",
      " |  __hash__(self, /)\n",
      " |      Return hash(self).\n",
      " |\n",
      " |  __int__(self, /)\n",
      " |      int(self)\n",
      " |\n",
      " |  __le__(self, value, /)\n",
      " |      Return self<=value.\n",
      " |\n",
      " |  __lt__(self, value, /)\n",
      " |      Return self<value.\n",
      " |\n",
      " |  __mod__(self, value, /)\n",
      " |      Return self%value.\n",
      " |\n",
      " |  __mul__(self, value, /)\n",
      " |      Return self*value.\n",
      " |\n",
      " |  __ne__(self, value, /)\n",
      " |      Return self!=value.\n",
      " |\n",
      " |  __neg__(self, /)\n",
      " |      -self\n",
      " |\n",
      " |  __pos__(self, /)\n",
      " |      +self\n",
      " |\n",
      " |  __pow__(self, value, mod=None, /)\n",
      " |      Return pow(self, value, mod).\n",
      " |\n",
      " |  __radd__(self, value, /)\n",
      " |      Return value+self.\n",
      " |\n",
      " |  __rdivmod__(self, value, /)\n",
      " |      Return divmod(value, self).\n",
      " |\n",
      " |  __repr__(self, /)\n",
      " |      Return repr(self).\n",
      " |\n",
      " |  __rfloordiv__(self, value, /)\n",
      " |      Return value//self.\n",
      " |\n",
      " |  __rmod__(self, value, /)\n",
      " |      Return value%self.\n",
      " |\n",
      " |  __rmul__(self, value, /)\n",
      " |      Return value*self.\n",
      " |\n",
      " |  __round__(self, ndigits=None, /)\n",
      " |      Return the Integral closest to x, rounding half toward even.\n",
      " |\n",
      " |      When an argument is passed, work like built-in round(x, ndigits).\n",
      " |\n",
      " |  __rpow__(self, value, mod=None, /)\n",
      " |      Return pow(value, self, mod).\n",
      " |\n",
      " |  __rsub__(self, value, /)\n",
      " |      Return value-self.\n",
      " |\n",
      " |  __rtruediv__(self, value, /)\n",
      " |      Return value/self.\n",
      " |\n",
      " |  __sub__(self, value, /)\n",
      " |      Return self-value.\n",
      " |\n",
      " |  __truediv__(self, value, /)\n",
      " |      Return self/value.\n",
      " |\n",
      " |  __trunc__(self, /)\n",
      " |      Return the Integral closest to x between 0 and x.\n",
      " |\n",
      " |  as_integer_ratio(self, /)\n",
      " |      Return a pair of integers, whose ratio is exactly equal to the original float.\n",
      " |\n",
      " |      The ratio is in lowest terms and has a positive denominator.  Raise\n",
      " |      OverflowError on infinities and a ValueError on NaNs.\n",
      " |\n",
      " |      >>> (10.0).as_integer_ratio()\n",
      " |      (10, 1)\n",
      " |      >>> (0.0).as_integer_ratio()\n",
      " |      (0, 1)\n",
      " |      >>> (-.25).as_integer_ratio()\n",
      " |      (-1, 4)\n",
      " |\n",
      " |  conjugate(self, /)\n",
      " |      Return self, the complex conjugate of any float.\n",
      " |\n",
      " |  hex(self, /)\n",
      " |      Return a hexadecimal representation of a floating-point number.\n",
      " |\n",
      " |      >>> (-0.1).hex()\n",
      " |      '-0x1.999999999999ap-4'\n",
      " |      >>> 3.14159.hex()\n",
      " |      '0x1.921f9f01b866ep+1'\n",
      " |\n",
      " |  is_integer(self, /)\n",
      " |      Return True if the float is an integer.\n",
      " |\n",
      " |  ----------------------------------------------------------------------\n",
      " |  Class methods defined here:\n",
      " |\n",
      " |  __getformat__(typestr, /)\n",
      " |      You probably don't want to use this function.\n",
      " |\n",
      " |        typestr\n",
      " |          Must be 'double' or 'float'.\n",
      " |\n",
      " |      It exists mainly to be used in Python's test suite.\n",
      " |\n",
      " |      This function returns whichever of 'unknown', 'IEEE, big-endian' or 'IEEE,\n",
      " |      little-endian' best describes the format of floating point numbers used by the\n",
      " |      C type named by typestr.\n",
      " |\n",
      " |  fromhex(string, /)\n",
      " |      Create a floating-point number from a hexadecimal string.\n",
      " |\n",
      " |      >>> float.fromhex('0x1.ffffp10')\n",
      " |      2047.984375\n",
      " |      >>> float.fromhex('-0x1p-1074')\n",
      " |      -5e-324\n",
      " |\n",
      " |  ----------------------------------------------------------------------\n",
      " |  Static methods defined here:\n",
      " |\n",
      " |  __new__(*args, **kwargs)\n",
      " |      Create and return a new object.  See help(type) for accurate signature.\n",
      " |\n",
      " |  ----------------------------------------------------------------------\n",
      " |  Data descriptors defined here:\n",
      " |\n",
      " |  imag\n",
      " |      the imaginary part of a complex number\n",
      " |\n",
      " |  real\n",
      " |      the real part of a complex number\n",
      "\n"
     ]
    }
   ],
   "source": [
    "help(float)"
   ]
  },
  {
   "cell_type": "code",
   "execution_count": 40,
   "id": "2ab3618b-8777-4926-84ff-4b7e376752b5",
   "metadata": {},
   "outputs": [
    {
     "name": "stdout",
     "output_type": "stream",
     "text": [
      "company_name is AI Solutions , the job_title is Data Scientist , with a potential total annual salary of with the bonus of $ 121000.0\n"
     ]
    }
   ],
   "source": [
    "print(\n",
    "    \"company_name is\",company_name,\n",
    "    \", the job_title is\",job_title,\n",
    "    \", with a potential total annual salary of with the bonus of $\",total_comp) "
   ]
  },
  {
   "cell_type": "code",
   "execution_count": 41,
   "id": "4b341ff2-b1e8-416e-a447-cce30ca4f7c8",
   "metadata": {},
   "outputs": [],
   "source": [
    " salary=85000.50"
   ]
  },
  {
   "cell_type": "code",
   "execution_count": 42,
   "id": "1ee7ca68-8d1f-488c-9eae-d34744cd0bef",
   "metadata": {},
   "outputs": [],
   "source": [
    " base_salary=110000"
   ]
  },
  {
   "cell_type": "code",
   "execution_count": 43,
   "id": "05793e8c-8979-4c9e-a5d5-0ad6d26dd854",
   "metadata": {},
   "outputs": [],
   "source": [
    " base_salary=110000"
   ]
  },
  {
   "cell_type": "code",
   "execution_count": 44,
   "id": "b3d281ea-39a6-46ae-a56a-4c61a6f1f770",
   "metadata": {},
   "outputs": [
    {
     "data": {
      "text/plain": [
       "float"
      ]
     },
     "execution_count": 44,
     "metadata": {},
     "output_type": "execute_result"
    }
   ],
   "source": [
    "type(salary)"
   ]
  },
  {
   "cell_type": "code",
   "execution_count": 45,
   "id": "16a8f67c-2afe-4343-ae8b-aea5e9dd4408",
   "metadata": {},
   "outputs": [],
   "source": [
    "salary_rate=120000.75"
   ]
  },
  {
   "cell_type": "code",
   "execution_count": 46,
   "id": "6a8b5d5a-7baf-4101-889d-bf573c6d984b",
   "metadata": {},
   "outputs": [],
   "source": [
    "salary_rate=int(salary_rate) #Convert to Integer"
   ]
  },
  {
   "cell_type": "code",
   "execution_count": 47,
   "id": "ea734be4-9cc3-4b3f-91a0-b8ab3ad9b4c2",
   "metadata": {},
   "outputs": [
    {
     "data": {
      "text/plain": [
       "int"
      ]
     },
     "execution_count": 47,
     "metadata": {},
     "output_type": "execute_result"
    }
   ],
   "source": [
    "type(salary_rate)"
   ]
  },
  {
   "cell_type": "code",
   "execution_count": 48,
   "id": "557c8282-8461-4ec6-9a66-f2b7596953e8",
   "metadata": {},
   "outputs": [
    {
     "data": {
      "text/plain": [
       "str"
      ]
     },
     "execution_count": 48,
     "metadata": {},
     "output_type": "execute_result"
    }
   ],
   "source": [
    "type(company_name)"
   ]
  },
  {
   "cell_type": "code",
   "execution_count": 49,
   "id": "e1703070-0fa4-45f6-9176-775a3a0a81a0",
   "metadata": {},
   "outputs": [],
   "source": [
    " base_salary=110000"
   ]
  },
  {
   "cell_type": "code",
   "execution_count": 50,
   "id": "84f94e03-151b-4d3c-92be-3a421567b1a0",
   "metadata": {},
   "outputs": [
    {
     "ename": "AttributeError",
     "evalue": "type object 'str' has no attribute 'company_name'",
     "output_type": "error",
     "traceback": [
      "\u001b[1;31m---------------------------------------------------------------------------\u001b[0m",
      "\u001b[1;31mAttributeError\u001b[0m                            Traceback (most recent call last)",
      "Cell \u001b[1;32mIn[50], line 1\u001b[0m\n\u001b[1;32m----> 1\u001b[0m \u001b[38;5;28mprint\u001b[39m(\u001b[38;5;28mstr\u001b[39m\u001b[38;5;241m.\u001b[39m company_name)\n",
      "\u001b[1;31mAttributeError\u001b[0m: type object 'str' has no attribute 'company_name'"
     ]
    }
   ],
   "source": [
    "print(str. company_name)"
   ]
  },
  {
   "cell_type": "code",
   "execution_count": null,
   "id": "0349e3fb-8ad2-4c47-b41f-d47593c8f217",
   "metadata": {},
   "outputs": [],
   "source": [
    "company_name = 'DataWiz Inc.'"
   ]
  },
  {
   "cell_type": "code",
   "execution_count": null,
   "id": "2ee5099a-140d-4dab-8487-3a1ac78e8568",
   "metadata": {},
   "outputs": [],
   "source": [
    "type(company_name)"
   ]
  },
  {
   "cell_type": "code",
   "execution_count": null,
   "id": "b96de854-2b4e-4a3f-9a08-806bf3ddf72e",
   "metadata": {},
   "outputs": [],
   "source": [
    "isinstance(company_name, str)"
   ]
  },
  {
   "cell_type": "code",
   "execution_count": null,
   "id": "dbde27b1-2cb0-4738-8035-7817f2b10a4f",
   "metadata": {},
   "outputs": [],
   "source": [
    "isinstance(company_name, str)"
   ]
  },
  {
   "cell_type": "markdown",
   "id": "5b27fbd7-a829-430c-9fd3-86ef995d8ad4",
   "metadata": {},
   "source": [
    "# 'This is a string' single quotes, \"this is also a string\" double quotes"
   ]
  },
  {
   "cell_type": "code",
   "execution_count": null,
   "id": "881c6f3b-8190-465f-8988-9047d51ce587",
   "metadata": {},
   "outputs": [],
   "source": [
    "skill=\"python\""
   ]
  },
  {
   "cell_type": "code",
   "execution_count": null,
   "id": "e96b2c70-ea3b-41bf-bb14-229eb62b68be",
   "metadata": {},
   "outputs": [],
   "source": [
    "type (skill)"
   ]
  },
  {
   "cell_type": "code",
   "execution_count": null,
   "id": "712776f9-6685-4b58-a6e0-8453b2a4452b",
   "metadata": {},
   "outputs": [],
   "source": [
    "print (skill)"
   ]
  },
  {
   "cell_type": "code",
   "execution_count": null,
   "id": "8a33c986-d0e9-4648-9008-3f88a5b07a73",
   "metadata": {},
   "outputs": [],
   "source": [
    "skill.upper()"
   ]
  },
  {
   "cell_type": "code",
   "execution_count": null,
   "id": "c60a16bb-8fb2-453b-a49c-4767f8408318",
   "metadata": {},
   "outputs": [],
   "source": [
    "skill.lower()"
   ]
  },
  {
   "cell_type": "code",
   "execution_count": null,
   "id": "5459386b-47cc-4800-aef7-c5026a73d51a",
   "metadata": {},
   "outputs": [],
   "source": [
    "skill.replace(\"p\", \"J\")"
   ]
  },
  {
   "cell_type": "code",
   "execution_count": null,
   "id": "e3134d9a-7594-4889-845f-49c8f450c2a2",
   "metadata": {},
   "outputs": [],
   "source": [
    "job_title='Data Analyst'"
   ]
  },
  {
   "cell_type": "code",
   "execution_count": null,
   "id": "e1b766a0-838e-4002-9d86-256f2a555f10",
   "metadata": {},
   "outputs": [],
   "source": [
    " "
   ]
  },
  {
   "cell_type": "code",
   "execution_count": null,
   "id": "4d488fb8-f891-49ed-82da-c42a34abb259",
   "metadata": {},
   "outputs": [],
   "source": [
    "job_title.replace('a', 'o', 2)"
   ]
  },
  {
   "cell_type": "code",
   "execution_count": null,
   "id": "8ece1509-4f27-4533-a8e7-67fca68de38d",
   "metadata": {},
   "outputs": [],
   "source": [
    " job_title.split(sep=\" \")"
   ]
  },
  {
   "cell_type": "code",
   "execution_count": null,
   "id": "08d4f097-00ef-4652-a50e-d63e55ff7072",
   "metadata": {},
   "outputs": [],
   "source": [
    "str.__add__(\"data\", \" analyst\")"
   ]
  },
  {
   "cell_type": "code",
   "execution_count": null,
   "id": "1c5d4aab-a4f3-4d30-a58a-20b1eb0f499d",
   "metadata": {},
   "outputs": [],
   "source": [
    "\"data\".__add__(\" analyst\")"
   ]
  },
  {
   "cell_type": "code",
   "execution_count": null,
   "id": "1ca9ad20-26b3-4e03-bc8a-2149ffb5bd83",
   "metadata": {},
   "outputs": [],
   "source": [
    "'data'+\" analyst\""
   ]
  },
  {
   "cell_type": "code",
   "execution_count": null,
   "id": "e12f72b9-4eb5-4067-ad02-8ba1480437e8",
   "metadata": {},
   "outputs": [],
   "source": []
  },
  {
   "cell_type": "code",
   "execution_count": null,
   "id": "e1445c0b-764c-41ff-8978-d8ff7c586d47",
   "metadata": {},
   "outputs": [],
   "source": [
    "'data'+\" analyst\" * 10"
   ]
  },
  {
   "cell_type": "code",
   "execution_count": null,
   "id": "ba127d08-5bd7-4658-9304-55af0dd7ea95",
   "metadata": {},
   "outputs": [],
   "source": [
    "len('data analyst')"
   ]
  },
  {
   "cell_type": "code",
   "execution_count": null,
   "id": "f004906a-0311-4ad9-9900-cf652002c049",
   "metadata": {},
   "outputs": [],
   "source": [
    "job_title = 'data scientist'"
   ]
  },
  {
   "cell_type": "code",
   "execution_count": null,
   "id": "5a676bdd-e5a0-4696-9927-28a33e70565a",
   "metadata": {},
   "outputs": [],
   "source": [
    "job_title.upper()"
   ]
  },
  {
   "cell_type": "code",
   "execution_count": null,
   "id": "d6a049e4-8917-4dc2-a6fb-1c980a60c5c5",
   "metadata": {},
   "outputs": [],
   "source": [
    "job_title = 'Data Analyst'"
   ]
  },
  {
   "cell_type": "code",
   "execution_count": null,
   "id": "2fea760c-ec85-4d8a-934d-c5113fb4cf22",
   "metadata": {},
   "outputs": [],
   "source": [
    "job_title = 'Data Analyst'"
   ]
  },
  {
   "cell_type": "code",
   "execution_count": null,
   "id": "ad4d56ea-cb25-4f9c-b5d3-9ae3c99756e0",
   "metadata": {},
   "outputs": [],
   "source": [
    "job_title.replace('Analyst', 'Engineer')"
   ]
  },
  {
   "cell_type": "code",
   "execution_count": null,
   "id": "c9f8ce60-f4ae-49d4-a377-84b68f04c635",
   "metadata": {},
   "outputs": [],
   "source": [
    "seniority_level = 'Senior'\n",
    "job_title = 'Data Analyst'"
   ]
  },
  {
   "cell_type": "code",
   "execution_count": null,
   "id": "3026fc3b-c06b-4978-a6fb-8e94ba8c80ea",
   "metadata": {},
   "outputs": [],
   "source": [
    "full_job_title = seniority_level + ' ' + job_title # combined strings"
   ]
  },
  {
   "cell_type": "code",
   "execution_count": null,
   "id": "20275ce0-19df-4616-8bd5-8fc08057256a",
   "metadata": {},
   "outputs": [],
   "source": [
    "print(full_job_title)"
   ]
  },
  {
   "cell_type": "code",
   "execution_count": null,
   "id": "e002b358-2943-4114-8742-7cddeca4185c",
   "metadata": {},
   "outputs": [],
   "source": []
  },
  {
   "cell_type": "code",
   "execution_count": null,
   "id": "8637a323-ffd5-4fb3-9a4d-6d95bfba9263",
   "metadata": {},
   "outputs": [],
   "source": [
    "len('job_title')"
   ]
  },
  {
   "cell_type": "code",
   "execution_count": null,
   "id": "479ceaed-09b3-434b-8445-e2b62647d0a1",
   "metadata": {},
   "outputs": [],
   "source": [
    "job_title = 'Data Scientist'"
   ]
  },
  {
   "cell_type": "code",
   "execution_count": null,
   "id": "a4aaac04-b648-4119-9389-73baf4f0ca55",
   "metadata": {},
   "outputs": [],
   "source": [
    "len(job_title)"
   ]
  },
  {
   "cell_type": "code",
   "execution_count": null,
   "id": "37e45cc1-90ab-4baf-8661-7d306da9127b",
   "metadata": {},
   "outputs": [],
   "source": [
    "job_title = 'DATA ENGINEER'"
   ]
  },
  {
   "cell_type": "code",
   "execution_count": null,
   "id": "4575e14b-3e00-4e4c-9e01-2eddcb71837b",
   "metadata": {},
   "outputs": [],
   "source": [
    "job_title.lower() # lower case"
   ]
  },
  {
   "cell_type": "code",
   "execution_count": null,
   "id": "c1a86273-de1d-4a0b-858d-d6158f21dda0",
   "metadata": {},
   "outputs": [],
   "source": [
    "job_title.upper() # upper case"
   ]
  },
  {
   "cell_type": "code",
   "execution_count": null,
   "id": "b148c0d2-4db1-4d31-97f7-45493e916257",
   "metadata": {},
   "outputs": [],
   "source": [
    "job_title.lower()"
   ]
  },
  {
   "cell_type": "markdown",
   "id": "269539f7-52c8-45ff-b7a6-67d664d01529",
   "metadata": {},
   "source": [
    "comment out section with (ctrl) + /"
   ]
  },
  {
   "cell_type": "code",
   "execution_count": null,
   "id": "32dd12b9-9b3c-4cfd-8621-ef9ab0ac0322",
   "metadata": {},
   "outputs": [],
   "source": [
    "role = 'Data Analyst'\n",
    "skill = 'Python'"
   ]
  },
  {
   "cell_type": "code",
   "execution_count": null,
   "id": "7714733c-33d3-4564-8909-15241c687bd8",
   "metadata": {},
   "outputs": [],
   "source": [
    "'Role: {}'.format (role) #create the string 'role: data analyst' -- the word \"role\" = is the string_name, string format"
   ]
  },
  {
   "cell_type": "code",
   "execution_count": null,
   "id": "c8c0244b-709a-4462-b315-628d8634e86e",
   "metadata": {},
   "outputs": [],
   "source": [
    "'Role: {}; Skills required: {}'.format (role, skill) #create the string 'role: data analyst' -- the word \"role\" = is the string_name, "
   ]
  },
  {
   "cell_type": "code",
   "execution_count": null,
   "id": "e6d769ed-0ef6-4a90-8213-7c623968e720",
   "metadata": {},
   "outputs": [],
   "source": [
    "'Role: {role}; Skill Required: {skill}'.format(role=role, skill=skill) # this method can be confusing - prone to errors"
   ]
  },
  {
   "cell_type": "code",
   "execution_count": null,
   "id": "277b1f30-88b8-4005-99b5-8ce7fb7adbf4",
   "metadata": {},
   "outputs": [],
   "source": [
    "f'Role: {role}; Skill required: {skill}'# 'f-strings' this is easiet so far, f string"
   ]
  },
  {
   "cell_type": "code",
   "execution_count": null,
   "id": "4bf25ea8-c230-403e-b7c0-50609ded15ca",
   "metadata": {},
   "outputs": [],
   "source": [
    "'Role: %s'%(role) #%formatting(printf style)"
   ]
  },
  {
   "cell_type": "code",
   "execution_count": null,
   "id": "170da0d9-cefa-447a-b2c6-a5cfd64ff72f",
   "metadata": {},
   "outputs": [],
   "source": [
    "'Role: %s; Skill Required: %s'%(role, skill) #%formatting(printf style) difficult to read"
   ]
  },
  {
   "cell_type": "code",
   "execution_count": null,
   "id": "e0cea7e9-93a8-4f50-be52-527dc0844c60",
   "metadata": {},
   "outputs": [],
   "source": [
    "years_experience='0123456789'#join"
   ]
  },
  {
   "cell_type": "code",
   "execution_count": null,
   "id": "57afb460-e27b-4d8f-be45-a62ae8e9284e",
   "metadata": {},
   "outputs": [],
   "source": [
    "', '.join(years_experience) #join"
   ]
  },
  {
   "cell_type": "code",
   "execution_count": null,
   "id": "aead5036-0e66-4b57-bfb8-1021f7135509",
   "metadata": {},
   "outputs": [],
   "source": [
    "skills=['Python','SQL','Excel'] #lists -- have square brackets"
   ]
  },
  {
   "cell_type": "code",
   "execution_count": null,
   "id": "60a30cfb-ac08-436a-9abd-1d615afbff8f",
   "metadata": {},
   "outputs": [],
   "source": [
    "type (skills)"
   ]
  },
  {
   "cell_type": "code",
   "execution_count": null,
   "id": "39a1b823-3c49-46da-86b9-5048e567c3a2",
   "metadata": {},
   "outputs": [],
   "source": [
    "', '.join(skills)#join() -- lists"
   ]
  },
  {
   "cell_type": "code",
   "execution_count": null,
   "id": "1f00cbb5-423a-4eb1-ae0d-63abb920d7d5",
   "metadata": {},
   "outputs": [],
   "source": [
    "job_title = ' Data Scientist'"
   ]
  },
  {
   "cell_type": "code",
   "execution_count": null,
   "id": "fc71578c-a243-4c0b-acf1-6d73974a842d",
   "metadata": {},
   "outputs": [],
   "source": [
    "#Concatenate the string 'Job Title: ' with the variable job_title which is set to 'Data Scientist'."
   ]
  },
  {
   "cell_type": "code",
   "execution_count": null,
   "id": "2ee9c257-7574-47d3-9d3a-d7c8e75a722f",
   "metadata": {},
   "outputs": [],
   "source": [
    "result='Job Title:' + job_title"
   ]
  },
  {
   "cell_type": "code",
   "execution_count": null,
   "id": "6df547c5-94fc-4e5b-b472-b4ab1251be51",
   "metadata": {},
   "outputs": [],
   "source": [
    "print (result)"
   ]
  },
  {
   "cell_type": "code",
   "execution_count": null,
   "id": "d924eb43-349c-41b9-9ea7-bddd71982130",
   "metadata": {},
   "outputs": [],
   "source": [
    "position = 'Data Scientist'\n",
    "company = 'DataWiz Inc.'"
   ]
  },
  {
   "cell_type": "code",
   "execution_count": null,
   "id": "61bfb3ea-1efa-4c63-b287-f3a207ce2203",
   "metadata": {},
   "outputs": [],
   "source": [
    "#Format a string to include the variables position and company using f-strings. \n",
    "#The variables are set to 'Data Scientist' and 'DataWiz Inc.' respectively. \n",
    "#The final string should state: 'Data Scientist at DataWiz'"
   ]
  },
  {
   "cell_type": "code",
   "execution_count": null,
   "id": "90c6497e-1c03-4897-8c78-0fb4ad887b2c",
   "metadata": {},
   "outputs": [],
   "source": [
    "result = f'The role: {position}; with those skills are needed at: {company}'# 'f-strings' this is easiet so far, \n",
    "# here the string \"result\" is used to equate the string_term \"result\" to the formula."
   ]
  },
  {
   "cell_type": "code",
   "execution_count": null,
   "id": "5e6b64a0-1a5c-42d9-9bca-968f7021e3be",
   "metadata": {},
   "outputs": [],
   "source": [
    "result = result.replace('Inc.', '') # dropping the \"Inc\" subsituting a space/vacancy ! Excellent"
   ]
  },
  {
   "cell_type": "code",
   "execution_count": null,
   "id": "5fc41f22-4cf3-4c49-881d-bea58e562fba",
   "metadata": {},
   "outputs": [],
   "source": [
    "result = f'The role: {position}; with those skills are needed at: {company}'# 'f-strings' this is easiet so far, \n",
    "# here the string \"result\" is used to equate the string_term \"result\" to the formula."
   ]
  },
  {
   "cell_type": "code",
   "execution_count": null,
   "id": "a9994413-dec7-4b06-8078-52bee54d7d96",
   "metadata": {},
   "outputs": [],
   "source": [
    "print (result) # print result"
   ]
  },
  {
   "cell_type": "code",
   "execution_count": null,
   "id": "26f587a7-7cf8-4629-bac4-21c61d30fcf8",
   "metadata": {},
   "outputs": [],
   "source": [
    "#Use the str.format() method to format the string to include the variables role and skill. \n",
    "#The variables are set to 'Data Analyst' and 'Python' respectively. \n",
    "#The final string should state: 'Role: Data Analyst, Skill: Python"
   ]
  },
  {
   "cell_type": "code",
   "execution_count": null,
   "id": "f9c8afca-f899-4721-abe2-d156d8c879f3",
   "metadata": {},
   "outputs": [],
   "source": [
    "role = 'Data Analyst'\n",
    "skill = 'Python'"
   ]
  },
  {
   "cell_type": "code",
   "execution_count": null,
   "id": "daf2390a-7912-4640-a585-baaea6b452f3",
   "metadata": {},
   "outputs": [],
   "source": [
    "'Role: {}'.format (role)"
   ]
  },
  {
   "cell_type": "code",
   "execution_count": null,
   "id": "728902b1-f557-4887-a6e2-f799644bf7cb",
   "metadata": {},
   "outputs": [],
   "source": [
    "'Role: %s; Skill : %s'%(role, skill)# Okay but not the most efficient, see below"
   ]
  },
  {
   "cell_type": "code",
   "execution_count": null,
   "id": "efe11a18-0f05-4f7e-bb4d-579ab6c971d9",
   "metadata": {},
   "outputs": [],
   "source": [
    "role = 'Data Analyst'\n",
    "skill = 'Python'\n",
    "result = 'Role: {}, Skill: {}'.format(role, skill)\n",
    "print(result)"
   ]
  },
  {
   "cell_type": "code",
   "execution_count": null,
   "id": "45d0e017-bf58-41fb-8b1d-5674df6112b7",
   "metadata": {},
   "outputs": [],
   "source": [
    "#Use %-formatting to format the string to include the variables role and skill. \n",
    "#The variables are set to 'Data Engineer' and 'SQL' respectively. \n",
    "#The final string should state: 'Role: Data Engineer, Skill: SQL'"
   ]
  },
  {
   "cell_type": "code",
   "execution_count": null,
   "id": "3b23302f-eeb4-4f7f-8473-22bce6b17123",
   "metadata": {},
   "outputs": [],
   "source": [
    "role = 'Data Engineer'\n",
    "skill = 'SQL'\n",
    "'Role: %s, Skill: %s'%(role, skill)"
   ]
  },
  {
   "cell_type": "markdown",
   "id": "a113b1eb-0042-4bd2-9c0b-5ad5773f0659",
   "metadata": {},
   "source": [
    "Heading: Operator"
   ]
  },
  {
   "cell_type": "code",
   "execution_count": null,
   "id": "2c0a0d71-4a5d-4f73-83e9-ba427fd18877",
   "metadata": {},
   "outputs": [],
   "source": [
    "four = 4\n",
    "four.__sub__(2)"
   ]
  },
  {
   "cell_type": "code",
   "execution_count": null,
   "id": "83ef55e6-7f05-41ad-b209-2d91d720d60b",
   "metadata": {},
   "outputs": [],
   "source": [
    "5/2"
   ]
  },
  {
   "cell_type": "code",
   "execution_count": null,
   "id": "dab93eb4-928c-43d8-b841-112fdce35213",
   "metadata": {},
   "outputs": [],
   "source": [
    "5//2 # integar result "
   ]
  },
  {
   "cell_type": "code",
   "execution_count": null,
   "id": "5bca4862-c033-48d5-83e9-afabf6d1373c",
   "metadata": {},
   "outputs": [],
   "source": [
    "5%2"
   ]
  },
  {
   "cell_type": "code",
   "execution_count": null,
   "id": "e9ae7487-deeb-4472-ba62-e13eb7d44660",
   "metadata": {},
   "outputs": [],
   "source": [
    "print('5 divided by 2 is', 5//2, 'with a remainder of ', 5%2)"
   ]
  },
  {
   "cell_type": "code",
   "execution_count": null,
   "id": "2dfe97bd-c716-4f96-927b-6f9c967d6c8b",
   "metadata": {},
   "outputs": [],
   "source": [
    "# parenthesis, exponents, multiply - divide, add-subtract"
   ]
  },
  {
   "cell_type": "code",
   "execution_count": null,
   "id": "3282ff15-bf2e-440f-bf5a-c92dbe5dd83a",
   "metadata": {},
   "outputs": [],
   "source": [
    "# avrage salary\n",
    "min_salary = 20_000\n",
    "max_salary = 80_000\n",
    "avg_salary = (min_salary+max_salary)/2\n",
    "avg_salary"
   ]
  },
  {
   "cell_type": "code",
   "execution_count": null,
   "id": "bcc56591-7b2b-4e92-9713-8109045d3779",
   "metadata": {},
   "outputs": [],
   "source": [
    "#assignemnt operator\n",
    "applicant_one=\"Kelly\"\n",
    "applicant_two=\"Luke\"\n",
    "temp_var=applicant_one\n",
    "applicant_one=applicant_two\n",
    "applicant_two=temp_var\n",
    "applicant_one, applicant_two"
   ]
  },
  {
   "cell_type": "code",
   "execution_count": null,
   "id": "9d17b965-58d7-4740-bfcd-2e4dbaa353be",
   "metadata": {},
   "outputs": [],
   "source": [
    "applicant_one=\"Kelly\"\n",
    "applicant_two=\"Luke\"\n",
    "applicant_one,applicant_two= applicant_two,applicant_one\n",
    "applicant_one,applicant_two"
   ]
  },
  {
   "cell_type": "code",
   "execution_count": null,
   "id": "63db4f6b-c1b5-4559-b6cd-1d6ab02a7d4f",
   "metadata": {},
   "outputs": [],
   "source": [
    "x=1\n",
    "x=x=1\n",
    "x"
   ]
  },
  {
   "cell_type": "code",
   "execution_count": null,
   "id": "2f660443-934b-4a71-b691-01818909ffa1",
   "metadata": {},
   "outputs": [],
   "source": [
    "x=1\n",
    "x+=1 # x=x=1\n",
    "x"
   ]
  },
  {
   "cell_type": "code",
   "execution_count": null,
   "id": "5d6fb444-e7e1-45f4-9c19-cdc6e97104e2",
   "metadata": {},
   "outputs": [],
   "source": [
    "x=1\n",
    "x*=3\n",
    "x"
   ]
  },
  {
   "cell_type": "code",
   "execution_count": null,
   "id": "60cf4743-457f-45f4-80c9-607d9df75e49",
   "metadata": {},
   "outputs": [],
   "source": [
    "#comparison operator\n",
    "salary_kelly=60_000\n",
    "salary_luke=40_000\n",
    "salary_kelly==salary_luke\n"
   ]
  },
  {
   "cell_type": "code",
   "execution_count": null,
   "id": "1ef52e4b-a03b-49f4-bea4-a86bff906d37",
   "metadata": {},
   "outputs": [],
   "source": [
    "1==1"
   ]
  },
  {
   "cell_type": "code",
   "execution_count": null,
   "id": "024179df-ec68-478d-98d3-82064a8e681c",
   "metadata": {},
   "outputs": [],
   "source": [
    "#intro if -- geater than\n",
    "if(salary_kelly>salary_luke):\n",
    "    print('Kelly is paid more')"
   ]
  },
  {
   "cell_type": "code",
   "execution_count": null,
   "id": "e6f98f51-ce8f-4570-97e1-5a799590f6d7",
   "metadata": {},
   "outputs": [],
   "source": [
    "#Problem Statement:\n",
    "#Calculate the total annual salary for a data scientist given the monthly salary. The variable monthly_salary is set to 8000.\n",
    "monthly_salary = 8000\n",
    "annual_salary = (monthly_salary*12)\n",
    "annual_salary"
   ]
  },
  {
   "cell_type": "code",
   "execution_count": null,
   "id": "28ddcf2c-f725-47c0-8f1d-e42e919a1b45",
   "metadata": {},
   "outputs": [],
   "source": [
    "#Problem Statement:\n",
    "#Determine if the average salary of a data analyst is greater than that of a data scientist. \n",
    "#The variables avg_salary_analyst and avg_salary_scientist are set to 70000 and 85000 respectively.\n",
    "avg_salary_analyst = 70000\n",
    "avg_salary_scientist = 85000\n"
   ]
  },
  {
   "cell_type": "code",
   "execution_count": null,
   "id": "6f595eae-ecc3-444d-8908-6e1f99fe7a97",
   "metadata": {},
   "outputs": [],
   "source": [
    "#intro if -- geater than\n",
    "if avg_salary_analyst > avg_salary_scientist:\n",
    "    print('analyst is paid more')\n",
    "else:\n",
    "    print('scientist is paid more')\n"
   ]
  },
  {
   "cell_type": "code",
   "execution_count": null,
   "id": "a272b33e-ca0b-47e9-a00c-71c871b327c2",
   "metadata": {},
   "outputs": [],
   "source": [
    "avg_salary_analyst = 70000\n",
    "avg_salary_scientist = 85000\n",
    "is_analyst_salary_higher = avg_salary_analyst > avg_salary_scientist\n",
    "print(is_analyst_salary_higher)"
   ]
  },
  {
   "cell_type": "code",
   "execution_count": null,
   "id": "c536f4f0-7b3f-4858-9627-47cafef2fb63",
   "metadata": {},
   "outputs": [],
   "source": [
    "#Problem Statement:\n",
    "#Calculate the remainder when the total number of job applications \n",
    "#(variable total_applications is set to 123) is divided by the number of job openings (variable job_openings is set to 67).\n",
    "\n",
    "#Code Needed:\n",
    "total_applications = 123\n",
    "job_openings = 67"
   ]
  },
  {
   "cell_type": "code",
   "execution_count": null,
   "id": "27177afa-2269-4c16-a126-c179d12b1512",
   "metadata": {},
   "outputs": [],
   "source": [
    "123%67"
   ]
  },
  {
   "cell_type": "code",
   "execution_count": null,
   "id": "953cc2d9-2ca0-4f96-9dd2-c2524b7ff694",
   "metadata": {},
   "outputs": [],
   "source": [
    "print('123 divided by 67 is equal to', 123//67, 'remainder ', 123%67)"
   ]
  },
  {
   "cell_type": "code",
   "execution_count": null,
   "id": "eeee3c64-7bee-45dd-bbcf-d04716ffc16f",
   "metadata": {},
   "outputs": [],
   "source": [
    "total_applications = 123\n",
    "job_openings = 67\n",
    "remainder = total_applications % job_openings\n",
    "print(remainder)"
   ]
  },
  {
   "cell_type": "code",
   "execution_count": null,
   "id": "24f89c1f-e9bc-41a4-a7f4-985a8f354d29",
   "metadata": {},
   "outputs": [],
   "source": [
    "#Problem Statement:\n",
    "#Increment (or increase) the variable job_postings by 5. The variable job_postings is intially set to 20.\n",
    "\n",
    "#Code Needed:\n",
    "job_postings = 20\n",
    "sum=(job_postings+5)\n",
    "print (sum)"
   ]
  },
  {
   "cell_type": "code",
   "execution_count": null,
   "id": "88194db1-ccfb-4f64-825e-543dfb3a0f21",
   "metadata": {},
   "outputs": [],
   "source": [
    "#Problem Statement:\n",
    "#Calculate the average salary from the minimum and maximum salaries. \n",
    "#The variables min_salary and max_salary are set to 50000 and 120000 respectively.\n",
    "\n",
    "#Code Needed:\n",
    "min_salary = 50000\n",
    "max_salary = 120000\n",
    "avg_salary=(min_salary+max_salary)/2\n",
    "print(avg_salary)"
   ]
  },
  {
   "cell_type": "code",
   "execution_count": null,
   "id": "fee0b3d7-8ccb-4415-bdb6-913c5361a280",
   "metadata": {},
   "outputs": [],
   "source": [
    "if True:\n",
    "    print('whats up data nerds')"
   ]
  },
  {
   "cell_type": "code",
   "execution_count": null,
   "id": "f104b51d-4839-405f-b39f-6e8053ae03a1",
   "metadata": {},
   "outputs": [],
   "source": [
    "if False:\n",
    "    print('whats up nerds')"
   ]
  },
  {
   "cell_type": "code",
   "execution_count": null,
   "id": "e8c12fb5-3f07-4252-b371-7a8f599114c4",
   "metadata": {},
   "outputs": [],
   "source": [
    "job_skill='SQL'\n",
    "applicant_skill='SQL'\n",
    "if job_skill == applicant_skill:\n",
    "    print('skills match')"
   ]
  },
  {
   "cell_type": "code",
   "execution_count": null,
   "id": "4ff6cace-c498-4eb4-bd4b-20712b4aeacf",
   "metadata": {},
   "outputs": [],
   "source": [
    "job_skill='SQL' #IF, ELIF, ELSE\n",
    "applicant_skill='Python'\n",
    "years_experience = 3\n",
    "if job_skill == applicant_skill:\n",
    "    print('skills match')\n",
    "elif years_experience >= 5:\n",
    "    print('enuf experience: no SQL')\n",
    "elif applicant_skill=='Python':\n",
    "    print ('where is the sql?')\n",
    "else:\n",
    "    print('no skill or experience')"
   ]
  },
  {
   "cell_type": "code",
   "execution_count": null,
   "id": "cfba28a8-642b-4c22-afa1-089be26fcc47",
   "metadata": {},
   "outputs": [],
   "source": [
    "if job_skill == applicant_skill: # PASS \n",
    "    ..."
   ]
  },
  {
   "cell_type": "code",
   "execution_count": null,
   "id": "5aed44b9-80c8-4d96-9540-15f01560915a",
   "metadata": {},
   "outputs": [],
   "source": [
    "#Problem Statement:\n",
    "#Output someone's skill level based on the number of years someone has been using Python. Use the following criteria:\n",
    "\n",
    "#Less than 2 years is 'Beginner'\n",
    "#2 or more years is 'Intermediate'\n",
    "#Set the variable python_experience to 3 and test this variable in the if statement.\n",
    "\n",
    "#Code Needed:\n",
    "# Set Python experience\n",
    "python_experience = 3\n",
    "\n",
    "# Using if-then style logic to determine skill level\n",
    "if python_experience < 2:\n",
    "    skill_level = 'Beginner'\n",
    "if python_experience >= 2:\n",
    "    skill_level = 'Intermediate'\n",
    "\n",
    "print(skill_level)\n",
    "\n"
   ]
  },
  {
   "cell_type": "code",
   "execution_count": null,
   "id": "0e76f02e-02fc-4d24-86b3-0ac423bf5f86",
   "metadata": {},
   "outputs": [],
   "source": [
    "#Problem Statement:\n",
    "#Output someone's skill level based on the number of data science tools they know. Use the following criteria:\n",
    "\n",
    "#0-1 tools is 'Beginner'\n",
    "#2-4 tools is 'Intermediate'\n",
    "#More than 4 tools is 'Advanced'\n",
    "#The variable tools_known is set to 3 to test with the if statement.\n",
    "\n",
    "#Code Needed:\n",
    "tools_known = 3\n",
    "\n",
    "if tools_known < 1:\n",
    "    skill_level = 'Beginner'\n",
    "elif tools_known >= 2 and tools_known < 4:\n",
    "    skill_level = 'Intermediate'\n",
    "else:\n",
    "    skill_level = 'Advanced'\n",
    "\n",
    "print(skill_level)"
   ]
  },
  {
   "cell_type": "code",
   "execution_count": null,
   "id": "44994c3d-9c78-400d-9141-5f4bf7fd60ad",
   "metadata": {},
   "outputs": [],
   "source": [
    "#Problem Statement:\n",
    "#Determine the job title based on years of job experience and years of SQL experience. The variable job_experience is set to 4 and sql_experience is set to 2. Use the following criteria:\n",
    "\n",
    "#Less than 2 years of job experience is 'Junior Analyst'.\n",
    "#2 to 5 years of job experience and 1 year of SQL experience is 'Intermediate Analyst'.\n",
    "#2 to 5 years of job experience and 2 or more years of SQL experience is 'Senior Analyst'.\n",
    "#More than 5 years of job experience and 3 or more years of SQL experience is 'Lead Analyst'.\n",
    "#More than 5 years of job experience and less than 3 years of SQL experience is 'Data Analyst'.\n",
    "#Code Needed:\n",
    "job_experience = 4\n",
    "sql_experience = 2\n",
    "\n",
    "if job_experience < 2:\n",
    "    job_experience_position = 'Junior Analyst'\n",
    "elif 2 <= job_experience < 5 and sql_experience <1:\n",
    "    job_experience_position = 'Intermediate analyst'\n",
    "elif 2 <= job_experience < 5 and sql_experience == 2:\n",
    "    job_experience_position = 'Senior Analyst'\n",
    "elif job_experience >= 5 and sql_expereince < 3:\n",
    "    job_experience_position = 'data analyst'\n",
    "else:\n",
    "    job_experience_position = 'lead analyst'\n",
    "\n",
    "print(job_experience_position)\n",
    "\n"
   ]
  },
  {
   "cell_type": "code",
   "execution_count": null,
   "id": "c03c248f-d760-46c5-9faf-80565bb95f79",
   "metadata": {},
   "outputs": [],
   "source": [
    "job_experience = 4\n",
    "sql_experience = 2\n",
    "\n",
    "if job_experience < 2:\n",
    "    job_experience_title = 'Junior Analyst'\n",
    "elif 2 <= job_experience < 5 and sql_experience < 1:\n",
    "    job_experience_title = 'Intermediate Analyst'\n",
    "elif 2 <= job_experience < 5 and sql_experience == 2:\n",
    "    job_experience_title = 'Senior Analyst'\n",
    "elif job_experience >= 5 and sql_experience < 3:\n",
    "    job_experience_title = 'Data Analyst'\n",
    "else:\n",
    "    job_experience_title = 'Lead Analyst'\n",
    "\n",
    "print(job_experience_title)\n"
   ]
  },
  {
   "cell_type": "code",
   "execution_count": null,
   "id": "a9e89d6c-f01b-45ee-885c-acaeb8fdc80c",
   "metadata": {},
   "outputs": [],
   "source": [
    "#Problem Statement:\n",
    "#Determine the job title based on years of job experience and years of SQL experience. The variable job_experience is set to 4 and sql_experience is set to 2. Use the following criteria:\n",
    "\n",
    "#Less than 2 years of job experience is 'Junior Analyst'.\n",
    "#2 to 5 years of job experience and 1 year of SQL experience is 'Intermediate Analyst'.\n",
    "#2 to 5 years of job experience and 2 or more years of SQL experience is 'Senior Analyst'.\n",
    "#More than 5 years of job experience and 3 or more years of SQL experience is 'Lead Analyst'.\n",
    "#More than 5 years of job experience and less than 3 years of SQL experience is 'Data Analyst'.\n",
    "#Code Needed:\n",
    "job_experience = 4\n",
    "sql_experience = 2\n",
    "\n",
    "if job_experience < 2:\n",
    "    job_experience_position = 'Junior Analyst'\n",
    "elif 2 <= job_experience < 5 and sql_experience <1:\n",
    "#elif job_experience >= 2 and tools_known < 5:\n",
    "    job_experience_position = 'Intermediate analyst'\n",
    "elif 2 <= job_experience < 5 and sql_experience == 2:\n",
    "    job_experience_position = 'Senior Analyst'\n",
    "elif job_experience >= 5 and sql_expereince < 3:\n",
    "    job_experience_position = 'data analyst'\n",
    "else:\n",
    "    job_experience_position = 'lead analyst'\n",
    "\n",
    "print(job_experience_position)\n",
    "\n"
   ]
  },
  {
   "cell_type": "markdown",
   "id": "9083cc43-4be6-467a-9941-7af121b1bc7f",
   "metadata": {},
   "source": [
    "LISTS Square brackets []"
   ]
  },
  {
   "cell_type": "code",
   "execution_count": null,
   "id": "1022ffa0-206e-4a6d-908f-1043a112b2ed",
   "metadata": {},
   "outputs": [],
   "source": [
    "#Problem Statement:\n",
    "#Access the second job title in the list of job titles for data science roles and print it. \n",
    "#The variable job_titles is set to ['Data Scientist', 'Data Analyst', 'Machine Learning Engineer'].\n",
    "\n",
    "#Code Needed:\n",
    "job_titles = ['Data Scientist', 'Data Analyst', 'Machine Learning Engineer']\n",
    "job_titles[1]\n"
   ]
  },
  {
   "cell_type": "code",
   "execution_count": null,
   "id": "7818921a-1e3d-490a-8195-a693da366194",
   "metadata": {},
   "outputs": [],
   "source": [
    "#Problem Statement:\n",
    "#Change the third job title in the list of job titles for data science roles to 'AI Specialist' and print the updated list. \n",
    "#The variable job_titles is set to ['Data Scientist', 'Data Analyst', 'Machine Learning Engineer'].\n",
    "\n",
    "#Code Needed:\n",
    "job_titles = ['Data Scientist', 'Data Analyst', 'Machine Learning Engineer']\n",
    "job_titles.insert(2, 'AI Specialist')\n",
    "job_titles"
   ]
  },
  {
   "cell_type": "code",
   "execution_count": null,
   "id": "f3ca64db-e6c7-4b35-80b3-9de50d726d77",
   "metadata": {},
   "outputs": [],
   "source": [
    "job_titles.append('tableau')\n",
    "job_titles"
   ]
  },
  {
   "cell_type": "code",
   "execution_count": null,
   "id": "d7180126-8210-4ec7-b71a-dc748de12892",
   "metadata": {},
   "outputs": [],
   "source": [
    "#Problem Statement:\n",
    "#Add a new job title 'Data Engineer' to the end of the list of job titles for data science roles and print the updated list. The variable job_titles is set to ['Data Scientist', 'Data Analyst', 'Machine Learning Engineer'].\n",
    "\n",
    "#Code Needed:\n",
    "job_titles = ['Data Scientist', 'Data Analyst', 'Machine Learning Engineer']\n",
    "job_titles.append('Data Engineer')\n",
    "job_titles"
   ]
  },
  {
   "cell_type": "code",
   "execution_count": null,
   "id": "4745cd04-8206-4293-8af1-99501e251d69",
   "metadata": {},
   "outputs": [],
   "source": [
    "job_titles.remove('Data Scientist')\n",
    "job_titles"
   ]
  },
  {
   "cell_type": "code",
   "execution_count": null,
   "id": "33b1b4a2-6d88-4a04-9d2e-4ca3c4dd6320",
   "metadata": {},
   "outputs": [],
   "source": [
    "job_titles.insert(0, 'Data Scientist')\n",
    "job_titles"
   ]
  },
  {
   "cell_type": "code",
   "execution_count": null,
   "id": "e3ff9f65-9f7a-4c69-845a-2d1d65613ba3",
   "metadata": {},
   "outputs": [],
   "source": [
    "#Problem Statement:\n",
    "#Insert a new job title 'Business Analyst' at the second position in the list of job titles for data science roles and print the updated list. The variable job_titles is set to ['Data Scientist', 'Data Analyst', 'Machine Learning Engineer'].\n",
    "\n",
    "#Code Needed:\n",
    "job_titles = ['Data Scientist', 'Data Analyst', 'Machine Learning Engineer']\n",
    "job_titles.insert(1, 'Business Analyst')\n",
    "job_titles"
   ]
  },
  {
   "cell_type": "code",
   "execution_count": null,
   "id": "5c80b93b-b5ed-4e2b-822e-77bbed0a8337",
   "metadata": {},
   "outputs": [],
   "source": [
    "job_titles.pop()"
   ]
  },
  {
   "cell_type": "code",
   "execution_count": null,
   "id": "35086c23-52c2-4a85-8a60-7ef84d3c322d",
   "metadata": {},
   "outputs": [],
   "source": [
    "job_titles"
   ]
  },
  {
   "cell_type": "code",
   "execution_count": null,
   "id": "aea58161-d13e-4023-90f4-efb2202bf12c",
   "metadata": {},
   "outputs": [],
   "source": [
    "job_titles[0:2]"
   ]
  },
  {
   "cell_type": "code",
   "execution_count": null,
   "id": "6ac6a10a-dc44-4863-9301-01e898e1f4e7",
   "metadata": {},
   "outputs": [],
   "source": [
    "job_titles[0:3]"
   ]
  },
  {
   "cell_type": "code",
   "execution_count": null,
   "id": "ac94dfeb-a2b5-424e-8477-6bd43de729e9",
   "metadata": {},
   "outputs": [],
   "source": [
    "job_titles[:]"
   ]
  },
  {
   "cell_type": "code",
   "execution_count": null,
   "id": "2e119ad7-90d7-4c12-aea2-d10ea02bb0ff",
   "metadata": {},
   "outputs": [],
   "source": [
    "job_titles[::]"
   ]
  },
  {
   "cell_type": "code",
   "execution_count": null,
   "id": "0055d82d-b66e-4284-ae2c-c405c7bb6473",
   "metadata": {},
   "outputs": [],
   "source": [
    "job_titles[::2]"
   ]
  },
  {
   "cell_type": "code",
   "execution_count": null,
   "id": "de06a7ba-aa21-44ff-a148-907aba4a88a1",
   "metadata": {},
   "outputs": [],
   "source": [
    "#Problem Statement:\n",
    "#Slice the list of job titles for data science roles to get the first two job titles and print the result. The list is ['Data Scientist', 'Data Analyst', 'Machine Learning Engineer', 'Data Engineer'].\n",
    "\n",
    "#Code Needed:\n",
    "job_titles = ['Data Scientist', 'Data Analyst', 'Machine Learning Engineer', 'Data Engineer']\n",
    "job_titles[0:2]"
   ]
  },
  {
   "cell_type": "code",
   "execution_count": null,
   "id": "9c030ec1-1cd6-4c77-af23-cfc54e4632c3",
   "metadata": {},
   "outputs": [],
   "source": [
    "vince_skills = ['python','sql','excel', 'PowerBI']\n",
    "kelly_skills = ['python','C++','looker']\n",
    "all_skills = vince_skills+kelly_skills"
   ]
  },
  {
   "cell_type": "code",
   "execution_count": null,
   "id": "ff86f59e-d9b1-4ee1-9629-5e08314dd26a",
   "metadata": {},
   "outputs": [],
   "source": [
    "all_skills"
   ]
  },
  {
   "cell_type": "code",
   "execution_count": null,
   "id": "0f006651-cfcd-4cb5-97d8-f5b5bac43ac6",
   "metadata": {},
   "outputs": [],
   "source": [
    "all_skills[::2]"
   ]
  },
  {
   "cell_type": "code",
   "execution_count": null,
   "id": "c545e7dd-3b7a-4a5f-9553-6608779b541f",
   "metadata": {},
   "outputs": [],
   "source": [
    "all_skills[-1]"
   ]
  },
  {
   "cell_type": "markdown",
   "id": "0004868c-875a-470b-9f9d-e5ff81e12f8c",
   "metadata": {},
   "source": [
    "Dictionaries curly brackets {}"
   ]
  },
  {
   "cell_type": "code",
   "execution_count": null,
   "id": "6a8e0f88-87c2-4c3c-bc07-385e9ba8cf1f",
   "metadata": {},
   "outputs": [],
   "source": [
    "job_type_skills={'database': 'postgresql',\n",
    "                 'language':'python',\n",
    "                 'library': 'pandas'}\n",
    "job_type_skills"
   ]
  },
  {
   "cell_type": "code",
   "execution_count": null,
   "id": "9a02d537-1454-4216-ab1c-4b02fa156845",
   "metadata": {},
   "outputs": [],
   "source": [
    "job_type_skills.keys()"
   ]
  },
  {
   "cell_type": "code",
   "execution_count": null,
   "id": "09adc25b-96af-4aab-bc6d-98f02ad0fe68",
   "metadata": {},
   "outputs": [],
   "source": [
    "job_type_skills.values()"
   ]
  },
  {
   "cell_type": "code",
   "execution_count": null,
   "id": "5fa90e10-1088-48db-8137-b46c569e3331",
   "metadata": {},
   "outputs": [],
   "source": [
    "job_type_skills.pop('library') #remove a listing"
   ]
  },
  {
   "cell_type": "code",
   "execution_count": null,
   "id": "5ddd53df-ca6e-47ea-9513-925b4c060bb8",
   "metadata": {},
   "outputs": [],
   "source": [
    "job_type_skills"
   ]
  },
  {
   "cell_type": "code",
   "execution_count": null,
   "id": "35dee2f8-daa1-4c9a-a1bf-807b8f7d8995",
   "metadata": {},
   "outputs": [],
   "source": [
    "job_type_skills.update({'cloud': 'Amazon Web Sevice'})"
   ]
  },
  {
   "cell_type": "code",
   "execution_count": null,
   "id": "aa2e69c1-ded5-42d1-9489-f2805c7e5a52",
   "metadata": {},
   "outputs": [],
   "source": [
    "job_type_skills"
   ]
  },
  {
   "cell_type": "code",
   "execution_count": null,
   "id": "f9bdb22b-0612-4d6a-af3f-e04eedb63936",
   "metadata": {},
   "outputs": [],
   "source": [
    "job_type_skills['version_control']='git'"
   ]
  },
  {
   "cell_type": "code",
   "execution_count": null,
   "id": "2718c0d5-e538-45ce-a892-e3374befd95c",
   "metadata": {},
   "outputs": [],
   "source": [
    "job_type_skills"
   ]
  },
  {
   "cell_type": "code",
   "execution_count": null,
   "id": "5d42b304-c585-405f-ada0-33465c4f6a6a",
   "metadata": {},
   "outputs": [],
   "source": [
    "#Problem Statement:\n",
    "#Access the value of the number of job postings for the key 'Data Analyst' from the dictionary job_postings and print it. \n",
    "#The dictonary job_postings is set to {'Data Scientist': 120, 'Data Analyst': 80, 'Machine Learning Engineer': 50}.\n",
    "\n",
    "#Code Needed:\n",
    "job_postings = {'Data Scientist': 120, 'Data Analyst': 80, 'Machine Learning Engineer': 50}\n",
    "job_postings['Data Analyst']"
   ]
  },
  {
   "cell_type": "code",
   "execution_count": null,
   "id": "e436bf3c-71cc-4c39-84f6-4ff07a6e9591",
   "metadata": {},
   "outputs": [],
   "source": [
    "#Problem Statement:\n",
    "#Add a new job role under the key 'AI Specialist' with a value of 30 postings.\n",
    "#Add to the dictionary job_postings and print the updated dictionary. The dictionary job_postings is set to {'Data Scientist': 120, 'Data Analyst': 80, 'Machine Learning Engineer': 50}.\n",
    "\n",
    "#Code Needed:\n",
    "job_postings = {'Data Scientist': 120, 'Data Analyst': 80, 'Machine Learning Engineer': 50}\n",
    "job_postings['AI Specialist']='30'\n",
    "job_postings"
   ]
  },
  {
   "cell_type": "code",
   "execution_count": null,
   "id": "f57cfe24-722b-4ec9-9584-b4826064fc14",
   "metadata": {},
   "outputs": [],
   "source": [
    "#Problem Statement:\n",
    "#Remove the job role 'Machine Learning Engineer' from the dictionary job_postings and print the updated dictionary. \n",
    "#The dictonary job_postings is set to {'Data Scientist': 120, 'Data Analyst': 80, 'Machine Learning Engineer': 50}.\n",
    "\n",
    "#Code Needed:\n",
    "job_postings = {'Data Scientist': 120, 'Data Analyst': 80, 'Machine Learning Engineer': 50}\n",
    "job_postings.pop('Machine Learning Engineer')\n",
    "job_postings\n"
   ]
  },
  {
   "cell_type": "code",
   "execution_count": null,
   "id": "eb756978-fe3f-4632-bcf2-7a4cb00008be",
   "metadata": {},
   "outputs": [],
   "source": [
    "#Problem Statement:\n",
    "#Merge two dictionaries job_postings1 and job_postings2 containing job roles and their postings. \n",
    "#With job_postings1 set to {'Data Scientist': 120, 'Data Analyst': 80} \n",
    "#and job_postings2 to {'Machine Learning Engineer': 50, 'AI Specialist': 30}. Print the merged dictionary.\n",
    "\n",
    "#Code Needed:\n",
    "job_postings1 = {'Data Scientist': 120, 'Data Analyst': 80}\n",
    "job_postings2 = {'Machine Learning Engineer': 50, 'AI Specialist': 30}\n",
    "job_postings1.update(job_postings2)\n",
    "job_postings1\n"
   ]
  },
  {
   "cell_type": "code",
   "execution_count": null,
   "id": "79976131-689f-4fce-99a5-d9a336c569e2",
   "metadata": {},
   "outputs": [],
   "source": [
    "#Problem Statement:\n",
    "#Create a nested dictionary <job_details> where each key is a job role and the value is another dictionary.\n",
    "#The other dictionary contains 'postings' and 'average_salary'. \n",
    "#The details for each are: 'Data Scientist' has 120 postings and an average salary of 120000; \n",
    "#'Data Analyst' has 80 postings and an average salary of 80000; \n",
    "#Machine Learning Engineer has 50 postings and average salary of 110000. Print the nested dictionary.\n",
    "\n",
    "#Hint:\n",
    "#Use nested curly braces {} to create a nested dictionary.\n",
    "# Create a nested dictionary\n",
    "# Create the nested dictionary for job details\n",
    "job_details = {\n",
    "    'Data Scientist': {\n",
    "        'average_salary':['120000'],\n",
    "        'postings': ['120']\n",
    "    },\n",
    "    'Data Analyst': {\n",
    "        'avaerage_salary': ['80000'],\n",
    "        'postings': ['80']\n",
    "    },\n",
    "    'Machine Learning Engineer': {\n",
    "        'avrage_salary': ['110000'],\n",
    "        'postings': ['50']\n",
    "    }\n",
    "}\n",
    "\n",
    "# Accessing details about a specific job role\n",
    "#print(job_details['Data Scientist']['average_salary'])  # Output: 120000\n",
    "#print(job_details['Data Scientist']['postings'])  # Output: 120\n",
    "\n",
    "# Adding a new job role\n",
    "#job_details['UX Designer'] = {\n",
    "#    'average_salary': 85000,\n",
    "#    'postings': ['100']\n",
    "#}\n",
    "\n",
    "# Printing the updated job details\n",
    "#print(job_details)\n",
    "#print(job_details['Data Scientist']['average_salary'])"
   ]
  },
  {
   "cell_type": "markdown",
   "id": "ad8650f0-4624-43e9-83b9-92e88391f695",
   "metadata": {},
   "source": [
    "Sets curly bracket {} mutable unique items, unordered, no indexing"
   ]
  },
  {
   "cell_type": "code",
   "execution_count": null,
   "id": "a6af4c9c-462a-41af-b3f3-c3524f3ad65d",
   "metadata": {},
   "outputs": [],
   "source": [
    "job_skills = {'tableau','sql','Corvette','statisitcs','python' }\n",
    "job_skills # alphabetical order on output"
   ]
  },
  {
   "cell_type": "code",
   "execution_count": null,
   "id": "fb9242c7-02bb-47d5-a329-504ee9285e94",
   "metadata": {},
   "outputs": [],
   "source": [
    "job_skills.add('looker')\n",
    "job_skills"
   ]
  },
  {
   "cell_type": "code",
   "execution_count": null,
   "id": "fcb44e8c-75e1-43ff-9a82-e24158e3aa8c",
   "metadata": {},
   "outputs": [],
   "source": [
    "job_skills.remove('Corvette')\n",
    "job_skills"
   ]
  },
  {
   "cell_type": "code",
   "execution_count": null,
   "id": "fd63a163-0706-47af-a132-705a8bba925e",
   "metadata": {},
   "outputs": [],
   "source": [
    "#set(skills_list) removes duplicates"
   ]
  },
  {
   "cell_type": "code",
   "execution_count": null,
   "id": "2002cb17-dee0-44d3-ad0e-d8ef74048f99",
   "metadata": {},
   "outputs": [],
   "source": [
    "#Problem Statement:\n",
    "#Add a new job title 'AI Specialist' to the set of unique job titles and print the updated set. \n",
    "#The initial set of unique_job_titles is {'Data Scientist', 'Data Analyst', 'Machine Learning Engineer'}.\n",
    "\n",
    "#Code Needed:\n",
    "unique_job_titles = {'Data Scientist', 'Data Analyst', 'Machine Learning Engineer'}\n",
    "unique_job_titles.add('AI Specialist')\n",
    "unique_job_titles"
   ]
  },
  {
   "cell_type": "code",
   "execution_count": null,
   "id": "abc7afce-8b7f-476b-a0e8-7682cda4a994",
   "metadata": {},
   "outputs": [],
   "source": [
    "#Problem Statement:\n",
    "#Remove the job title 'Data Analyst' from the set of unique job titles and print the updated set. \n",
    "#The initial set of unique_job_titles is {'Data Scientist', 'Data Analyst', 'Machine Learning Engineer'}.\n",
    "\n",
    "#Code Needed:\n",
    "unique_job_titles = {'Data Scientist', 'Data Analyst', 'Machine Learning Engineer'}\n",
    "unique_job_titles.remove('Data Analyst')\n",
    "unique_job_titles # outout is alphabetical"
   ]
  },
  {
   "cell_type": "code",
   "execution_count": null,
   "id": "06194aea-7d2a-4220-bc9b-bfbdaff15fe2",
   "metadata": {},
   "outputs": [],
   "source": [
    "#Problem Statement:\n",
    "#Create a set of job locations named job_locations from a list of job locations for data science roles and print the set. \n",
    "#The list is ['New York', 'San Francisco', 'New York', 'Austin', 'San Francisco'].\n",
    "\n",
    "#Code Needed:\n",
    "job_locations = ['New York', 'San Francisco', 'New York', 'Austin', 'San Francisco']\n",
    "set(job_locations)"
   ]
  },
  {
   "cell_type": "code",
   "execution_count": null,
   "id": "b08abdf9-9daf-4156-8e02-2500ffc950af",
   "metadata": {},
   "outputs": [],
   "source": [
    "#Problem Statement:\n",
    "#Find the union of two sets of job skills and print the result. \n",
    "#The first set is {'Python', 'SQL', 'Tableau'} and the second set is {'R', 'SQL', 'Machine Learning'}.\n",
    "\n",
    "#Code Needed:\n",
    "skills_set1 = {'Python', 'SQL', 'Tableau'}\n",
    "skills_set2 = {'R', 'SQL', 'Machine Learning'}\n",
    "united_skills = skills_set1.union(skills_set2)\n",
    "united_skills\n"
   ]
  },
  {
   "cell_type": "markdown",
   "id": "983faf48-8164-43cb-aa77-cd53b315bbb8",
   "metadata": {},
   "source": [
    "Tuples list-like use parenthesis (), unlike lists, cannot modify tuples, this fixed data, unique, for SW-engineering"
   ]
  },
  {
   "cell_type": "code",
   "execution_count": null,
   "id": "c49b6e07-d447-4c4a-bbdb-83c33ab6a363",
   "metadata": {},
   "outputs": [],
   "source": [
    "vinceskills = ('python','excel','sql','tableau')\n",
    "vinceskills #not alphabetical"
   ]
  },
  {
   "cell_type": "code",
   "execution_count": null,
   "id": "9db92309-1577-4564-9a42-7b835aafb501",
   "metadata": {},
   "outputs": [],
   "source": [
    "id(vinceskills)"
   ]
  },
  {
   "cell_type": "code",
   "execution_count": null,
   "id": "e75b35d5-3cc1-4cfe-bab7-b8ac49a800c2",
   "metadata": {},
   "outputs": [],
   "source": [
    "vinceskills[0]"
   ]
  },
  {
   "cell_type": "code",
   "execution_count": null,
   "id": "bea01ef0-1a2b-4770-8773-69d3707d1c88",
   "metadata": {},
   "outputs": [],
   "source": [
    "vinceskills[0:2]"
   ]
  },
  {
   "cell_type": "code",
   "execution_count": null,
   "id": "a64c08d1-31c2-451c-9337-62f3b7411b75",
   "metadata": {},
   "outputs": [],
   "source": [
    "newskills = ('PowewrBI','AWS', 'cloud')\n",
    "skills=vinceskills+newskills"
   ]
  },
  {
   "cell_type": "code",
   "execution_count": null,
   "id": "e9910a48-32f3-4694-863b-dfd929b9a6f4",
   "metadata": {},
   "outputs": [],
   "source": [
    "skills"
   ]
  },
  {
   "cell_type": "code",
   "execution_count": null,
   "id": "493f1ab8-362d-4b69-bf47-50c3a7bbf4c8",
   "metadata": {},
   "outputs": [],
   "source": [
    "vinceskills+=newskills"
   ]
  },
  {
   "cell_type": "code",
   "execution_count": null,
   "id": "8bbc0314-525d-4fb7-8c62-62bcbfd657d0",
   "metadata": {},
   "outputs": [],
   "source": [
    "skills"
   ]
  },
  {
   "cell_type": "code",
   "execution_count": null,
   "id": "db185237-ea16-4d85-943f-b3a33c511642",
   "metadata": {},
   "outputs": [],
   "source": [
    "id(vinceskills)"
   ]
  },
  {
   "cell_type": "code",
   "execution_count": null,
   "id": "1b53bf4d-c725-46f9-bc13-94aa05bad324",
   "metadata": {},
   "outputs": [],
   "source": [
    "range(5)"
   ]
  },
  {
   "cell_type": "code",
   "execution_count": null,
   "id": "2428110d-8eb8-47ee-af49-015518e755cc",
   "metadata": {},
   "outputs": [],
   "source": [
    "tuple(range(5))"
   ]
  },
  {
   "cell_type": "code",
   "execution_count": null,
   "id": "c4ff20bf-4217-40c8-831c-d89a495bd42e",
   "metadata": {},
   "outputs": [],
   "source": [
    "vinceskills=vinceskills + ('cloudstrike', 'Amazon Web Sevice')"
   ]
  },
  {
   "cell_type": "code",
   "execution_count": null,
   "id": "4b93d926-125b-4227-80db-4858039679e5",
   "metadata": {},
   "outputs": [],
   "source": [
    "vinceskills"
   ]
  },
  {
   "cell_type": "code",
   "execution_count": null,
   "id": "7a7732fe-2825-40ab-9a0c-face12da406e",
   "metadata": {},
   "outputs": [],
   "source": [
    "tuple(range(2,5))"
   ]
  },
  {
   "cell_type": "code",
   "execution_count": null,
   "id": "cdcc4c1e-36cd-4f4a-9a62-97eaf3d2ed9d",
   "metadata": {},
   "outputs": [],
   "source": [
    "#Problem Statement:\n",
    "#Access the second job role from the tuple job_roles and print it. \n",
    "#The job_roles variable is set to ('Data Scientist', 'Data Analyst', 'Machine Learning Engineer').\n",
    "\n",
    "#Code Needed:\n",
    "job_roles = ('Data Scientist', 'Data Analyst', 'Machine Learning Engineer')\n",
    "job_roles[1]"
   ]
  },
  {
   "cell_type": "code",
   "execution_count": null,
   "id": "1c471d26-8db8-482d-b3a8-4daf76c48f4e",
   "metadata": {},
   "outputs": [],
   "source": [
    "#Problem Statement:\n",
    "#Create a new tuple <extended_job_roles> by adding the job role 'AI Specialist' to the existing tuple job_roles. \n",
    "#Print the new tuple. The job_roles is set to job_roles = ('Data Scientist', 'Data Analyst', 'Machine Learning Engineer').\n",
    "\n",
    "#Code Needed:\n",
    "job_roles = ('Data Scientist', 'Data Analyst', 'Machine Learning Engineer')\n",
    "extended_job_roles = job_roles+('AI Specialist',) # watch for the comma at the end\n",
    "extended_job_roles\n"
   ]
  },
  {
   "cell_type": "code",
   "execution_count": null,
   "id": "4333b30e-6cc5-4fa6-9102-0a50083b2c12",
   "metadata": {},
   "outputs": [],
   "source": [
    "#Problem Statement:\n",
    "#Remove the job role 'Data Analyst' from the tuple job_roles by converting it to a list and then back to a tuple. Print the updated tuple. The tuple job_roles is set to ('Data Scientist', 'Data Analyst', 'Machine Learning Engineer').\n",
    "\n",
    "#Code Needed:\n",
    "job_roles = ('Data Scientist', 'Data Analyst', 'Machine Learning Engineer')\n",
    "job_roles_list = list(job_roles)\n",
    "job_roles_list.remove('Data Analyst')\n",
    "nu_job_roles = tuple(job_roles_list)\n",
    "print(\"New job roles:\", nu_job_roles)\n"
   ]
  },
  {
   "cell_type": "code",
   "execution_count": null,
   "id": "0e166b27-0b72-4f3b-8672-6f51e6dbd264",
   "metadata": {},
   "outputs": [],
   "source": [
    "#Problem Statement:\n",
    "#Unpack the tuple job_postings into three variables data_scientist_postings, data_analyst_postings, and ml_engineer_postings. \n",
    "#Print each variable. The variable job_postings is set to (120, 80, 50).\n",
    "\n",
    "#Code Needed:\n",
    "job_postings = (120, 80, 50)\n",
    "data_scientist_postings, data_analyst_postings, ml_engineer_postings = job_postings\n",
    "print(\"Data Scientist Postings:\", data_scientist_postings) \n",
    "print(\"Data Analyst Postings:\", data_analyst_postings)\n",
    "print(\"ML Engineer Postings:\", ml_engineer_postings)\n"
   ]
  },
  {
   "cell_type": "code",
   "execution_count": null,
   "id": "1badae34-e8d4-40bd-bcd3-48ec1fcfdc2d",
   "metadata": {},
   "outputs": [],
   "source": [
    "#Problem Statement:\n",
    "#Extract and print the number of postings for 'Machine Learning Engineer' from the nested tuple job_details. \n",
    "#The job_details is set to (('Data Scientist', 120), ('Data Analyst', 80), ('Machine Learning Engineer', 50)).\n",
    "\n",
    "#Code Needed:\n",
    "job_details = (('Data Scientist', 120), ('Data Analyst', 80), ('Machine Learning Engineer', 50))\n",
    "nu=job_details[2][1]\n",
    "nu"
   ]
  },
  {
   "cell_type": "code",
   "execution_count": null,
   "id": "2e6176dd-fac4-425f-b2af-853e10a9bb24",
   "metadata": {},
   "outputs": [],
   "source": [
    "tuple(range(1,101,2))"
   ]
  },
  {
   "cell_type": "markdown",
   "id": "c1a9dda5-7f1f-4481-9b24-fdab4fc5d664",
   "metadata": {},
   "source": [
    "operators and - or - not"
   ]
  },
  {
   "cell_type": "code",
   "execution_count": null,
   "id": "2630f78f-8d3e-490e-b62f-0e29f9f30913",
   "metadata": {},
   "outputs": [],
   "source": [
    "job_wfh = False\n",
    "#job_health = True\n",
    "job_health = False\n",
    "job_no_degree_req = True"
   ]
  },
  {
   "cell_type": "code",
   "execution_count": null,
   "id": "1a5ddef0-4f4d-4616-a892-78545ca91105",
   "metadata": {},
   "outputs": [],
   "source": [
    "not True"
   ]
  },
  {
   "cell_type": "code",
   "execution_count": null,
   "id": "91d7f013-30b0-44fe-a0a5-8599151d7693",
   "metadata": {},
   "outputs": [],
   "source": [
    "'data' in 'Data Nerd' # case sensitive"
   ]
  },
  {
   "cell_type": "code",
   "execution_count": null,
   "id": "00f10374-c6dc-4fbc-ba80-d575b738175c",
   "metadata": {},
   "outputs": [],
   "source": [
    "if job_wfh or job_health or not job_no_degree_req:\n",
    "    print('meets conditions')"
   ]
  },
  {
   "cell_type": "code",
   "execution_count": null,
   "id": "c1958dde-7ee2-4927-b347-7d35eac0b0e8",
   "metadata": {},
   "outputs": [],
   "source": [
    "job_roles"
   ]
  },
  {
   "cell_type": "code",
   "execution_count": null,
   "id": "fb2d1562-464b-41c8-8a76-9b1f603d838f",
   "metadata": {},
   "outputs": [],
   "source": [
    "vinceskills\n"
   ]
  },
  {
   "cell_type": "code",
   "execution_count": null,
   "id": "a90a862f-9daa-45aa-ac49-6df52f70c161",
   "metadata": {},
   "outputs": [],
   "source": [
    "'sql' not in vinceskills"
   ]
  },
  {
   "cell_type": "markdown",
   "id": "334d84f8-37b0-42d7-860f-676416069d61",
   "metadata": {},
   "source": [
    "identity operator  like comparision operator"
   ]
  },
  {
   "cell_type": "code",
   "execution_count": null,
   "id": "1262eafd-a3fd-4dba-8cc5-e057c9f3f0c9",
   "metadata": {},
   "outputs": [],
   "source": [
    "salary_vince = 80000\n",
    "salary_linda= 80000\n",
    "salary_vince is salary_linda"
   ]
  },
  {
   "cell_type": "code",
   "execution_count": null,
   "id": "a57d01f6-b5d3-49f8-a4f4-b91ccfc20c5e",
   "metadata": {},
   "outputs": [],
   "source": [
    "id(salary_vince) == id(salary_linda)"
   ]
  },
  {
   "cell_type": "code",
   "execution_count": null,
   "id": "adbddfda-4374-46d8-aebf-589065e57349",
   "metadata": {},
   "outputs": [],
   "source": [
    "id(salary_linda)"
   ]
  },
  {
   "cell_type": "code",
   "execution_count": null,
   "id": "49929448-ce84-48a1-86ac-8559dd8e4451",
   "metadata": {},
   "outputs": [],
   "source": [
    "core_skills = ('python', 'excel', 'sql', 'tableau')\n",
    "vinceskills = core_skills"
   ]
  },
  {
   "cell_type": "code",
   "execution_count": null,
   "id": "b4b34fd0-f14c-45f3-9059-d0fbbe74357f",
   "metadata": {},
   "outputs": [],
   "source": [
    "vinceskills is core_skills"
   ]
  },
  {
   "cell_type": "markdown",
   "id": "f79dc4f8-96e2-4450-bada-0a20315f2580",
   "metadata": {},
   "source": [
    "bit-wise operators binary value"
   ]
  },
  {
   "cell_type": "code",
   "execution_count": null,
   "id": "f9018c0c-3645-42f4-aee0-758b7373fe69",
   "metadata": {},
   "outputs": [],
   "source": [
    "#Problem Statement:\n",
    "#Check if the job_title1 of 'Data Engineer' is not the same object as the job_title2 of 'Data Scientist' and print the result.\n",
    "\n",
    "#Code Needed:\n",
    "job_title1 = 'Data Engineer'\n",
    "job_title2 = 'Data Scientist'\n",
    "job_title1 is not job_title2 # did not use print() - and is worked\n",
    "print(job_title1 is not job_title2)"
   ]
  },
  {
   "cell_type": "code",
   "execution_count": null,
   "id": "d488b107-128d-4b0a-a1ed-7520270079c9",
   "metadata": {},
   "outputs": [],
   "source": [
    "#Problem Statement:\n",
    "#Determine if the job location 'New York' is in the list of job_locations ['New York', 'San Francisco', 'Austin'] and print the result.\n",
    "\n",
    "#Code Needed:\n",
    "job_locations = ['New York', 'San Francisco', 'Austin']\n",
    "'New York' in job_locations"
   ]
  },
  {
   "cell_type": "code",
   "execution_count": null,
   "id": "b610020c-b7a7-473f-806f-7ec62288b7b6",
   "metadata": {},
   "outputs": [],
   "source": [
    "#Problem Statement:\n",
    "#Check if the job_title 'Data Analyst' is not in the job_description string 'Data Scientist at Tech Corp' and print the result.\n",
    "\n",
    "#Code Needed:\n",
    "job_title = 'Data Analyst'\n",
    "job_description = 'Data Scientist at Tech Corp'\n",
    "print('Data Analyst' not in job_description)"
   ]
  },
  {
   "cell_type": "code",
   "execution_count": null,
   "id": "3cff4432-1fa1-4412-be18-25c547c166d7",
   "metadata": {},
   "outputs": [],
   "source": [
    "#Problem Statement:\n",
    "#Check if both 'Data Scientist' and 'Machine Learning Engineer' are in \n",
    "#the list of job titles ['Data Scientist', 'Data Analyst', 'Machine Learning Engineer'] and print the result.\n",
    "\n",
    "#Code Needed:\n",
    "job_titles = ['Data Scientist', 'Data Analyst', 'Machine Learning Engineer']\n",
    "print('Data Scientist' and 'Machine Learning Engineer' in job_titles)"
   ]
  },
  {
   "cell_type": "code",
   "execution_count": null,
   "id": "366bb4a6-abb1-4536-bc59-b5eae1d3bfbe",
   "metadata": {},
   "outputs": [],
   "source": [
    "#Problem Statement:\n",
    "#Perform a bitwise OR operation on the binary representations of the salaries 100000 and 50000 and print the result. \n",
    "#Named salary1 and salary2 respectively.\n",
    "\n",
    "#Code Needed:\n",
    "salary1 = 100000\n",
    "salary2 = 50000\n",
    "bin(100000) or bin(50000)"
   ]
  },
  {
   "cell_type": "markdown",
   "id": "fe0f5f85-8d83-41a2-81ce-0ff7899ab0dd",
   "metadata": {},
   "source": [
    "loops lists = []"
   ]
  },
  {
   "cell_type": "code",
   "execution_count": null,
   "id": "97d54d71-4c23-4000-b25b-124bf40a0d2a",
   "metadata": {},
   "outputs": [],
   "source": [
    "#example\n",
    "for job in job_list\n",
    "    if 'Data Analyst' in job:\n",
    "        analyst_list.append(job)\n",
    "        len (analyst_list)"
   ]
  },
  {
   "cell_type": "code",
   "execution_count": null,
   "id": "ba8ed649-29f9-4666-abaf-6e333375f9a5",
   "metadata": {},
   "outputs": [],
   "source": [
    "numbers = [0,1,2,3,4,5]\n",
    "for number in numbers:\n",
    "    print (number)\n",
    "    #number is variable, numbers = iterable iterable "
   ]
  },
  {
   "cell_type": "code",
   "execution_count": null,
   "id": "bd2cbee2-5c7e-4229-aeab-89d4577a7d5e",
   "metadata": {},
   "outputs": [],
   "source": [
    "characters = 'PYTHON'\n",
    "for character in characters:\n",
    "    print (character)\n",
    "    #character is variable, characters = iterable   "
   ]
  },
  {
   "cell_type": "code",
   "execution_count": null,
   "id": "6d4bbbc5-1599-4134-9818-f8e36a4d6bdc",
   "metadata": {},
   "outputs": [],
   "source": [
    "years_experience = {\n",
    "    'Luke': 3,\n",
    "    'Kelly': 6,\n",
    "    'Ken': 4,\n",
    "    'Alex': 3,\n",
    "    'Mary': 7\n",
    "}"
   ]
  },
  {
   "cell_type": "code",
   "execution_count": null,
   "id": "f2de834f-908a-4620-84d3-a8e3113f1007",
   "metadata": {},
   "outputs": [],
   "source": [
    "for key, value in years_experience.items():\n",
    "    if value >5:\n",
    "        print(key, 'has', value, 'years of experience')\n",
    "         #key is variable, years_experience = iterable  these ARE required in a 'for' loop"
   ]
  },
  {
   "cell_type": "code",
   "execution_count": null,
   "id": "fa896dde-d233-44af-93e0-959f58e7acea",
   "metadata": {},
   "outputs": [],
   "source": [
    "tuple(range(5))"
   ]
  },
  {
   "cell_type": "code",
   "execution_count": null,
   "id": "5c859cf6-05db-48bc-87c9-7b1319550072",
   "metadata": {},
   "outputs": [],
   "source": [
    "for _ in range (100):\n",
    "    print (_)"
   ]
  },
  {
   "cell_type": "markdown",
   "id": "ea12d804-5564-4efb-9ae8-ed1c9fa8fa68",
   "metadata": {},
   "source": [
    "while loops"
   ]
  },
  {
   "cell_type": "code",
   "execution_count": null,
   "id": "92df0360-7706-4c79-ae3a-ad16a986e365",
   "metadata": {},
   "outputs": [],
   "source": [
    "count = 1\n",
    "while count < 5:\n",
    "    print (count)\n",
    "    count += 1"
   ]
  },
  {
   "cell_type": "code",
   "execution_count": null,
   "id": "27dfaf1a-2187-4a77-8d9b-8fa9d53d35e3",
   "metadata": {},
   "outputs": [],
   "source": [
    "years_experience = {\n",
    "    'Luke': 3,\n",
    "    'Kelly': 6,\n",
    "    'Ken': 4,\n",
    "    'Alex': 3,\n",
    "    'Mary': 7\n",
    "}\n",
    "\n",
    "\n",
    "years = 0\n",
    "index = 0\n",
    "years_list = list(years_experience.items())  \n",
    "while years < 5:\n",
    "    key, years = years_list[index]  \n",
    "    if years >= 4:\n",
    "        print (key, 'has', years, 'years experience.')\n",
    "    index += 1"
   ]
  },
  {
   "cell_type": "code",
   "execution_count": null,
   "id": "d9222313-559d-41b7-9f29-e2ad8f394bbe",
   "metadata": {},
   "outputs": [],
   "source": [
    "years_list"
   ]
  },
  {
   "cell_type": "code",
   "execution_count": null,
   "id": "92231253-d88e-4ec3-8970-4377ccc97be5",
   "metadata": {},
   "outputs": [],
   "source": [
    "#Problem Statement:\n",
    "#Print the job titles from the list job_titles using a for loop. \n",
    "#The list job_titles is set to ['Data Scientist', 'Data Analyst', 'Machine Learning Engineer'].\n",
    "\n",
    "#Code Needed:\n",
    "job_titles = ['Data Scientist', 'Data Analyst', 'Machine Learning Engineer']\n",
    "for job_title in job_titles:\n",
    "    print(job_title)"
   ]
  },
  {
   "cell_type": "code",
   "execution_count": null,
   "id": "b09f30af-d7ec-4ae3-b55d-7c715443072d",
   "metadata": {},
   "outputs": [],
   "source": [
    "#Problem Statement:\n",
    "#Calculate the total number of job postings from a list using a while loop. The list of job postings is [5, 10, 15, 20, 25].\n",
    "\n",
    "#Code Needed:\n",
    "job_postings = [5, 10, 15, 20, 25]\n",
    "total_postings = 0                        #start job_postings calculation at 0\n",
    "index = 0                                 #start index --> index at 0\n",
    "\n",
    "while index < len(job_postings):          # the index i is not 0 - or - '<' the first value\n",
    "    total_postings += job_postings[index] # total_postings looks a the first value 5, looks at the next 10, and continues to the end\n",
    "    index += 1                            # i += 1 is the first number 5, plus the next 10, and continues to the end\n",
    "\n",
    "print(total_postings)\n"
   ]
  },
  {
   "cell_type": "code",
   "execution_count": null,
   "id": "510033d0-a8d6-4963-b5cd-f5c8793b1c7a",
   "metadata": {},
   "outputs": [],
   "source": [
    "job_postings = [5, 10, 15, 20, 25]\n",
    "number=0\n",
    "i = 0\n",
    "while \n",
    "for number in job_postings:\n",
    "    number += number\n",
    "    print(number)"
   ]
  },
  {
   "cell_type": "code",
   "execution_count": null,
   "id": "6a4a8595-e9e0-47f7-8cb8-c3d72d017aaa",
   "metadata": {},
   "outputs": [],
   "source": [
    "#Problem Statement:\n",
    "#Print the job titles from the list job_titles along with their index using a for loop and the enumerate() function. \n",
    "#The list job_titles is set to ['Data Scientist', 'Data Analyst', 'Machine Learning Engineer'].\n",
    "\n",
    "#Code Needed:\n",
    "job_titles = ['Data Scientist', 'Data Analyst', 'Machine Learning Engineer']\n",
    "\n",
    "for index, title in enumerate(job_titles):\n",
    "    print(index, title)"
   ]
  },
  {
   "cell_type": "code",
   "execution_count": null,
   "id": "7f353d75-0b09-4ada-b716-f3e0402d859a",
   "metadata": {},
   "outputs": [],
   "source": [
    "#Problem Statement:\n",
    "#Use a while loop to find the first job title that contains the word 'Engineer'. \n",
    "#The list of job titles is ['Data Scientist', 'Data Analyst', 'Machine Learning Engineer', 'Software Engineer'].\n",
    "\n",
    "#Code Needed:\n",
    "job_titles = ['Data Scientist', 'Data Analyst', 'Machine Learning Engineer', 'Software Engineer']\n",
    "index = 0\n",
    "while index < len(job_titles):          \n",
    "    if 'Engineer' in job_titles[index]: \n",
    "        print(job_titles[index])\n",
    "    index += 1\n",
    "\n"
   ]
  },
  {
   "cell_type": "code",
   "execution_count": null,
   "id": "115277fc-8c98-40ab-b217-23643e08e684",
   "metadata": {},
   "outputs": [],
   "source": [
    "job_titles = ['Data Scientist', 'Data Analyst', 'Machine Learning Engineer', 'Software Engineer']\n",
    "\n",
    "index = 0\n",
    "while index < len(job_titles):\n",
    "    if 'Engineer' in job_titles[index]:\n",
    "        print(job_titles[index])\n",
    "        break\n",
    "    index += 1\n"
   ]
  },
  {
   "cell_type": "code",
   "execution_count": null,
   "id": "961a9455-0377-4cab-9b9b-51ecf691edc5",
   "metadata": {},
   "outputs": [],
   "source": [
    "#Problem Statement:\n",
    "#You have the following dictionary of positions_skills which is set to \n",
    "#{'Data Scientist': ['Python', 'R'], 'Data Analyst': ['SQL', 'Excel'], \n",
    "#'Machine Learning Engineer': ['Python', 'TensorFlow']}. The keys are a data science position, \n",
    "#and the values are a list of skills required for the position. \n",
    "#Print a message for each individual skill required for these data science positions \n",
    "#(e.g., \"The role of Data Scientist requires proficiency in Python\").\n",
    "\n",
    "#Code Needed:\n",
    "positions_skills = {\n",
    "    'Data Scientist': ['Python', 'R'],\n",
    "    'Data Analyst': ['SQL', 'Excel'],\n",
    "    'Machine Learning Engineer': ['Python', 'TensorFlow'],\n",
    "    'Data Engineer': ['Amazon Web Service']\n",
    "}\n",
    "for position, skills in positions_skills.items(): #using \"for\" in describing the format of the 'position' [skills] don't forget ',items()'\n",
    "    for skill in skills: # the 'skill' designates singular skill to be listed from all of \n",
    "        print(f\"The role of {position} requires the skill {skill}\") #The f indicates that this is a f-string (formatted string literal)."
   ]
  },
  {
   "cell_type": "code",
   "execution_count": null,
   "id": "601d1c6e-3f55-4c35-97cb-a683b574b9c3",
   "metadata": {},
   "outputs": [],
   "source": [
    "positions_skills = {\n",
    "    'Data Scientist': ['Python', 'R'],\n",
    "    'Data Analyst': ['SQL', 'Excel'],\n",
    "    'Machine Learning Engineer': ['Python', 'TensorFlow']\n",
    "}\n",
    "\n",
    "for position, skills in positions_skills.items():\n",
    "    for skill in skills:\n",
    "        print(f\"The role of {position} requires proficiency in {skill}\")\n"
   ]
  },
  {
   "cell_type": "markdown",
   "id": "544ec2d2-7f2b-4ce1-96b7-26c93c3e7b89",
   "metadata": {},
   "source": [
    "List comprehension Lists and Loops"
   ]
  },
  {
   "cell_type": "code",
   "execution_count": null,
   "id": "b8d22c94-3f21-455a-8c2f-09a6784325ed",
   "metadata": {},
   "outputs": [],
   "source": [
    "numbers =[x for x in range(100)]"
   ]
  },
  {
   "cell_type": "code",
   "execution_count": null,
   "id": "d184f3d0-82b7-4e24-93c9-3df30238c834",
   "metadata": {},
   "outputs": [],
   "source": [
    "numbers = []\n",
    "for number i range (110):\n",
    "numbers.append(number)\n",
    "#same as above"
   ]
  },
  {
   "cell_type": "code",
   "execution_count": null,
   "id": "c3c93d8a-7d6c-468d-b5a7-6c14e7e9a270",
   "metadata": {},
   "outputs": [],
   "source": [
    "numbers =[x for x in range(100)] #variable goes into list []"
   ]
  },
  {
   "cell_type": "code",
   "execution_count": null,
   "id": "e4d83917-1e3f-4df2-8e63-990aa0b579fd",
   "metadata": {},
   "outputs": [],
   "source": [
    "numbers = [x*2 for x in range (100)] #multiply x two times per number"
   ]
  },
  {
   "cell_type": "code",
   "execution_count": null,
   "id": "b8da5db5-749c-448d-a1c7-80b3817e80fd",
   "metadata": {},
   "outputs": [],
   "source": [
    "numbers = [float(x) for x in range(100)] #float adds decimal point\n",
    "numbers"
   ]
  },
  {
   "cell_type": "code",
   "execution_count": null,
   "id": "bb69f519-6388-409c-a1f1-bf5fa257a2be",
   "metadata": {},
   "outputs": [],
   "source": [
    "numbers =[ x for x in 'Python'] # seperate the word python into single letters"
   ]
  },
  {
   "cell_type": "code",
   "execution_count": null,
   "id": "adc11b8b-db31-4f17-884b-4f668d1584b4",
   "metadata": {},
   "outputs": [],
   "source": [
    "numbers"
   ]
  },
  {
   "cell_type": "code",
   "execution_count": null,
   "id": "09e2863f-3227-4b5c-a495-21aa79b60281",
   "metadata": {},
   "outputs": [],
   "source": [
    "numbers ={x for x in 'Python'} # seperate the word python into single letters and spells lists backwords\n",
    "numbers"
   ]
  },
  {
   "cell_type": "code",
   "execution_count": null,
   "id": "519b4d58-e4c8-4552-b182-b0d76f956c8d",
   "metadata": {},
   "outputs": [],
   "source": [
    "analyst_list[job for job in job_list]"
   ]
  },
  {
   "cell_type": "code",
   "execution_count": null,
   "id": "024d8962-8c91-4ed8-84b6-4ff6ed12d448",
   "metadata": {},
   "outputs": [],
   "source": [
    "analyst_list = []\n",
    "for job in job_list:\n",
    "    if 'Data Analyst' in job:\n",
    "        analyst_list.append(job)"
   ]
  },
  {
   "cell_type": "code",
   "execution_count": null,
   "id": "117b9403-dcb4-4f4d-89bd-5dee7d87bc28",
   "metadata": {},
   "outputs": [],
   "source": [
    "analyst_list[job for job in job_list if 'Data Analyst' in job]"
   ]
  },
  {
   "cell_type": "code",
   "execution_count": null,
   "id": "039a256e-8814-41cb-beeb-ff75c510c17d",
   "metadata": {},
   "outputs": [],
   "source": [
    "PRINT('Poriginal list is:', len(job_list), 'jobs')\n",
    "print('New list is:', len(analyst_list),'jobs')"
   ]
  },
  {
   "cell_type": "code",
   "execution_count": null,
   "id": "4c7ee41d-dff4-48fb-956c-58679fdd634d",
   "metadata": {},
   "outputs": [],
   "source": []
  },
  {
   "cell_type": "code",
   "execution_count": null,
   "id": "b965a36e-f53b-4197-86af-8ef68132d536",
   "metadata": {},
   "outputs": [],
   "source": [
    "#Problem Statement:\n",
    "#Create a list comprehension that converts a list of salaries from USD to EUR using a conversion rate of 0.85.\n",
    "#with the list of salaries being: salaries_usd = [100000, 120000, 80000, 90000].\n",
    "\n",
    "#Code Needed:\n",
    "salaries_usd = [100000, 120000, 80000, 90000]\n",
    "factor = 0.85\n",
    "conversion = [num * factor for num in salaries_usd]\n",
    "conversion"
   ]
  },
  {
   "cell_type": "code",
   "execution_count": null,
   "id": "91647dfa-a07a-4747-b4ef-a98e13088053",
   "metadata": {},
   "outputs": [],
   "source": [
    "salaries_usd = [100000, 120000, 80000, 90000]\n",
    "salaries_eur = [salary * 0.85 for salary in salaries_usd]\n",
    "print(salaries_eur)"
   ]
  },
  {
   "cell_type": "code",
   "execution_count": null,
   "id": "aa4e5d7f-9046-4a45-aa91-bebda7d80e9a",
   "metadata": {},
   "outputs": [],
   "source": [
    "#Problem Statement:\n",
    "#Create a list of data science job titles that require more than 2 years of experience from the given dictionary.\n",
    "#With job_experience set to {'Data Scientist': 3, 'Data Analyst': 1, 'Machine Learning Specialist': 4, 'Data Engineer': 2}.\n",
    "\n",
    "#Code Needed:\n",
    "job_experience = {'Data Scientist': 3, 'Data Analyst': 1, 'Machine Learning Specialist': 4, 'Data Engineer': 2}\n",
    "jobs_over_2_years = [job for job, years in job_experience.items() if years > 2]\n",
    "\n",
    "print(jobs_over_2_years)"
   ]
  },
  {
   "cell_type": "code",
   "execution_count": null,
   "id": "d33d8833-3269-4c93-b7bc-fdc8ee22790e",
   "metadata": {},
   "outputs": [],
   "source": [
    "#Problem Statement:\n",
    "#Create a list comprehension that extracts job titles with salaries greater than 90,000\n",
    "#from a given list of dictionaries containing job titles and salaries. \n",
    "#The dictionary is job_salary_dicts named and it is set to \n",
    "#[{'job_title': 'Data Scientist', 'salary': 100000}, {'job_title': 'Data Analyst', 'salary': 120000}, \n",
    "#{'job_title': 'Data Engineer', 'salary': 80000}, {'job_title': 'Machine Learning Engineer', 'salary': 90000}].\n",
    "\n",
    "#Code Needed:\n",
    "job_salary_dicts = [{'job_title': 'Data Scientist', 'salary': 100000}, {'job_title': 'Data Analyst', 'salary': 120000}, {'job_title': 'Data Engineer', 'salary': 80000}, {'job_title': 'Machine Learning Engineer', 'salary': 90000}]\n",
    "high_salary_jobs = [job['job_title'] for job in job_salary_dicts if job['salary'] > 90000]\n",
    "print(high_salary_jobs)"
   ]
  },
  {
   "cell_type": "code",
   "execution_count": null,
   "id": "52d2baaf-3419-4bd0-9ec2-733dc1ee581f",
   "metadata": {},
   "outputs": [],
   "source": [
    "job_salary_dicts = [{'job_title': 'Data Scientist', 'salary': 100000}, {'job_title': 'Data Analyst', 'salary': 120000}, {'job_title': 'Data Engineer', 'salary': 80000}, {'job_title': 'Machine Learning Engineer', 'salary': 90000}]\n",
    "high_salary_jobs = [job['job_title'] for job in job_salary_dicts if job['salary'] > 90000]\n",
    "print(high_salary_jobs)"
   ]
  },
  {
   "cell_type": "code",
   "execution_count": null,
   "id": "42b34da9-bbf0-4415-835e-4f0145eca318",
   "metadata": {},
   "outputs": [],
   "source": [
    "job_roles = [\n",
    "    {'role': 'Data Analyst', 'skills': ['Python', 'SQL', 'Excel']},\n",
    "    {'role': 'Data Scientist', 'skills': ['Python', 'R', 'Machine Learning', 'Deep Learning']},\n",
    "    {'role': 'Machine Learning Engineer', 'skills': ['Python', 'TensorFlow', 'PyTorch', 'Scikit-Learn']},\n",
    "    {'role': 'Data Engineer', 'skills': ['Python', 'Apache Spark', 'Hadoop', 'SQL']},\n",
    "    {'role': 'Business Intelligence Analyst', 'skills': ['Python', 'SQL', 'Tableau', 'Power BI', 'Excel']},\n",
    "    {'role': 'Quantitative Analyst', 'skills': ['R', 'Python', 'MATLAB', 'Statistics']},\n",
    "    {'role': 'Operations Analyst', 'skills': ['Python', 'SQL', 'Data Visualization', 'Process Improvement']},\n",
    "    {'role': 'Database Administrator', 'skills': ['SQL', 'Oracle', 'MySQL', 'Database Management']},\n",
    "    {'role': 'AI Engineer', 'skills': ['Python', 'TensorFlow', 'PyTorch', 'Computer Vision']},\n",
    "    {'role': 'Statistician', 'skills': ['R', 'SAS', 'Python', 'Statistical Modeling']}\n",
    "]\n",
    "job_roles"
   ]
  },
  {
   "cell_type": "code",
   "execution_count": null,
   "id": "dd6d823e-2d1c-4313-907f-cc2f911e554d",
   "metadata": {},
   "outputs": [],
   "source": [
    "my_skills=['Python','SQL','Excel']"
   ]
  },
  {
   "cell_type": "code",
   "execution_count": null,
   "id": "659fe07d-6390-482a-b19f-f794f26cb194",
   "metadata": {},
   "outputs": [],
   "source": [
    "for job in job_roles:\n",
    "    print (job)"
   ]
  },
  {
   "cell_type": "code",
   "execution_count": null,
   "id": "a0716e87-d2be-47d7-97f2-f40de31220da",
   "metadata": {},
   "outputs": [],
   "source": [
    "#accessing skills part\n",
    "for job in job_roles:\n",
    "    print (job['skills'])"
   ]
  },
  {
   "cell_type": "code",
   "execution_count": null,
   "id": "2ff72bce-c9a9-4a5d-91b1-732db0661fd3",
   "metadata": {},
   "outputs": [],
   "source": [
    "#loop cycle through job skills to see if mu my_skills - my skills are there for a job\n",
    "for job in job_roles:\n",
    "    for skill in my_skills:\n",
    "        print (skill)\n",
    "    print (job['skills'])"
   ]
  },
  {
   "cell_type": "code",
   "execution_count": null,
   "id": "95b74bb8-5d2a-4286-b448-10f300888fad",
   "metadata": {},
   "outputs": [],
   "source": [
    "#establish conditional statement to say -- with 'if'\n",
    "for job in job_roles:\n",
    "    for skill in my_skills:\n",
    "        if skill in job['skills']:\n",
    "            print (skill)\n",
    "    print (job['skills'])"
   ]
  },
  {
   "cell_type": "code",
   "execution_count": null,
   "id": "0c6a583c-beda-4c2a-8eb5-cac45b0fc6b5",
   "metadata": {},
   "outputs": [],
   "source": [
    "# establish boolean with qualified with Truue and False\n",
    "for job in job_roles:\n",
    "    qualified = True\n",
    "    for skill in my_skills:\n",
    "        if skill not in job['skills']:\n",
    "            qualified = False\n",
    "        print (skill)\n",
    "        print (job['skills'])\n",
    "        break"
   ]
  },
  {
   "cell_type": "code",
   "execution_count": null,
   "id": "a460807e-ccbd-45e4-a681-823537916e54",
   "metadata": {},
   "outputs": [],
   "source": [
    "#what jobs am I qualified for \n",
    "for job in job_roles:\n",
    "    qualified = True\n",
    "    for skill in my_skills:\n",
    "        if skill not in job['skills']:\n",
    "            qualified = False\n",
    "        break\n",
    "        if qualified:\n",
    "      qualified_roles.append()"
   ]
  },
  {
   "cell_type": "code",
   "execution_count": null,
   "id": "28345ef5-dcb3-403e-8484-d91f4f0f5fd3",
   "metadata": {},
   "outputs": [],
   "source": [
    "#getting it back into a list\n",
    "qualified_roles =[]\n",
    "for job in job_roles:\n",
    "    qualified = True\n",
    "    for skill in my_skills:\n",
    "        if skill not in job['skills']:\n",
    "            qualified = False\n",
    "        break\n",
    "        if qualified:\n",
    "          qualified_roles.append(job['role'])\n",
    "\n",
    "qualified_roles"
   ]
  },
  {
   "cell_type": "code",
   "execution_count": null,
   "id": "d07222b1-6337-4999-a37e-de73eb59441b",
   "metadata": {},
   "outputs": [],
   "source": [
    "qualified_roles =[]\n",
    "for job in job_roles:\n",
    "    if all(skill in job['skills'] for skill in my_skills):\n",
    "        qualified_roles.append(job['role'])\n",
    "qualified_roles"
   ]
  },
  {
   "cell_type": "markdown",
   "id": "3c257448-82ce-4627-a65d-3b1dd7d371a4",
   "metadata": {},
   "source": [
    "Functions "
   ]
  },
  {
   "cell_type": "code",
   "execution_count": null,
   "id": "aa37fd77-48fd-4119-84a3-640687f0a10a",
   "metadata": {},
   "outputs": [],
   "source": [
    "skill_list = ['Python','SQL','Excel']"
   ]
  },
  {
   "cell_type": "code",
   "execution_count": null,
   "id": "6a44c1e7-2289-4df4-be14-c8fe5b249e7f",
   "metadata": {},
   "outputs": [],
   "source": [
    "len (skill_list)"
   ]
  },
  {
   "cell_type": "code",
   "execution_count": null,
   "id": "3d24ed01-c880-4835-897d-7219dcfa324a",
   "metadata": {},
   "outputs": [],
   "source": [
    "count = 0\n",
    "for skill in skill_list:\n",
    "    count += 1\n",
    "count"
   ]
  },
  {
   "cell_type": "code",
   "execution_count": null,
   "id": "e2cd64ed-1063-48e3-8e5c-6cad6a867b8d",
   "metadata": {},
   "outputs": [],
   "source": [
    "print (skill_list)"
   ]
  },
  {
   "cell_type": "code",
   "execution_count": null,
   "id": "2c61ce49-18da-4a82-97b5-e2b2c8fd2bcb",
   "metadata": {},
   "outputs": [],
   "source": [
    "type(skill_list)"
   ]
  },
  {
   "cell_type": "code",
   "execution_count": null,
   "id": "7700958e-9eb6-4e81-880d-9c8f56d220a0",
   "metadata": {},
   "outputs": [],
   "source": [
    "len (skill_list)"
   ]
  },
  {
   "cell_type": "code",
   "execution_count": null,
   "id": "20345c1c-94d0-4f15-acc8-dd12beb57534",
   "metadata": {},
   "outputs": [],
   "source": [
    "range(0,5)"
   ]
  },
  {
   "cell_type": "code",
   "execution_count": null,
   "id": "96e89c15-a6f9-4dfb-94ec-6e2648a232c3",
   "metadata": {},
   "outputs": [],
   "source": [
    "import types"
   ]
  },
  {
   "cell_type": "code",
   "execution_count": null,
   "id": "eff2bc74-7cae-41f2-8a3d-1ed224f3d20b",
   "metadata": {},
   "outputs": [],
   "source": [
    "print([func for func in dir(__builtins__) if isinstance(getattr(__builtins__, func), types.BuiltinFunctionType)])"
   ]
  },
  {
   "cell_type": "code",
   "execution_count": null,
   "id": "fd5cd051-b2bc-472c-89a3-bf7e9233715d",
   "metadata": {},
   "outputs": [],
   "source": [
    "data_scientist_salaries = [95000, 120000, 105000, 90000, 130000]"
   ]
  },
  {
   "cell_type": "code",
   "execution_count": null,
   "id": "fd05dc1b-5834-449c-a77c-1d1dbee8d54b",
   "metadata": {},
   "outputs": [],
   "source": [
    "min (data_scientist_salaries)"
   ]
  },
  {
   "cell_type": "code",
   "execution_count": null,
   "id": "6bf640e0-6647-4492-a5a8-a99227638039",
   "metadata": {},
   "outputs": [],
   "source": [
    "max(data_scientist_salaries)"
   ]
  },
  {
   "cell_type": "code",
   "execution_count": null,
   "id": "8dfc6717-1456-459e-8f59-19723b5ecc0a",
   "metadata": {},
   "outputs": [],
   "source": [
    "sum(data_scientist_salaries)"
   ]
  },
  {
   "cell_type": "code",
   "execution_count": null,
   "id": "d8b3b2de-17a5-4a2d-8376-86cbe2aafce5",
   "metadata": {},
   "outputs": [],
   "source": [
    "sorted(data_scientist_salaries)"
   ]
  },
  {
   "cell_type": "code",
   "execution_count": null,
   "id": "6f8243ef-73be-4023-b635-4db34c034815",
   "metadata": {},
   "outputs": [],
   "source": [
    "# function --- must start with 'def'\n",
    "def calculate_salary():\n",
    "    base_salary = 100000\n",
    "    bonus_rate = 0.1\n",
    "    \n",
    "    total_salary = base_salary * (1 + bonus_rate)\n",
    "    return total_salary"
   ]
  },
  {
   "cell_type": "code",
   "execution_count": null,
   "id": "36942976-a0db-4194-acb7-c07a08b1f1e1",
   "metadata": {},
   "outputs": [],
   "source": [
    " calculate_salary()"
   ]
  },
  {
   "cell_type": "code",
   "execution_count": null,
   "id": "e8430fd0-431f-4f97-b505-8b125bcb4469",
   "metadata": {},
   "outputs": [],
   "source": [
    "def calculate_salary(base_salary, bonus_rate=.1):\n",
    "    total_salary = base_salary * (1 + bonus_rate)\n",
    "    return total_salary"
   ]
  },
  {
   "cell_type": "code",
   "execution_count": null,
   "id": "c329e282-dedb-4b6f-b6b3-7732878ba6d7",
   "metadata": {},
   "outputs": [],
   "source": [
    "#base_salary = 100000\n",
    "#bonus_rate = 0.1\n",
    "salary_1 = 100000\n",
    "rate_1 = 0.5\n",
    "calculate_salary(salary_1, rate_1)\n",
    "#calculate_salary(20000)\n"
   ]
  },
  {
   "cell_type": "code",
   "execution_count": null,
   "id": "d74f6e18-93db-48e7-b35b-42ef567374c7",
   "metadata": {},
   "outputs": [],
   "source": [
    "#Problem Statement:\n",
    "#Create a function job_title_contains that takes a job title and a keyword as arguments, \n",
    "#and returns True if the job title contains the keyword, otherwise returns False. \n",
    "\n",
    "#To confirm the function works, set the job_title to 'Data Scientist' and the keyword to 'Data'.\n",
    "\n",
    "#Code Needed:\n",
    "job_title = 'Data Scientist'\n",
    "keyword = 'Data'\n",
    "result = job_title_contains(job_title, keyword)\n",
    "\n",
    "#Hint: Use the in operator to check if the keyword is in the job title.\n",
    "def job_title_contains(job_title, keyword):\n",
    "    return keyword.lower() in job_title.lower()\n",
    "print(result)\n",
    "#The function converts both the job_title and keyword to lowercase to perform a case-insensitive search.\n",
    "#It returns True if the keyword is found in the job title, otherwise False.\n",
    "# Code Solution:\n",
    "# def job_title_contains(job_title, keyword):\n",
    "#     return keyword in job_title\n",
    "\n",
    "# job_title = 'Data Scientist'\n",
    "# keyword = 'Data'\n",
    "# job_title_contains(job_title, keyword)"
   ]
  },
  {
   "cell_type": "code",
   "execution_count": null,
   "id": "865ee3ff-4413-4b77-a182-8a16bf76249f",
   "metadata": {},
   "outputs": [],
   "source": [
    "#Problem Statement:\n",
    "#Create a function average_salary that takes a list of salaries and returns the average salary. \n",
    "#With the salaries set as [95000, 120000, 105000, 90000, 130000].\n",
    "\n",
    "#Code Needed:\n",
    "#salaries = [95000, 120000, 105000, 90000, 130000]\n",
    "def average_salary(salaries):\n",
    "    # Calculate the average salary\n",
    "    return sum(salaries) / len(salaries)\n",
    "salaries = [95000, 120000, 105000, 90000, 130000]\n",
    "avg_salary = average_salary(salaries)\n",
    "print(avg_salary)\n"
   ]
  },
  {
   "cell_type": "code",
   "execution_count": null,
   "id": "b76e49a2-d967-4a3e-91cb-a9ef315a78f8",
   "metadata": {},
   "outputs": [],
   "source": [
    "#Problem Statement:\n",
    "#Create a function salary_statistics that takes a list of salaries and \n",
    "#returns a dictionary with the minimum, maximum, and average salary. \n",
    "#The list of salaries is set to [95000, 120000, 105000, 90000, 130000].\n",
    "\n",
    "#Code Needed:\n",
    "salaries = [95000, 120000, 105000, 90000, 130000]\n",
    "#Hint:Use the min(), max(), sum(), and len() functions to calculate the statistics.\n",
    "\n",
    "def salary_statistics(salaries):\n",
    "    return {\n",
    "        'min_salary': min(salaries),\n",
    "        'max_salary': max(salaries),\n",
    "        'avg_salary': sum(salaries) / len(salaries)\n",
    "    }\n",
    "salaries = [95000, 120000, 105000, 90000, 130000]\n",
    "statistics = salary_statistics(salaries)\n",
    "print(statistics)\n"
   ]
  },
  {
   "cell_type": "code",
   "execution_count": null,
   "id": "2ee7791d-594a-4252-bdab-f9f0a66f8310",
   "metadata": {},
   "outputs": [],
   "source": [
    "# Problem Statement:\n",
    "# Create a function job_posting_summary that takes a list of job postings, \n",
    "#where each posting is a dictionary with keys 'title', 'location', and 'salary', \n",
    "#and returns a summary dictionary with the total number of postings, the average salary, \n",
    "#and a list of unique locations. The job_postings is set to \n",
    "#[{'title': 'Data Scientist', 'location': 'New York', 'salary': 95000}, \n",
    "#{'title': 'Data Analyst', 'location': 'San Francisco', 'salary': 85000}, \n",
    "#{'title': 'Machine Learning Engineer', 'location': 'New York', 'salary': 115000}].\n",
    "\n",
    "# Code Needed:\n",
    "# job_postings = [\n",
    "#     {'title': 'Data Scientist', 'location': 'New York', 'salary': 95000},\n",
    "#     {'title': 'Data Analyst', 'location': 'San Francisco', 'salary': 85000},\n",
    "#     {'title': 'Machine Learning Engineer', 'location': 'New York', 'salary': 115000}\n",
    "# ]\n",
    "# Hint:\n",
    "# Use a set to store unique locations and the sum() function to calculate the total salary.\n",
    "\n",
    "\n",
    "\n",
    "\n",
    "\n",
    "def job_posting_summary(job_postings):\n",
    "    # Total number of postings\n",
    "    total_postings = len(job_postings)\n",
    "    \n",
    "    # Calculate total salary and gather unique locations\n",
    "    total_salary = sum(posting['salary'] for posting in job_postings)\n",
    "    unique_locations = list({posting['location'] for posting in job_postings})\n",
    "    \n",
    "    # Calculate average salary\n",
    "    average_salary = total_salary / total_postings if total_postings > 0 else 0\n",
    "    \n",
    "    # Return summary dictionary\n",
    "    return {\n",
    "        'total_postings': total_postings,\n",
    "        'average_salary': average_salary,\n",
    "        'unique_locations': unique_locations\n",
    "    }\n",
    "\n",
    "# List of job postings\n",
    "job_postings = [\n",
    "    {'title': 'Data Scientist', 'location': 'New York', 'salary': 95000},\n",
    "    {'title': 'Data Analyst', 'location': 'San Francisco', 'salary': 85000},\n",
    "    {'title': 'Machine Learning Engineer', 'location': 'New York', 'salary': 115000}\n",
    "]\n",
    "\n",
    "# Call the function and print the summary\n",
    "summary = job_posting_summary(job_postings)\n",
    "print(summary)\n",
    "# total_postings: The length of the job_postings list gives the total number of postings.\n",
    "# total_salary: The sum() function calculates the total salary from all postings.\n",
    "# unique_locations: A set comprehension is used to gather unique locations, which is then converted to a list.\n",
    "# average_salary: The average salary is calculated by dividing total_salary by total_postings."
   ]
  },
  {
   "cell_type": "code",
   "execution_count": null,
   "id": "197a0698-11f1-42fc-8422-c4c9d43696c5",
   "metadata": {},
   "outputs": [],
   "source": [
    "{\n",
    "    'total_postings': 3,\n",
    "    'average_salary': 98333.33333333333,\n",
    "    'unique_locations': ['New York', 'San Francisco']\n",
    "}\n"
   ]
  },
  {
   "cell_type": "code",
   "execution_count": null,
   "id": "187fc1f9-6e37-43c6-86ca-cbe9bb3190fc",
   "metadata": {},
   "outputs": [],
   "source": [
    "# Code Solution:\n",
    "# def job_posting_summary(job_postings):\n",
    "#     total_postings = len(job_postings)\n",
    "#     total_salary = sum(posting['salary'] for posting in job_postings)\n",
    "#     average_salary = total_salary / total_postings\n",
    "#     unique_locations = list(set(posting['location'] for posting in job_postings))\n",
    "#     return {\n",
    "#         'total_postings': total_postings,\n",
    "#         'average_salary': average_salary,\n",
    "#         'unique_locations': unique_locations\n",
    "#     }\n",
    "\n",
    "# job_postings = [\n",
    "#     {'title': 'Data Scientist', 'location': 'New York', 'salary': 95000},\n",
    "#     {'title': 'Data Analyst', 'location': 'San Francisco', 'salary': 85000},\n",
    "#     {'title': 'Machine Learning Engineer', 'location': 'New York', 'salary': 115000}\n",
    "# ]\n",
    "# job_posting_summary(job_postings)\n",
    "\n",
    "# Expected Output:\n",
    "# {'total_postings': 3, 'average_salary': 98333.33333333333, 'unique_locations': ['New York', 'San Francisco']}\n",
    "\n",
    "# Explanation:\n",
    "# Define a function named job_posting_summary that takes one parameter job_postings.\n",
    "# Calculate the total number of postings using the len() function.\n",
    "# Calculate the total salary using the sum() function with a generator expression.\n",
    "# Calculate the average salary by dividing the total salary by the total number of postings.\n",
    "# Use a set to store unique locations and convert it to a list.\n",
    "# Create a summary dictionary with the total number of postings, the average salary, and the list of unique locations.\n",
    "# Return the summary dictionary.\n",
    "# Call the function with the list of job postings."
   ]
  },
  {
   "cell_type": "code",
   "execution_count": null,
   "id": "30a14cde-ed3b-484b-829a-f687fbe0968e",
   "metadata": {},
   "outputs": [],
   "source": [
    "job_postings = [\n",
    "    {'title': 'Data Scientist', 'location': 'New York', 'salary': 95000},\n",
    "    {'title': 'Data Analyst', 'location': 'San Francisco', 'salary': 85000},\n",
    "    {'title': 'Machine Learning Engineer', 'location': 'New York', 'salary': 115000}\n",
    "]\n",
    "\n",
    "def job_posting_summary(job_postings):\n",
    "    return {\n",
    "    'Total Job Postings': len(job_postings),\n",
    "    'Average Salary': sum(job['salary'] for job in job_postings) / len(job_postings),\n",
    "    'Unique Locations': list(set(job['location'] for job in job_postings))\n",
    "    }"
   ]
  },
  {
   "cell_type": "markdown",
   "id": "b936128c-2cf0-4c3b-9344-5e1260907b2d",
   "metadata": {},
   "source": [
    "#### lambda"
   ]
  },
  {
   "cell_type": "code",
   "execution_count": null,
   "id": "153177ab-c8fa-4ab3-934a-a0863f7547e9",
   "metadata": {},
   "outputs": [],
   "source": [
    "# Define a lambda function to add two numbers\n",
    "add = lambda x, y: x + y"
   ]
  },
  {
   "cell_type": "code",
   "execution_count": null,
   "id": "03a97322-2c6b-4bbf-94dc-ed8a7f912094",
   "metadata": {},
   "outputs": [],
   "source": [
    "mul_two = lambda x: x*2"
   ]
  },
  {
   "cell_type": "code",
   "execution_count": null,
   "id": "53432808-5f89-48c7-bb1e-4b7d7efd6da5",
   "metadata": {},
   "outputs": [],
   "source": [
    "mul_two(3)"
   ]
  },
  {
   "cell_type": "code",
   "execution_count": null,
   "id": "8e3d8a66-8c11-4f59-ad26-25f7af4c5955",
   "metadata": {},
   "outputs": [],
   "source": [
    "(lambda x: x*2)(4)"
   ]
  },
  {
   "cell_type": "code",
   "execution_count": null,
   "id": "404734e3-9318-4107-afec-82c9a70c915d",
   "metadata": {},
   "outputs": [],
   "source": [
    "(lambda x, y: x*2 + y)(4, 5) # 2 times 4 = 8 plus 5"
   ]
  },
  {
   "cell_type": "code",
   "execution_count": null,
   "id": "07d5f50b-4c54-47d7-884f-027aaa82dc8b",
   "metadata": {},
   "outputs": [],
   "source": [
    "\n",
    "salary_list = [100000, 200000, 150000, 120000, 80000, 75000]\n",
    "def calculate_salary(base_salary, bonus_rate=.1):\n",
    "    total_salary = base_salary * (1 + bonus_rate)\n",
    "    return total_salary\n",
    "total_salary_list = [salary for salary in salary_list]\n",
    "total_salary_list"
   ]
  },
  {
   "cell_type": "code",
   "execution_count": null,
   "id": "48f41316-3683-47d7-bc29-23bb02aa7798",
   "metadata": {},
   "outputs": [],
   "source": [
    "salary_list = [100000, 200000, 150000, 120000, 80000, 75000]\n",
    "def calculate_salary(base_salary, bonus_rate=.1):\n",
    "    total_salary = base_salary * (1 + bonus_rate)\n",
    "    return total_salary\n",
    "total_salary_list = [calculate_salary(salary) for salary in salary_list]\n",
    "total_salary_list"
   ]
  },
  {
   "cell_type": "code",
   "execution_count": null,
   "id": "036b8dee-4772-4f8a-8dd2-a8664459a5a2",
   "metadata": {},
   "outputs": [],
   "source": [
    "salary_list = [100000, 200000, 150000, 120000, 80000, 75000]\n",
    "def calculate_salary(base_salary, bonus_rate=.1):\n",
    "    return base_salary * (1 + bonus_rate)\n",
    "total_salary_list = [calculate_salary(salary) for salary in salary_list]\n",
    "total_salary_list"
   ]
  },
  {
   "cell_type": "code",
   "execution_count": null,
   "id": "bd6d99c2-7109-40c4-a3c2-6f7093190e5c",
   "metadata": {},
   "outputs": [],
   "source": [
    "salary_list = [100000, 200000, 150000, 120000, 80000, 75000]\n",
    "# def calculate_salary(base_salary, bonus_rate=.1):\n",
    "#     return base_salary * (1 + bonus_rate)\n",
    "total_salary_list = [(lambda x: x)(salary) for salary in salary_list]\n",
    "total_salary_list"
   ]
  },
  {
   "cell_type": "code",
   "execution_count": null,
   "id": "cb354d49-8320-42a0-b7e6-4c7625ae60c2",
   "metadata": {},
   "outputs": [],
   "source": [
    "salary_list = [100000, 200000, 150000, 120000, 80000, 75000]\n",
    "# def calculate_salary(base_salary, bonus_rate=.1):\n",
    "#     return base_salary * (1 + bonus_rate)\n",
    "total_salary_list = [(lambda x: x * 1.1)(salary) for salary in salary_list]\n",
    "total_salary_list"
   ]
  },
  {
   "cell_type": "code",
   "execution_count": null,
   "id": "a12a766d-4f77-4298-9646-2813145be198",
   "metadata": {},
   "outputs": [],
   "source": [
    "salary_list = [100000, 200000, 150000, 120000, 80000, 75000]\n",
    "# def calculate_salary(base_salary, bonus_rate=.1):\n",
    "#     return base_salary * (1 + bonus_rate)\n",
    "total_salary_list = [salary * 1.1 for salary in salary_list]\n",
    "total_salary_list"
   ]
  },
  {
   "cell_type": "code",
   "execution_count": null,
   "id": "7f587712-063c-4052-b8bc-0160bb06a9f3",
   "metadata": {},
   "outputs": [],
   "source": [
    "job_data = [\n",
    "    {'job_title': 'Data Scientist', 'job_skills': ['Python', 'SQL', 'Machine Learning', 'Statistics'],'remote': True},\n",
    "    {'job_title': 'Data Analyst','job_skills': ['Excel', 'SQL', 'Data Visualization', 'Power BI'],'remote': False},\n",
    "    {'job_title': 'Machine Learning Engineer','job_skills': ['Python', 'TensorFlow', 'Deep Learning', 'Neural Networks'],'remote': True},\n",
    "    {'job_title': 'Business Intelligence Analyst','job_skills': ['SQL', 'Tableau', 'Data Warehousing', 'Power BI'],'remote': False},\n",
    "    {'job_title': 'Data Engineer','job_skills': ['Python', 'SQL', 'ETL', 'AWS'],'remote': True}\n",
    "]\n",
    "\n",
    "# Print the dictionary\n",
    "for job in job_data:\n",
    "    print(job)\n"
   ]
  },
  {
   "cell_type": "code",
   "execution_count": null,
   "id": "06edbb76-9e9b-4aaa-b55d-b8f58f267b01",
   "metadata": {},
   "outputs": [],
   "source": [
    "list(filter(lambda job: job['remote'], job_data))"
   ]
  },
  {
   "cell_type": "code",
   "execution_count": null,
   "id": "83e612fa-d7f7-438c-adff-1bca63407c38",
   "metadata": {},
   "outputs": [],
   "source": [
    "list(filter(lambda job: job['remote'] and 'Python' in job['job_skills'], job_data))"
   ]
  },
  {
   "cell_type": "code",
   "execution_count": null,
   "id": "8812059f-23b0-4c5d-bfe1-4b112019b099",
   "metadata": {},
   "outputs": [],
   "source": [
    "#Problem Statement:\n",
    "#Create a lambda function to calculate the average salary from a list of salaries. \n",
    "#With salaries set as [95000, 120000, 105000, 90000, 130000].\n",
    "\n",
    "#Code Needed:\n",
    "salaries = [95000, 120000, 105000, 90000, 130000]\n",
    "#Hint: Use the sum and len functions within the lambda function to calculate the average.\n",
    "#sum(salaries) / len(salaries\n",
    "#average Salary': sum(job['salary'] for job in job_postings) / len(job_postings)\n",
    "#avg = [(lambda x:)sum(salary) for salary in salaries]\n",
    "#avg = [lambda x:sum(salaries) for salaries in salaries/ len(salaries)]\n",
    "avg_sal = lambda salaries: sum(salaries) / len(salaries) #if salaries else 0\n",
    "print (avg_sal(salaries))"
   ]
  },
  {
   "cell_type": "code",
   "execution_count": null,
   "id": "676b4537-8f1d-412c-9e11-38a9e6e6d2d5",
   "metadata": {},
   "outputs": [],
   "source": [
    "salaries = [95000, 120000, 105000, 90000, 130000]\n",
    "(lambda x: sum(x)/len(x))(salaries)"
   ]
  },
  {
   "cell_type": "code",
   "execution_count": null,
   "id": "edbb9c7f-2b28-45c6-a45c-d3374bdb7b76",
   "metadata": {},
   "outputs": [],
   "source": [
    "salaries = [95000, 120000, 105000, 90000, 130000]\n",
    "(lambda tacos: sum(tacos)/len(tacos))(salaries)\n",
    "# (lambda sapce the_lambda_name: sum(the_lambda_name)/len(the_lambda_name)(where_the_data_is_in_this_case (salaries))"
   ]
  },
  {
   "cell_type": "code",
   "execution_count": null,
   "id": "87455285-f140-4619-bf33-d6cac7ffadd3",
   "metadata": {},
   "outputs": [],
   "source": [
    "#Problem Statement:\n",
    "#Create a lambda function to check if a job title contains the word 'Data' and use it to filter a list of job titles. \n",
    "#With job_titles set to ['Data Scientist', 'Data Engineer', 'Machine Learning Engineer', 'Data Analyst'].\n",
    "\n",
    "#Code Needed:\n",
    "job_titles = ['Data Scientist', 'Data Engineer', 'Machine Learning Engineer', 'Data Analyst']\n",
    "\n",
    "#Hint: Use the in operator within the lambda function to check for the presence of the word 'Data'. \n",
    "#Hint: Use the filter function to filter this data out.\n",
    "is_there = list(filter(lambda job: 'Data' in job, job_titles))\n",
    "is_there\n",
    "#filtered_words = list(filter(lambda word: 'Engineer' in word, words))"
   ]
  },
  {
   "cell_type": "code",
   "execution_count": null,
   "id": "3265be8d-5a0c-4246-b442-9149211733f4",
   "metadata": {},
   "outputs": [],
   "source": [
    "\n",
    "job_titles = ['Data Scientist', 'Data Engineer', 'Machine Learning Engineer', 'Data Analyst']\n",
    "filtered_words = list(filter(lambda word: 'Engineer' in word, job_titles))\n",
    "\n",
    "# Print the filtered words\n",
    "print(filtered_words)"
   ]
  },
  {
   "cell_type": "code",
   "execution_count": null,
   "id": "7a6ed096-bcaa-46b7-9f6e-43fdf81fd7fa",
   "metadata": {},
   "outputs": [],
   "source": [
    "#Problem Statement:\n",
    "#Create a lambda function to filter remote job postings that require Python skills from a list of job postings. \n",
    "#The list for the variable job_postings is shown below.\n",
    "\n",
    "#Code Needed:\n",
    "job_postings = [\n",
    "    {'title': 'Data Scientist', 'skills': ['Python', 'SQL'], 'remote': True},\n",
    "    {'title': 'Data Analyst', 'skills': ['Excel', 'SQL'], 'remote': False},\n",
    "    {'title': 'Machine Learning Engineer', 'skills': ['Python', 'TensorFlow'], 'remote': True},\n",
    "    {'title': 'Software Developer', 'skills': ['Java', 'C++'], 'remote': True}\n",
    "]\n",
    "#Hint: Use the filter function in combination with a lambda function that checks both conditions.\n",
    "list(filter(lambda lama: lama['remote'] and 'Python' in lama['skills'], job_postings))\n",
    "# filtered (lambda lama: first check for 'remote' AND second check for 'Python' in skills - FROM the LIST 'job_postings'"
   ]
  },
  {
   "cell_type": "markdown",
   "id": "750e5bb3-ca78-481c-8632-0b3a74365546",
   "metadata": {},
   "source": [
    "#### Modules"
   ]
  },
  {
   "cell_type": "code",
   "execution_count": null,
   "id": "2cea62a7-71b0-42f1-90d1-b62c8a604b89",
   "metadata": {},
   "outputs": [],
   "source": [
    "import my_module\n",
    "#must be saved to C:\\Users\\vtylk\\Documents\\Sprngbrd\\14 fourteen python\\\n",
    "my_module.skill_list"
   ]
  },
  {
   "cell_type": "code",
   "execution_count": null,
   "id": "49195560-9c2b-4840-966c-d03d3c42d200",
   "metadata": {},
   "outputs": [],
   "source": [
    "my_module.skill('Python')\n",
    "#needed to re-run the 'import my_module' and that is okay\n",
    "#view the text via notepad"
   ]
  },
  {
   "cell_type": "code",
   "execution_count": null,
   "id": "12266269-9453-4056-b9f2-b86b0792c687",
   "metadata": {},
   "outputs": [],
   "source": [
    "import job_analyzer\n",
    "\n",
    "#is saved to /user/vtylk - but copy to C:\\Users\\vtylk\\Documents\\Sprngbrd\\14 fourteen python\\ because I set up Jupyter to that directory\n",
    "job_analyzer.calculate_salary(101000)"
   ]
  },
  {
   "cell_type": "code",
   "execution_count": null,
   "id": "99834ab7-789d-4bfc-bed5-d73f0e5ce1c2",
   "metadata": {},
   "outputs": [],
   "source": [
    "from job_analyzer import calculate_salary\n",
    "calculate_salary(123000)"
   ]
  },
  {
   "cell_type": "code",
   "execution_count": null,
   "id": "9d0d074c-60d4-456b-8045-7414474b13e7",
   "metadata": {},
   "outputs": [],
   "source": [
    "import my_module\n",
    "from job_analyzer import calculate_salary, calculate_bonus\n",
    "calculate_salary(123000)\n",
    "calculate_bonus(111000, 100000)"
   ]
  },
  {
   "cell_type": "code",
   "execution_count": null,
   "id": "f9334542-4560-44f0-9d4f-46949bd1dc0b",
   "metadata": {},
   "outputs": [],
   "source": [
    "import my_module\n",
    "from job_analyzer import *\n",
    "calculate_salary(100000)\n",
    "calculate_bonus(110000, 100000)"
   ]
  },
  {
   "cell_type": "code",
   "execution_count": null,
   "id": "3fdb28dd-3faa-4c74-beff-39977a8598b7",
   "metadata": {},
   "outputs": [],
   "source": [
    "salary_list = [98000, 101000, 102000, 99000, 97000]"
   ]
  },
  {
   "cell_type": "code",
   "execution_count": null,
   "id": "7d151520-3cf1-412e-9e9b-cce2b85567be",
   "metadata": {},
   "outputs": [],
   "source": [
    "import statistics\n",
    "statistics.mean(salary_list)"
   ]
  },
  {
   "cell_type": "code",
   "execution_count": null,
   "id": "d63d826f-9946-454a-ad49-b1d137e0d5c9",
   "metadata": {},
   "outputs": [],
   "source": [
    "from statistics import mean, median, mode\n",
    "mean(salary_list), mode(salary_list), median(salary_list)"
   ]
  },
  {
   "cell_type": "code",
   "execution_count": null,
   "id": "aaa13e5c-1581-4c2f-bf82-164252414b95",
   "metadata": {},
   "outputs": [],
   "source": [
    "#Problem Statement:\n",
    "#Create a module named salary_calculator with a function calculate_annual_salary \n",
    "#that takes an hourly wage and hours per week, and returns the annual salary. \n",
    "#Import this module and use the function to calculate the annual salary for an hourly wage of $50 and 40 hours per week.\n",
    "\n",
    "#Code Needed: To save your module in Google Collab use this line in the module code.\n",
    "\n",
    "#%%writefile salary_calculator.py\n",
    "#Hint: Use the import statement to import the module and call the function with the required arguments."
   ]
  },
  {
   "cell_type": "code",
   "execution_count": null,
   "id": "e8e714c7-d176-4153-a0be-2dca1353ecf8",
   "metadata": {},
   "outputs": [],
   "source": [
    "#module name is sal_calc\n",
    "from sal_calc import *\n",
    "calculate_annual_salary(50, 40)"
   ]
  },
  {
   "cell_type": "code",
   "execution_count": null,
   "id": "23326736-ed5f-4caa-86da-4c91966ea90a",
   "metadata": {},
   "outputs": [],
   "source": [
    "#Problem Statement:\n",
    "#Create a module named job_filter with a function filter_by_location that takes \n",
    "#a list of job postings and a location and returns a list of job postings in that location. \n",
    "#Import this module and use the function to filter job postings in 'New York'. Use the variable of job_postings shown below.\n",
    "\n",
    "#Code Needed: To save your module in Google Collab use this in one cell in your notebook.\n",
    "\n",
    "#%%writefile job_filter.py\n",
    "\n",
    "# run this in another cell to initiate the job_postings variable\n",
    "job_postings = [\n",
    "    {'title': 'Data Scientist', 'location': 'New York'},\n",
    "    {'title': 'Data Analyst', 'location': 'San Francisco'},\n",
    "    {'title': 'Machine Learning Engineer', 'location': 'New York'}\n",
    "]"
   ]
  },
  {
   "cell_type": "code",
   "execution_count": null,
   "id": "9b69bf4f-f664-4359-a36f-977aa0f976f5",
   "metadata": {},
   "outputs": [],
   "source": [
    "import job_filter\n",
    "job_postings = [\n",
    "    {'title': 'Data Scientist', 'location': 'New York'},\n",
    "    {'title': 'Data Analyst', 'location': 'San Francisco'},\n",
    "    {'title': 'Machine Learning Engineer', 'location': 'New York'}\n",
    "]\n",
    "filtered = job_filter.filter_by_location(job_postings, 'New York')\n",
    "filtered"
   ]
  },
  {
   "cell_type": "markdown",
   "id": "f3846495-0cbf-4643-87a7-b32eb1f6967e",
   "metadata": {},
   "source": [
    "#### Cleansing Data"
   ]
  },
  {
   "cell_type": "code",
   "execution_count": 234,
   "id": "53478ff4-81b9-4480-b55e-6a2ac1d6f3dc",
   "metadata": {},
   "outputs": [],
   "source": [
    "data_science_jobs = [\n",
    "    {'job_title': 'Data Scientist', 'job_skills': \"['Python', 'SQL', 'Machine Learning']\", 'job_date': '2023-05-12'},\n",
    "    {'job_title': 'Machine Learning Engineer', 'job_skills': \"['Python', 'TensorFlow', 'Deep Learning']\", 'job_date': '2023-06-18'},\n",
    "    {'job_title': 'Data Analyst', 'job_skills': \"['SQL', 'Tableau', 'Excel']\", 'job_date': '2023-07-02'},\n",
    "    {'job_title': 'AI Research Scientist', 'job_skills': \"['Python', 'PyTorch', 'NLP']\", 'job_date': '2023-04-28'},\n",
    "    {'job_title': 'Business Intelligence Analyst', 'job_skills': \"['Power BI', 'SQL', 'Data Warehousing']\", 'job_date': '2023-03-10'},\n",
    "    {'job_title': 'Data Engineer', 'job_skills': \"['SQL', 'AWS', 'ETL']\", 'job_date': '2023-08-25'},\n",
    "    {'job_title': 'Statistician', 'job_skills': \"['R', 'SAS', 'Statistical Modeling']\", 'job_date': '2023-02-15'},\n",
    "    {'job_title': 'Quantitative Analyst', 'job_skills': \"['Python', 'Mathematics', 'Financial Modeling']\", 'job_date': '2023-01-30'},\n",
    "    {'job_title': 'Big Data Engineer', 'job_skills': \"['Hadoop', 'Spark', 'Scala']\", 'job_date': '2023-09-12'},\n",
    "    {'job_title': 'Data Architect', 'job_skills': \"['SQL', 'Data Modeling', 'Data Governance']\", 'job_date': '2023-10-01'},\n",
    "    {'job_title': 'Analytics Manager', 'job_skills': \"['Tableau', 'SQL', 'Data Visualization']\", 'job_date': '2023-11-05'},\n",
    "    {'job_title': 'Computer Vision Engineer', 'job_skills': \"['OpenCV', 'Python', 'Deep Learning']\", 'job_date': '2023-07-18'},\n",
    "    {'job_title': 'Natural Language Processing Engineer', 'job_skills': \"['Python', 'NLP', 'BERT']\", 'job_date': '2023-08-09'}\n",
    "]\n"
   ]
  },
  {
   "cell_type": "code",
   "execution_count": 236,
   "id": "3f4f18ef-5d3a-497a-9b1a-5d471e5c98d4",
   "metadata": {},
   "outputs": [],
   "source": [
    "from datetime import datetime"
   ]
  },
  {
   "cell_type": "code",
   "execution_count": 238,
   "id": "4aa986ab-2545-4bc4-8a18-aa2292fefd9c",
   "metadata": {},
   "outputs": [
    {
     "data": {
      "text/plain": [
       "datetime.datetime(2024, 10, 19, 13, 36, 19, 301804)"
      ]
     },
     "execution_count": 238,
     "metadata": {},
     "output_type": "execute_result"
    }
   ],
   "source": [
    "datetime.now()"
   ]
  },
  {
   "cell_type": "code",
   "execution_count": 240,
   "id": "7e7385ef-9046-4183-9768-d806379c34b1",
   "metadata": {},
   "outputs": [
    {
     "data": {
      "text/plain": [
       "{'job_title': 'Data Scientist',\n",
       " 'job_skills': \"['Python', 'SQL', 'Machine Learning']\",\n",
       " 'job_date': '2023-05-12'}"
      ]
     },
     "execution_count": 240,
     "metadata": {},
     "output_type": "execute_result"
    }
   ],
   "source": [
    "data_science_jobs[0]"
   ]
  },
  {
   "cell_type": "code",
   "execution_count": 242,
   "id": "bcae7786-080e-424f-afee-f59fe005c253",
   "metadata": {},
   "outputs": [
    {
     "data": {
      "text/plain": [
       "'2023-05-12'"
      ]
     },
     "execution_count": 242,
     "metadata": {},
     "output_type": "execute_result"
    }
   ],
   "source": [
    "data_science_jobs[0]['job_date']"
   ]
  },
  {
   "cell_type": "code",
   "execution_count": 244,
   "id": "da3790b7-5664-4e0d-bbca-f454874b0a25",
   "metadata": {},
   "outputs": [
    {
     "data": {
      "text/plain": [
       "str"
      ]
     },
     "execution_count": 244,
     "metadata": {},
     "output_type": "execute_result"
    }
   ],
   "source": [
    "type (data_science_jobs[0]['job_date'])"
   ]
  },
  {
   "cell_type": "code",
   "execution_count": 246,
   "id": "b611240b-9e75-45f5-b9a7-4ab3e96f2e29",
   "metadata": {},
   "outputs": [],
   "source": [
    "test_date = data_science_jobs[0]['job_date']"
   ]
  },
  {
   "cell_type": "code",
   "execution_count": 248,
   "id": "7f5a7d9f-d916-420c-b61b-566a5677a92f",
   "metadata": {},
   "outputs": [
    {
     "data": {
      "text/plain": [
       "datetime.datetime(2023, 5, 12, 0, 0)"
      ]
     },
     "execution_count": 248,
     "metadata": {},
     "output_type": "execute_result"
    }
   ],
   "source": [
    "datetime.strptime(test_date, '%Y-%m-%d')\n",
    "#datetime.strptime(test_date, '%Y-%m-%d')"
   ]
  },
  {
   "cell_type": "code",
   "execution_count": 250,
   "id": "82261ac9-ec28-457e-8195-67a54a0d1397",
   "metadata": {},
   "outputs": [
    {
     "name": "stdout",
     "output_type": "stream",
     "text": [
      "2023-01-12 00:05:00\n"
     ]
    }
   ],
   "source": [
    "print(datetime.strptime(test_date, '%Y-%M-%d'))"
   ]
  },
  {
   "cell_type": "code",
   "execution_count": 252,
   "id": "4b8e728a-682a-43c1-9c94-ad5b306e892e",
   "metadata": {},
   "outputs": [],
   "source": [
    "for job in data_science_jobs:\n",
    "  job['job_date'] = datetime.strptime(job['job_date'], '%Y-%m-%d')"
   ]
  },
  {
   "cell_type": "code",
   "execution_count": 254,
   "id": "ba3532a0-4891-4e8f-8f40-3f5e5032557e",
   "metadata": {},
   "outputs": [
    {
     "data": {
      "text/plain": [
       "[{'job_title': 'Data Scientist',\n",
       "  'job_skills': \"['Python', 'SQL', 'Machine Learning']\",\n",
       "  'job_date': datetime.datetime(2023, 5, 12, 0, 0)},\n",
       " {'job_title': 'Machine Learning Engineer',\n",
       "  'job_skills': \"['Python', 'TensorFlow', 'Deep Learning']\",\n",
       "  'job_date': datetime.datetime(2023, 6, 18, 0, 0)},\n",
       " {'job_title': 'Data Analyst',\n",
       "  'job_skills': \"['SQL', 'Tableau', 'Excel']\",\n",
       "  'job_date': datetime.datetime(2023, 7, 2, 0, 0)},\n",
       " {'job_title': 'AI Research Scientist',\n",
       "  'job_skills': \"['Python', 'PyTorch', 'NLP']\",\n",
       "  'job_date': datetime.datetime(2023, 4, 28, 0, 0)},\n",
       " {'job_title': 'Business Intelligence Analyst',\n",
       "  'job_skills': \"['Power BI', 'SQL', 'Data Warehousing']\",\n",
       "  'job_date': datetime.datetime(2023, 3, 10, 0, 0)},\n",
       " {'job_title': 'Data Engineer',\n",
       "  'job_skills': \"['SQL', 'AWS', 'ETL']\",\n",
       "  'job_date': datetime.datetime(2023, 8, 25, 0, 0)},\n",
       " {'job_title': 'Statistician',\n",
       "  'job_skills': \"['R', 'SAS', 'Statistical Modeling']\",\n",
       "  'job_date': datetime.datetime(2023, 2, 15, 0, 0)},\n",
       " {'job_title': 'Quantitative Analyst',\n",
       "  'job_skills': \"['Python', 'Mathematics', 'Financial Modeling']\",\n",
       "  'job_date': datetime.datetime(2023, 1, 30, 0, 0)},\n",
       " {'job_title': 'Big Data Engineer',\n",
       "  'job_skills': \"['Hadoop', 'Spark', 'Scala']\",\n",
       "  'job_date': datetime.datetime(2023, 9, 12, 0, 0)},\n",
       " {'job_title': 'Data Architect',\n",
       "  'job_skills': \"['SQL', 'Data Modeling', 'Data Governance']\",\n",
       "  'job_date': datetime.datetime(2023, 10, 1, 0, 0)},\n",
       " {'job_title': 'Analytics Manager',\n",
       "  'job_skills': \"['Tableau', 'SQL', 'Data Visualization']\",\n",
       "  'job_date': datetime.datetime(2023, 11, 5, 0, 0)},\n",
       " {'job_title': 'Computer Vision Engineer',\n",
       "  'job_skills': \"['OpenCV', 'Python', 'Deep Learning']\",\n",
       "  'job_date': datetime.datetime(2023, 7, 18, 0, 0)},\n",
       " {'job_title': 'Natural Language Processing Engineer',\n",
       "  'job_skills': \"['Python', 'NLP', 'BERT']\",\n",
       "  'job_date': datetime.datetime(2023, 8, 9, 0, 0)}]"
      ]
     },
     "execution_count": 254,
     "metadata": {},
     "output_type": "execute_result"
    }
   ],
   "source": [
    "data_science_jobs"
   ]
  },
  {
   "cell_type": "code",
   "execution_count": 228,
   "id": "bf015b21-f380-4aea-b7a0-ec03d736b2ee",
   "metadata": {},
   "outputs": [],
   "source": [
    "import ast"
   ]
  },
  {
   "cell_type": "code",
   "execution_count": 260,
   "id": "899a5925-8fec-49fd-8612-232ea48d6b3b",
   "metadata": {},
   "outputs": [],
   "source": [
    "data_science_jobs = [\n",
    "    {'job_title': 'Data Scientist', 'job_skills': \"['Python', 'SQL', 'Machine Learning']\", 'job_date': '2023-05-12'},\n",
    "    {'job_title': 'Machine Learning Engineer', 'job_skills': \"['Python', 'TensorFlow', 'Deep Learning']\", 'job_date': '2023-06-18'},\n",
    "    {'job_title': 'Data Analyst', 'job_skills': \"['SQL', 'Tableau', 'Excel']\", 'job_date': '2023-07-02'},\n",
    "    {'job_title': 'AI Research Scientist', 'job_skills': \"['Python', 'PyTorch', 'NLP']\", 'job_date': '2023-04-28'},\n",
    "    {'job_title': 'Business Intelligence Analyst', 'job_skills': \"['Power BI', 'SQL', 'Data Warehousing']\", 'job_date': '2023-03-10'},\n",
    "    {'job_title': 'Data Engineer', 'job_skills': \"['SQL', 'AWS', 'ETL']\", 'job_date': '2023-08-25'},\n",
    "    {'job_title': 'Statistician', 'job_skills': \"['R', 'SAS', 'Statistical Modeling']\", 'job_date': '2023-02-15'},\n",
    "    {'job_title': 'Quantitative Analyst', 'job_skills': \"['Python', 'Mathematics', 'Financial Modeling']\", 'job_date': '2023-01-30'},\n",
    "    {'job_title': 'Big Data Engineer', 'job_skills': \"['Hadoop', 'Spark', 'Scala']\", 'job_date': '2023-09-12'},\n",
    "    {'job_title': 'Data Architect', 'job_skills': \"['SQL', 'Data Modeling', 'Data Governance']\", 'job_date': '2023-10-01'},\n",
    "    {'job_title': 'Analytics Manager', 'job_skills': \"['Tableau', 'SQL', 'Data Visualization']\", 'job_date': '2023-11-05'},\n",
    "    {'job_title': 'Computer Vision Engineer', 'job_skills': \"['OpenCV', 'Python', 'Deep Learning']\", 'job_date': '2023-07-18'},\n",
    "    {'job_title': 'Natural Language Processing Engineer', 'job_skills': \"['Python', 'NLP', 'BERT']\", 'job_date': '2023-08-09'}\n",
    "]\n",
    "import ast\n",
    "from datetime import datetime\n",
    "\n",
    "for job in data_science_jobs:\n",
    "    job['job_date'] = datetime.strptime(job['job_date'], '%Y-%m-%d')\n",
    "    job['job_skills'] = ast.literal_eval(job['job_skills'])"
   ]
  },
  {
   "cell_type": "code",
   "execution_count": 262,
   "id": "ee570db0-5f0a-4784-9106-c0f546265c9d",
   "metadata": {},
   "outputs": [
    {
     "data": {
      "text/plain": [
       "[{'job_title': 'Data Scientist',\n",
       "  'job_skills': ['Python', 'SQL', 'Machine Learning'],\n",
       "  'job_date': datetime.datetime(2023, 5, 12, 0, 0)},\n",
       " {'job_title': 'Machine Learning Engineer',\n",
       "  'job_skills': ['Python', 'TensorFlow', 'Deep Learning'],\n",
       "  'job_date': datetime.datetime(2023, 6, 18, 0, 0)},\n",
       " {'job_title': 'Data Analyst',\n",
       "  'job_skills': ['SQL', 'Tableau', 'Excel'],\n",
       "  'job_date': datetime.datetime(2023, 7, 2, 0, 0)},\n",
       " {'job_title': 'AI Research Scientist',\n",
       "  'job_skills': ['Python', 'PyTorch', 'NLP'],\n",
       "  'job_date': datetime.datetime(2023, 4, 28, 0, 0)},\n",
       " {'job_title': 'Business Intelligence Analyst',\n",
       "  'job_skills': ['Power BI', 'SQL', 'Data Warehousing'],\n",
       "  'job_date': datetime.datetime(2023, 3, 10, 0, 0)},\n",
       " {'job_title': 'Data Engineer',\n",
       "  'job_skills': ['SQL', 'AWS', 'ETL'],\n",
       "  'job_date': datetime.datetime(2023, 8, 25, 0, 0)},\n",
       " {'job_title': 'Statistician',\n",
       "  'job_skills': ['R', 'SAS', 'Statistical Modeling'],\n",
       "  'job_date': datetime.datetime(2023, 2, 15, 0, 0)},\n",
       " {'job_title': 'Quantitative Analyst',\n",
       "  'job_skills': ['Python', 'Mathematics', 'Financial Modeling'],\n",
       "  'job_date': datetime.datetime(2023, 1, 30, 0, 0)},\n",
       " {'job_title': 'Big Data Engineer',\n",
       "  'job_skills': ['Hadoop', 'Spark', 'Scala'],\n",
       "  'job_date': datetime.datetime(2023, 9, 12, 0, 0)},\n",
       " {'job_title': 'Data Architect',\n",
       "  'job_skills': ['SQL', 'Data Modeling', 'Data Governance'],\n",
       "  'job_date': datetime.datetime(2023, 10, 1, 0, 0)},\n",
       " {'job_title': 'Analytics Manager',\n",
       "  'job_skills': ['Tableau', 'SQL', 'Data Visualization'],\n",
       "  'job_date': datetime.datetime(2023, 11, 5, 0, 0)},\n",
       " {'job_title': 'Computer Vision Engineer',\n",
       "  'job_skills': ['OpenCV', 'Python', 'Deep Learning'],\n",
       "  'job_date': datetime.datetime(2023, 7, 18, 0, 0)},\n",
       " {'job_title': 'Natural Language Processing Engineer',\n",
       "  'job_skills': ['Python', 'NLP', 'BERT'],\n",
       "  'job_date': datetime.datetime(2023, 8, 9, 0, 0)}]"
      ]
     },
     "execution_count": 262,
     "metadata": {},
     "output_type": "execute_result"
    }
   ],
   "source": [
    "data_science_jobs"
   ]
  },
  {
   "cell_type": "code",
   "execution_count": 278,
   "id": "7bbb3331-175b-44d1-b63d-8a4a2708b12c",
   "metadata": {},
   "outputs": [
    {
     "name": "stdout",
     "output_type": "stream",
     "text": [
      "\n",
      "Please wait a moment while I gather a list of all available modules...\n",
      "\n",
      "7f0197f6d050da244d93__mypyc collections         mccabe              smtplib\n",
      "IPython             colorama            mdit_py_plugins     snappy\n",
      "OpenSSL             colorcet            mdurl               sndhdr\n",
      "PIL                 colorsys            menuinst            sniffio\n",
      "PyQt5               comm                mimetypes           snowballstemmer\n",
      "__future__          commctrl            mistune             socket\n",
      "__hello__           compileall          mkl                 socketserver\n",
      "__phello__          concurrent          mkl_fft             socks\n",
      "_abc                conda               mmap                sockshandler\n",
      "_aix_support        conda_build         mmapfile            sortedcontainers\n",
      "_argon2_cffi_bindings conda_content_trust mmsystem            soupsieve\n",
      "_ast                conda_env           modulefinder        sphinx\n",
      "_asyncio            conda_index         more_itertools      sphinxify\n",
      "_bisect             conda_libmamba_solver mpmath              sphinxthread\n",
      "_black_version      conda_pack          msgpack             spyder\n",
      "_blake2             conda_package_handling msilib              spyder_kernels\n",
      "_brotli             conda_package_streaming msvcrt              sql\n",
      "_bz2                conda_token         multidict           sqlalchemy\n",
      "_cffi_backend       conf                multipledispatch    sqlite3\n",
      "_codecs             configparser        multiprocessing     sqlparse\n",
      "_codecs_cn          constantly          my_module           sre_compile\n",
      "_codecs_hk          contextlib          mypy                sre_constants\n",
      "_codecs_iso2022     contextvars         mypy_extensions     sre_parse\n",
      "_codecs_jp          contourpy           mypyc               ssl\n",
      "_codecs_kr          cookiecutter        nacl                sspi\n",
      "_codecs_tw          copy                navigator_updater   sspicon\n",
      "_collections        copyreg             nbclient            stack_data\n",
      "_collections_abc    cpuinfo             nbconvert           stat\n",
      "_compat_pickle      crypt               nbformat            statistics\n",
      "_compression        cryptography        nest_asyncio        statsmodels\n",
      "_contextvars        cssselect           netbios             streamlit\n",
      "_csv                csv                 netrc               string\n",
      "_ctypes             ctypes              networkx            stringprep\n",
      "_ctypes_test        curl                nltk                struct\n",
      "_datetime           curses              nntplib             subprocess\n",
      "_decimal            cwp                 notebook            sunau\n",
      "_distutils_hack     cycler              notebook_shim       sympy\n",
      "_elementtree        cytoolz             nt                  symtable\n",
      "_functools          dask                ntpath              sys\n",
      "_hashlib            dask_expr           ntsecuritycon       sysconfig\n",
      "_heapq              dataclasses         nturl2path          tables\n",
      "_imp                datashader          numba               tabnanny\n",
      "_io                 datetime            numbergen           tabulate\n",
      "_json               dateutil            numbers             tarfile\n",
      "_locale             dbi                 numexpr             tblib\n",
      "_lsprof             dbm                 numpy               telnetlib\n",
      "_lzma               dde                 numpydoc            tempfile\n",
      "_markupbase         debugpy             odbc                tenacity\n",
      "_md5                decimal             opcode              terminado\n",
      "_msi                decorator           openpyxl            test\n",
      "_multibytecodec     defusedxml          operator            test_pycosat\n",
      "_multiprocessing    diff_match_patch    optparse            text_unidecode\n",
      "_nsis               difflib             os                  textdistance\n",
      "_opcode             dill                overrides           textwrap\n",
      "_operator           dis                 packaging           this\n",
      "_osx_support        distributed         pandas              threading\n",
      "_overlapped         distro              pandocfilters       threadpoolctl\n",
      "_pickle             docstring_to_markdown panel               three_merge\n",
      "_plotly_future_     doctest             param               tifffile\n",
      "_plotly_utils       docutils            paramiko            time\n",
      "_py_abc             dotenv              parsel              timeit\n",
      "_pydatetime         email               parso               timer\n",
      "_pydecimal          encodings           partd               tinycss2\n",
      "_pyio               ensurepip           pathlib             tkinter\n",
      "_pylong             entrypoints         pathspec            tldextract\n",
      "_pytest             enum                patsy               tlz\n",
      "_queue              erfa                pdb                 token\n",
      "_random             errno               perfmon             tokenize\n",
      "_sha1               et_xmlfile          pexpect             toml\n",
      "_sha2               executing           pickle              tomli\n",
      "_sha3               fastjsonschema      pickleshare         tomlkit\n",
      "_signal             faulthandler        pickletools         tomllib\n",
      "_sitebuiltins       filecmp             pip                 toolz\n",
      "_socket             fileinput           pipes               tornado\n",
      "_sqlite3            filelock            pkce                tqdm\n",
      "_sre                flake8              pkg_resources       trace\n",
      "_ssl                flask               pkginfo             traceback\n",
      "_stat               fnmatch             pkgutil             tracemalloc\n",
      "_statistics         fontTools           platform            traitlets\n",
      "_string             fractions           platformdirs        truststore\n",
      "_strptime           frozendict          plistlib            tty\n",
      "_struct             frozenlist          plotly              turtle\n",
      "_symtable           fsspec              pluggy              turtledemo\n",
      "_system_path        ftplib              ply                 twisted\n",
      "_testbuffer         functools           poplib              types\n",
      "_testcapi           gc                  posixpath           typing\n",
      "_testclinic         genericpath         pprint              typing_extensions\n",
      "_testconsole        gensim              prettytable         tzdata\n",
      "_testimportmultiple getopt              profile             uc_micro\n",
      "_testinternalcapi   getpass             prometheus_client   ujson\n",
      "_testmultiphase     gettext             prompt_toolkit      unicodedata\n",
      "_testsinglephase    git                 protego             unicodedata2\n",
      "_thread             gitdb               pstats              unidecode\n",
      "_threading_local    glob                psutil              unittest\n",
      "_tkinter            graphlib            pty                 urllib\n",
      "_tokenize           greenlet            ptyprocess          urllib3\n",
      "_tracemalloc        gzip                pure_eval           uu\n",
      "_typing             h11                 py                  uuid\n",
      "_uuid               h5py                py_compile          venv\n",
      "_warnings           hashlib             pyarrow             w3lib\n",
      "_weakref            heapdict            pyasn1              warnings\n",
      "_weakrefset         heapq               pyasn1_modules      watchdog\n",
      "_win32sysloader     hmac                pyclbr              wave\n",
      "_winapi             holoviews           pycodestyle         wcwidth\n",
      "_winxptheme         html                pycosat             weakref\n",
      "_wmi                http                pycparser           webbrowser\n",
      "_xxinterpchannels   httpcore            pyct                webencodings\n",
      "_xxsubinterpreters  httpx               pycurl              websocket\n",
      "_yaml               hvplot              pydantic            werkzeug\n",
      "_zoneinfo           hyperlink           pydantic_core       whatthepatch\n",
      "abc                 idlelib             pydeck              wheel\n",
      "adodbapi            idna                pydispatch          widgetsnbextension\n",
      "aext_assistant      imagecodecs         pydoc               win2kras\n",
      "aext_assistant_server imageio             pydoc_data          win32api\n",
      "aext_core           imagesize           pydocstyle          win32clipboard\n",
      "aext_core_server    imaplib             pyexpat             win32com\n",
      "aext_panels         imblearn            pyflakes            win32con\n",
      "aext_panels_server  imghdr              pygments            win32console\n",
      "aext_share_notebook importlib           pyjokes             win32cred\n",
      "aext_share_notebook_server importlib_metadata  pylab               win32crypt\n",
      "aext_shared         incremental         pylint              win32cryptcon\n",
      "afxres              inflection          pylint_venv         win32ctypes\n",
      "aifc                iniconfig           pyls_spyder         win32event\n",
      "aiobotocore         inspect             pylsp               win32evtlog\n",
      "aiohttp             intake              pylsp_black         win32evtlogutil\n",
      "aioitertools        intervaltree        pylsp_jsonrpc       win32file\n",
      "aiosignal           io                  pyodbc              win32gui\n",
      "alabaster           ipaddress           pyparsing           win32gui_struct\n",
      "altair              ipykernel           pytest              win32help\n",
      "anaconda_anon_usage ipykernel_launcher  pythoncom           win32inet\n",
      "anaconda_catalogs   ipython_genutils    pythonjsonlogger    win32inetcon\n",
      "anaconda_cloud_auth ipywidgets          pytoolconfig        win32job\n",
      "anaconda_navigator  isapi               pytz                win32lz\n",
      "anaconda_project    isort               pyviz_comms         win32net\n",
      "annotated_types     isympy              pywin               win32netcon\n",
      "antigravity         itemadapter         pywin32_bootstrap   win32pdh\n",
      "anyio               itemloaders         pywin32_testutil    win32pdhquery\n",
      "appdirs             itertools           pywintypes          win32pdhutil\n",
      "archspec            itsdangerous        pywt                win32pipe\n",
      "argon2              jedi                qdarkstyle          win32print\n",
      "argparse            jellyfish           qstylizer           win32process\n",
      "array               jinja2              qtawesome           win32profile\n",
      "arrow               jmespath            qtconsole           win32ras\n",
      "ast                 job_analyzer        qtpy                win32rcparser\n",
      "astroid             job_filter          queue               win32security\n",
      "astropy             joblib              queuelib            win32service\n",
      "astropy_iers_data   json                quopri              win32serviceutil\n",
      "asttokens           json5               random              win32timezone\n",
      "async_lru           jsonpatch           rasutil             win32trace\n",
      "asyncio             jsonpointer         re                  win32traceutil\n",
      "atexit              jsonschema          referencing         win32transaction\n",
      "atomicwrites        jsonschema_specifications regcheck            win32ts\n",
      "attr                jupyter             regex               win32ui\n",
      "attrs               jupyter_client      regutil             win32uiole\n",
      "audioop             jupyter_console     repo_cli            win32verstamp\n",
      "automat             jupyter_core        reprlib             win32wnet\n",
      "autopep8            jupyter_events      requests            win_inet_pton\n",
      "babel               jupyter_lsp         requests_file       winerror\n",
      "base64              jupyter_server      requests_toolbelt   winioctlcon\n",
      "bcrypt              jupyter_server_terminals rfc3339_validator   winnt\n",
      "bdb                 jupyterlab          rfc3986_validator   winperf\n",
      "binaryornot         jupyterlab_plotly   rich                winpty\n",
      "binascii            jupyterlab_pygments rlcompleter         winreg\n",
      "binstar_client      jupyterlab_server   rope                winsound\n",
      "bisect              jupyterlab_widgets  rpds                winxpgui\n",
      "black               jwt                 rtree               winxptheme\n",
      "blackd              keyring             ruamel_yaml         wrapt\n",
      "bleach              keyword             runpy               wsgiref\n",
      "blib2to3            kiwisolver          s3fs                xarray\n",
      "blinker             lazy_loader         sal_calc            xdrlib\n",
      "bokeh               lazy_object_proxy   salary_calculator   xlwings\n",
      "boltons             lckr_jupyterlab_variableinspector sched               xlwingsjs\n",
      "botocore            lib2to3             scipy               xml\n",
      "bottleneck          libarchive          scrapy              xmlrpc\n",
      "brotli              libmambapy          seaborn             xxlimited\n",
      "bs4                 lief                secrets             xxlimited_35\n",
      "builtins            linecache           select              xxsubtype\n",
      "bz2                 linkify_it          selectors           xyzservices\n",
      "cProfile            llvmlite            semver              yaml\n",
      "cachetools          lmdb                send2trash          yapf\n",
      "calendar            locale              service_identity    yapf_third_party\n",
      "certifi             locket              servicemanager      yapftests\n",
      "cffi                logging             setuptools          yarl\n",
      "cgi                 lxml                shelve              zict\n",
      "cgitb               lz4                 shlex               zipapp\n",
      "chardet             lzma                shutil              zipfile\n",
      "charset_normalizer  mailbox             signal              zipimport\n",
      "chunk               mailcap             sipbuild            zipp\n",
      "click               markdown            site                zlib\n",
      "cloudpickle         markdown_it         six                 zmq\n",
      "cmath               markupsafe          skimage             zoneinfo\n",
      "cmd                 marshal             sklearn             zope\n",
      "code                math                slugify             zstandard\n",
      "codecs              matplotlib          smart_open          \n",
      "codeop              matplotlib_inline   smmap               \n",
      "\n",
      "Enter any module name to get more help.  Or, type \"modules spam\" to search\n",
      "for modules whose name or summary contain the string \"spam\".\n",
      "\n"
     ]
    }
   ],
   "source": [
    "help(\"modules\")"
   ]
  },
  {
   "cell_type": "code",
   "execution_count": 270,
   "id": "9c6527fd-a410-434b-8ade-68cac2c9dc5a",
   "metadata": {},
   "outputs": [
    {
     "name": "stdout",
     "output_type": "stream",
     "text": [
      "No Python documentation found for 'get_jokes'.\n",
      "Use help() to get the interactive help utility.\n",
      "Use help(str) for help on the str class.\n",
      "\n"
     ]
    }
   ],
   "source": [
    "help('get_jokes')"
   ]
  },
  {
   "cell_type": "code",
   "execution_count": 272,
   "id": "fbb6f00c-e6a6-443b-9bf6-4251744efcc4",
   "metadata": {},
   "outputs": [
    {
     "name": "stdout",
     "output_type": "stream",
     "text": [
      "Collecting pyjokes\n",
      "  Downloading pyjokes-0.8.3-py3-none-any.whl.metadata (3.4 kB)\n",
      "Downloading pyjokes-0.8.3-py3-none-any.whl (47 kB)\n",
      "   ---------------------------------------- 0.0/47.6 kB ? eta -:--:--\n",
      "   ---------------------------------- ----- 41.0/47.6 kB 653.6 kB/s eta 0:00:01\n",
      "   ---------------------------------- ----- 41.0/47.6 kB 653.6 kB/s eta 0:00:01\n",
      "   ---------------------------------- ----- 41.0/47.6 kB 653.6 kB/s eta 0:00:01\n",
      "   ---------------------------------- ----- 41.0/47.6 kB 653.6 kB/s eta 0:00:01\n",
      "   ---------------------------------------- 47.6/47.6 kB 171.2 kB/s eta 0:00:00\n",
      "Installing collected packages: pyjokes\n",
      "Successfully installed pyjokes-0.8.3\n"
     ]
    }
   ],
   "source": [
    "!pip install pyjokes"
   ]
  },
  {
   "cell_type": "code",
   "execution_count": 308,
   "id": "7bbd6fd9-d5c6-4c80-8ad6-521d28548444",
   "metadata": {},
   "outputs": [
    {
     "name": "stdout",
     "output_type": "stream",
     "text": [
      "When your code does not change color automatically, Something's wrong, I can feel it.\n"
     ]
    }
   ],
   "source": [
    "import pyjokes\n",
    "\n",
    "# Get a random joke\n",
    "joke = pyjokes.get_joke()\n",
    "print(joke)\n"
   ]
  },
  {
   "cell_type": "code",
   "execution_count": 310,
   "id": "3b123856-c9fe-4640-89eb-61ebcd9cb555",
   "metadata": {},
   "outputs": [
    {
     "name": "stdout",
     "output_type": "stream",
     "text": [
      "The best thing about a Boolean is even if you are wrong, you are only off by a bit.\n"
     ]
    }
   ],
   "source": [
    "joke_neutral = pyjokes.get_joke(category='neutral')\n",
    "print(joke_neutral)"
   ]
  },
  {
   "cell_type": "code",
   "execution_count": null,
   "id": "b7b0fb8b-1dfc-4629-9605-05705b116296",
   "metadata": {},
   "outputs": [],
   "source": [
    "#Problem Statement:\n",
    "#Use the os library to list all files in the current directory and print their names with the function os.listdir('.').\n",
    "\n",
    "#Hint:Use the os.listdir function to get the list of files in the current directory, which is denoted by: '.'"
   ]
  },
  {
   "cell_type": "code",
   "execution_count": 286,
   "id": "4bc95591-2c83-4a58-b820-ac9c1b0ddbb7",
   "metadata": {},
   "outputs": [
    {
     "name": "stdout",
     "output_type": "stream",
     "text": [
      ".ipynb_checkpoints\n",
      "1 Hello Python Introduction.docx\n",
      "10 2D NumPy Arrays.docx\n",
      "11 NumPy Basic Statitics.docx\n",
      "12 Dictionaries.docx\n",
      "13 Dictionaries_Part_2.docx\n",
      "14 Pandas.docx\n",
      "15 Pandas, Part 2.docx\n",
      "16 Basic plots with Matplotlib.docx\n",
      "17 Histogram.docx\n",
      "18 Customization.docx\n",
      "19 Comparison Operators.docx\n",
      "2 Variables and Types.docx\n",
      "20 Boolean Operators.docx\n",
      "21 if - elif - else.docx\n",
      "22 Filtering pandas DataFrames.docx\n",
      "23 while loop.docx\n",
      "24 for loop.docx\n",
      "25 Loop Data Structures Part 1.docx\n",
      "26 Loop Data Structures Part 2.docx\n",
      "27 Random Numbers.docx\n",
      "28 Random Walk.docx\n",
      "29 Distribution.docx\n",
      "3 Python Lists.docx\n",
      "30 Introducing DataFrames.docx\n",
      "31 Sorting and subsetting - data frame.docx\n",
      "31 Sorting and subsetting.docx\n",
      "32 New columns.docx\n",
      "33 Summary statistics.docx\n",
      "34 Counting.docx\n",
      "35 Grouped summary statistics.docx\n",
      "36 Pivot tables.docx\n",
      "37 Explicit indexes NumPy array 4 data 2 indexes row _column.docx\n",
      "37 Explicit indexes.docx\n",
      "38 Slicing and subsetting with.docx\n",
      "39 Working with pivot tables.docx\n",
      "4 subnetting Lists.docx\n",
      "40 Visualizing your data.docx\n",
      "41 Missing values.docx\n",
      "42 Creating DataFrames.docx\n",
      "43 Reading and writing CSVs.docx\n",
      "44 Wrap-Up.docx\n",
      "5 manipulating Lists.docx\n",
      "6 Functions.docx\n",
      "7 Methods used in Python.docx\n",
      "8 Packages.docx\n",
      "9 NumPy  w_code.docx\n",
      "9 NumPy.docx\n",
      "9.1 Numpy Subnetting.docx\n",
      "Cleaning Python.docx\n",
      "Code Less Earn More (by Frank Andrade).pdf\n",
      "example.ipynb\n",
      "job_analyzer.py\n",
      "job_filter.py\n",
      "list disctionary tuple.docx\n",
      "my_module.py\n",
      "Python Cheat Sheet.pdf\n",
      "salary_calculator .py\n",
      "sal_calc.py\n",
      "__pycache__\n",
      "~$ Grouped summary statistics.docx\n",
      "~$eaning Python.docx\n",
      "~$st disctionary tuple.docx\n"
     ]
    }
   ],
   "source": [
    "import os\n",
    "files = os.listdir('.')\n",
    "\n",
    "for file in files:\n",
    "    print(file)\n"
   ]
  },
  {
   "cell_type": "code",
   "execution_count": null,
   "id": "a3680888-d35c-4e76-98a5-b03e9784d0d3",
   "metadata": {},
   "outputs": [],
   "source": [
    "#Problem Statement:\n",
    "#Use the requests library to fetch data from the URL 'https://pokeapi.co/api/v2/pokemon/pikachu' and print the JSON response.\n",
    "\n",
    "#Code Needed:\n",
    "url = 'https://pokeapi.co/api/v2/pokemon/pikachu'\n",
    "#Hint:Use the requests.get() function to fetch data from the URL, providing url as the argument; this will provide a response object.\n",
    "#With the response object, use the json method to get the response formatted as json."
   ]
  },
  {
   "cell_type": "code",
   "execution_count": 288,
   "id": "44f11050-1180-4e50-b95d-130a9ef1ceb1",
   "metadata": {},
   "outputs": [
    {
     "name": "stdout",
     "output_type": "stream",
     "text": [
      "Requirement already satisfied: requests in c:\\users\\vtylk\\anaconda3\\lib\\site-packages (2.32.2)\n",
      "Requirement already satisfied: charset-normalizer<4,>=2 in c:\\users\\vtylk\\anaconda3\\lib\\site-packages (from requests) (2.0.4)\n",
      "Requirement already satisfied: idna<4,>=2.5 in c:\\users\\vtylk\\anaconda3\\lib\\site-packages (from requests) (3.7)\n",
      "Requirement already satisfied: urllib3<3,>=1.21.1 in c:\\users\\vtylk\\anaconda3\\lib\\site-packages (from requests) (2.2.2)\n",
      "Requirement already satisfied: certifi>=2017.4.17 in c:\\users\\vtylk\\anaconda3\\lib\\site-packages (from requests) (2024.8.30)\n"
     ]
    }
   ],
   "source": [
    "!pip install requests\n"
   ]
  },
  {
   "cell_type": "code",
   "execution_count": 302,
   "id": "5f2502ee-ca26-4e8a-88aa-20862acd7a82",
   "metadata": {},
   "outputs": [
    {
     "name": "stdout",
     "output_type": "stream",
     "text": [
      "{'abilities': [{'ability': {'name': 'static', 'url': 'https://pokeapi.co/api/v2/ability/9/'}, 'is_hidden': False, 'slot': 1}, {'ability': {'name': 'lightning-rod', 'url': 'https://pokeapi.co/api/v2/ability/31/'}, 'is_hidden': True, 'slot': 3}], 'base_experience': 112, 'cries': {'latest': 'https://raw.githubusercontent.com/PokeAPI/cries/main/cries/pokemon/latest/25.ogg', 'legacy': 'https://raw.githubusercontent.com/PokeAPI/cries/main/cries/pokemon/legacy/25.ogg'}, 'forms': [{'name': 'pikachu', 'url': 'https://pokeapi.co/api/v2/pokemon-form/25/'}], 'game_indices': [{'game_index': 84, 'version': {'name': 'red', 'url': 'https://pokeapi.co/api/v2/version/1/'}}, {'game_index': 84, 'version': {'name': 'blue', 'url': 'https://pokeapi.co/api/v2/version/2/'}}, {'game_index': 84, 'version': {'name': 'yellow', 'url': 'https://pokeapi.co/api/v2/version/3/'}}, {'game_index': 25, 'version': {'name': 'gold', 'url': 'https://pokeapi.co/api/v2/version/4/'}}, {'game_index': 25, 'version': {'name': 'silver', 'url': 'https://pokeapi.co/api/v2/version/5/'}}, {'game_index': 25, 'version': {'name': 'crystal', 'url': 'https://pokeapi.co/api/v2/version/6/'}}, {'game_index': 25, 'version': {'name': 'ruby', 'url': 'https://pokeapi.co/api/v2/version/7/'}}, {'game_index': 25, 'version': {'name': 'sapphire', 'url': 'https://pokeapi.co/api/v2/version/8/'}}, {'game_index': 25, 'version': {'name': 'emerald', 'url': 'https://pokeapi.co/api/v2/version/9/'}}, {'game_index': 25, 'version': {'name': 'firered', 'url': 'https://pokeapi.co/api/v2/version/10/'}}, {'game_index': 25, 'version': {'name': 'leafgreen', 'url': 'https://pokeapi.co/api/v2/version/11/'}}, {'game_index': 25, 'version': {'name': 'diamond', 'url': 'https://pokeapi.co/api/v2/version/12/'}}, {'game_index': 25, 'version': {'name': 'pearl', 'url': 'https://pokeapi.co/api/v2/version/13/'}}, {'game_index': 25, 'version': {'name': 'platinum', 'url': 'https://pokeapi.co/api/v2/version/14/'}}, {'game_index': 25, 'version': {'name': 'heartgold', 'url': 'https://pokeapi.co/api/v2/version/15/'}}, {'game_index': 25, 'version': {'name': 'soulsilver', 'url': 'https://pokeapi.co/api/v2/version/16/'}}, {'game_index': 25, 'version': {'name': 'black', 'url': 'https://pokeapi.co/api/v2/version/17/'}}, {'game_index': 25, 'version': {'name': 'white', 'url': 'https://pokeapi.co/api/v2/version/18/'}}, {'game_index': 25, 'version': {'name': 'black-2', 'url': 'https://pokeapi.co/api/v2/version/21/'}}, {'game_index': 25, 'version': {'name': 'white-2', 'url': 'https://pokeapi.co/api/v2/version/22/'}}], 'height': 4, 'held_items': [{'item': {'name': 'oran-berry', 'url': 'https://pokeapi.co/api/v2/item/132/'}, 'version_details': [{'rarity': 50, 'version': {'name': 'ruby', 'url': 'https://pokeapi.co/api/v2/version/7/'}}, {'rarity': 50, 'version': {'name': 'sapphire', 'url': 'https://pokeapi.co/api/v2/version/8/'}}, {'rarity': 50, 'version': {'name': 'emerald', 'url': 'https://pokeapi.co/api/v2/version/9/'}}, {'rarity': 50, 'version': {'name': 'diamond', 'url': 'https://pokeapi.co/api/v2/version/12/'}}, {'rarity': 50, 'version': {'name': 'pearl', 'url': 'https://pokeapi.co/api/v2/version/13/'}}, {'rarity': 50, 'version': {'name': 'platinum', 'url': 'https://pokeapi.co/api/v2/version/14/'}}, {'rarity': 50, 'version': {'name': 'heartgold', 'url': 'https://pokeapi.co/api/v2/version/15/'}}, {'rarity': 50, 'version': {'name': 'soulsilver', 'url': 'https://pokeapi.co/api/v2/version/16/'}}, {'rarity': 50, 'version': {'name': 'black', 'url': 'https://pokeapi.co/api/v2/version/17/'}}, {'rarity': 50, 'version': {'name': 'white', 'url': 'https://pokeapi.co/api/v2/version/18/'}}]}, {'item': {'name': 'light-ball', 'url': 'https://pokeapi.co/api/v2/item/213/'}, 'version_details': [{'rarity': 5, 'version': {'name': 'ruby', 'url': 'https://pokeapi.co/api/v2/version/7/'}}, {'rarity': 5, 'version': {'name': 'sapphire', 'url': 'https://pokeapi.co/api/v2/version/8/'}}, {'rarity': 5, 'version': {'name': 'emerald', 'url': 'https://pokeapi.co/api/v2/version/9/'}}, {'rarity': 5, 'version': {'name': 'diamond', 'url': 'https://pokeapi.co/api/v2/version/12/'}}, {'rarity': 5, 'version': {'name': 'pearl', 'url': 'https://pokeapi.co/api/v2/version/13/'}}, {'rarity': 5, 'version': {'name': 'platinum', 'url': 'https://pokeapi.co/api/v2/version/14/'}}, {'rarity': 5, 'version': {'name': 'heartgold', 'url': 'https://pokeapi.co/api/v2/version/15/'}}, {'rarity': 5, 'version': {'name': 'soulsilver', 'url': 'https://pokeapi.co/api/v2/version/16/'}}, {'rarity': 1, 'version': {'name': 'black', 'url': 'https://pokeapi.co/api/v2/version/17/'}}, {'rarity': 1, 'version': {'name': 'white', 'url': 'https://pokeapi.co/api/v2/version/18/'}}, {'rarity': 5, 'version': {'name': 'black-2', 'url': 'https://pokeapi.co/api/v2/version/21/'}}, {'rarity': 5, 'version': {'name': 'white-2', 'url': 'https://pokeapi.co/api/v2/version/22/'}}, {'rarity': 5, 'version': {'name': 'x', 'url': 'https://pokeapi.co/api/v2/version/23/'}}, {'rarity': 5, 'version': {'name': 'y', 'url': 'https://pokeapi.co/api/v2/version/24/'}}, {'rarity': 5, 'version': {'name': 'omega-ruby', 'url': 'https://pokeapi.co/api/v2/version/25/'}}, {'rarity': 5, 'version': {'name': 'alpha-sapphire', 'url': 'https://pokeapi.co/api/v2/version/26/'}}, {'rarity': 5, 'version': {'name': 'sun', 'url': 'https://pokeapi.co/api/v2/version/27/'}}, {'rarity': 5, 'version': {'name': 'moon', 'url': 'https://pokeapi.co/api/v2/version/28/'}}, {'rarity': 5, 'version': {'name': 'ultra-sun', 'url': 'https://pokeapi.co/api/v2/version/29/'}}, {'rarity': 5, 'version': {'name': 'ultra-moon', 'url': 'https://pokeapi.co/api/v2/version/30/'}}]}], 'id': 25, 'is_default': True, 'location_area_encounters': 'https://pokeapi.co/api/v2/pokemon/25/encounters', 'moves': [{'move': {'name': 'mega-punch', 'url': 'https://pokeapi.co/api/v2/move/5/'}, 'version_group_details': [{'level_learned_at': 0, 'move_learn_method': {'name': 'machine', 'url': 'https://pokeapi.co/api/v2/move-learn-method/4/'}, 'version_group': {'name': 'red-blue', 'url': 'https://pokeapi.co/api/v2/version-group/1/'}}, {'level_learned_at': 0, 'move_learn_method': {'name': 'machine', 'url': 'https://pokeapi.co/api/v2/move-learn-method/4/'}, 'version_group': {'name': 'yellow', 'url': 'https://pokeapi.co/api/v2/version-group/2/'}}, {'level_learned_at': 0, 'move_learn_method': {'name': 'tutor', 'url': 'https://pokeapi.co/api/v2/move-learn-method/3/'}, 'version_group': {'name': 'emerald', 'url': 'https://pokeapi.co/api/v2/version-group/6/'}}, {'level_learned_at': 0, 'move_learn_method': {'name': 'tutor', 'url': 'https://pokeapi.co/api/v2/move-learn-method/3/'}, 'version_group': {'name': 'firered-leafgreen', 'url': 'https://pokeapi.co/api/v2/version-group/7/'}}, {'level_learned_at': 0, 'move_learn_method': {'name': 'machine', 'url': 'https://pokeapi.co/api/v2/move-learn-method/4/'}, 'version_group': {'name': 'sword-shield', 'url': 'https://pokeapi.co/api/v2/version-group/20/'}}]}, {'move': {'name': 'pay-day', 'url': 'https://pokeapi.co/api/v2/move/6/'}, 'version_group_details': [{'level_learned_at': 0, 'move_learn_method': {'name': 'machine', 'url': 'https://pokeapi.co/api/v2/move-learn-method/4/'}, 'version_group': {'name': 'red-blue', 'url': 'https://pokeapi.co/api/v2/version-group/1/'}}, {'level_learned_at': 0, 'move_learn_method': {'name': 'machine', 'url': 'https://pokeapi.co/api/v2/move-learn-method/4/'}, 'version_group': {'name': 'yellow', 'url': 'https://pokeapi.co/api/v2/version-group/2/'}}, {'level_learned_at': 0, 'move_learn_method': {'name': 'machine', 'url': 'https://pokeapi.co/api/v2/move-learn-method/4/'}, 'version_group': {'name': 'lets-go-pikachu-lets-go-eevee', 'url': 'https://pokeapi.co/api/v2/version-group/19/'}}, {'level_learned_at': 0, 'move_learn_method': {'name': 'machine', 'url': 'https://pokeapi.co/api/v2/move-learn-method/4/'}, 'version_group': {'name': 'sword-shield', 'url': 'https://pokeapi.co/api/v2/version-group/20/'}}]}, {'move': {'name': 'thunder-punch', 'url': 'https://pokeapi.co/api/v2/move/9/'}, 'version_group_details': [{'level_learned_at': 0, 'move_learn_method': {'name': 'machine', 'url': 'https://pokeapi.co/api/v2/move-learn-method/4/'}, 'version_group': {'name': 'gold-silver', 'url': 'https://pokeapi.co/api/v2/version-group/3/'}}, {'level_learned_at': 0, 'move_learn_method': {'name': 'machine', 'url': 'https://pokeapi.co/api/v2/move-learn-method/4/'}, 'version_group': {'name': 'crystal', 'url': 'https://pokeapi.co/api/v2/version-group/4/'}}, {'level_learned_at': 0, 'move_learn_method': {'name': 'tutor', 'url': 'https://pokeapi.co/api/v2/move-learn-method/3/'}, 'version_group': {'name': 'emerald', 'url': 'https://pokeapi.co/api/v2/version-group/6/'}}, {'level_learned_at': 0, 'move_learn_method': {'name': 'tutor', 'url': 'https://pokeapi.co/api/v2/move-learn-method/3/'}, 'version_group': {'name': 'platinum', 'url': 'https://pokeapi.co/api/v2/version-group/9/'}}, {'level_learned_at': 0, 'move_learn_method': {'name': 'tutor', 'url': 'https://pokeapi.co/api/v2/move-learn-method/3/'}, 'version_group': {'name': 'heartgold-soulsilver', 'url': 'https://pokeapi.co/api/v2/version-group/10/'}}, {'level_learned_at': 0, 'move_learn_method': {'name': 'tutor', 'url': 'https://pokeapi.co/api/v2/move-learn-method/3/'}, 'version_group': {'name': 'black-2-white-2', 'url': 'https://pokeapi.co/api/v2/version-group/14/'}}, {'level_learned_at': 0, 'move_learn_method': {'name': 'tutor', 'url': 'https://pokeapi.co/api/v2/move-learn-method/3/'}, 'version_group': {'name': 'omega-ruby-alpha-sapphire', 'url': 'https://pokeapi.co/api/v2/version-group/16/'}}, {'level_learned_at': 0, 'move_learn_method': {'name': 'tutor', 'url': 'https://pokeapi.co/api/v2/move-learn-method/3/'}, 'version_group': {'name': 'ultra-sun-ultra-moon', 'url': 'https://pokeapi.co/api/v2/version-group/18/'}}, {'level_learned_at': 0, 'move_learn_method': {'name': 'machine', 'url': 'https://pokeapi.co/api/v2/move-learn-method/4/'}, 'version_group': {'name': 'lets-go-pikachu-lets-go-eevee', 'url': 'https://pokeapi.co/api/v2/version-group/19/'}}, {'level_learned_at': 0, 'move_learn_method': {'name': 'machine', 'url': 'https://pokeapi.co/api/v2/move-learn-method/4/'}, 'version_group': {'name': 'sword-shield', 'url': 'https://pokeapi.co/api/v2/version-group/20/'}}, {'level_learned_at': 0, 'move_learn_method': {'name': 'machine', 'url': 'https://pokeapi.co/api/v2/move-learn-method/4/'}, 'version_group': {'name': 'scarlet-violet', 'url': 'https://pokeapi.co/api/v2/version-group/25/'}}]}, {'move': {'name': 'slam', 'url': 'https://pokeapi.co/api/v2/move/21/'}, 'version_group_details': [{'level_learned_at': 20, 'move_learn_method': {'name': 'level-up', 'url': 'https://pokeapi.co/api/v2/move-learn-method/1/'}, 'version_group': {'name': 'yellow', 'url': 'https://pokeapi.co/api/v2/version-group/2/'}}, {'level_learned_at': 20, 'move_learn_method': {'name': 'level-up', 'url': 'https://pokeapi.co/api/v2/move-learn-method/1/'}, 'version_group': {'name': 'gold-silver', 'url': 'https://pokeapi.co/api/v2/version-group/3/'}}, {'level_learned_at': 20, 'move_learn_method': {'name': 'level-up', 'url': 'https://pokeapi.co/api/v2/move-learn-method/1/'}, 'version_group': {'name': 'crystal', 'url': 'https://pokeapi.co/api/v2/version-group/4/'}}, {'level_learned_at': 20, 'move_learn_method': {'name': 'level-up', 'url': 'https://pokeapi.co/api/v2/move-learn-method/1/'}, 'version_group': {'name': 'ruby-sapphire', 'url': 'https://pokeapi.co/api/v2/version-group/5/'}}, {'level_learned_at': 20, 'move_learn_method': {'name': 'level-up', 'url': 'https://pokeapi.co/api/v2/move-learn-method/1/'}, 'version_group': {'name': 'emerald', 'url': 'https://pokeapi.co/api/v2/version-group/6/'}}, {'level_learned_at': 20, 'move_learn_method': {'name': 'level-up', 'url': 'https://pokeapi.co/api/v2/move-learn-method/1/'}, 'version_group': {'name': 'firered-leafgreen', 'url': 'https://pokeapi.co/api/v2/version-group/7/'}}, {'level_learned_at': 21, 'move_learn_method': {'name': 'level-up', 'url': 'https://pokeapi.co/api/v2/move-learn-method/1/'}, 'version_group': {'name': 'diamond-pearl', 'url': 'https://pokeapi.co/api/v2/version-group/8/'}}, {'level_learned_at': 21, 'move_learn_method': {'name': 'level-up', 'url': 'https://pokeapi.co/api/v2/move-learn-method/1/'}, 'version_group': {'name': 'platinum', 'url': 'https://pokeapi.co/api/v2/version-group/9/'}}, {'level_learned_at': 21, 'move_learn_method': {'name': 'level-up', 'url': 'https://pokeapi.co/api/v2/move-learn-method/1/'}, 'version_group': {'name': 'heartgold-soulsilver', 'url': 'https://pokeapi.co/api/v2/version-group/10/'}}, {'level_learned_at': 26, 'move_learn_method': {'name': 'level-up', 'url': 'https://pokeapi.co/api/v2/move-learn-method/1/'}, 'version_group': {'name': 'black-white', 'url': 'https://pokeapi.co/api/v2/version-group/11/'}}, {'level_learned_at': 20, 'move_learn_method': {'name': 'level-up', 'url': 'https://pokeapi.co/api/v2/move-learn-method/1/'}, 'version_group': {'name': 'colosseum', 'url': 'https://pokeapi.co/api/v2/version-group/12/'}}, {'level_learned_at': 20, 'move_learn_method': {'name': 'level-up', 'url': 'https://pokeapi.co/api/v2/move-learn-method/1/'}, 'version_group': {'name': 'xd', 'url': 'https://pokeapi.co/api/v2/version-group/13/'}}, {'level_learned_at': 26, 'move_learn_method': {'name': 'level-up', 'url': 'https://pokeapi.co/api/v2/move-learn-method/1/'}, 'version_group': {'name': 'black-2-white-2', 'url': 'https://pokeapi.co/api/v2/version-group/14/'}}, {'level_learned_at': 26, 'move_learn_method': {'name': 'level-up', 'url': 'https://pokeapi.co/api/v2/move-learn-method/1/'}, 'version_group': {'name': 'x-y', 'url': 'https://pokeapi.co/api/v2/version-group/15/'}}, {'level_learned_at': 37, 'move_learn_method': {'name': 'level-up', 'url': 'https://pokeapi.co/api/v2/move-learn-method/1/'}, 'version_group': {'name': 'omega-ruby-alpha-sapphire', 'url': 'https://pokeapi.co/api/v2/version-group/16/'}}, {'level_learned_at': 37, 'move_learn_method': {'name': 'level-up', 'url': 'https://pokeapi.co/api/v2/move-learn-method/1/'}, 'version_group': {'name': 'sun-moon', 'url': 'https://pokeapi.co/api/v2/version-group/17/'}}, {'level_learned_at': 37, 'move_learn_method': {'name': 'level-up', 'url': 'https://pokeapi.co/api/v2/move-learn-method/1/'}, 'version_group': {'name': 'ultra-sun-ultra-moon', 'url': 'https://pokeapi.co/api/v2/version-group/18/'}}, {'level_learned_at': 24, 'move_learn_method': {'name': 'level-up', 'url': 'https://pokeapi.co/api/v2/move-learn-method/1/'}, 'version_group': {'name': 'lets-go-pikachu-lets-go-eevee', 'url': 'https://pokeapi.co/api/v2/version-group/19/'}}, {'level_learned_at': 28, 'move_learn_method': {'name': 'level-up', 'url': 'https://pokeapi.co/api/v2/move-learn-method/1/'}, 'version_group': {'name': 'sword-shield', 'url': 'https://pokeapi.co/api/v2/version-group/20/'}}, {'level_learned_at': 28, 'move_learn_method': {'name': 'level-up', 'url': 'https://pokeapi.co/api/v2/move-learn-method/1/'}, 'version_group': {'name': 'brilliant-diamond-and-shining-pearl', 'url': 'https://pokeapi.co/api/v2/version-group/23/'}}]}, {'move': {'name': 'double-kick', 'url': 'https://pokeapi.co/api/v2/move/24/'}, 'version_group_details': [{'level_learned_at': 9, 'move_learn_method': {'name': 'level-up', 'url': 'https://pokeapi.co/api/v2/move-learn-method/1/'}, 'version_group': {'name': 'lets-go-pikachu-lets-go-eevee', 'url': 'https://pokeapi.co/api/v2/version-group/19/'}}]}, {'move': {'name': 'mega-kick', 'url': 'https://pokeapi.co/api/v2/move/25/'}, 'version_group_details': [{'level_learned_at': 0, 'move_learn_method': {'name': 'machine', 'url': 'https://pokeapi.co/api/v2/move-learn-method/4/'}, 'version_group': {'name': 'red-blue', 'url': 'https://pokeapi.co/api/v2/version-group/1/'}}, {'level_learned_at': 0, 'move_learn_method': {'name': 'machine', 'url': 'https://pokeapi.co/api/v2/move-learn-method/4/'}, 'version_group': {'name': 'yellow', 'url': 'https://pokeapi.co/api/v2/version-group/2/'}}, {'level_learned_at': 0, 'move_learn_method': {'name': 'tutor', 'url': 'https://pokeapi.co/api/v2/move-learn-method/3/'}, 'version_group': {'name': 'emerald', 'url': 'https://pokeapi.co/api/v2/version-group/6/'}}, {'level_learned_at': 0, 'move_learn_method': {'name': 'tutor', 'url': 'https://pokeapi.co/api/v2/move-learn-method/3/'}, 'version_group': {'name': 'firered-leafgreen', 'url': 'https://pokeapi.co/api/v2/version-group/7/'}}, {'level_learned_at': 0, 'move_learn_method': {'name': 'machine', 'url': 'https://pokeapi.co/api/v2/move-learn-method/4/'}, 'version_group': {'name': 'sword-shield', 'url': 'https://pokeapi.co/api/v2/version-group/20/'}}]}, {'move': {'name': 'headbutt', 'url': 'https://pokeapi.co/api/v2/move/29/'}, 'version_group_details': [{'level_learned_at': 0, 'move_learn_method': {'name': 'machine', 'url': 'https://pokeapi.co/api/v2/move-learn-method/4/'}, 'version_group': {'name': 'gold-silver', 'url': 'https://pokeapi.co/api/v2/version-group/3/'}}, {'level_learned_at': 0, 'move_learn_method': {'name': 'machine', 'url': 'https://pokeapi.co/api/v2/move-learn-method/4/'}, 'version_group': {'name': 'crystal', 'url': 'https://pokeapi.co/api/v2/version-group/4/'}}, {'level_learned_at': 0, 'move_learn_method': {'name': 'tutor', 'url': 'https://pokeapi.co/api/v2/move-learn-method/3/'}, 'version_group': {'name': 'heartgold-soulsilver', 'url': 'https://pokeapi.co/api/v2/version-group/10/'}}, {'level_learned_at': 0, 'move_learn_method': {'name': 'machine', 'url': 'https://pokeapi.co/api/v2/move-learn-method/4/'}, 'version_group': {'name': 'lets-go-pikachu-lets-go-eevee', 'url': 'https://pokeapi.co/api/v2/version-group/19/'}}]}, {'move': {'name': 'body-slam', 'url': 'https://pokeapi.co/api/v2/move/34/'}, 'version_group_details': [{'level_learned_at': 0, 'move_learn_method': {'name': 'machine', 'url': 'https://pokeapi.co/api/v2/move-learn-method/4/'}, 'version_group': {'name': 'red-blue', 'url': 'https://pokeapi.co/api/v2/version-group/1/'}}, {'level_learned_at': 0, 'move_learn_method': {'name': 'machine', 'url': 'https://pokeapi.co/api/v2/move-learn-method/4/'}, 'version_group': {'name': 'yellow', 'url': 'https://pokeapi.co/api/v2/version-group/2/'}}, {'level_learned_at': 0, 'move_learn_method': {'name': 'tutor', 'url': 'https://pokeapi.co/api/v2/move-learn-method/3/'}, 'version_group': {'name': 'emerald', 'url': 'https://pokeapi.co/api/v2/version-group/6/'}}, {'level_learned_at': 0, 'move_learn_method': {'name': 'tutor', 'url': 'https://pokeapi.co/api/v2/move-learn-method/3/'}, 'version_group': {'name': 'firered-leafgreen', 'url': 'https://pokeapi.co/api/v2/version-group/7/'}}, {'level_learned_at': 0, 'move_learn_method': {'name': 'tutor', 'url': 'https://pokeapi.co/api/v2/move-learn-method/3/'}, 'version_group': {'name': 'xd', 'url': 'https://pokeapi.co/api/v2/version-group/13/'}}, {'level_learned_at': 0, 'move_learn_method': {'name': 'machine', 'url': 'https://pokeapi.co/api/v2/move-learn-method/4/'}, 'version_group': {'name': 'sword-shield', 'url': 'https://pokeapi.co/api/v2/version-group/20/'}}, {'level_learned_at': 0, 'move_learn_method': {'name': 'machine', 'url': 'https://pokeapi.co/api/v2/move-learn-method/4/'}, 'version_group': {'name': 'scarlet-violet', 'url': 'https://pokeapi.co/api/v2/version-group/25/'}}]}, {'move': {'name': 'take-down', 'url': 'https://pokeapi.co/api/v2/move/36/'}, 'version_group_details': [{'level_learned_at': 0, 'move_learn_method': {'name': 'machine', 'url': 'https://pokeapi.co/api/v2/move-learn-method/4/'}, 'version_group': {'name': 'red-blue', 'url': 'https://pokeapi.co/api/v2/version-group/1/'}}, {'level_learned_at': 0, 'move_learn_method': {'name': 'machine', 'url': 'https://pokeapi.co/api/v2/move-learn-method/4/'}, 'version_group': {'name': 'yellow', 'url': 'https://pokeapi.co/api/v2/version-group/2/'}}, {'level_learned_at': 0, 'move_learn_method': {'name': 'machine', 'url': 'https://pokeapi.co/api/v2/move-learn-method/4/'}, 'version_group': {'name': 'scarlet-violet', 'url': 'https://pokeapi.co/api/v2/version-group/25/'}}]}, {'move': {'name': 'double-edge', 'url': 'https://pokeapi.co/api/v2/move/38/'}, 'version_group_details': [{'level_learned_at': 0, 'move_learn_method': {'name': 'machine', 'url': 'https://pokeapi.co/api/v2/move-learn-method/4/'}, 'version_group': {'name': 'red-blue', 'url': 'https://pokeapi.co/api/v2/version-group/1/'}}, {'level_learned_at': 0, 'move_learn_method': {'name': 'machine', 'url': 'https://pokeapi.co/api/v2/move-learn-method/4/'}, 'version_group': {'name': 'yellow', 'url': 'https://pokeapi.co/api/v2/version-group/2/'}}, {'level_learned_at': 0, 'move_learn_method': {'name': 'tutor', 'url': 'https://pokeapi.co/api/v2/move-learn-method/3/'}, 'version_group': {'name': 'emerald', 'url': 'https://pokeapi.co/api/v2/version-group/6/'}}, {'level_learned_at': 0, 'move_learn_method': {'name': 'tutor', 'url': 'https://pokeapi.co/api/v2/move-learn-method/3/'}, 'version_group': {'name': 'firered-leafgreen', 'url': 'https://pokeapi.co/api/v2/version-group/7/'}}, {'level_learned_at': 0, 'move_learn_method': {'name': 'tutor', 'url': 'https://pokeapi.co/api/v2/move-learn-method/3/'}, 'version_group': {'name': 'xd', 'url': 'https://pokeapi.co/api/v2/version-group/13/'}}]}, {'move': {'name': 'tail-whip', 'url': 'https://pokeapi.co/api/v2/move/39/'}, 'version_group_details': [{'level_learned_at': 6, 'move_learn_method': {'name': 'level-up', 'url': 'https://pokeapi.co/api/v2/move-learn-method/1/'}, 'version_group': {'name': 'yellow', 'url': 'https://pokeapi.co/api/v2/version-group/2/'}}, {'level_learned_at': 6, 'move_learn_method': {'name': 'level-up', 'url': 'https://pokeapi.co/api/v2/move-learn-method/1/'}, 'version_group': {'name': 'gold-silver', 'url': 'https://pokeapi.co/api/v2/version-group/3/'}}, {'level_learned_at': 6, 'move_learn_method': {'name': 'level-up', 'url': 'https://pokeapi.co/api/v2/move-learn-method/1/'}, 'version_group': {'name': 'crystal', 'url': 'https://pokeapi.co/api/v2/version-group/4/'}}, {'level_learned_at': 6, 'move_learn_method': {'name': 'level-up', 'url': 'https://pokeapi.co/api/v2/move-learn-method/1/'}, 'version_group': {'name': 'ruby-sapphire', 'url': 'https://pokeapi.co/api/v2/version-group/5/'}}, {'level_learned_at': 6, 'move_learn_method': {'name': 'level-up', 'url': 'https://pokeapi.co/api/v2/move-learn-method/1/'}, 'version_group': {'name': 'emerald', 'url': 'https://pokeapi.co/api/v2/version-group/6/'}}, {'level_learned_at': 6, 'move_learn_method': {'name': 'level-up', 'url': 'https://pokeapi.co/api/v2/move-learn-method/1/'}, 'version_group': {'name': 'firered-leafgreen', 'url': 'https://pokeapi.co/api/v2/version-group/7/'}}, {'level_learned_at': 5, 'move_learn_method': {'name': 'level-up', 'url': 'https://pokeapi.co/api/v2/move-learn-method/1/'}, 'version_group': {'name': 'diamond-pearl', 'url': 'https://pokeapi.co/api/v2/version-group/8/'}}, {'level_learned_at': 5, 'move_learn_method': {'name': 'level-up', 'url': 'https://pokeapi.co/api/v2/move-learn-method/1/'}, 'version_group': {'name': 'platinum', 'url': 'https://pokeapi.co/api/v2/version-group/9/'}}, {'level_learned_at': 5, 'move_learn_method': {'name': 'level-up', 'url': 'https://pokeapi.co/api/v2/move-learn-method/1/'}, 'version_group': {'name': 'heartgold-soulsilver', 'url': 'https://pokeapi.co/api/v2/version-group/10/'}}, {'level_learned_at': 5, 'move_learn_method': {'name': 'level-up', 'url': 'https://pokeapi.co/api/v2/move-learn-method/1/'}, 'version_group': {'name': 'black-white', 'url': 'https://pokeapi.co/api/v2/version-group/11/'}}, {'level_learned_at': 6, 'move_learn_method': {'name': 'level-up', 'url': 'https://pokeapi.co/api/v2/move-learn-method/1/'}, 'version_group': {'name': 'colosseum', 'url': 'https://pokeapi.co/api/v2/version-group/12/'}}, {'level_learned_at': 6, 'move_learn_method': {'name': 'level-up', 'url': 'https://pokeapi.co/api/v2/move-learn-method/1/'}, 'version_group': {'name': 'xd', 'url': 'https://pokeapi.co/api/v2/version-group/13/'}}, {'level_learned_at': 5, 'move_learn_method': {'name': 'level-up', 'url': 'https://pokeapi.co/api/v2/move-learn-method/1/'}, 'version_group': {'name': 'black-2-white-2', 'url': 'https://pokeapi.co/api/v2/version-group/14/'}}, {'level_learned_at': 1, 'move_learn_method': {'name': 'level-up', 'url': 'https://pokeapi.co/api/v2/move-learn-method/1/'}, 'version_group': {'name': 'x-y', 'url': 'https://pokeapi.co/api/v2/version-group/15/'}}, {'level_learned_at': 1, 'move_learn_method': {'name': 'level-up', 'url': 'https://pokeapi.co/api/v2/move-learn-method/1/'}, 'version_group': {'name': 'omega-ruby-alpha-sapphire', 'url': 'https://pokeapi.co/api/v2/version-group/16/'}}, {'level_learned_at': 1, 'move_learn_method': {'name': 'level-up', 'url': 'https://pokeapi.co/api/v2/move-learn-method/1/'}, 'version_group': {'name': 'sun-moon', 'url': 'https://pokeapi.co/api/v2/version-group/17/'}}, {'level_learned_at': 1, 'move_learn_method': {'name': 'level-up', 'url': 'https://pokeapi.co/api/v2/move-learn-method/1/'}, 'version_group': {'name': 'ultra-sun-ultra-moon', 'url': 'https://pokeapi.co/api/v2/version-group/18/'}}, {'level_learned_at': 3, 'move_learn_method': {'name': 'level-up', 'url': 'https://pokeapi.co/api/v2/move-learn-method/1/'}, 'version_group': {'name': 'lets-go-pikachu-lets-go-eevee', 'url': 'https://pokeapi.co/api/v2/version-group/19/'}}, {'level_learned_at': 1, 'move_learn_method': {'name': 'level-up', 'url': 'https://pokeapi.co/api/v2/move-learn-method/1/'}, 'version_group': {'name': 'sword-shield', 'url': 'https://pokeapi.co/api/v2/version-group/20/'}}, {'level_learned_at': 1, 'move_learn_method': {'name': 'level-up', 'url': 'https://pokeapi.co/api/v2/move-learn-method/1/'}, 'version_group': {'name': 'brilliant-diamond-and-shining-pearl', 'url': 'https://pokeapi.co/api/v2/version-group/23/'}}, {'level_learned_at': 1, 'move_learn_method': {'name': 'level-up', 'url': 'https://pokeapi.co/api/v2/move-learn-method/1/'}, 'version_group': {'name': 'scarlet-violet', 'url': 'https://pokeapi.co/api/v2/version-group/25/'}}]}, {'move': {'name': 'growl', 'url': 'https://pokeapi.co/api/v2/move/45/'}, 'version_group_details': [{'level_learned_at': 1, 'move_learn_method': {'name': 'level-up', 'url': 'https://pokeapi.co/api/v2/move-learn-method/1/'}, 'version_group': {'name': 'red-blue', 'url': 'https://pokeapi.co/api/v2/version-group/1/'}}, {'level_learned_at': 1, 'move_learn_method': {'name': 'level-up', 'url': 'https://pokeapi.co/api/v2/move-learn-method/1/'}, 'version_group': {'name': 'yellow', 'url': 'https://pokeapi.co/api/v2/version-group/2/'}}, {'level_learned_at': 1, 'move_learn_method': {'name': 'level-up', 'url': 'https://pokeapi.co/api/v2/move-learn-method/1/'}, 'version_group': {'name': 'gold-silver', 'url': 'https://pokeapi.co/api/v2/version-group/3/'}}, {'level_learned_at': 1, 'move_learn_method': {'name': 'level-up', 'url': 'https://pokeapi.co/api/v2/move-learn-method/1/'}, 'version_group': {'name': 'crystal', 'url': 'https://pokeapi.co/api/v2/version-group/4/'}}, {'level_learned_at': 1, 'move_learn_method': {'name': 'level-up', 'url': 'https://pokeapi.co/api/v2/move-learn-method/1/'}, 'version_group': {'name': 'ruby-sapphire', 'url': 'https://pokeapi.co/api/v2/version-group/5/'}}, {'level_learned_at': 1, 'move_learn_method': {'name': 'level-up', 'url': 'https://pokeapi.co/api/v2/move-learn-method/1/'}, 'version_group': {'name': 'emerald', 'url': 'https://pokeapi.co/api/v2/version-group/6/'}}, {'level_learned_at': 1, 'move_learn_method': {'name': 'level-up', 'url': 'https://pokeapi.co/api/v2/move-learn-method/1/'}, 'version_group': {'name': 'firered-leafgreen', 'url': 'https://pokeapi.co/api/v2/version-group/7/'}}, {'level_learned_at': 1, 'move_learn_method': {'name': 'level-up', 'url': 'https://pokeapi.co/api/v2/move-learn-method/1/'}, 'version_group': {'name': 'diamond-pearl', 'url': 'https://pokeapi.co/api/v2/version-group/8/'}}, {'level_learned_at': 1, 'move_learn_method': {'name': 'level-up', 'url': 'https://pokeapi.co/api/v2/move-learn-method/1/'}, 'version_group': {'name': 'platinum', 'url': 'https://pokeapi.co/api/v2/version-group/9/'}}, {'level_learned_at': 1, 'move_learn_method': {'name': 'level-up', 'url': 'https://pokeapi.co/api/v2/move-learn-method/1/'}, 'version_group': {'name': 'heartgold-soulsilver', 'url': 'https://pokeapi.co/api/v2/version-group/10/'}}, {'level_learned_at': 1, 'move_learn_method': {'name': 'level-up', 'url': 'https://pokeapi.co/api/v2/move-learn-method/1/'}, 'version_group': {'name': 'black-white', 'url': 'https://pokeapi.co/api/v2/version-group/11/'}}, {'level_learned_at': 1, 'move_learn_method': {'name': 'level-up', 'url': 'https://pokeapi.co/api/v2/move-learn-method/1/'}, 'version_group': {'name': 'colosseum', 'url': 'https://pokeapi.co/api/v2/version-group/12/'}}, {'level_learned_at': 1, 'move_learn_method': {'name': 'level-up', 'url': 'https://pokeapi.co/api/v2/move-learn-method/1/'}, 'version_group': {'name': 'xd', 'url': 'https://pokeapi.co/api/v2/version-group/13/'}}, {'level_learned_at': 1, 'move_learn_method': {'name': 'level-up', 'url': 'https://pokeapi.co/api/v2/move-learn-method/1/'}, 'version_group': {'name': 'black-2-white-2', 'url': 'https://pokeapi.co/api/v2/version-group/14/'}}, {'level_learned_at': 5, 'move_learn_method': {'name': 'level-up', 'url': 'https://pokeapi.co/api/v2/move-learn-method/1/'}, 'version_group': {'name': 'x-y', 'url': 'https://pokeapi.co/api/v2/version-group/15/'}}, {'level_learned_at': 5, 'move_learn_method': {'name': 'level-up', 'url': 'https://pokeapi.co/api/v2/move-learn-method/1/'}, 'version_group': {'name': 'omega-ruby-alpha-sapphire', 'url': 'https://pokeapi.co/api/v2/version-group/16/'}}, {'level_learned_at': 5, 'move_learn_method': {'name': 'level-up', 'url': 'https://pokeapi.co/api/v2/move-learn-method/1/'}, 'version_group': {'name': 'sun-moon', 'url': 'https://pokeapi.co/api/v2/version-group/17/'}}, {'level_learned_at': 5, 'move_learn_method': {'name': 'level-up', 'url': 'https://pokeapi.co/api/v2/move-learn-method/1/'}, 'version_group': {'name': 'ultra-sun-ultra-moon', 'url': 'https://pokeapi.co/api/v2/version-group/18/'}}, {'level_learned_at': 1, 'move_learn_method': {'name': 'level-up', 'url': 'https://pokeapi.co/api/v2/move-learn-method/1/'}, 'version_group': {'name': 'lets-go-pikachu-lets-go-eevee', 'url': 'https://pokeapi.co/api/v2/version-group/19/'}}, {'level_learned_at': 1, 'move_learn_method': {'name': 'level-up', 'url': 'https://pokeapi.co/api/v2/move-learn-method/1/'}, 'version_group': {'name': 'sword-shield', 'url': 'https://pokeapi.co/api/v2/version-group/20/'}}, {'level_learned_at': 1, 'move_learn_method': {'name': 'level-up', 'url': 'https://pokeapi.co/api/v2/move-learn-method/1/'}, 'version_group': {'name': 'brilliant-diamond-and-shining-pearl', 'url': 'https://pokeapi.co/api/v2/version-group/23/'}}, {'level_learned_at': 1, 'move_learn_method': {'name': 'level-up', 'url': 'https://pokeapi.co/api/v2/move-learn-method/1/'}, 'version_group': {'name': 'scarlet-violet', 'url': 'https://pokeapi.co/api/v2/version-group/25/'}}]}, {'move': {'name': 'surf', 'url': 'https://pokeapi.co/api/v2/move/57/'}, 'version_group_details': [{'level_learned_at': 0, 'move_learn_method': {'name': 'stadium-surfing-pikachu', 'url': 'https://pokeapi.co/api/v2/move-learn-method/5/'}, 'version_group': {'name': 'red-blue', 'url': 'https://pokeapi.co/api/v2/version-group/1/'}}, {'level_learned_at': 0, 'move_learn_method': {'name': 'stadium-surfing-pikachu', 'url': 'https://pokeapi.co/api/v2/move-learn-method/5/'}, 'version_group': {'name': 'yellow', 'url': 'https://pokeapi.co/api/v2/version-group/2/'}}, {'level_learned_at': 0, 'move_learn_method': {'name': 'machine', 'url': 'https://pokeapi.co/api/v2/move-learn-method/4/'}, 'version_group': {'name': 'sword-shield', 'url': 'https://pokeapi.co/api/v2/version-group/20/'}}, {'level_learned_at': 0, 'move_learn_method': {'name': 'machine', 'url': 'https://pokeapi.co/api/v2/move-learn-method/4/'}, 'version_group': {'name': 'brilliant-diamond-and-shining-pearl', 'url': 'https://pokeapi.co/api/v2/version-group/23/'}}, {'level_learned_at': 0, 'move_learn_method': {'name': 'machine', 'url': 'https://pokeapi.co/api/v2/move-learn-method/4/'}, 'version_group': {'name': 'scarlet-violet', 'url': 'https://pokeapi.co/api/v2/version-group/25/'}}]}, {'move': {'name': 'submission', 'url': 'https://pokeapi.co/api/v2/move/66/'}, 'version_group_details': [{'level_learned_at': 0, 'move_learn_method': {'name': 'machine', 'url': 'https://pokeapi.co/api/v2/move-learn-method/4/'}, 'version_group': {'name': 'red-blue', 'url': 'https://pokeapi.co/api/v2/version-group/1/'}}, {'level_learned_at': 0, 'move_learn_method': {'name': 'machine', 'url': 'https://pokeapi.co/api/v2/move-learn-method/4/'}, 'version_group': {'name': 'yellow', 'url': 'https://pokeapi.co/api/v2/version-group/2/'}}]}, {'move': {'name': 'counter', 'url': 'https://pokeapi.co/api/v2/move/68/'}, 'version_group_details': [{'level_learned_at': 0, 'move_learn_method': {'name': 'tutor', 'url': 'https://pokeapi.co/api/v2/move-learn-method/3/'}, 'version_group': {'name': 'emerald', 'url': 'https://pokeapi.co/api/v2/version-group/6/'}}, {'level_learned_at': 0, 'move_learn_method': {'name': 'tutor', 'url': 'https://pokeapi.co/api/v2/move-learn-method/3/'}, 'version_group': {'name': 'firered-leafgreen', 'url': 'https://pokeapi.co/api/v2/version-group/7/'}}]}, {'move': {'name': 'seismic-toss', 'url': 'https://pokeapi.co/api/v2/move/69/'}, 'version_group_details': [{'level_learned_at': 0, 'move_learn_method': {'name': 'machine', 'url': 'https://pokeapi.co/api/v2/move-learn-method/4/'}, 'version_group': {'name': 'red-blue', 'url': 'https://pokeapi.co/api/v2/version-group/1/'}}, {'level_learned_at': 0, 'move_learn_method': {'name': 'machine', 'url': 'https://pokeapi.co/api/v2/move-learn-method/4/'}, 'version_group': {'name': 'yellow', 'url': 'https://pokeapi.co/api/v2/version-group/2/'}}, {'level_learned_at': 0, 'move_learn_method': {'name': 'tutor', 'url': 'https://pokeapi.co/api/v2/move-learn-method/3/'}, 'version_group': {'name': 'emerald', 'url': 'https://pokeapi.co/api/v2/version-group/6/'}}, {'level_learned_at': 0, 'move_learn_method': {'name': 'tutor', 'url': 'https://pokeapi.co/api/v2/move-learn-method/3/'}, 'version_group': {'name': 'firered-leafgreen', 'url': 'https://pokeapi.co/api/v2/version-group/7/'}}, {'level_learned_at': 0, 'move_learn_method': {'name': 'tutor', 'url': 'https://pokeapi.co/api/v2/move-learn-method/3/'}, 'version_group': {'name': 'xd', 'url': 'https://pokeapi.co/api/v2/version-group/13/'}}, {'level_learned_at': 0, 'move_learn_method': {'name': 'machine', 'url': 'https://pokeapi.co/api/v2/move-learn-method/4/'}, 'version_group': {'name': 'lets-go-pikachu-lets-go-eevee', 'url': 'https://pokeapi.co/api/v2/version-group/19/'}}]}, {'move': {'name': 'strength', 'url': 'https://pokeapi.co/api/v2/move/70/'}, 'version_group_details': [{'level_learned_at': 0, 'move_learn_method': {'name': 'machine', 'url': 'https://pokeapi.co/api/v2/move-learn-method/4/'}, 'version_group': {'name': 'gold-silver', 'url': 'https://pokeapi.co/api/v2/version-group/3/'}}, {'level_learned_at': 0, 'move_learn_method': {'name': 'machine', 'url': 'https://pokeapi.co/api/v2/move-learn-method/4/'}, 'version_group': {'name': 'crystal', 'url': 'https://pokeapi.co/api/v2/version-group/4/'}}, {'level_learned_at': 0, 'move_learn_method': {'name': 'machine', 'url': 'https://pokeapi.co/api/v2/move-learn-method/4/'}, 'version_group': {'name': 'ruby-sapphire', 'url': 'https://pokeapi.co/api/v2/version-group/5/'}}, {'level_learned_at': 0, 'move_learn_method': {'name': 'machine', 'url': 'https://pokeapi.co/api/v2/move-learn-method/4/'}, 'version_group': {'name': 'emerald', 'url': 'https://pokeapi.co/api/v2/version-group/6/'}}, {'level_learned_at': 0, 'move_learn_method': {'name': 'machine', 'url': 'https://pokeapi.co/api/v2/move-learn-method/4/'}, 'version_group': {'name': 'firered-leafgreen', 'url': 'https://pokeapi.co/api/v2/version-group/7/'}}, {'level_learned_at': 0, 'move_learn_method': {'name': 'machine', 'url': 'https://pokeapi.co/api/v2/move-learn-method/4/'}, 'version_group': {'name': 'diamond-pearl', 'url': 'https://pokeapi.co/api/v2/version-group/8/'}}, {'level_learned_at': 0, 'move_learn_method': {'name': 'machine', 'url': 'https://pokeapi.co/api/v2/move-learn-method/4/'}, 'version_group': {'name': 'platinum', 'url': 'https://pokeapi.co/api/v2/version-group/9/'}}, {'level_learned_at': 0, 'move_learn_method': {'name': 'machine', 'url': 'https://pokeapi.co/api/v2/move-learn-method/4/'}, 'version_group': {'name': 'heartgold-soulsilver', 'url': 'https://pokeapi.co/api/v2/version-group/10/'}}, {'level_learned_at': 0, 'move_learn_method': {'name': 'machine', 'url': 'https://pokeapi.co/api/v2/move-learn-method/4/'}, 'version_group': {'name': 'black-white', 'url': 'https://pokeapi.co/api/v2/version-group/11/'}}, {'level_learned_at': 0, 'move_learn_method': {'name': 'machine', 'url': 'https://pokeapi.co/api/v2/move-learn-method/4/'}, 'version_group': {'name': 'colosseum', 'url': 'https://pokeapi.co/api/v2/version-group/12/'}}, {'level_learned_at': 0, 'move_learn_method': {'name': 'machine', 'url': 'https://pokeapi.co/api/v2/move-learn-method/4/'}, 'version_group': {'name': 'xd', 'url': 'https://pokeapi.co/api/v2/version-group/13/'}}, {'level_learned_at': 0, 'move_learn_method': {'name': 'machine', 'url': 'https://pokeapi.co/api/v2/move-learn-method/4/'}, 'version_group': {'name': 'black-2-white-2', 'url': 'https://pokeapi.co/api/v2/version-group/14/'}}, {'level_learned_at': 0, 'move_learn_method': {'name': 'machine', 'url': 'https://pokeapi.co/api/v2/move-learn-method/4/'}, 'version_group': {'name': 'x-y', 'url': 'https://pokeapi.co/api/v2/version-group/15/'}}, {'level_learned_at': 0, 'move_learn_method': {'name': 'machine', 'url': 'https://pokeapi.co/api/v2/move-learn-method/4/'}, 'version_group': {'name': 'omega-ruby-alpha-sapphire', 'url': 'https://pokeapi.co/api/v2/version-group/16/'}}, {'level_learned_at': 0, 'move_learn_method': {'name': 'machine', 'url': 'https://pokeapi.co/api/v2/move-learn-method/4/'}, 'version_group': {'name': 'brilliant-diamond-and-shining-pearl', 'url': 'https://pokeapi.co/api/v2/version-group/23/'}}]}, {'move': {'name': 'thunder-shock', 'url': 'https://pokeapi.co/api/v2/move/84/'}, 'version_group_details': [{'level_learned_at': 1, 'move_learn_method': {'name': 'level-up', 'url': 'https://pokeapi.co/api/v2/move-learn-method/1/'}, 'version_group': {'name': 'red-blue', 'url': 'https://pokeapi.co/api/v2/version-group/1/'}}, {'level_learned_at': 1, 'move_learn_method': {'name': 'level-up', 'url': 'https://pokeapi.co/api/v2/move-learn-method/1/'}, 'version_group': {'name': 'yellow', 'url': 'https://pokeapi.co/api/v2/version-group/2/'}}, {'level_learned_at': 1, 'move_learn_method': {'name': 'level-up', 'url': 'https://pokeapi.co/api/v2/move-learn-method/1/'}, 'version_group': {'name': 'gold-silver', 'url': 'https://pokeapi.co/api/v2/version-group/3/'}}, {'level_learned_at': 1, 'move_learn_method': {'name': 'level-up', 'url': 'https://pokeapi.co/api/v2/move-learn-method/1/'}, 'version_group': {'name': 'crystal', 'url': 'https://pokeapi.co/api/v2/version-group/4/'}}, {'level_learned_at': 1, 'move_learn_method': {'name': 'level-up', 'url': 'https://pokeapi.co/api/v2/move-learn-method/1/'}, 'version_group': {'name': 'ruby-sapphire', 'url': 'https://pokeapi.co/api/v2/version-group/5/'}}, {'level_learned_at': 1, 'move_learn_method': {'name': 'level-up', 'url': 'https://pokeapi.co/api/v2/move-learn-method/1/'}, 'version_group': {'name': 'emerald', 'url': 'https://pokeapi.co/api/v2/version-group/6/'}}, {'level_learned_at': 1, 'move_learn_method': {'name': 'level-up', 'url': 'https://pokeapi.co/api/v2/move-learn-method/1/'}, 'version_group': {'name': 'firered-leafgreen', 'url': 'https://pokeapi.co/api/v2/version-group/7/'}}, {'level_learned_at': 1, 'move_learn_method': {'name': 'level-up', 'url': 'https://pokeapi.co/api/v2/move-learn-method/1/'}, 'version_group': {'name': 'diamond-pearl', 'url': 'https://pokeapi.co/api/v2/version-group/8/'}}, {'level_learned_at': 1, 'move_learn_method': {'name': 'level-up', 'url': 'https://pokeapi.co/api/v2/move-learn-method/1/'}, 'version_group': {'name': 'platinum', 'url': 'https://pokeapi.co/api/v2/version-group/9/'}}, {'level_learned_at': 1, 'move_learn_method': {'name': 'level-up', 'url': 'https://pokeapi.co/api/v2/move-learn-method/1/'}, 'version_group': {'name': 'heartgold-soulsilver', 'url': 'https://pokeapi.co/api/v2/version-group/10/'}}, {'level_learned_at': 1, 'move_learn_method': {'name': 'level-up', 'url': 'https://pokeapi.co/api/v2/move-learn-method/1/'}, 'version_group': {'name': 'black-white', 'url': 'https://pokeapi.co/api/v2/version-group/11/'}}, {'level_learned_at': 1, 'move_learn_method': {'name': 'level-up', 'url': 'https://pokeapi.co/api/v2/move-learn-method/1/'}, 'version_group': {'name': 'colosseum', 'url': 'https://pokeapi.co/api/v2/version-group/12/'}}, {'level_learned_at': 1, 'move_learn_method': {'name': 'level-up', 'url': 'https://pokeapi.co/api/v2/move-learn-method/1/'}, 'version_group': {'name': 'xd', 'url': 'https://pokeapi.co/api/v2/version-group/13/'}}, {'level_learned_at': 1, 'move_learn_method': {'name': 'level-up', 'url': 'https://pokeapi.co/api/v2/move-learn-method/1/'}, 'version_group': {'name': 'black-2-white-2', 'url': 'https://pokeapi.co/api/v2/version-group/14/'}}, {'level_learned_at': 1, 'move_learn_method': {'name': 'level-up', 'url': 'https://pokeapi.co/api/v2/move-learn-method/1/'}, 'version_group': {'name': 'x-y', 'url': 'https://pokeapi.co/api/v2/version-group/15/'}}, {'level_learned_at': 1, 'move_learn_method': {'name': 'level-up', 'url': 'https://pokeapi.co/api/v2/move-learn-method/1/'}, 'version_group': {'name': 'omega-ruby-alpha-sapphire', 'url': 'https://pokeapi.co/api/v2/version-group/16/'}}, {'level_learned_at': 1, 'move_learn_method': {'name': 'level-up', 'url': 'https://pokeapi.co/api/v2/move-learn-method/1/'}, 'version_group': {'name': 'sun-moon', 'url': 'https://pokeapi.co/api/v2/version-group/17/'}}, {'level_learned_at': 1, 'move_learn_method': {'name': 'level-up', 'url': 'https://pokeapi.co/api/v2/move-learn-method/1/'}, 'version_group': {'name': 'ultra-sun-ultra-moon', 'url': 'https://pokeapi.co/api/v2/version-group/18/'}}, {'level_learned_at': 1, 'move_learn_method': {'name': 'level-up', 'url': 'https://pokeapi.co/api/v2/move-learn-method/1/'}, 'version_group': {'name': 'lets-go-pikachu-lets-go-eevee', 'url': 'https://pokeapi.co/api/v2/version-group/19/'}}, {'level_learned_at': 1, 'move_learn_method': {'name': 'level-up', 'url': 'https://pokeapi.co/api/v2/move-learn-method/1/'}, 'version_group': {'name': 'sword-shield', 'url': 'https://pokeapi.co/api/v2/version-group/20/'}}, {'level_learned_at': 1, 'move_learn_method': {'name': 'level-up', 'url': 'https://pokeapi.co/api/v2/move-learn-method/1/'}, 'version_group': {'name': 'brilliant-diamond-and-shining-pearl', 'url': 'https://pokeapi.co/api/v2/version-group/23/'}}, {'level_learned_at': 1, 'move_learn_method': {'name': 'level-up', 'url': 'https://pokeapi.co/api/v2/move-learn-method/1/'}, 'version_group': {'name': 'legends-arceus', 'url': 'https://pokeapi.co/api/v2/version-group/24/'}}, {'level_learned_at': 1, 'move_learn_method': {'name': 'level-up', 'url': 'https://pokeapi.co/api/v2/move-learn-method/1/'}, 'version_group': {'name': 'scarlet-violet', 'url': 'https://pokeapi.co/api/v2/version-group/25/'}}]}, {'move': {'name': 'thunderbolt', 'url': 'https://pokeapi.co/api/v2/move/85/'}, 'version_group_details': [{'level_learned_at': 0, 'move_learn_method': {'name': 'machine', 'url': 'https://pokeapi.co/api/v2/move-learn-method/4/'}, 'version_group': {'name': 'red-blue', 'url': 'https://pokeapi.co/api/v2/version-group/1/'}}, {'level_learned_at': 26, 'move_learn_method': {'name': 'level-up', 'url': 'https://pokeapi.co/api/v2/move-learn-method/1/'}, 'version_group': {'name': 'yellow', 'url': 'https://pokeapi.co/api/v2/version-group/2/'}}, {'level_learned_at': 0, 'move_learn_method': {'name': 'machine', 'url': 'https://pokeapi.co/api/v2/move-learn-method/4/'}, 'version_group': {'name': 'yellow', 'url': 'https://pokeapi.co/api/v2/version-group/2/'}}, {'level_learned_at': 26, 'move_learn_method': {'name': 'level-up', 'url': 'https://pokeapi.co/api/v2/move-learn-method/1/'}, 'version_group': {'name': 'gold-silver', 'url': 'https://pokeapi.co/api/v2/version-group/3/'}}, {'level_learned_at': 26, 'move_learn_method': {'name': 'level-up', 'url': 'https://pokeapi.co/api/v2/move-learn-method/1/'}, 'version_group': {'name': 'crystal', 'url': 'https://pokeapi.co/api/v2/version-group/4/'}}, {'level_learned_at': 0, 'move_learn_method': {'name': 'tutor', 'url': 'https://pokeapi.co/api/v2/move-learn-method/3/'}, 'version_group': {'name': 'crystal', 'url': 'https://pokeapi.co/api/v2/version-group/4/'}}, {'level_learned_at': 26, 'move_learn_method': {'name': 'level-up', 'url': 'https://pokeapi.co/api/v2/move-learn-method/1/'}, 'version_group': {'name': 'ruby-sapphire', 'url': 'https://pokeapi.co/api/v2/version-group/5/'}}, {'level_learned_at': 0, 'move_learn_method': {'name': 'machine', 'url': 'https://pokeapi.co/api/v2/move-learn-method/4/'}, 'version_group': {'name': 'ruby-sapphire', 'url': 'https://pokeapi.co/api/v2/version-group/5/'}}, {'level_learned_at': 26, 'move_learn_method': {'name': 'level-up', 'url': 'https://pokeapi.co/api/v2/move-learn-method/1/'}, 'version_group': {'name': 'emerald', 'url': 'https://pokeapi.co/api/v2/version-group/6/'}}, {'level_learned_at': 0, 'move_learn_method': {'name': 'machine', 'url': 'https://pokeapi.co/api/v2/move-learn-method/4/'}, 'version_group': {'name': 'emerald', 'url': 'https://pokeapi.co/api/v2/version-group/6/'}}, {'level_learned_at': 26, 'move_learn_method': {'name': 'level-up', 'url': 'https://pokeapi.co/api/v2/move-learn-method/1/'}, 'version_group': {'name': 'firered-leafgreen', 'url': 'https://pokeapi.co/api/v2/version-group/7/'}}, {'level_learned_at': 0, 'move_learn_method': {'name': 'machine', 'url': 'https://pokeapi.co/api/v2/move-learn-method/4/'}, 'version_group': {'name': 'firered-leafgreen', 'url': 'https://pokeapi.co/api/v2/version-group/7/'}}, {'level_learned_at': 26, 'move_learn_method': {'name': 'level-up', 'url': 'https://pokeapi.co/api/v2/move-learn-method/1/'}, 'version_group': {'name': 'diamond-pearl', 'url': 'https://pokeapi.co/api/v2/version-group/8/'}}, {'level_learned_at': 0, 'move_learn_method': {'name': 'machine', 'url': 'https://pokeapi.co/api/v2/move-learn-method/4/'}, 'version_group': {'name': 'diamond-pearl', 'url': 'https://pokeapi.co/api/v2/version-group/8/'}}, {'level_learned_at': 26, 'move_learn_method': {'name': 'level-up', 'url': 'https://pokeapi.co/api/v2/move-learn-method/1/'}, 'version_group': {'name': 'platinum', 'url': 'https://pokeapi.co/api/v2/version-group/9/'}}, {'level_learned_at': 0, 'move_learn_method': {'name': 'machine', 'url': 'https://pokeapi.co/api/v2/move-learn-method/4/'}, 'version_group': {'name': 'platinum', 'url': 'https://pokeapi.co/api/v2/version-group/9/'}}, {'level_learned_at': 26, 'move_learn_method': {'name': 'level-up', 'url': 'https://pokeapi.co/api/v2/move-learn-method/1/'}, 'version_group': {'name': 'heartgold-soulsilver', 'url': 'https://pokeapi.co/api/v2/version-group/10/'}}, {'level_learned_at': 0, 'move_learn_method': {'name': 'machine', 'url': 'https://pokeapi.co/api/v2/move-learn-method/4/'}, 'version_group': {'name': 'heartgold-soulsilver', 'url': 'https://pokeapi.co/api/v2/version-group/10/'}}, {'level_learned_at': 29, 'move_learn_method': {'name': 'level-up', 'url': 'https://pokeapi.co/api/v2/move-learn-method/1/'}, 'version_group': {'name': 'black-white', 'url': 'https://pokeapi.co/api/v2/version-group/11/'}}, {'level_learned_at': 0, 'move_learn_method': {'name': 'machine', 'url': 'https://pokeapi.co/api/v2/move-learn-method/4/'}, 'version_group': {'name': 'black-white', 'url': 'https://pokeapi.co/api/v2/version-group/11/'}}, {'level_learned_at': 26, 'move_learn_method': {'name': 'level-up', 'url': 'https://pokeapi.co/api/v2/move-learn-method/1/'}, 'version_group': {'name': 'colosseum', 'url': 'https://pokeapi.co/api/v2/version-group/12/'}}, {'level_learned_at': 0, 'move_learn_method': {'name': 'machine', 'url': 'https://pokeapi.co/api/v2/move-learn-method/4/'}, 'version_group': {'name': 'colosseum', 'url': 'https://pokeapi.co/api/v2/version-group/12/'}}, {'level_learned_at': 26, 'move_learn_method': {'name': 'level-up', 'url': 'https://pokeapi.co/api/v2/move-learn-method/1/'}, 'version_group': {'name': 'xd', 'url': 'https://pokeapi.co/api/v2/version-group/13/'}}, {'level_learned_at': 0, 'move_learn_method': {'name': 'machine', 'url': 'https://pokeapi.co/api/v2/move-learn-method/4/'}, 'version_group': {'name': 'xd', 'url': 'https://pokeapi.co/api/v2/version-group/13/'}}, {'level_learned_at': 29, 'move_learn_method': {'name': 'level-up', 'url': 'https://pokeapi.co/api/v2/move-learn-method/1/'}, 'version_group': {'name': 'black-2-white-2', 'url': 'https://pokeapi.co/api/v2/version-group/14/'}}, {'level_learned_at': 0, 'move_learn_method': {'name': 'machine', 'url': 'https://pokeapi.co/api/v2/move-learn-method/4/'}, 'version_group': {'name': 'black-2-white-2', 'url': 'https://pokeapi.co/api/v2/version-group/14/'}}, {'level_learned_at': 29, 'move_learn_method': {'name': 'level-up', 'url': 'https://pokeapi.co/api/v2/move-learn-method/1/'}, 'version_group': {'name': 'x-y', 'url': 'https://pokeapi.co/api/v2/version-group/15/'}}, {'level_learned_at': 0, 'move_learn_method': {'name': 'machine', 'url': 'https://pokeapi.co/api/v2/move-learn-method/4/'}, 'version_group': {'name': 'x-y', 'url': 'https://pokeapi.co/api/v2/version-group/15/'}}, {'level_learned_at': 42, 'move_learn_method': {'name': 'level-up', 'url': 'https://pokeapi.co/api/v2/move-learn-method/1/'}, 'version_group': {'name': 'omega-ruby-alpha-sapphire', 'url': 'https://pokeapi.co/api/v2/version-group/16/'}}, {'level_learned_at': 0, 'move_learn_method': {'name': 'machine', 'url': 'https://pokeapi.co/api/v2/move-learn-method/4/'}, 'version_group': {'name': 'omega-ruby-alpha-sapphire', 'url': 'https://pokeapi.co/api/v2/version-group/16/'}}, {'level_learned_at': 42, 'move_learn_method': {'name': 'level-up', 'url': 'https://pokeapi.co/api/v2/move-learn-method/1/'}, 'version_group': {'name': 'sun-moon', 'url': 'https://pokeapi.co/api/v2/version-group/17/'}}, {'level_learned_at': 0, 'move_learn_method': {'name': 'machine', 'url': 'https://pokeapi.co/api/v2/move-learn-method/4/'}, 'version_group': {'name': 'sun-moon', 'url': 'https://pokeapi.co/api/v2/version-group/17/'}}, {'level_learned_at': 42, 'move_learn_method': {'name': 'level-up', 'url': 'https://pokeapi.co/api/v2/move-learn-method/1/'}, 'version_group': {'name': 'ultra-sun-ultra-moon', 'url': 'https://pokeapi.co/api/v2/version-group/18/'}}, {'level_learned_at': 0, 'move_learn_method': {'name': 'machine', 'url': 'https://pokeapi.co/api/v2/move-learn-method/4/'}, 'version_group': {'name': 'ultra-sun-ultra-moon', 'url': 'https://pokeapi.co/api/v2/version-group/18/'}}, {'level_learned_at': 21, 'move_learn_method': {'name': 'level-up', 'url': 'https://pokeapi.co/api/v2/move-learn-method/1/'}, 'version_group': {'name': 'lets-go-pikachu-lets-go-eevee', 'url': 'https://pokeapi.co/api/v2/version-group/19/'}}, {'level_learned_at': 0, 'move_learn_method': {'name': 'machine', 'url': 'https://pokeapi.co/api/v2/move-learn-method/4/'}, 'version_group': {'name': 'lets-go-pikachu-lets-go-eevee', 'url': 'https://pokeapi.co/api/v2/version-group/19/'}}, {'level_learned_at': 36, 'move_learn_method': {'name': 'level-up', 'url': 'https://pokeapi.co/api/v2/move-learn-method/1/'}, 'version_group': {'name': 'sword-shield', 'url': 'https://pokeapi.co/api/v2/version-group/20/'}}, {'level_learned_at': 0, 'move_learn_method': {'name': 'machine', 'url': 'https://pokeapi.co/api/v2/move-learn-method/4/'}, 'version_group': {'name': 'sword-shield', 'url': 'https://pokeapi.co/api/v2/version-group/20/'}}, {'level_learned_at': 36, 'move_learn_method': {'name': 'level-up', 'url': 'https://pokeapi.co/api/v2/move-learn-method/1/'}, 'version_group': {'name': 'brilliant-diamond-and-shining-pearl', 'url': 'https://pokeapi.co/api/v2/version-group/23/'}}, {'level_learned_at': 0, 'move_learn_method': {'name': 'machine', 'url': 'https://pokeapi.co/api/v2/move-learn-method/4/'}, 'version_group': {'name': 'brilliant-diamond-and-shining-pearl', 'url': 'https://pokeapi.co/api/v2/version-group/23/'}}, {'level_learned_at': 29, 'move_learn_method': {'name': 'level-up', 'url': 'https://pokeapi.co/api/v2/move-learn-method/1/'}, 'version_group': {'name': 'legends-arceus', 'url': 'https://pokeapi.co/api/v2/version-group/24/'}}, {'level_learned_at': 36, 'move_learn_method': {'name': 'level-up', 'url': 'https://pokeapi.co/api/v2/move-learn-method/1/'}, 'version_group': {'name': 'scarlet-violet', 'url': 'https://pokeapi.co/api/v2/version-group/25/'}}, {'level_learned_at': 0, 'move_learn_method': {'name': 'machine', 'url': 'https://pokeapi.co/api/v2/move-learn-method/4/'}, 'version_group': {'name': 'scarlet-violet', 'url': 'https://pokeapi.co/api/v2/version-group/25/'}}]}, {'move': {'name': 'thunder-wave', 'url': 'https://pokeapi.co/api/v2/move/86/'}, 'version_group_details': [{'level_learned_at': 9, 'move_learn_method': {'name': 'level-up', 'url': 'https://pokeapi.co/api/v2/move-learn-method/1/'}, 'version_group': {'name': 'red-blue', 'url': 'https://pokeapi.co/api/v2/version-group/1/'}}, {'level_learned_at': 0, 'move_learn_method': {'name': 'machine', 'url': 'https://pokeapi.co/api/v2/move-learn-method/4/'}, 'version_group': {'name': 'red-blue', 'url': 'https://pokeapi.co/api/v2/version-group/1/'}}, {'level_learned_at': 8, 'move_learn_method': {'name': 'level-up', 'url': 'https://pokeapi.co/api/v2/move-learn-method/1/'}, 'version_group': {'name': 'yellow', 'url': 'https://pokeapi.co/api/v2/version-group/2/'}}, {'level_learned_at': 0, 'move_learn_method': {'name': 'machine', 'url': 'https://pokeapi.co/api/v2/move-learn-method/4/'}, 'version_group': {'name': 'yellow', 'url': 'https://pokeapi.co/api/v2/version-group/2/'}}, {'level_learned_at': 8, 'move_learn_method': {'name': 'level-up', 'url': 'https://pokeapi.co/api/v2/move-learn-method/1/'}, 'version_group': {'name': 'gold-silver', 'url': 'https://pokeapi.co/api/v2/version-group/3/'}}, {'level_learned_at': 8, 'move_learn_method': {'name': 'level-up', 'url': 'https://pokeapi.co/api/v2/move-learn-method/1/'}, 'version_group': {'name': 'crystal', 'url': 'https://pokeapi.co/api/v2/version-group/4/'}}, {'level_learned_at': 8, 'move_learn_method': {'name': 'level-up', 'url': 'https://pokeapi.co/api/v2/move-learn-method/1/'}, 'version_group': {'name': 'ruby-sapphire', 'url': 'https://pokeapi.co/api/v2/version-group/5/'}}, {'level_learned_at': 8, 'move_learn_method': {'name': 'level-up', 'url': 'https://pokeapi.co/api/v2/move-learn-method/1/'}, 'version_group': {'name': 'emerald', 'url': 'https://pokeapi.co/api/v2/version-group/6/'}}, {'level_learned_at': 0, 'move_learn_method': {'name': 'tutor', 'url': 'https://pokeapi.co/api/v2/move-learn-method/3/'}, 'version_group': {'name': 'emerald', 'url': 'https://pokeapi.co/api/v2/version-group/6/'}}, {'level_learned_at': 8, 'move_learn_method': {'name': 'level-up', 'url': 'https://pokeapi.co/api/v2/move-learn-method/1/'}, 'version_group': {'name': 'firered-leafgreen', 'url': 'https://pokeapi.co/api/v2/version-group/7/'}}, {'level_learned_at': 0, 'move_learn_method': {'name': 'tutor', 'url': 'https://pokeapi.co/api/v2/move-learn-method/3/'}, 'version_group': {'name': 'firered-leafgreen', 'url': 'https://pokeapi.co/api/v2/version-group/7/'}}, {'level_learned_at': 10, 'move_learn_method': {'name': 'level-up', 'url': 'https://pokeapi.co/api/v2/move-learn-method/1/'}, 'version_group': {'name': 'diamond-pearl', 'url': 'https://pokeapi.co/api/v2/version-group/8/'}}, {'level_learned_at': 0, 'move_learn_method': {'name': 'machine', 'url': 'https://pokeapi.co/api/v2/move-learn-method/4/'}, 'version_group': {'name': 'diamond-pearl', 'url': 'https://pokeapi.co/api/v2/version-group/8/'}}, {'level_learned_at': 10, 'move_learn_method': {'name': 'level-up', 'url': 'https://pokeapi.co/api/v2/move-learn-method/1/'}, 'version_group': {'name': 'platinum', 'url': 'https://pokeapi.co/api/v2/version-group/9/'}}, {'level_learned_at': 0, 'move_learn_method': {'name': 'machine', 'url': 'https://pokeapi.co/api/v2/move-learn-method/4/'}, 'version_group': {'name': 'platinum', 'url': 'https://pokeapi.co/api/v2/version-group/9/'}}, {'level_learned_at': 10, 'move_learn_method': {'name': 'level-up', 'url': 'https://pokeapi.co/api/v2/move-learn-method/1/'}, 'version_group': {'name': 'heartgold-soulsilver', 'url': 'https://pokeapi.co/api/v2/version-group/10/'}}, {'level_learned_at': 0, 'move_learn_method': {'name': 'machine', 'url': 'https://pokeapi.co/api/v2/move-learn-method/4/'}, 'version_group': {'name': 'heartgold-soulsilver', 'url': 'https://pokeapi.co/api/v2/version-group/10/'}}, {'level_learned_at': 10, 'move_learn_method': {'name': 'level-up', 'url': 'https://pokeapi.co/api/v2/move-learn-method/1/'}, 'version_group': {'name': 'black-white', 'url': 'https://pokeapi.co/api/v2/version-group/11/'}}, {'level_learned_at': 0, 'move_learn_method': {'name': 'machine', 'url': 'https://pokeapi.co/api/v2/move-learn-method/4/'}, 'version_group': {'name': 'black-white', 'url': 'https://pokeapi.co/api/v2/version-group/11/'}}, {'level_learned_at': 8, 'move_learn_method': {'name': 'level-up', 'url': 'https://pokeapi.co/api/v2/move-learn-method/1/'}, 'version_group': {'name': 'colosseum', 'url': 'https://pokeapi.co/api/v2/version-group/12/'}}, {'level_learned_at': 8, 'move_learn_method': {'name': 'level-up', 'url': 'https://pokeapi.co/api/v2/move-learn-method/1/'}, 'version_group': {'name': 'xd', 'url': 'https://pokeapi.co/api/v2/version-group/13/'}}, {'level_learned_at': 0, 'move_learn_method': {'name': 'tutor', 'url': 'https://pokeapi.co/api/v2/move-learn-method/3/'}, 'version_group': {'name': 'xd', 'url': 'https://pokeapi.co/api/v2/version-group/13/'}}, {'level_learned_at': 10, 'move_learn_method': {'name': 'level-up', 'url': 'https://pokeapi.co/api/v2/move-learn-method/1/'}, 'version_group': {'name': 'black-2-white-2', 'url': 'https://pokeapi.co/api/v2/version-group/14/'}}, {'level_learned_at': 0, 'move_learn_method': {'name': 'machine', 'url': 'https://pokeapi.co/api/v2/move-learn-method/4/'}, 'version_group': {'name': 'black-2-white-2', 'url': 'https://pokeapi.co/api/v2/version-group/14/'}}, {'level_learned_at': 13, 'move_learn_method': {'name': 'level-up', 'url': 'https://pokeapi.co/api/v2/move-learn-method/1/'}, 'version_group': {'name': 'x-y', 'url': 'https://pokeapi.co/api/v2/version-group/15/'}}, {'level_learned_at': 0, 'move_learn_method': {'name': 'machine', 'url': 'https://pokeapi.co/api/v2/move-learn-method/4/'}, 'version_group': {'name': 'x-y', 'url': 'https://pokeapi.co/api/v2/version-group/15/'}}, {'level_learned_at': 18, 'move_learn_method': {'name': 'level-up', 'url': 'https://pokeapi.co/api/v2/move-learn-method/1/'}, 'version_group': {'name': 'omega-ruby-alpha-sapphire', 'url': 'https://pokeapi.co/api/v2/version-group/16/'}}, {'level_learned_at': 0, 'move_learn_method': {'name': 'machine', 'url': 'https://pokeapi.co/api/v2/move-learn-method/4/'}, 'version_group': {'name': 'omega-ruby-alpha-sapphire', 'url': 'https://pokeapi.co/api/v2/version-group/16/'}}, {'level_learned_at': 18, 'move_learn_method': {'name': 'level-up', 'url': 'https://pokeapi.co/api/v2/move-learn-method/1/'}, 'version_group': {'name': 'sun-moon', 'url': 'https://pokeapi.co/api/v2/version-group/17/'}}, {'level_learned_at': 0, 'move_learn_method': {'name': 'machine', 'url': 'https://pokeapi.co/api/v2/move-learn-method/4/'}, 'version_group': {'name': 'sun-moon', 'url': 'https://pokeapi.co/api/v2/version-group/17/'}}, {'level_learned_at': 18, 'move_learn_method': {'name': 'level-up', 'url': 'https://pokeapi.co/api/v2/move-learn-method/1/'}, 'version_group': {'name': 'ultra-sun-ultra-moon', 'url': 'https://pokeapi.co/api/v2/version-group/18/'}}, {'level_learned_at': 0, 'move_learn_method': {'name': 'machine', 'url': 'https://pokeapi.co/api/v2/move-learn-method/4/'}, 'version_group': {'name': 'ultra-sun-ultra-moon', 'url': 'https://pokeapi.co/api/v2/version-group/18/'}}, {'level_learned_at': 15, 'move_learn_method': {'name': 'level-up', 'url': 'https://pokeapi.co/api/v2/move-learn-method/1/'}, 'version_group': {'name': 'lets-go-pikachu-lets-go-eevee', 'url': 'https://pokeapi.co/api/v2/version-group/19/'}}, {'level_learned_at': 0, 'move_learn_method': {'name': 'machine', 'url': 'https://pokeapi.co/api/v2/move-learn-method/4/'}, 'version_group': {'name': 'lets-go-pikachu-lets-go-eevee', 'url': 'https://pokeapi.co/api/v2/version-group/19/'}}, {'level_learned_at': 4, 'move_learn_method': {'name': 'level-up', 'url': 'https://pokeapi.co/api/v2/move-learn-method/1/'}, 'version_group': {'name': 'sword-shield', 'url': 'https://pokeapi.co/api/v2/version-group/20/'}}, {'level_learned_at': 0, 'move_learn_method': {'name': 'machine', 'url': 'https://pokeapi.co/api/v2/move-learn-method/4/'}, 'version_group': {'name': 'sword-shield', 'url': 'https://pokeapi.co/api/v2/version-group/20/'}}, {'level_learned_at': 4, 'move_learn_method': {'name': 'level-up', 'url': 'https://pokeapi.co/api/v2/move-learn-method/1/'}, 'version_group': {'name': 'brilliant-diamond-and-shining-pearl', 'url': 'https://pokeapi.co/api/v2/version-group/23/'}}, {'level_learned_at': 0, 'move_learn_method': {'name': 'machine', 'url': 'https://pokeapi.co/api/v2/move-learn-method/4/'}, 'version_group': {'name': 'brilliant-diamond-and-shining-pearl', 'url': 'https://pokeapi.co/api/v2/version-group/23/'}}, {'level_learned_at': 9, 'move_learn_method': {'name': 'level-up', 'url': 'https://pokeapi.co/api/v2/move-learn-method/1/'}, 'version_group': {'name': 'legends-arceus', 'url': 'https://pokeapi.co/api/v2/version-group/24/'}}, {'level_learned_at': 4, 'move_learn_method': {'name': 'level-up', 'url': 'https://pokeapi.co/api/v2/move-learn-method/1/'}, 'version_group': {'name': 'scarlet-violet', 'url': 'https://pokeapi.co/api/v2/version-group/25/'}}, {'level_learned_at': 0, 'move_learn_method': {'name': 'machine', 'url': 'https://pokeapi.co/api/v2/move-learn-method/4/'}, 'version_group': {'name': 'scarlet-violet', 'url': 'https://pokeapi.co/api/v2/version-group/25/'}}]}, {'move': {'name': 'thunder', 'url': 'https://pokeapi.co/api/v2/move/87/'}, 'version_group_details': [{'level_learned_at': 43, 'move_learn_method': {'name': 'level-up', 'url': 'https://pokeapi.co/api/v2/move-learn-method/1/'}, 'version_group': {'name': 'red-blue', 'url': 'https://pokeapi.co/api/v2/version-group/1/'}}, {'level_learned_at': 0, 'move_learn_method': {'name': 'machine', 'url': 'https://pokeapi.co/api/v2/move-learn-method/4/'}, 'version_group': {'name': 'red-blue', 'url': 'https://pokeapi.co/api/v2/version-group/1/'}}, {'level_learned_at': 41, 'move_learn_method': {'name': 'level-up', 'url': 'https://pokeapi.co/api/v2/move-learn-method/1/'}, 'version_group': {'name': 'yellow', 'url': 'https://pokeapi.co/api/v2/version-group/2/'}}, {'level_learned_at': 0, 'move_learn_method': {'name': 'machine', 'url': 'https://pokeapi.co/api/v2/move-learn-method/4/'}, 'version_group': {'name': 'yellow', 'url': 'https://pokeapi.co/api/v2/version-group/2/'}}, {'level_learned_at': 41, 'move_learn_method': {'name': 'level-up', 'url': 'https://pokeapi.co/api/v2/move-learn-method/1/'}, 'version_group': {'name': 'gold-silver', 'url': 'https://pokeapi.co/api/v2/version-group/3/'}}, {'level_learned_at': 0, 'move_learn_method': {'name': 'machine', 'url': 'https://pokeapi.co/api/v2/move-learn-method/4/'}, 'version_group': {'name': 'gold-silver', 'url': 'https://pokeapi.co/api/v2/version-group/3/'}}, {'level_learned_at': 41, 'move_learn_method': {'name': 'level-up', 'url': 'https://pokeapi.co/api/v2/move-learn-method/1/'}, 'version_group': {'name': 'crystal', 'url': 'https://pokeapi.co/api/v2/version-group/4/'}}, {'level_learned_at': 0, 'move_learn_method': {'name': 'machine', 'url': 'https://pokeapi.co/api/v2/move-learn-method/4/'}, 'version_group': {'name': 'crystal', 'url': 'https://pokeapi.co/api/v2/version-group/4/'}}, {'level_learned_at': 41, 'move_learn_method': {'name': 'level-up', 'url': 'https://pokeapi.co/api/v2/move-learn-method/1/'}, 'version_group': {'name': 'ruby-sapphire', 'url': 'https://pokeapi.co/api/v2/version-group/5/'}}, {'level_learned_at': 0, 'move_learn_method': {'name': 'machine', 'url': 'https://pokeapi.co/api/v2/move-learn-method/4/'}, 'version_group': {'name': 'ruby-sapphire', 'url': 'https://pokeapi.co/api/v2/version-group/5/'}}, {'level_learned_at': 41, 'move_learn_method': {'name': 'level-up', 'url': 'https://pokeapi.co/api/v2/move-learn-method/1/'}, 'version_group': {'name': 'emerald', 'url': 'https://pokeapi.co/api/v2/version-group/6/'}}, {'level_learned_at': 0, 'move_learn_method': {'name': 'machine', 'url': 'https://pokeapi.co/api/v2/move-learn-method/4/'}, 'version_group': {'name': 'emerald', 'url': 'https://pokeapi.co/api/v2/version-group/6/'}}, {'level_learned_at': 41, 'move_learn_method': {'name': 'level-up', 'url': 'https://pokeapi.co/api/v2/move-learn-method/1/'}, 'version_group': {'name': 'firered-leafgreen', 'url': 'https://pokeapi.co/api/v2/version-group/7/'}}, {'level_learned_at': 0, 'move_learn_method': {'name': 'machine', 'url': 'https://pokeapi.co/api/v2/move-learn-method/4/'}, 'version_group': {'name': 'firered-leafgreen', 'url': 'https://pokeapi.co/api/v2/version-group/7/'}}, {'level_learned_at': 45, 'move_learn_method': {'name': 'level-up', 'url': 'https://pokeapi.co/api/v2/move-learn-method/1/'}, 'version_group': {'name': 'diamond-pearl', 'url': 'https://pokeapi.co/api/v2/version-group/8/'}}, {'level_learned_at': 0, 'move_learn_method': {'name': 'machine', 'url': 'https://pokeapi.co/api/v2/move-learn-method/4/'}, 'version_group': {'name': 'diamond-pearl', 'url': 'https://pokeapi.co/api/v2/version-group/8/'}}, {'level_learned_at': 45, 'move_learn_method': {'name': 'level-up', 'url': 'https://pokeapi.co/api/v2/move-learn-method/1/'}, 'version_group': {'name': 'platinum', 'url': 'https://pokeapi.co/api/v2/version-group/9/'}}, {'level_learned_at': 0, 'move_learn_method': {'name': 'machine', 'url': 'https://pokeapi.co/api/v2/move-learn-method/4/'}, 'version_group': {'name': 'platinum', 'url': 'https://pokeapi.co/api/v2/version-group/9/'}}, {'level_learned_at': 45, 'move_learn_method': {'name': 'level-up', 'url': 'https://pokeapi.co/api/v2/move-learn-method/1/'}, 'version_group': {'name': 'heartgold-soulsilver', 'url': 'https://pokeapi.co/api/v2/version-group/10/'}}, {'level_learned_at': 0, 'move_learn_method': {'name': 'machine', 'url': 'https://pokeapi.co/api/v2/move-learn-method/4/'}, 'version_group': {'name': 'heartgold-soulsilver', 'url': 'https://pokeapi.co/api/v2/version-group/10/'}}, {'level_learned_at': 50, 'move_learn_method': {'name': 'level-up', 'url': 'https://pokeapi.co/api/v2/move-learn-method/1/'}, 'version_group': {'name': 'black-white', 'url': 'https://pokeapi.co/api/v2/version-group/11/'}}, {'level_learned_at': 0, 'move_learn_method': {'name': 'machine', 'url': 'https://pokeapi.co/api/v2/move-learn-method/4/'}, 'version_group': {'name': 'black-white', 'url': 'https://pokeapi.co/api/v2/version-group/11/'}}, {'level_learned_at': 41, 'move_learn_method': {'name': 'level-up', 'url': 'https://pokeapi.co/api/v2/move-learn-method/1/'}, 'version_group': {'name': 'colosseum', 'url': 'https://pokeapi.co/api/v2/version-group/12/'}}, {'level_learned_at': 0, 'move_learn_method': {'name': 'machine', 'url': 'https://pokeapi.co/api/v2/move-learn-method/4/'}, 'version_group': {'name': 'colosseum', 'url': 'https://pokeapi.co/api/v2/version-group/12/'}}, {'level_learned_at': 41, 'move_learn_method': {'name': 'level-up', 'url': 'https://pokeapi.co/api/v2/move-learn-method/1/'}, 'version_group': {'name': 'xd', 'url': 'https://pokeapi.co/api/v2/version-group/13/'}}, {'level_learned_at': 0, 'move_learn_method': {'name': 'machine', 'url': 'https://pokeapi.co/api/v2/move-learn-method/4/'}, 'version_group': {'name': 'xd', 'url': 'https://pokeapi.co/api/v2/version-group/13/'}}, {'level_learned_at': 50, 'move_learn_method': {'name': 'level-up', 'url': 'https://pokeapi.co/api/v2/move-learn-method/1/'}, 'version_group': {'name': 'black-2-white-2', 'url': 'https://pokeapi.co/api/v2/version-group/14/'}}, {'level_learned_at': 0, 'move_learn_method': {'name': 'machine', 'url': 'https://pokeapi.co/api/v2/move-learn-method/4/'}, 'version_group': {'name': 'black-2-white-2', 'url': 'https://pokeapi.co/api/v2/version-group/14/'}}, {'level_learned_at': 50, 'move_learn_method': {'name': 'level-up', 'url': 'https://pokeapi.co/api/v2/move-learn-method/1/'}, 'version_group': {'name': 'x-y', 'url': 'https://pokeapi.co/api/v2/version-group/15/'}}, {'level_learned_at': 0, 'move_learn_method': {'name': 'machine', 'url': 'https://pokeapi.co/api/v2/move-learn-method/4/'}, 'version_group': {'name': 'x-y', 'url': 'https://pokeapi.co/api/v2/version-group/15/'}}, {'level_learned_at': 58, 'move_learn_method': {'name': 'level-up', 'url': 'https://pokeapi.co/api/v2/move-learn-method/1/'}, 'version_group': {'name': 'omega-ruby-alpha-sapphire', 'url': 'https://pokeapi.co/api/v2/version-group/16/'}}, {'level_learned_at': 0, 'move_learn_method': {'name': 'machine', 'url': 'https://pokeapi.co/api/v2/move-learn-method/4/'}, 'version_group': {'name': 'omega-ruby-alpha-sapphire', 'url': 'https://pokeapi.co/api/v2/version-group/16/'}}, {'level_learned_at': 58, 'move_learn_method': {'name': 'level-up', 'url': 'https://pokeapi.co/api/v2/move-learn-method/1/'}, 'version_group': {'name': 'sun-moon', 'url': 'https://pokeapi.co/api/v2/version-group/17/'}}, {'level_learned_at': 0, 'move_learn_method': {'name': 'machine', 'url': 'https://pokeapi.co/api/v2/move-learn-method/4/'}, 'version_group': {'name': 'sun-moon', 'url': 'https://pokeapi.co/api/v2/version-group/17/'}}, {'level_learned_at': 58, 'move_learn_method': {'name': 'level-up', 'url': 'https://pokeapi.co/api/v2/move-learn-method/1/'}, 'version_group': {'name': 'ultra-sun-ultra-moon', 'url': 'https://pokeapi.co/api/v2/version-group/18/'}}, {'level_learned_at': 0, 'move_learn_method': {'name': 'machine', 'url': 'https://pokeapi.co/api/v2/move-learn-method/4/'}, 'version_group': {'name': 'ultra-sun-ultra-moon', 'url': 'https://pokeapi.co/api/v2/version-group/18/'}}, {'level_learned_at': 30, 'move_learn_method': {'name': 'level-up', 'url': 'https://pokeapi.co/api/v2/move-learn-method/1/'}, 'version_group': {'name': 'lets-go-pikachu-lets-go-eevee', 'url': 'https://pokeapi.co/api/v2/version-group/19/'}}, {'level_learned_at': 0, 'move_learn_method': {'name': 'machine', 'url': 'https://pokeapi.co/api/v2/move-learn-method/4/'}, 'version_group': {'name': 'lets-go-pikachu-lets-go-eevee', 'url': 'https://pokeapi.co/api/v2/version-group/19/'}}, {'level_learned_at': 44, 'move_learn_method': {'name': 'level-up', 'url': 'https://pokeapi.co/api/v2/move-learn-method/1/'}, 'version_group': {'name': 'sword-shield', 'url': 'https://pokeapi.co/api/v2/version-group/20/'}}, {'level_learned_at': 0, 'move_learn_method': {'name': 'machine', 'url': 'https://pokeapi.co/api/v2/move-learn-method/4/'}, 'version_group': {'name': 'sword-shield', 'url': 'https://pokeapi.co/api/v2/version-group/20/'}}, {'level_learned_at': 44, 'move_learn_method': {'name': 'level-up', 'url': 'https://pokeapi.co/api/v2/move-learn-method/1/'}, 'version_group': {'name': 'brilliant-diamond-and-shining-pearl', 'url': 'https://pokeapi.co/api/v2/version-group/23/'}}, {'level_learned_at': 0, 'move_learn_method': {'name': 'machine', 'url': 'https://pokeapi.co/api/v2/move-learn-method/4/'}, 'version_group': {'name': 'brilliant-diamond-and-shining-pearl', 'url': 'https://pokeapi.co/api/v2/version-group/23/'}}, {'level_learned_at': 47, 'move_learn_method': {'name': 'level-up', 'url': 'https://pokeapi.co/api/v2/move-learn-method/1/'}, 'version_group': {'name': 'legends-arceus', 'url': 'https://pokeapi.co/api/v2/version-group/24/'}}, {'level_learned_at': 44, 'move_learn_method': {'name': 'level-up', 'url': 'https://pokeapi.co/api/v2/move-learn-method/1/'}, 'version_group': {'name': 'scarlet-violet', 'url': 'https://pokeapi.co/api/v2/version-group/25/'}}, {'level_learned_at': 0, 'move_learn_method': {'name': 'machine', 'url': 'https://pokeapi.co/api/v2/move-learn-method/4/'}, 'version_group': {'name': 'scarlet-violet', 'url': 'https://pokeapi.co/api/v2/version-group/25/'}}]}, {'move': {'name': 'dig', 'url': 'https://pokeapi.co/api/v2/move/91/'}, 'version_group_details': [{'level_learned_at': 0, 'move_learn_method': {'name': 'machine', 'url': 'https://pokeapi.co/api/v2/move-learn-method/4/'}, 'version_group': {'name': 'ruby-sapphire', 'url': 'https://pokeapi.co/api/v2/version-group/5/'}}, {'level_learned_at': 0, 'move_learn_method': {'name': 'machine', 'url': 'https://pokeapi.co/api/v2/move-learn-method/4/'}, 'version_group': {'name': 'emerald', 'url': 'https://pokeapi.co/api/v2/version-group/6/'}}, {'level_learned_at': 0, 'move_learn_method': {'name': 'machine', 'url': 'https://pokeapi.co/api/v2/move-learn-method/4/'}, 'version_group': {'name': 'firered-leafgreen', 'url': 'https://pokeapi.co/api/v2/version-group/7/'}}, {'level_learned_at': 0, 'move_learn_method': {'name': 'machine', 'url': 'https://pokeapi.co/api/v2/move-learn-method/4/'}, 'version_group': {'name': 'diamond-pearl', 'url': 'https://pokeapi.co/api/v2/version-group/8/'}}, {'level_learned_at': 0, 'move_learn_method': {'name': 'machine', 'url': 'https://pokeapi.co/api/v2/move-learn-method/4/'}, 'version_group': {'name': 'platinum', 'url': 'https://pokeapi.co/api/v2/version-group/9/'}}, {'level_learned_at': 0, 'move_learn_method': {'name': 'machine', 'url': 'https://pokeapi.co/api/v2/move-learn-method/4/'}, 'version_group': {'name': 'heartgold-soulsilver', 'url': 'https://pokeapi.co/api/v2/version-group/10/'}}, {'level_learned_at': 0, 'move_learn_method': {'name': 'machine', 'url': 'https://pokeapi.co/api/v2/move-learn-method/4/'}, 'version_group': {'name': 'black-white', 'url': 'https://pokeapi.co/api/v2/version-group/11/'}}, {'level_learned_at': 0, 'move_learn_method': {'name': 'machine', 'url': 'https://pokeapi.co/api/v2/move-learn-method/4/'}, 'version_group': {'name': 'colosseum', 'url': 'https://pokeapi.co/api/v2/version-group/12/'}}, {'level_learned_at': 0, 'move_learn_method': {'name': 'machine', 'url': 'https://pokeapi.co/api/v2/move-learn-method/4/'}, 'version_group': {'name': 'xd', 'url': 'https://pokeapi.co/api/v2/version-group/13/'}}, {'level_learned_at': 0, 'move_learn_method': {'name': 'machine', 'url': 'https://pokeapi.co/api/v2/move-learn-method/4/'}, 'version_group': {'name': 'black-2-white-2', 'url': 'https://pokeapi.co/api/v2/version-group/14/'}}, {'level_learned_at': 0, 'move_learn_method': {'name': 'machine', 'url': 'https://pokeapi.co/api/v2/move-learn-method/4/'}, 'version_group': {'name': 'x-y', 'url': 'https://pokeapi.co/api/v2/version-group/15/'}}, {'level_learned_at': 0, 'move_learn_method': {'name': 'machine', 'url': 'https://pokeapi.co/api/v2/move-learn-method/4/'}, 'version_group': {'name': 'omega-ruby-alpha-sapphire', 'url': 'https://pokeapi.co/api/v2/version-group/16/'}}, {'level_learned_at': 0, 'move_learn_method': {'name': 'machine', 'url': 'https://pokeapi.co/api/v2/move-learn-method/4/'}, 'version_group': {'name': 'lets-go-pikachu-lets-go-eevee', 'url': 'https://pokeapi.co/api/v2/version-group/19/'}}, {'level_learned_at': 0, 'move_learn_method': {'name': 'machine', 'url': 'https://pokeapi.co/api/v2/move-learn-method/4/'}, 'version_group': {'name': 'sword-shield', 'url': 'https://pokeapi.co/api/v2/version-group/20/'}}, {'level_learned_at': 0, 'move_learn_method': {'name': 'machine', 'url': 'https://pokeapi.co/api/v2/move-learn-method/4/'}, 'version_group': {'name': 'brilliant-diamond-and-shining-pearl', 'url': 'https://pokeapi.co/api/v2/version-group/23/'}}, {'level_learned_at': 0, 'move_learn_method': {'name': 'machine', 'url': 'https://pokeapi.co/api/v2/move-learn-method/4/'}, 'version_group': {'name': 'scarlet-violet', 'url': 'https://pokeapi.co/api/v2/version-group/25/'}}]}, {'move': {'name': 'toxic', 'url': 'https://pokeapi.co/api/v2/move/92/'}, 'version_group_details': [{'level_learned_at': 0, 'move_learn_method': {'name': 'machine', 'url': 'https://pokeapi.co/api/v2/move-learn-method/4/'}, 'version_group': {'name': 'red-blue', 'url': 'https://pokeapi.co/api/v2/version-group/1/'}}, {'level_learned_at': 0, 'move_learn_method': {'name': 'machine', 'url': 'https://pokeapi.co/api/v2/move-learn-method/4/'}, 'version_group': {'name': 'yellow', 'url': 'https://pokeapi.co/api/v2/version-group/2/'}}, {'level_learned_at': 0, 'move_learn_method': {'name': 'machine', 'url': 'https://pokeapi.co/api/v2/move-learn-method/4/'}, 'version_group': {'name': 'gold-silver', 'url': 'https://pokeapi.co/api/v2/version-group/3/'}}, {'level_learned_at': 0, 'move_learn_method': {'name': 'machine', 'url': 'https://pokeapi.co/api/v2/move-learn-method/4/'}, 'version_group': {'name': 'crystal', 'url': 'https://pokeapi.co/api/v2/version-group/4/'}}, {'level_learned_at': 0, 'move_learn_method': {'name': 'machine', 'url': 'https://pokeapi.co/api/v2/move-learn-method/4/'}, 'version_group': {'name': 'ruby-sapphire', 'url': 'https://pokeapi.co/api/v2/version-group/5/'}}, {'level_learned_at': 0, 'move_learn_method': {'name': 'machine', 'url': 'https://pokeapi.co/api/v2/move-learn-method/4/'}, 'version_group': {'name': 'emerald', 'url': 'https://pokeapi.co/api/v2/version-group/6/'}}, {'level_learned_at': 0, 'move_learn_method': {'name': 'machine', 'url': 'https://pokeapi.co/api/v2/move-learn-method/4/'}, 'version_group': {'name': 'firered-leafgreen', 'url': 'https://pokeapi.co/api/v2/version-group/7/'}}, {'level_learned_at': 0, 'move_learn_method': {'name': 'machine', 'url': 'https://pokeapi.co/api/v2/move-learn-method/4/'}, 'version_group': {'name': 'diamond-pearl', 'url': 'https://pokeapi.co/api/v2/version-group/8/'}}, {'level_learned_at': 0, 'move_learn_method': {'name': 'machine', 'url': 'https://pokeapi.co/api/v2/move-learn-method/4/'}, 'version_group': {'name': 'platinum', 'url': 'https://pokeapi.co/api/v2/version-group/9/'}}, {'level_learned_at': 0, 'move_learn_method': {'name': 'machine', 'url': 'https://pokeapi.co/api/v2/move-learn-method/4/'}, 'version_group': {'name': 'heartgold-soulsilver', 'url': 'https://pokeapi.co/api/v2/version-group/10/'}}, {'level_learned_at': 0, 'move_learn_method': {'name': 'machine', 'url': 'https://pokeapi.co/api/v2/move-learn-method/4/'}, 'version_group': {'name': 'black-white', 'url': 'https://pokeapi.co/api/v2/version-group/11/'}}, {'level_learned_at': 0, 'move_learn_method': {'name': 'machine', 'url': 'https://pokeapi.co/api/v2/move-learn-method/4/'}, 'version_group': {'name': 'colosseum', 'url': 'https://pokeapi.co/api/v2/version-group/12/'}}, {'level_learned_at': 0, 'move_learn_method': {'name': 'machine', 'url': 'https://pokeapi.co/api/v2/move-learn-method/4/'}, 'version_group': {'name': 'xd', 'url': 'https://pokeapi.co/api/v2/version-group/13/'}}, {'level_learned_at': 0, 'move_learn_method': {'name': 'machine', 'url': 'https://pokeapi.co/api/v2/move-learn-method/4/'}, 'version_group': {'name': 'black-2-white-2', 'url': 'https://pokeapi.co/api/v2/version-group/14/'}}, {'level_learned_at': 0, 'move_learn_method': {'name': 'machine', 'url': 'https://pokeapi.co/api/v2/move-learn-method/4/'}, 'version_group': {'name': 'x-y', 'url': 'https://pokeapi.co/api/v2/version-group/15/'}}, {'level_learned_at': 0, 'move_learn_method': {'name': 'machine', 'url': 'https://pokeapi.co/api/v2/move-learn-method/4/'}, 'version_group': {'name': 'omega-ruby-alpha-sapphire', 'url': 'https://pokeapi.co/api/v2/version-group/16/'}}, {'level_learned_at': 0, 'move_learn_method': {'name': 'machine', 'url': 'https://pokeapi.co/api/v2/move-learn-method/4/'}, 'version_group': {'name': 'sun-moon', 'url': 'https://pokeapi.co/api/v2/version-group/17/'}}, {'level_learned_at': 0, 'move_learn_method': {'name': 'machine', 'url': 'https://pokeapi.co/api/v2/move-learn-method/4/'}, 'version_group': {'name': 'ultra-sun-ultra-moon', 'url': 'https://pokeapi.co/api/v2/version-group/18/'}}, {'level_learned_at': 0, 'move_learn_method': {'name': 'machine', 'url': 'https://pokeapi.co/api/v2/move-learn-method/4/'}, 'version_group': {'name': 'lets-go-pikachu-lets-go-eevee', 'url': 'https://pokeapi.co/api/v2/version-group/19/'}}]}, {'move': {'name': 'agility', 'url': 'https://pokeapi.co/api/v2/move/97/'}, 'version_group_details': [{'level_learned_at': 33, 'move_learn_method': {'name': 'level-up', 'url': 'https://pokeapi.co/api/v2/move-learn-method/1/'}, 'version_group': {'name': 'red-blue', 'url': 'https://pokeapi.co/api/v2/version-group/1/'}}, {'level_learned_at': 33, 'move_learn_method': {'name': 'level-up', 'url': 'https://pokeapi.co/api/v2/move-learn-method/1/'}, 'version_group': {'name': 'yellow', 'url': 'https://pokeapi.co/api/v2/version-group/2/'}}, {'level_learned_at': 33, 'move_learn_method': {'name': 'level-up', 'url': 'https://pokeapi.co/api/v2/move-learn-method/1/'}, 'version_group': {'name': 'gold-silver', 'url': 'https://pokeapi.co/api/v2/version-group/3/'}}, {'level_learned_at': 33, 'move_learn_method': {'name': 'level-up', 'url': 'https://pokeapi.co/api/v2/move-learn-method/1/'}, 'version_group': {'name': 'crystal', 'url': 'https://pokeapi.co/api/v2/version-group/4/'}}, {'level_learned_at': 33, 'move_learn_method': {'name': 'level-up', 'url': 'https://pokeapi.co/api/v2/move-learn-method/1/'}, 'version_group': {'name': 'ruby-sapphire', 'url': 'https://pokeapi.co/api/v2/version-group/5/'}}, {'level_learned_at': 33, 'move_learn_method': {'name': 'level-up', 'url': 'https://pokeapi.co/api/v2/move-learn-method/1/'}, 'version_group': {'name': 'emerald', 'url': 'https://pokeapi.co/api/v2/version-group/6/'}}, {'level_learned_at': 33, 'move_learn_method': {'name': 'level-up', 'url': 'https://pokeapi.co/api/v2/move-learn-method/1/'}, 'version_group': {'name': 'firered-leafgreen', 'url': 'https://pokeapi.co/api/v2/version-group/7/'}}, {'level_learned_at': 34, 'move_learn_method': {'name': 'level-up', 'url': 'https://pokeapi.co/api/v2/move-learn-method/1/'}, 'version_group': {'name': 'diamond-pearl', 'url': 'https://pokeapi.co/api/v2/version-group/8/'}}, {'level_learned_at': 34, 'move_learn_method': {'name': 'level-up', 'url': 'https://pokeapi.co/api/v2/move-learn-method/1/'}, 'version_group': {'name': 'platinum', 'url': 'https://pokeapi.co/api/v2/version-group/9/'}}, {'level_learned_at': 34, 'move_learn_method': {'name': 'level-up', 'url': 'https://pokeapi.co/api/v2/move-learn-method/1/'}, 'version_group': {'name': 'heartgold-soulsilver', 'url': 'https://pokeapi.co/api/v2/version-group/10/'}}, {'level_learned_at': 37, 'move_learn_method': {'name': 'level-up', 'url': 'https://pokeapi.co/api/v2/move-learn-method/1/'}, 'version_group': {'name': 'black-white', 'url': 'https://pokeapi.co/api/v2/version-group/11/'}}, {'level_learned_at': 33, 'move_learn_method': {'name': 'level-up', 'url': 'https://pokeapi.co/api/v2/move-learn-method/1/'}, 'version_group': {'name': 'colosseum', 'url': 'https://pokeapi.co/api/v2/version-group/12/'}}, {'level_learned_at': 33, 'move_learn_method': {'name': 'level-up', 'url': 'https://pokeapi.co/api/v2/move-learn-method/1/'}, 'version_group': {'name': 'xd', 'url': 'https://pokeapi.co/api/v2/version-group/13/'}}, {'level_learned_at': 37, 'move_learn_method': {'name': 'level-up', 'url': 'https://pokeapi.co/api/v2/move-learn-method/1/'}, 'version_group': {'name': 'black-2-white-2', 'url': 'https://pokeapi.co/api/v2/version-group/14/'}}, {'level_learned_at': 37, 'move_learn_method': {'name': 'level-up', 'url': 'https://pokeapi.co/api/v2/move-learn-method/1/'}, 'version_group': {'name': 'x-y', 'url': 'https://pokeapi.co/api/v2/version-group/15/'}}, {'level_learned_at': 45, 'move_learn_method': {'name': 'level-up', 'url': 'https://pokeapi.co/api/v2/move-learn-method/1/'}, 'version_group': {'name': 'omega-ruby-alpha-sapphire', 'url': 'https://pokeapi.co/api/v2/version-group/16/'}}, {'level_learned_at': 45, 'move_learn_method': {'name': 'level-up', 'url': 'https://pokeapi.co/api/v2/move-learn-method/1/'}, 'version_group': {'name': 'sun-moon', 'url': 'https://pokeapi.co/api/v2/version-group/17/'}}, {'level_learned_at': 45, 'move_learn_method': {'name': 'level-up', 'url': 'https://pokeapi.co/api/v2/move-learn-method/1/'}, 'version_group': {'name': 'ultra-sun-ultra-moon', 'url': 'https://pokeapi.co/api/v2/version-group/18/'}}, {'level_learned_at': 27, 'move_learn_method': {'name': 'level-up', 'url': 'https://pokeapi.co/api/v2/move-learn-method/1/'}, 'version_group': {'name': 'lets-go-pikachu-lets-go-eevee', 'url': 'https://pokeapi.co/api/v2/version-group/19/'}}, {'level_learned_at': 24, 'move_learn_method': {'name': 'level-up', 'url': 'https://pokeapi.co/api/v2/move-learn-method/1/'}, 'version_group': {'name': 'sword-shield', 'url': 'https://pokeapi.co/api/v2/version-group/20/'}}, {'level_learned_at': 0, 'move_learn_method': {'name': 'machine', 'url': 'https://pokeapi.co/api/v2/move-learn-method/4/'}, 'version_group': {'name': 'sword-shield', 'url': 'https://pokeapi.co/api/v2/version-group/20/'}}, {'level_learned_at': 24, 'move_learn_method': {'name': 'level-up', 'url': 'https://pokeapi.co/api/v2/move-learn-method/1/'}, 'version_group': {'name': 'brilliant-diamond-and-shining-pearl', 'url': 'https://pokeapi.co/api/v2/version-group/23/'}}, {'level_learned_at': 24, 'move_learn_method': {'name': 'level-up', 'url': 'https://pokeapi.co/api/v2/move-learn-method/1/'}, 'version_group': {'name': 'scarlet-violet', 'url': 'https://pokeapi.co/api/v2/version-group/25/'}}, {'level_learned_at': 0, 'move_learn_method': {'name': 'machine', 'url': 'https://pokeapi.co/api/v2/move-learn-method/4/'}, 'version_group': {'name': 'scarlet-violet', 'url': 'https://pokeapi.co/api/v2/version-group/25/'}}]}, {'move': {'name': 'quick-attack', 'url': 'https://pokeapi.co/api/v2/move/98/'}, 'version_group_details': [{'level_learned_at': 16, 'move_learn_method': {'name': 'level-up', 'url': 'https://pokeapi.co/api/v2/move-learn-method/1/'}, 'version_group': {'name': 'red-blue', 'url': 'https://pokeapi.co/api/v2/version-group/1/'}}, {'level_learned_at': 11, 'move_learn_method': {'name': 'level-up', 'url': 'https://pokeapi.co/api/v2/move-learn-method/1/'}, 'version_group': {'name': 'yellow', 'url': 'https://pokeapi.co/api/v2/version-group/2/'}}, {'level_learned_at': 11, 'move_learn_method': {'name': 'level-up', 'url': 'https://pokeapi.co/api/v2/move-learn-method/1/'}, 'version_group': {'name': 'gold-silver', 'url': 'https://pokeapi.co/api/v2/version-group/3/'}}, {'level_learned_at': 11, 'move_learn_method': {'name': 'level-up', 'url': 'https://pokeapi.co/api/v2/move-learn-method/1/'}, 'version_group': {'name': 'crystal', 'url': 'https://pokeapi.co/api/v2/version-group/4/'}}, {'level_learned_at': 11, 'move_learn_method': {'name': 'level-up', 'url': 'https://pokeapi.co/api/v2/move-learn-method/1/'}, 'version_group': {'name': 'ruby-sapphire', 'url': 'https://pokeapi.co/api/v2/version-group/5/'}}, {'level_learned_at': 11, 'move_learn_method': {'name': 'level-up', 'url': 'https://pokeapi.co/api/v2/move-learn-method/1/'}, 'version_group': {'name': 'emerald', 'url': 'https://pokeapi.co/api/v2/version-group/6/'}}, {'level_learned_at': 11, 'move_learn_method': {'name': 'level-up', 'url': 'https://pokeapi.co/api/v2/move-learn-method/1/'}, 'version_group': {'name': 'firered-leafgreen', 'url': 'https://pokeapi.co/api/v2/version-group/7/'}}, {'level_learned_at': 13, 'move_learn_method': {'name': 'level-up', 'url': 'https://pokeapi.co/api/v2/move-learn-method/1/'}, 'version_group': {'name': 'diamond-pearl', 'url': 'https://pokeapi.co/api/v2/version-group/8/'}}, {'level_learned_at': 13, 'move_learn_method': {'name': 'level-up', 'url': 'https://pokeapi.co/api/v2/move-learn-method/1/'}, 'version_group': {'name': 'platinum', 'url': 'https://pokeapi.co/api/v2/version-group/9/'}}, {'level_learned_at': 13, 'move_learn_method': {'name': 'level-up', 'url': 'https://pokeapi.co/api/v2/move-learn-method/1/'}, 'version_group': {'name': 'heartgold-soulsilver', 'url': 'https://pokeapi.co/api/v2/version-group/10/'}}, {'level_learned_at': 13, 'move_learn_method': {'name': 'level-up', 'url': 'https://pokeapi.co/api/v2/move-learn-method/1/'}, 'version_group': {'name': 'black-white', 'url': 'https://pokeapi.co/api/v2/version-group/11/'}}, {'level_learned_at': 11, 'move_learn_method': {'name': 'level-up', 'url': 'https://pokeapi.co/api/v2/move-learn-method/1/'}, 'version_group': {'name': 'colosseum', 'url': 'https://pokeapi.co/api/v2/version-group/12/'}}, {'level_learned_at': 11, 'move_learn_method': {'name': 'level-up', 'url': 'https://pokeapi.co/api/v2/move-learn-method/1/'}, 'version_group': {'name': 'xd', 'url': 'https://pokeapi.co/api/v2/version-group/13/'}}, {'level_learned_at': 13, 'move_learn_method': {'name': 'level-up', 'url': 'https://pokeapi.co/api/v2/move-learn-method/1/'}, 'version_group': {'name': 'black-2-white-2', 'url': 'https://pokeapi.co/api/v2/version-group/14/'}}, {'level_learned_at': 10, 'move_learn_method': {'name': 'level-up', 'url': 'https://pokeapi.co/api/v2/move-learn-method/1/'}, 'version_group': {'name': 'x-y', 'url': 'https://pokeapi.co/api/v2/version-group/15/'}}, {'level_learned_at': 10, 'move_learn_method': {'name': 'level-up', 'url': 'https://pokeapi.co/api/v2/move-learn-method/1/'}, 'version_group': {'name': 'omega-ruby-alpha-sapphire', 'url': 'https://pokeapi.co/api/v2/version-group/16/'}}, {'level_learned_at': 10, 'move_learn_method': {'name': 'level-up', 'url': 'https://pokeapi.co/api/v2/move-learn-method/1/'}, 'version_group': {'name': 'sun-moon', 'url': 'https://pokeapi.co/api/v2/version-group/17/'}}, {'level_learned_at': 10, 'move_learn_method': {'name': 'level-up', 'url': 'https://pokeapi.co/api/v2/move-learn-method/1/'}, 'version_group': {'name': 'ultra-sun-ultra-moon', 'url': 'https://pokeapi.co/api/v2/version-group/18/'}}, {'level_learned_at': 6, 'move_learn_method': {'name': 'level-up', 'url': 'https://pokeapi.co/api/v2/move-learn-method/1/'}, 'version_group': {'name': 'lets-go-pikachu-lets-go-eevee', 'url': 'https://pokeapi.co/api/v2/version-group/19/'}}, {'level_learned_at': 1, 'move_learn_method': {'name': 'level-up', 'url': 'https://pokeapi.co/api/v2/move-learn-method/1/'}, 'version_group': {'name': 'sword-shield', 'url': 'https://pokeapi.co/api/v2/version-group/20/'}}, {'level_learned_at': 1, 'move_learn_method': {'name': 'level-up', 'url': 'https://pokeapi.co/api/v2/move-learn-method/1/'}, 'version_group': {'name': 'brilliant-diamond-and-shining-pearl', 'url': 'https://pokeapi.co/api/v2/version-group/23/'}}, {'level_learned_at': 5, 'move_learn_method': {'name': 'level-up', 'url': 'https://pokeapi.co/api/v2/move-learn-method/1/'}, 'version_group': {'name': 'legends-arceus', 'url': 'https://pokeapi.co/api/v2/version-group/24/'}}, {'level_learned_at': 1, 'move_learn_method': {'name': 'level-up', 'url': 'https://pokeapi.co/api/v2/move-learn-method/1/'}, 'version_group': {'name': 'scarlet-violet', 'url': 'https://pokeapi.co/api/v2/version-group/25/'}}]}, {'move': {'name': 'rage', 'url': 'https://pokeapi.co/api/v2/move/99/'}, 'version_group_details': [{'level_learned_at': 0, 'move_learn_method': {'name': 'machine', 'url': 'https://pokeapi.co/api/v2/move-learn-method/4/'}, 'version_group': {'name': 'red-blue', 'url': 'https://pokeapi.co/api/v2/version-group/1/'}}, {'level_learned_at': 0, 'move_learn_method': {'name': 'machine', 'url': 'https://pokeapi.co/api/v2/move-learn-method/4/'}, 'version_group': {'name': 'yellow', 'url': 'https://pokeapi.co/api/v2/version-group/2/'}}]}, {'move': {'name': 'mimic', 'url': 'https://pokeapi.co/api/v2/move/102/'}, 'version_group_details': [{'level_learned_at': 0, 'move_learn_method': {'name': 'machine', 'url': 'https://pokeapi.co/api/v2/move-learn-method/4/'}, 'version_group': {'name': 'red-blue', 'url': 'https://pokeapi.co/api/v2/version-group/1/'}}, {'level_learned_at': 0, 'move_learn_method': {'name': 'machine', 'url': 'https://pokeapi.co/api/v2/move-learn-method/4/'}, 'version_group': {'name': 'yellow', 'url': 'https://pokeapi.co/api/v2/version-group/2/'}}, {'level_learned_at': 0, 'move_learn_method': {'name': 'tutor', 'url': 'https://pokeapi.co/api/v2/move-learn-method/3/'}, 'version_group': {'name': 'emerald', 'url': 'https://pokeapi.co/api/v2/version-group/6/'}}, {'level_learned_at': 0, 'move_learn_method': {'name': 'tutor', 'url': 'https://pokeapi.co/api/v2/move-learn-method/3/'}, 'version_group': {'name': 'firered-leafgreen', 'url': 'https://pokeapi.co/api/v2/version-group/7/'}}, {'level_learned_at': 0, 'move_learn_method': {'name': 'tutor', 'url': 'https://pokeapi.co/api/v2/move-learn-method/3/'}, 'version_group': {'name': 'xd', 'url': 'https://pokeapi.co/api/v2/version-group/13/'}}]}, {'move': {'name': 'double-team', 'url': 'https://pokeapi.co/api/v2/move/104/'}, 'version_group_details': [{'level_learned_at': 0, 'move_learn_method': {'name': 'machine', 'url': 'https://pokeapi.co/api/v2/move-learn-method/4/'}, 'version_group': {'name': 'red-blue', 'url': 'https://pokeapi.co/api/v2/version-group/1/'}}, {'level_learned_at': 15, 'move_learn_method': {'name': 'level-up', 'url': 'https://pokeapi.co/api/v2/move-learn-method/1/'}, 'version_group': {'name': 'yellow', 'url': 'https://pokeapi.co/api/v2/version-group/2/'}}, {'level_learned_at': 0, 'move_learn_method': {'name': 'machine', 'url': 'https://pokeapi.co/api/v2/move-learn-method/4/'}, 'version_group': {'name': 'yellow', 'url': 'https://pokeapi.co/api/v2/version-group/2/'}}, {'level_learned_at': 15, 'move_learn_method': {'name': 'level-up', 'url': 'https://pokeapi.co/api/v2/move-learn-method/1/'}, 'version_group': {'name': 'gold-silver', 'url': 'https://pokeapi.co/api/v2/version-group/3/'}}, {'level_learned_at': 0, 'move_learn_method': {'name': 'machine', 'url': 'https://pokeapi.co/api/v2/move-learn-method/4/'}, 'version_group': {'name': 'gold-silver', 'url': 'https://pokeapi.co/api/v2/version-group/3/'}}, {'level_learned_at': 15, 'move_learn_method': {'name': 'level-up', 'url': 'https://pokeapi.co/api/v2/move-learn-method/1/'}, 'version_group': {'name': 'crystal', 'url': 'https://pokeapi.co/api/v2/version-group/4/'}}, {'level_learned_at': 0, 'move_learn_method': {'name': 'machine', 'url': 'https://pokeapi.co/api/v2/move-learn-method/4/'}, 'version_group': {'name': 'crystal', 'url': 'https://pokeapi.co/api/v2/version-group/4/'}}, {'level_learned_at': 15, 'move_learn_method': {'name': 'level-up', 'url': 'https://pokeapi.co/api/v2/move-learn-method/1/'}, 'version_group': {'name': 'ruby-sapphire', 'url': 'https://pokeapi.co/api/v2/version-group/5/'}}, {'level_learned_at': 0, 'move_learn_method': {'name': 'machine', 'url': 'https://pokeapi.co/api/v2/move-learn-method/4/'}, 'version_group': {'name': 'ruby-sapphire', 'url': 'https://pokeapi.co/api/v2/version-group/5/'}}, {'level_learned_at': 15, 'move_learn_method': {'name': 'level-up', 'url': 'https://pokeapi.co/api/v2/move-learn-method/1/'}, 'version_group': {'name': 'emerald', 'url': 'https://pokeapi.co/api/v2/version-group/6/'}}, {'level_learned_at': 0, 'move_learn_method': {'name': 'machine', 'url': 'https://pokeapi.co/api/v2/move-learn-method/4/'}, 'version_group': {'name': 'emerald', 'url': 'https://pokeapi.co/api/v2/version-group/6/'}}, {'level_learned_at': 15, 'move_learn_method': {'name': 'level-up', 'url': 'https://pokeapi.co/api/v2/move-learn-method/1/'}, 'version_group': {'name': 'firered-leafgreen', 'url': 'https://pokeapi.co/api/v2/version-group/7/'}}, {'level_learned_at': 0, 'move_learn_method': {'name': 'machine', 'url': 'https://pokeapi.co/api/v2/move-learn-method/4/'}, 'version_group': {'name': 'firered-leafgreen', 'url': 'https://pokeapi.co/api/v2/version-group/7/'}}, {'level_learned_at': 18, 'move_learn_method': {'name': 'level-up', 'url': 'https://pokeapi.co/api/v2/move-learn-method/1/'}, 'version_group': {'name': 'diamond-pearl', 'url': 'https://pokeapi.co/api/v2/version-group/8/'}}, {'level_learned_at': 0, 'move_learn_method': {'name': 'machine', 'url': 'https://pokeapi.co/api/v2/move-learn-method/4/'}, 'version_group': {'name': 'diamond-pearl', 'url': 'https://pokeapi.co/api/v2/version-group/8/'}}, {'level_learned_at': 18, 'move_learn_method': {'name': 'level-up', 'url': 'https://pokeapi.co/api/v2/move-learn-method/1/'}, 'version_group': {'name': 'platinum', 'url': 'https://pokeapi.co/api/v2/version-group/9/'}}, {'level_learned_at': 0, 'move_learn_method': {'name': 'machine', 'url': 'https://pokeapi.co/api/v2/move-learn-method/4/'}, 'version_group': {'name': 'platinum', 'url': 'https://pokeapi.co/api/v2/version-group/9/'}}, {'level_learned_at': 18, 'move_learn_method': {'name': 'level-up', 'url': 'https://pokeapi.co/api/v2/move-learn-method/1/'}, 'version_group': {'name': 'heartgold-soulsilver', 'url': 'https://pokeapi.co/api/v2/version-group/10/'}}, {'level_learned_at': 0, 'move_learn_method': {'name': 'machine', 'url': 'https://pokeapi.co/api/v2/move-learn-method/4/'}, 'version_group': {'name': 'heartgold-soulsilver', 'url': 'https://pokeapi.co/api/v2/version-group/10/'}}, {'level_learned_at': 21, 'move_learn_method': {'name': 'level-up', 'url': 'https://pokeapi.co/api/v2/move-learn-method/1/'}, 'version_group': {'name': 'black-white', 'url': 'https://pokeapi.co/api/v2/version-group/11/'}}, {'level_learned_at': 0, 'move_learn_method': {'name': 'machine', 'url': 'https://pokeapi.co/api/v2/move-learn-method/4/'}, 'version_group': {'name': 'black-white', 'url': 'https://pokeapi.co/api/v2/version-group/11/'}}, {'level_learned_at': 15, 'move_learn_method': {'name': 'level-up', 'url': 'https://pokeapi.co/api/v2/move-learn-method/1/'}, 'version_group': {'name': 'colosseum', 'url': 'https://pokeapi.co/api/v2/version-group/12/'}}, {'level_learned_at': 0, 'move_learn_method': {'name': 'machine', 'url': 'https://pokeapi.co/api/v2/move-learn-method/4/'}, 'version_group': {'name': 'colosseum', 'url': 'https://pokeapi.co/api/v2/version-group/12/'}}, {'level_learned_at': 15, 'move_learn_method': {'name': 'level-up', 'url': 'https://pokeapi.co/api/v2/move-learn-method/1/'}, 'version_group': {'name': 'xd', 'url': 'https://pokeapi.co/api/v2/version-group/13/'}}, {'level_learned_at': 0, 'move_learn_method': {'name': 'machine', 'url': 'https://pokeapi.co/api/v2/move-learn-method/4/'}, 'version_group': {'name': 'xd', 'url': 'https://pokeapi.co/api/v2/version-group/13/'}}, {'level_learned_at': 21, 'move_learn_method': {'name': 'level-up', 'url': 'https://pokeapi.co/api/v2/move-learn-method/1/'}, 'version_group': {'name': 'black-2-white-2', 'url': 'https://pokeapi.co/api/v2/version-group/14/'}}, {'level_learned_at': 0, 'move_learn_method': {'name': 'machine', 'url': 'https://pokeapi.co/api/v2/move-learn-method/4/'}, 'version_group': {'name': 'black-2-white-2', 'url': 'https://pokeapi.co/api/v2/version-group/14/'}}, {'level_learned_at': 21, 'move_learn_method': {'name': 'level-up', 'url': 'https://pokeapi.co/api/v2/move-learn-method/1/'}, 'version_group': {'name': 'x-y', 'url': 'https://pokeapi.co/api/v2/version-group/15/'}}, {'level_learned_at': 0, 'move_learn_method': {'name': 'machine', 'url': 'https://pokeapi.co/api/v2/move-learn-method/4/'}, 'version_group': {'name': 'x-y', 'url': 'https://pokeapi.co/api/v2/version-group/15/'}}, {'level_learned_at': 23, 'move_learn_method': {'name': 'level-up', 'url': 'https://pokeapi.co/api/v2/move-learn-method/1/'}, 'version_group': {'name': 'omega-ruby-alpha-sapphire', 'url': 'https://pokeapi.co/api/v2/version-group/16/'}}, {'level_learned_at': 0, 'move_learn_method': {'name': 'machine', 'url': 'https://pokeapi.co/api/v2/move-learn-method/4/'}, 'version_group': {'name': 'omega-ruby-alpha-sapphire', 'url': 'https://pokeapi.co/api/v2/version-group/16/'}}, {'level_learned_at': 23, 'move_learn_method': {'name': 'level-up', 'url': 'https://pokeapi.co/api/v2/move-learn-method/1/'}, 'version_group': {'name': 'sun-moon', 'url': 'https://pokeapi.co/api/v2/version-group/17/'}}, {'level_learned_at': 0, 'move_learn_method': {'name': 'machine', 'url': 'https://pokeapi.co/api/v2/move-learn-method/4/'}, 'version_group': {'name': 'sun-moon', 'url': 'https://pokeapi.co/api/v2/version-group/17/'}}, {'level_learned_at': 23, 'move_learn_method': {'name': 'level-up', 'url': 'https://pokeapi.co/api/v2/move-learn-method/1/'}, 'version_group': {'name': 'ultra-sun-ultra-moon', 'url': 'https://pokeapi.co/api/v2/version-group/18/'}}, {'level_learned_at': 0, 'move_learn_method': {'name': 'machine', 'url': 'https://pokeapi.co/api/v2/move-learn-method/4/'}, 'version_group': {'name': 'ultra-sun-ultra-moon', 'url': 'https://pokeapi.co/api/v2/version-group/18/'}}, {'level_learned_at': 12, 'move_learn_method': {'name': 'level-up', 'url': 'https://pokeapi.co/api/v2/move-learn-method/1/'}, 'version_group': {'name': 'lets-go-pikachu-lets-go-eevee', 'url': 'https://pokeapi.co/api/v2/version-group/19/'}}, {'level_learned_at': 8, 'move_learn_method': {'name': 'level-up', 'url': 'https://pokeapi.co/api/v2/move-learn-method/1/'}, 'version_group': {'name': 'sword-shield', 'url': 'https://pokeapi.co/api/v2/version-group/20/'}}, {'level_learned_at': 8, 'move_learn_method': {'name': 'level-up', 'url': 'https://pokeapi.co/api/v2/move-learn-method/1/'}, 'version_group': {'name': 'brilliant-diamond-and-shining-pearl', 'url': 'https://pokeapi.co/api/v2/version-group/23/'}}, {'level_learned_at': 0, 'move_learn_method': {'name': 'machine', 'url': 'https://pokeapi.co/api/v2/move-learn-method/4/'}, 'version_group': {'name': 'brilliant-diamond-and-shining-pearl', 'url': 'https://pokeapi.co/api/v2/version-group/23/'}}, {'level_learned_at': 8, 'move_learn_method': {'name': 'level-up', 'url': 'https://pokeapi.co/api/v2/move-learn-method/1/'}, 'version_group': {'name': 'scarlet-violet', 'url': 'https://pokeapi.co/api/v2/version-group/25/'}}]}, {'move': {'name': 'defense-curl', 'url': 'https://pokeapi.co/api/v2/move/111/'}, 'version_group_details': [{'level_learned_at': 0, 'move_learn_method': {'name': 'machine', 'url': 'https://pokeapi.co/api/v2/move-learn-method/4/'}, 'version_group': {'name': 'gold-silver', 'url': 'https://pokeapi.co/api/v2/version-group/3/'}}, {'level_learned_at': 0, 'move_learn_method': {'name': 'machine', 'url': 'https://pokeapi.co/api/v2/move-learn-method/4/'}, 'version_group': {'name': 'crystal', 'url': 'https://pokeapi.co/api/v2/version-group/4/'}}, {'level_learned_at': 0, 'move_learn_method': {'name': 'tutor', 'url': 'https://pokeapi.co/api/v2/move-learn-method/3/'}, 'version_group': {'name': 'emerald', 'url': 'https://pokeapi.co/api/v2/version-group/6/'}}]}, {'move': {'name': 'light-screen', 'url': 'https://pokeapi.co/api/v2/move/113/'}, 'version_group_details': [{'level_learned_at': 50, 'move_learn_method': {'name': 'level-up', 'url': 'https://pokeapi.co/api/v2/move-learn-method/1/'}, 'version_group': {'name': 'yellow', 'url': 'https://pokeapi.co/api/v2/version-group/2/'}}, {'level_learned_at': 50, 'move_learn_method': {'name': 'level-up', 'url': 'https://pokeapi.co/api/v2/move-learn-method/1/'}, 'version_group': {'name': 'gold-silver', 'url': 'https://pokeapi.co/api/v2/version-group/3/'}}, {'level_learned_at': 50, 'move_learn_method': {'name': 'level-up', 'url': 'https://pokeapi.co/api/v2/move-learn-method/1/'}, 'version_group': {'name': 'crystal', 'url': 'https://pokeapi.co/api/v2/version-group/4/'}}, {'level_learned_at': 50, 'move_learn_method': {'name': 'level-up', 'url': 'https://pokeapi.co/api/v2/move-learn-method/1/'}, 'version_group': {'name': 'ruby-sapphire', 'url': 'https://pokeapi.co/api/v2/version-group/5/'}}, {'level_learned_at': 0, 'move_learn_method': {'name': 'machine', 'url': 'https://pokeapi.co/api/v2/move-learn-method/4/'}, 'version_group': {'name': 'ruby-sapphire', 'url': 'https://pokeapi.co/api/v2/version-group/5/'}}, {'level_learned_at': 50, 'move_learn_method': {'name': 'level-up', 'url': 'https://pokeapi.co/api/v2/move-learn-method/1/'}, 'version_group': {'name': 'emerald', 'url': 'https://pokeapi.co/api/v2/version-group/6/'}}, {'level_learned_at': 0, 'move_learn_method': {'name': 'machine', 'url': 'https://pokeapi.co/api/v2/move-learn-method/4/'}, 'version_group': {'name': 'emerald', 'url': 'https://pokeapi.co/api/v2/version-group/6/'}}, {'level_learned_at': 50, 'move_learn_method': {'name': 'level-up', 'url': 'https://pokeapi.co/api/v2/move-learn-method/1/'}, 'version_group': {'name': 'firered-leafgreen', 'url': 'https://pokeapi.co/api/v2/version-group/7/'}}, {'level_learned_at': 0, 'move_learn_method': {'name': 'machine', 'url': 'https://pokeapi.co/api/v2/move-learn-method/4/'}, 'version_group': {'name': 'firered-leafgreen', 'url': 'https://pokeapi.co/api/v2/version-group/7/'}}, {'level_learned_at': 42, 'move_learn_method': {'name': 'level-up', 'url': 'https://pokeapi.co/api/v2/move-learn-method/1/'}, 'version_group': {'name': 'diamond-pearl', 'url': 'https://pokeapi.co/api/v2/version-group/8/'}}, {'level_learned_at': 0, 'move_learn_method': {'name': 'machine', 'url': 'https://pokeapi.co/api/v2/move-learn-method/4/'}, 'version_group': {'name': 'diamond-pearl', 'url': 'https://pokeapi.co/api/v2/version-group/8/'}}, {'level_learned_at': 42, 'move_learn_method': {'name': 'level-up', 'url': 'https://pokeapi.co/api/v2/move-learn-method/1/'}, 'version_group': {'name': 'platinum', 'url': 'https://pokeapi.co/api/v2/version-group/9/'}}, {'level_learned_at': 0, 'move_learn_method': {'name': 'machine', 'url': 'https://pokeapi.co/api/v2/move-learn-method/4/'}, 'version_group': {'name': 'platinum', 'url': 'https://pokeapi.co/api/v2/version-group/9/'}}, {'level_learned_at': 42, 'move_learn_method': {'name': 'level-up', 'url': 'https://pokeapi.co/api/v2/move-learn-method/1/'}, 'version_group': {'name': 'heartgold-soulsilver', 'url': 'https://pokeapi.co/api/v2/version-group/10/'}}, {'level_learned_at': 0, 'move_learn_method': {'name': 'machine', 'url': 'https://pokeapi.co/api/v2/move-learn-method/4/'}, 'version_group': {'name': 'heartgold-soulsilver', 'url': 'https://pokeapi.co/api/v2/version-group/10/'}}, {'level_learned_at': 45, 'move_learn_method': {'name': 'level-up', 'url': 'https://pokeapi.co/api/v2/move-learn-method/1/'}, 'version_group': {'name': 'black-white', 'url': 'https://pokeapi.co/api/v2/version-group/11/'}}, {'level_learned_at': 0, 'move_learn_method': {'name': 'machine', 'url': 'https://pokeapi.co/api/v2/move-learn-method/4/'}, 'version_group': {'name': 'black-white', 'url': 'https://pokeapi.co/api/v2/version-group/11/'}}, {'level_learned_at': 50, 'move_learn_method': {'name': 'level-up', 'url': 'https://pokeapi.co/api/v2/move-learn-method/1/'}, 'version_group': {'name': 'colosseum', 'url': 'https://pokeapi.co/api/v2/version-group/12/'}}, {'level_learned_at': 0, 'move_learn_method': {'name': 'machine', 'url': 'https://pokeapi.co/api/v2/move-learn-method/4/'}, 'version_group': {'name': 'colosseum', 'url': 'https://pokeapi.co/api/v2/version-group/12/'}}, {'level_learned_at': 50, 'move_learn_method': {'name': 'level-up', 'url': 'https://pokeapi.co/api/v2/move-learn-method/1/'}, 'version_group': {'name': 'xd', 'url': 'https://pokeapi.co/api/v2/version-group/13/'}}, {'level_learned_at': 0, 'move_learn_method': {'name': 'machine', 'url': 'https://pokeapi.co/api/v2/move-learn-method/4/'}, 'version_group': {'name': 'xd', 'url': 'https://pokeapi.co/api/v2/version-group/13/'}}, {'level_learned_at': 45, 'move_learn_method': {'name': 'level-up', 'url': 'https://pokeapi.co/api/v2/move-learn-method/1/'}, 'version_group': {'name': 'black-2-white-2', 'url': 'https://pokeapi.co/api/v2/version-group/14/'}}, {'level_learned_at': 0, 'move_learn_method': {'name': 'machine', 'url': 'https://pokeapi.co/api/v2/move-learn-method/4/'}, 'version_group': {'name': 'black-2-white-2', 'url': 'https://pokeapi.co/api/v2/version-group/14/'}}, {'level_learned_at': 45, 'move_learn_method': {'name': 'level-up', 'url': 'https://pokeapi.co/api/v2/move-learn-method/1/'}, 'version_group': {'name': 'x-y', 'url': 'https://pokeapi.co/api/v2/version-group/15/'}}, {'level_learned_at': 0, 'move_learn_method': {'name': 'machine', 'url': 'https://pokeapi.co/api/v2/move-learn-method/4/'}, 'version_group': {'name': 'x-y', 'url': 'https://pokeapi.co/api/v2/version-group/15/'}}, {'level_learned_at': 53, 'move_learn_method': {'name': 'level-up', 'url': 'https://pokeapi.co/api/v2/move-learn-method/1/'}, 'version_group': {'name': 'omega-ruby-alpha-sapphire', 'url': 'https://pokeapi.co/api/v2/version-group/16/'}}, {'level_learned_at': 0, 'move_learn_method': {'name': 'machine', 'url': 'https://pokeapi.co/api/v2/move-learn-method/4/'}, 'version_group': {'name': 'omega-ruby-alpha-sapphire', 'url': 'https://pokeapi.co/api/v2/version-group/16/'}}, {'level_learned_at': 53, 'move_learn_method': {'name': 'level-up', 'url': 'https://pokeapi.co/api/v2/move-learn-method/1/'}, 'version_group': {'name': 'sun-moon', 'url': 'https://pokeapi.co/api/v2/version-group/17/'}}, {'level_learned_at': 0, 'move_learn_method': {'name': 'machine', 'url': 'https://pokeapi.co/api/v2/move-learn-method/4/'}, 'version_group': {'name': 'sun-moon', 'url': 'https://pokeapi.co/api/v2/version-group/17/'}}, {'level_learned_at': 53, 'move_learn_method': {'name': 'level-up', 'url': 'https://pokeapi.co/api/v2/move-learn-method/1/'}, 'version_group': {'name': 'ultra-sun-ultra-moon', 'url': 'https://pokeapi.co/api/v2/version-group/18/'}}, {'level_learned_at': 0, 'move_learn_method': {'name': 'machine', 'url': 'https://pokeapi.co/api/v2/move-learn-method/4/'}, 'version_group': {'name': 'ultra-sun-ultra-moon', 'url': 'https://pokeapi.co/api/v2/version-group/18/'}}, {'level_learned_at': 18, 'move_learn_method': {'name': 'level-up', 'url': 'https://pokeapi.co/api/v2/move-learn-method/1/'}, 'version_group': {'name': 'lets-go-pikachu-lets-go-eevee', 'url': 'https://pokeapi.co/api/v2/version-group/19/'}}, {'level_learned_at': 0, 'move_learn_method': {'name': 'machine', 'url': 'https://pokeapi.co/api/v2/move-learn-method/4/'}, 'version_group': {'name': 'lets-go-pikachu-lets-go-eevee', 'url': 'https://pokeapi.co/api/v2/version-group/19/'}}, {'level_learned_at': 40, 'move_learn_method': {'name': 'level-up', 'url': 'https://pokeapi.co/api/v2/move-learn-method/1/'}, 'version_group': {'name': 'sword-shield', 'url': 'https://pokeapi.co/api/v2/version-group/20/'}}, {'level_learned_at': 0, 'move_learn_method': {'name': 'machine', 'url': 'https://pokeapi.co/api/v2/move-learn-method/4/'}, 'version_group': {'name': 'sword-shield', 'url': 'https://pokeapi.co/api/v2/version-group/20/'}}, {'level_learned_at': 40, 'move_learn_method': {'name': 'level-up', 'url': 'https://pokeapi.co/api/v2/move-learn-method/1/'}, 'version_group': {'name': 'brilliant-diamond-and-shining-pearl', 'url': 'https://pokeapi.co/api/v2/version-group/23/'}}, {'level_learned_at': 0, 'move_learn_method': {'name': 'machine', 'url': 'https://pokeapi.co/api/v2/move-learn-method/4/'}, 'version_group': {'name': 'brilliant-diamond-and-shining-pearl', 'url': 'https://pokeapi.co/api/v2/version-group/23/'}}, {'level_learned_at': 40, 'move_learn_method': {'name': 'level-up', 'url': 'https://pokeapi.co/api/v2/move-learn-method/1/'}, 'version_group': {'name': 'scarlet-violet', 'url': 'https://pokeapi.co/api/v2/version-group/25/'}}, {'level_learned_at': 0, 'move_learn_method': {'name': 'machine', 'url': 'https://pokeapi.co/api/v2/move-learn-method/4/'}, 'version_group': {'name': 'scarlet-violet', 'url': 'https://pokeapi.co/api/v2/version-group/25/'}}]}, {'move': {'name': 'reflect', 'url': 'https://pokeapi.co/api/v2/move/115/'}, 'version_group_details': [{'level_learned_at': 0, 'move_learn_method': {'name': 'machine', 'url': 'https://pokeapi.co/api/v2/move-learn-method/4/'}, 'version_group': {'name': 'red-blue', 'url': 'https://pokeapi.co/api/v2/version-group/1/'}}, {'level_learned_at': 0, 'move_learn_method': {'name': 'machine', 'url': 'https://pokeapi.co/api/v2/move-learn-method/4/'}, 'version_group': {'name': 'yellow', 'url': 'https://pokeapi.co/api/v2/version-group/2/'}}, {'level_learned_at': 0, 'move_learn_method': {'name': 'machine', 'url': 'https://pokeapi.co/api/v2/move-learn-method/4/'}, 'version_group': {'name': 'lets-go-pikachu-lets-go-eevee', 'url': 'https://pokeapi.co/api/v2/version-group/19/'}}, {'level_learned_at': 0, 'move_learn_method': {'name': 'machine', 'url': 'https://pokeapi.co/api/v2/move-learn-method/4/'}, 'version_group': {'name': 'sword-shield', 'url': 'https://pokeapi.co/api/v2/version-group/20/'}}, {'level_learned_at': 0, 'move_learn_method': {'name': 'machine', 'url': 'https://pokeapi.co/api/v2/move-learn-method/4/'}, 'version_group': {'name': 'brilliant-diamond-and-shining-pearl', 'url': 'https://pokeapi.co/api/v2/version-group/23/'}}, {'level_learned_at': 0, 'move_learn_method': {'name': 'machine', 'url': 'https://pokeapi.co/api/v2/move-learn-method/4/'}, 'version_group': {'name': 'scarlet-violet', 'url': 'https://pokeapi.co/api/v2/version-group/25/'}}]}, {'move': {'name': 'bide', 'url': 'https://pokeapi.co/api/v2/move/117/'}, 'version_group_details': [{'level_learned_at': 0, 'move_learn_method': {'name': 'machine', 'url': 'https://pokeapi.co/api/v2/move-learn-method/4/'}, 'version_group': {'name': 'red-blue', 'url': 'https://pokeapi.co/api/v2/version-group/1/'}}, {'level_learned_at': 0, 'move_learn_method': {'name': 'machine', 'url': 'https://pokeapi.co/api/v2/move-learn-method/4/'}, 'version_group': {'name': 'yellow', 'url': 'https://pokeapi.co/api/v2/version-group/2/'}}]}, {'move': {'name': 'swift', 'url': 'https://pokeapi.co/api/v2/move/129/'}, 'version_group_details': [{'level_learned_at': 26, 'move_learn_method': {'name': 'level-up', 'url': 'https://pokeapi.co/api/v2/move-learn-method/1/'}, 'version_group': {'name': 'red-blue', 'url': 'https://pokeapi.co/api/v2/version-group/1/'}}, {'level_learned_at': 0, 'move_learn_method': {'name': 'machine', 'url': 'https://pokeapi.co/api/v2/move-learn-method/4/'}, 'version_group': {'name': 'red-blue', 'url': 'https://pokeapi.co/api/v2/version-group/1/'}}, {'level_learned_at': 0, 'move_learn_method': {'name': 'machine', 'url': 'https://pokeapi.co/api/v2/move-learn-method/4/'}, 'version_group': {'name': 'yellow', 'url': 'https://pokeapi.co/api/v2/version-group/2/'}}, {'level_learned_at': 0, 'move_learn_method': {'name': 'machine', 'url': 'https://pokeapi.co/api/v2/move-learn-method/4/'}, 'version_group': {'name': 'gold-silver', 'url': 'https://pokeapi.co/api/v2/version-group/3/'}}, {'level_learned_at': 0, 'move_learn_method': {'name': 'machine', 'url': 'https://pokeapi.co/api/v2/move-learn-method/4/'}, 'version_group': {'name': 'crystal', 'url': 'https://pokeapi.co/api/v2/version-group/4/'}}, {'level_learned_at': 0, 'move_learn_method': {'name': 'tutor', 'url': 'https://pokeapi.co/api/v2/move-learn-method/3/'}, 'version_group': {'name': 'emerald', 'url': 'https://pokeapi.co/api/v2/version-group/6/'}}, {'level_learned_at': 0, 'move_learn_method': {'name': 'tutor', 'url': 'https://pokeapi.co/api/v2/move-learn-method/3/'}, 'version_group': {'name': 'platinum', 'url': 'https://pokeapi.co/api/v2/version-group/9/'}}, {'level_learned_at': 0, 'move_learn_method': {'name': 'tutor', 'url': 'https://pokeapi.co/api/v2/move-learn-method/3/'}, 'version_group': {'name': 'heartgold-soulsilver', 'url': 'https://pokeapi.co/api/v2/version-group/10/'}}, {'level_learned_at': 0, 'move_learn_method': {'name': 'machine', 'url': 'https://pokeapi.co/api/v2/move-learn-method/4/'}, 'version_group': {'name': 'sword-shield', 'url': 'https://pokeapi.co/api/v2/version-group/20/'}}, {'level_learned_at': 15, 'move_learn_method': {'name': 'level-up', 'url': 'https://pokeapi.co/api/v2/move-learn-method/1/'}, 'version_group': {'name': 'legends-arceus', 'url': 'https://pokeapi.co/api/v2/version-group/24/'}}, {'level_learned_at': 0, 'move_learn_method': {'name': 'machine', 'url': 'https://pokeapi.co/api/v2/move-learn-method/4/'}, 'version_group': {'name': 'scarlet-violet', 'url': 'https://pokeapi.co/api/v2/version-group/25/'}}]}, {'move': {'name': 'skull-bash', 'url': 'https://pokeapi.co/api/v2/move/130/'}, 'version_group_details': [{'level_learned_at': 0, 'move_learn_method': {'name': 'machine', 'url': 'https://pokeapi.co/api/v2/move-learn-method/4/'}, 'version_group': {'name': 'red-blue', 'url': 'https://pokeapi.co/api/v2/version-group/1/'}}, {'level_learned_at': 0, 'move_learn_method': {'name': 'machine', 'url': 'https://pokeapi.co/api/v2/move-learn-method/4/'}, 'version_group': {'name': 'yellow', 'url': 'https://pokeapi.co/api/v2/version-group/2/'}}]}, {'move': {'name': 'flash', 'url': 'https://pokeapi.co/api/v2/move/148/'}, 'version_group_details': [{'level_learned_at': 0, 'move_learn_method': {'name': 'machine', 'url': 'https://pokeapi.co/api/v2/move-learn-method/4/'}, 'version_group': {'name': 'red-blue', 'url': 'https://pokeapi.co/api/v2/version-group/1/'}}, {'level_learned_at': 0, 'move_learn_method': {'name': 'machine', 'url': 'https://pokeapi.co/api/v2/move-learn-method/4/'}, 'version_group': {'name': 'yellow', 'url': 'https://pokeapi.co/api/v2/version-group/2/'}}, {'level_learned_at': 0, 'move_learn_method': {'name': 'machine', 'url': 'https://pokeapi.co/api/v2/move-learn-method/4/'}, 'version_group': {'name': 'gold-silver', 'url': 'https://pokeapi.co/api/v2/version-group/3/'}}, {'level_learned_at': 0, 'move_learn_method': {'name': 'machine', 'url': 'https://pokeapi.co/api/v2/move-learn-method/4/'}, 'version_group': {'name': 'crystal', 'url': 'https://pokeapi.co/api/v2/version-group/4/'}}, {'level_learned_at': 0, 'move_learn_method': {'name': 'machine', 'url': 'https://pokeapi.co/api/v2/move-learn-method/4/'}, 'version_group': {'name': 'ruby-sapphire', 'url': 'https://pokeapi.co/api/v2/version-group/5/'}}, {'level_learned_at': 0, 'move_learn_method': {'name': 'machine', 'url': 'https://pokeapi.co/api/v2/move-learn-method/4/'}, 'version_group': {'name': 'emerald', 'url': 'https://pokeapi.co/api/v2/version-group/6/'}}, {'level_learned_at': 0, 'move_learn_method': {'name': 'machine', 'url': 'https://pokeapi.co/api/v2/move-learn-method/4/'}, 'version_group': {'name': 'firered-leafgreen', 'url': 'https://pokeapi.co/api/v2/version-group/7/'}}, {'level_learned_at': 0, 'move_learn_method': {'name': 'machine', 'url': 'https://pokeapi.co/api/v2/move-learn-method/4/'}, 'version_group': {'name': 'diamond-pearl', 'url': 'https://pokeapi.co/api/v2/version-group/8/'}}, {'level_learned_at': 0, 'move_learn_method': {'name': 'machine', 'url': 'https://pokeapi.co/api/v2/move-learn-method/4/'}, 'version_group': {'name': 'platinum', 'url': 'https://pokeapi.co/api/v2/version-group/9/'}}, {'level_learned_at': 0, 'move_learn_method': {'name': 'machine', 'url': 'https://pokeapi.co/api/v2/move-learn-method/4/'}, 'version_group': {'name': 'heartgold-soulsilver', 'url': 'https://pokeapi.co/api/v2/version-group/10/'}}, {'level_learned_at': 0, 'move_learn_method': {'name': 'machine', 'url': 'https://pokeapi.co/api/v2/move-learn-method/4/'}, 'version_group': {'name': 'black-white', 'url': 'https://pokeapi.co/api/v2/version-group/11/'}}, {'level_learned_at': 0, 'move_learn_method': {'name': 'machine', 'url': 'https://pokeapi.co/api/v2/move-learn-method/4/'}, 'version_group': {'name': 'colosseum', 'url': 'https://pokeapi.co/api/v2/version-group/12/'}}, {'level_learned_at': 0, 'move_learn_method': {'name': 'machine', 'url': 'https://pokeapi.co/api/v2/move-learn-method/4/'}, 'version_group': {'name': 'xd', 'url': 'https://pokeapi.co/api/v2/version-group/13/'}}, {'level_learned_at': 0, 'move_learn_method': {'name': 'machine', 'url': 'https://pokeapi.co/api/v2/move-learn-method/4/'}, 'version_group': {'name': 'black-2-white-2', 'url': 'https://pokeapi.co/api/v2/version-group/14/'}}, {'level_learned_at': 0, 'move_learn_method': {'name': 'machine', 'url': 'https://pokeapi.co/api/v2/move-learn-method/4/'}, 'version_group': {'name': 'x-y', 'url': 'https://pokeapi.co/api/v2/version-group/15/'}}, {'level_learned_at': 0, 'move_learn_method': {'name': 'machine', 'url': 'https://pokeapi.co/api/v2/move-learn-method/4/'}, 'version_group': {'name': 'omega-ruby-alpha-sapphire', 'url': 'https://pokeapi.co/api/v2/version-group/16/'}}, {'level_learned_at': 0, 'move_learn_method': {'name': 'machine', 'url': 'https://pokeapi.co/api/v2/move-learn-method/4/'}, 'version_group': {'name': 'brilliant-diamond-and-shining-pearl', 'url': 'https://pokeapi.co/api/v2/version-group/23/'}}]}, {'move': {'name': 'rest', 'url': 'https://pokeapi.co/api/v2/move/156/'}, 'version_group_details': [{'level_learned_at': 0, 'move_learn_method': {'name': 'machine', 'url': 'https://pokeapi.co/api/v2/move-learn-method/4/'}, 'version_group': {'name': 'red-blue', 'url': 'https://pokeapi.co/api/v2/version-group/1/'}}, {'level_learned_at': 0, 'move_learn_method': {'name': 'machine', 'url': 'https://pokeapi.co/api/v2/move-learn-method/4/'}, 'version_group': {'name': 'yellow', 'url': 'https://pokeapi.co/api/v2/version-group/2/'}}, {'level_learned_at': 0, 'move_learn_method': {'name': 'machine', 'url': 'https://pokeapi.co/api/v2/move-learn-method/4/'}, 'version_group': {'name': 'gold-silver', 'url': 'https://pokeapi.co/api/v2/version-group/3/'}}, {'level_learned_at': 0, 'move_learn_method': {'name': 'machine', 'url': 'https://pokeapi.co/api/v2/move-learn-method/4/'}, 'version_group': {'name': 'crystal', 'url': 'https://pokeapi.co/api/v2/version-group/4/'}}, {'level_learned_at': 0, 'move_learn_method': {'name': 'machine', 'url': 'https://pokeapi.co/api/v2/move-learn-method/4/'}, 'version_group': {'name': 'ruby-sapphire', 'url': 'https://pokeapi.co/api/v2/version-group/5/'}}, {'level_learned_at': 0, 'move_learn_method': {'name': 'machine', 'url': 'https://pokeapi.co/api/v2/move-learn-method/4/'}, 'version_group': {'name': 'emerald', 'url': 'https://pokeapi.co/api/v2/version-group/6/'}}, {'level_learned_at': 0, 'move_learn_method': {'name': 'machine', 'url': 'https://pokeapi.co/api/v2/move-learn-method/4/'}, 'version_group': {'name': 'firered-leafgreen', 'url': 'https://pokeapi.co/api/v2/version-group/7/'}}, {'level_learned_at': 0, 'move_learn_method': {'name': 'machine', 'url': 'https://pokeapi.co/api/v2/move-learn-method/4/'}, 'version_group': {'name': 'diamond-pearl', 'url': 'https://pokeapi.co/api/v2/version-group/8/'}}, {'level_learned_at': 0, 'move_learn_method': {'name': 'machine', 'url': 'https://pokeapi.co/api/v2/move-learn-method/4/'}, 'version_group': {'name': 'platinum', 'url': 'https://pokeapi.co/api/v2/version-group/9/'}}, {'level_learned_at': 0, 'move_learn_method': {'name': 'machine', 'url': 'https://pokeapi.co/api/v2/move-learn-method/4/'}, 'version_group': {'name': 'heartgold-soulsilver', 'url': 'https://pokeapi.co/api/v2/version-group/10/'}}, {'level_learned_at': 0, 'move_learn_method': {'name': 'machine', 'url': 'https://pokeapi.co/api/v2/move-learn-method/4/'}, 'version_group': {'name': 'black-white', 'url': 'https://pokeapi.co/api/v2/version-group/11/'}}, {'level_learned_at': 0, 'move_learn_method': {'name': 'machine', 'url': 'https://pokeapi.co/api/v2/move-learn-method/4/'}, 'version_group': {'name': 'colosseum', 'url': 'https://pokeapi.co/api/v2/version-group/12/'}}, {'level_learned_at': 0, 'move_learn_method': {'name': 'machine', 'url': 'https://pokeapi.co/api/v2/move-learn-method/4/'}, 'version_group': {'name': 'xd', 'url': 'https://pokeapi.co/api/v2/version-group/13/'}}, {'level_learned_at': 0, 'move_learn_method': {'name': 'machine', 'url': 'https://pokeapi.co/api/v2/move-learn-method/4/'}, 'version_group': {'name': 'black-2-white-2', 'url': 'https://pokeapi.co/api/v2/version-group/14/'}}, {'level_learned_at': 0, 'move_learn_method': {'name': 'machine', 'url': 'https://pokeapi.co/api/v2/move-learn-method/4/'}, 'version_group': {'name': 'x-y', 'url': 'https://pokeapi.co/api/v2/version-group/15/'}}, {'level_learned_at': 0, 'move_learn_method': {'name': 'machine', 'url': 'https://pokeapi.co/api/v2/move-learn-method/4/'}, 'version_group': {'name': 'omega-ruby-alpha-sapphire', 'url': 'https://pokeapi.co/api/v2/version-group/16/'}}, {'level_learned_at': 0, 'move_learn_method': {'name': 'machine', 'url': 'https://pokeapi.co/api/v2/move-learn-method/4/'}, 'version_group': {'name': 'sun-moon', 'url': 'https://pokeapi.co/api/v2/version-group/17/'}}, {'level_learned_at': 0, 'move_learn_method': {'name': 'machine', 'url': 'https://pokeapi.co/api/v2/move-learn-method/4/'}, 'version_group': {'name': 'ultra-sun-ultra-moon', 'url': 'https://pokeapi.co/api/v2/version-group/18/'}}, {'level_learned_at': 0, 'move_learn_method': {'name': 'machine', 'url': 'https://pokeapi.co/api/v2/move-learn-method/4/'}, 'version_group': {'name': 'lets-go-pikachu-lets-go-eevee', 'url': 'https://pokeapi.co/api/v2/version-group/19/'}}, {'level_learned_at': 0, 'move_learn_method': {'name': 'machine', 'url': 'https://pokeapi.co/api/v2/move-learn-method/4/'}, 'version_group': {'name': 'sword-shield', 'url': 'https://pokeapi.co/api/v2/version-group/20/'}}, {'level_learned_at': 0, 'move_learn_method': {'name': 'machine', 'url': 'https://pokeapi.co/api/v2/move-learn-method/4/'}, 'version_group': {'name': 'brilliant-diamond-and-shining-pearl', 'url': 'https://pokeapi.co/api/v2/version-group/23/'}}, {'level_learned_at': 0, 'move_learn_method': {'name': 'machine', 'url': 'https://pokeapi.co/api/v2/move-learn-method/4/'}, 'version_group': {'name': 'scarlet-violet', 'url': 'https://pokeapi.co/api/v2/version-group/25/'}}]}, {'move': {'name': 'substitute', 'url': 'https://pokeapi.co/api/v2/move/164/'}, 'version_group_details': [{'level_learned_at': 0, 'move_learn_method': {'name': 'machine', 'url': 'https://pokeapi.co/api/v2/move-learn-method/4/'}, 'version_group': {'name': 'red-blue', 'url': 'https://pokeapi.co/api/v2/version-group/1/'}}, {'level_learned_at': 0, 'move_learn_method': {'name': 'machine', 'url': 'https://pokeapi.co/api/v2/move-learn-method/4/'}, 'version_group': {'name': 'yellow', 'url': 'https://pokeapi.co/api/v2/version-group/2/'}}, {'level_learned_at': 0, 'move_learn_method': {'name': 'tutor', 'url': 'https://pokeapi.co/api/v2/move-learn-method/3/'}, 'version_group': {'name': 'emerald', 'url': 'https://pokeapi.co/api/v2/version-group/6/'}}, {'level_learned_at': 0, 'move_learn_method': {'name': 'tutor', 'url': 'https://pokeapi.co/api/v2/move-learn-method/3/'}, 'version_group': {'name': 'firered-leafgreen', 'url': 'https://pokeapi.co/api/v2/version-group/7/'}}, {'level_learned_at': 0, 'move_learn_method': {'name': 'machine', 'url': 'https://pokeapi.co/api/v2/move-learn-method/4/'}, 'version_group': {'name': 'diamond-pearl', 'url': 'https://pokeapi.co/api/v2/version-group/8/'}}, {'level_learned_at': 0, 'move_learn_method': {'name': 'machine', 'url': 'https://pokeapi.co/api/v2/move-learn-method/4/'}, 'version_group': {'name': 'platinum', 'url': 'https://pokeapi.co/api/v2/version-group/9/'}}, {'level_learned_at': 0, 'move_learn_method': {'name': 'machine', 'url': 'https://pokeapi.co/api/v2/move-learn-method/4/'}, 'version_group': {'name': 'heartgold-soulsilver', 'url': 'https://pokeapi.co/api/v2/version-group/10/'}}, {'level_learned_at': 0, 'move_learn_method': {'name': 'machine', 'url': 'https://pokeapi.co/api/v2/move-learn-method/4/'}, 'version_group': {'name': 'black-white', 'url': 'https://pokeapi.co/api/v2/version-group/11/'}}, {'level_learned_at': 0, 'move_learn_method': {'name': 'tutor', 'url': 'https://pokeapi.co/api/v2/move-learn-method/3/'}, 'version_group': {'name': 'xd', 'url': 'https://pokeapi.co/api/v2/version-group/13/'}}, {'level_learned_at': 0, 'move_learn_method': {'name': 'machine', 'url': 'https://pokeapi.co/api/v2/move-learn-method/4/'}, 'version_group': {'name': 'black-2-white-2', 'url': 'https://pokeapi.co/api/v2/version-group/14/'}}, {'level_learned_at': 0, 'move_learn_method': {'name': 'machine', 'url': 'https://pokeapi.co/api/v2/move-learn-method/4/'}, 'version_group': {'name': 'x-y', 'url': 'https://pokeapi.co/api/v2/version-group/15/'}}, {'level_learned_at': 0, 'move_learn_method': {'name': 'machine', 'url': 'https://pokeapi.co/api/v2/move-learn-method/4/'}, 'version_group': {'name': 'omega-ruby-alpha-sapphire', 'url': 'https://pokeapi.co/api/v2/version-group/16/'}}, {'level_learned_at': 0, 'move_learn_method': {'name': 'machine', 'url': 'https://pokeapi.co/api/v2/move-learn-method/4/'}, 'version_group': {'name': 'sun-moon', 'url': 'https://pokeapi.co/api/v2/version-group/17/'}}, {'level_learned_at': 0, 'move_learn_method': {'name': 'machine', 'url': 'https://pokeapi.co/api/v2/move-learn-method/4/'}, 'version_group': {'name': 'ultra-sun-ultra-moon', 'url': 'https://pokeapi.co/api/v2/version-group/18/'}}, {'level_learned_at': 0, 'move_learn_method': {'name': 'machine', 'url': 'https://pokeapi.co/api/v2/move-learn-method/4/'}, 'version_group': {'name': 'lets-go-pikachu-lets-go-eevee', 'url': 'https://pokeapi.co/api/v2/version-group/19/'}}, {'level_learned_at': 0, 'move_learn_method': {'name': 'machine', 'url': 'https://pokeapi.co/api/v2/move-learn-method/4/'}, 'version_group': {'name': 'sword-shield', 'url': 'https://pokeapi.co/api/v2/version-group/20/'}}, {'level_learned_at': 0, 'move_learn_method': {'name': 'machine', 'url': 'https://pokeapi.co/api/v2/move-learn-method/4/'}, 'version_group': {'name': 'brilliant-diamond-and-shining-pearl', 'url': 'https://pokeapi.co/api/v2/version-group/23/'}}, {'level_learned_at': 0, 'move_learn_method': {'name': 'machine', 'url': 'https://pokeapi.co/api/v2/move-learn-method/4/'}, 'version_group': {'name': 'scarlet-violet', 'url': 'https://pokeapi.co/api/v2/version-group/25/'}}]}, {'move': {'name': 'thief', 'url': 'https://pokeapi.co/api/v2/move/168/'}, 'version_group_details': [{'level_learned_at': 0, 'move_learn_method': {'name': 'machine', 'url': 'https://pokeapi.co/api/v2/move-learn-method/4/'}, 'version_group': {'name': 'sword-shield', 'url': 'https://pokeapi.co/api/v2/version-group/20/'}}, {'level_learned_at': 0, 'move_learn_method': {'name': 'machine', 'url': 'https://pokeapi.co/api/v2/move-learn-method/4/'}, 'version_group': {'name': 'brilliant-diamond-and-shining-pearl', 'url': 'https://pokeapi.co/api/v2/version-group/23/'}}, {'level_learned_at': 0, 'move_learn_method': {'name': 'machine', 'url': 'https://pokeapi.co/api/v2/move-learn-method/4/'}, 'version_group': {'name': 'scarlet-violet', 'url': 'https://pokeapi.co/api/v2/version-group/25/'}}]}, {'move': {'name': 'snore', 'url': 'https://pokeapi.co/api/v2/move/173/'}, 'version_group_details': [{'level_learned_at': 0, 'move_learn_method': {'name': 'machine', 'url': 'https://pokeapi.co/api/v2/move-learn-method/4/'}, 'version_group': {'name': 'gold-silver', 'url': 'https://pokeapi.co/api/v2/version-group/3/'}}, {'level_learned_at': 0, 'move_learn_method': {'name': 'machine', 'url': 'https://pokeapi.co/api/v2/move-learn-method/4/'}, 'version_group': {'name': 'crystal', 'url': 'https://pokeapi.co/api/v2/version-group/4/'}}, {'level_learned_at': 0, 'move_learn_method': {'name': 'tutor', 'url': 'https://pokeapi.co/api/v2/move-learn-method/3/'}, 'version_group': {'name': 'emerald', 'url': 'https://pokeapi.co/api/v2/version-group/6/'}}, {'level_learned_at': 0, 'move_learn_method': {'name': 'tutor', 'url': 'https://pokeapi.co/api/v2/move-learn-method/3/'}, 'version_group': {'name': 'platinum', 'url': 'https://pokeapi.co/api/v2/version-group/9/'}}, {'level_learned_at': 0, 'move_learn_method': {'name': 'tutor', 'url': 'https://pokeapi.co/api/v2/move-learn-method/3/'}, 'version_group': {'name': 'heartgold-soulsilver', 'url': 'https://pokeapi.co/api/v2/version-group/10/'}}, {'level_learned_at': 0, 'move_learn_method': {'name': 'tutor', 'url': 'https://pokeapi.co/api/v2/move-learn-method/3/'}, 'version_group': {'name': 'black-2-white-2', 'url': 'https://pokeapi.co/api/v2/version-group/14/'}}, {'level_learned_at': 0, 'move_learn_method': {'name': 'tutor', 'url': 'https://pokeapi.co/api/v2/move-learn-method/3/'}, 'version_group': {'name': 'omega-ruby-alpha-sapphire', 'url': 'https://pokeapi.co/api/v2/version-group/16/'}}, {'level_learned_at': 0, 'move_learn_method': {'name': 'tutor', 'url': 'https://pokeapi.co/api/v2/move-learn-method/3/'}, 'version_group': {'name': 'ultra-sun-ultra-moon', 'url': 'https://pokeapi.co/api/v2/version-group/18/'}}, {'level_learned_at': 0, 'move_learn_method': {'name': 'machine', 'url': 'https://pokeapi.co/api/v2/move-learn-method/4/'}, 'version_group': {'name': 'sword-shield', 'url': 'https://pokeapi.co/api/v2/version-group/20/'}}]}, {'move': {'name': 'curse', 'url': 'https://pokeapi.co/api/v2/move/174/'}, 'version_group_details': [{'level_learned_at': 0, 'move_learn_method': {'name': 'machine', 'url': 'https://pokeapi.co/api/v2/move-learn-method/4/'}, 'version_group': {'name': 'gold-silver', 'url': 'https://pokeapi.co/api/v2/version-group/3/'}}, {'level_learned_at': 0, 'move_learn_method': {'name': 'machine', 'url': 'https://pokeapi.co/api/v2/move-learn-method/4/'}, 'version_group': {'name': 'crystal', 'url': 'https://pokeapi.co/api/v2/version-group/4/'}}]}, {'move': {'name': 'reversal', 'url': 'https://pokeapi.co/api/v2/move/179/'}, 'version_group_details': [{'level_learned_at': 0, 'move_learn_method': {'name': 'machine', 'url': 'https://pokeapi.co/api/v2/move-learn-method/4/'}, 'version_group': {'name': 'sword-shield', 'url': 'https://pokeapi.co/api/v2/version-group/20/'}}, {'level_learned_at': 0, 'move_learn_method': {'name': 'machine', 'url': 'https://pokeapi.co/api/v2/move-learn-method/4/'}, 'version_group': {'name': 'scarlet-violet', 'url': 'https://pokeapi.co/api/v2/version-group/25/'}}]}, {'move': {'name': 'protect', 'url': 'https://pokeapi.co/api/v2/move/182/'}, 'version_group_details': [{'level_learned_at': 0, 'move_learn_method': {'name': 'machine', 'url': 'https://pokeapi.co/api/v2/move-learn-method/4/'}, 'version_group': {'name': 'gold-silver', 'url': 'https://pokeapi.co/api/v2/version-group/3/'}}, {'level_learned_at': 0, 'move_learn_method': {'name': 'machine', 'url': 'https://pokeapi.co/api/v2/move-learn-method/4/'}, 'version_group': {'name': 'crystal', 'url': 'https://pokeapi.co/api/v2/version-group/4/'}}, {'level_learned_at': 0, 'move_learn_method': {'name': 'machine', 'url': 'https://pokeapi.co/api/v2/move-learn-method/4/'}, 'version_group': {'name': 'ruby-sapphire', 'url': 'https://pokeapi.co/api/v2/version-group/5/'}}, {'level_learned_at': 0, 'move_learn_method': {'name': 'machine', 'url': 'https://pokeapi.co/api/v2/move-learn-method/4/'}, 'version_group': {'name': 'emerald', 'url': 'https://pokeapi.co/api/v2/version-group/6/'}}, {'level_learned_at': 0, 'move_learn_method': {'name': 'machine', 'url': 'https://pokeapi.co/api/v2/move-learn-method/4/'}, 'version_group': {'name': 'firered-leafgreen', 'url': 'https://pokeapi.co/api/v2/version-group/7/'}}, {'level_learned_at': 0, 'move_learn_method': {'name': 'machine', 'url': 'https://pokeapi.co/api/v2/move-learn-method/4/'}, 'version_group': {'name': 'diamond-pearl', 'url': 'https://pokeapi.co/api/v2/version-group/8/'}}, {'level_learned_at': 0, 'move_learn_method': {'name': 'machine', 'url': 'https://pokeapi.co/api/v2/move-learn-method/4/'}, 'version_group': {'name': 'platinum', 'url': 'https://pokeapi.co/api/v2/version-group/9/'}}, {'level_learned_at': 0, 'move_learn_method': {'name': 'machine', 'url': 'https://pokeapi.co/api/v2/move-learn-method/4/'}, 'version_group': {'name': 'heartgold-soulsilver', 'url': 'https://pokeapi.co/api/v2/version-group/10/'}}, {'level_learned_at': 0, 'move_learn_method': {'name': 'machine', 'url': 'https://pokeapi.co/api/v2/move-learn-method/4/'}, 'version_group': {'name': 'black-white', 'url': 'https://pokeapi.co/api/v2/version-group/11/'}}, {'level_learned_at': 0, 'move_learn_method': {'name': 'machine', 'url': 'https://pokeapi.co/api/v2/move-learn-method/4/'}, 'version_group': {'name': 'colosseum', 'url': 'https://pokeapi.co/api/v2/version-group/12/'}}, {'level_learned_at': 0, 'move_learn_method': {'name': 'machine', 'url': 'https://pokeapi.co/api/v2/move-learn-method/4/'}, 'version_group': {'name': 'xd', 'url': 'https://pokeapi.co/api/v2/version-group/13/'}}, {'level_learned_at': 0, 'move_learn_method': {'name': 'machine', 'url': 'https://pokeapi.co/api/v2/move-learn-method/4/'}, 'version_group': {'name': 'black-2-white-2', 'url': 'https://pokeapi.co/api/v2/version-group/14/'}}, {'level_learned_at': 0, 'move_learn_method': {'name': 'machine', 'url': 'https://pokeapi.co/api/v2/move-learn-method/4/'}, 'version_group': {'name': 'x-y', 'url': 'https://pokeapi.co/api/v2/version-group/15/'}}, {'level_learned_at': 0, 'move_learn_method': {'name': 'machine', 'url': 'https://pokeapi.co/api/v2/move-learn-method/4/'}, 'version_group': {'name': 'omega-ruby-alpha-sapphire', 'url': 'https://pokeapi.co/api/v2/version-group/16/'}}, {'level_learned_at': 0, 'move_learn_method': {'name': 'machine', 'url': 'https://pokeapi.co/api/v2/move-learn-method/4/'}, 'version_group': {'name': 'sun-moon', 'url': 'https://pokeapi.co/api/v2/version-group/17/'}}, {'level_learned_at': 0, 'move_learn_method': {'name': 'machine', 'url': 'https://pokeapi.co/api/v2/move-learn-method/4/'}, 'version_group': {'name': 'ultra-sun-ultra-moon', 'url': 'https://pokeapi.co/api/v2/version-group/18/'}}, {'level_learned_at': 0, 'move_learn_method': {'name': 'machine', 'url': 'https://pokeapi.co/api/v2/move-learn-method/4/'}, 'version_group': {'name': 'lets-go-pikachu-lets-go-eevee', 'url': 'https://pokeapi.co/api/v2/version-group/19/'}}, {'level_learned_at': 0, 'move_learn_method': {'name': 'machine', 'url': 'https://pokeapi.co/api/v2/move-learn-method/4/'}, 'version_group': {'name': 'sword-shield', 'url': 'https://pokeapi.co/api/v2/version-group/20/'}}, {'level_learned_at': 0, 'move_learn_method': {'name': 'machine', 'url': 'https://pokeapi.co/api/v2/move-learn-method/4/'}, 'version_group': {'name': 'brilliant-diamond-and-shining-pearl', 'url': 'https://pokeapi.co/api/v2/version-group/23/'}}, {'level_learned_at': 0, 'move_learn_method': {'name': 'machine', 'url': 'https://pokeapi.co/api/v2/move-learn-method/4/'}, 'version_group': {'name': 'scarlet-violet', 'url': 'https://pokeapi.co/api/v2/version-group/25/'}}]}, {'move': {'name': 'sweet-kiss', 'url': 'https://pokeapi.co/api/v2/move/186/'}, 'version_group_details': [{'level_learned_at': 1, 'move_learn_method': {'name': 'level-up', 'url': 'https://pokeapi.co/api/v2/move-learn-method/1/'}, 'version_group': {'name': 'sword-shield', 'url': 'https://pokeapi.co/api/v2/version-group/20/'}}, {'level_learned_at': 1, 'move_learn_method': {'name': 'level-up', 'url': 'https://pokeapi.co/api/v2/move-learn-method/1/'}, 'version_group': {'name': 'brilliant-diamond-and-shining-pearl', 'url': 'https://pokeapi.co/api/v2/version-group/23/'}}, {'level_learned_at': 1, 'move_learn_method': {'name': 'level-up', 'url': 'https://pokeapi.co/api/v2/move-learn-method/1/'}, 'version_group': {'name': 'scarlet-violet', 'url': 'https://pokeapi.co/api/v2/version-group/25/'}}]}, {'move': {'name': 'mud-slap', 'url': 'https://pokeapi.co/api/v2/move/189/'}, 'version_group_details': [{'level_learned_at': 0, 'move_learn_method': {'name': 'machine', 'url': 'https://pokeapi.co/api/v2/move-learn-method/4/'}, 'version_group': {'name': 'gold-silver', 'url': 'https://pokeapi.co/api/v2/version-group/3/'}}, {'level_learned_at': 0, 'move_learn_method': {'name': 'machine', 'url': 'https://pokeapi.co/api/v2/move-learn-method/4/'}, 'version_group': {'name': 'crystal', 'url': 'https://pokeapi.co/api/v2/version-group/4/'}}, {'level_learned_at': 0, 'move_learn_method': {'name': 'tutor', 'url': 'https://pokeapi.co/api/v2/move-learn-method/3/'}, 'version_group': {'name': 'emerald', 'url': 'https://pokeapi.co/api/v2/version-group/6/'}}, {'level_learned_at': 0, 'move_learn_method': {'name': 'tutor', 'url': 'https://pokeapi.co/api/v2/move-learn-method/3/'}, 'version_group': {'name': 'platinum', 'url': 'https://pokeapi.co/api/v2/version-group/9/'}}, {'level_learned_at': 0, 'move_learn_method': {'name': 'tutor', 'url': 'https://pokeapi.co/api/v2/move-learn-method/3/'}, 'version_group': {'name': 'heartgold-soulsilver', 'url': 'https://pokeapi.co/api/v2/version-group/10/'}}]}, {'move': {'name': 'zap-cannon', 'url': 'https://pokeapi.co/api/v2/move/192/'}, 'version_group_details': [{'level_learned_at': 0, 'move_learn_method': {'name': 'machine', 'url': 'https://pokeapi.co/api/v2/move-learn-method/4/'}, 'version_group': {'name': 'gold-silver', 'url': 'https://pokeapi.co/api/v2/version-group/3/'}}, {'level_learned_at': 0, 'move_learn_method': {'name': 'machine', 'url': 'https://pokeapi.co/api/v2/move-learn-method/4/'}, 'version_group': {'name': 'crystal', 'url': 'https://pokeapi.co/api/v2/version-group/4/'}}]}, {'move': {'name': 'detect', 'url': 'https://pokeapi.co/api/v2/move/197/'}, 'version_group_details': [{'level_learned_at': 0, 'move_learn_method': {'name': 'machine', 'url': 'https://pokeapi.co/api/v2/move-learn-method/4/'}, 'version_group': {'name': 'gold-silver', 'url': 'https://pokeapi.co/api/v2/version-group/3/'}}, {'level_learned_at': 0, 'move_learn_method': {'name': 'machine', 'url': 'https://pokeapi.co/api/v2/move-learn-method/4/'}, 'version_group': {'name': 'crystal', 'url': 'https://pokeapi.co/api/v2/version-group/4/'}}]}, {'move': {'name': 'endure', 'url': 'https://pokeapi.co/api/v2/move/203/'}, 'version_group_details': [{'level_learned_at': 0, 'move_learn_method': {'name': 'machine', 'url': 'https://pokeapi.co/api/v2/move-learn-method/4/'}, 'version_group': {'name': 'gold-silver', 'url': 'https://pokeapi.co/api/v2/version-group/3/'}}, {'level_learned_at': 0, 'move_learn_method': {'name': 'machine', 'url': 'https://pokeapi.co/api/v2/move-learn-method/4/'}, 'version_group': {'name': 'crystal', 'url': 'https://pokeapi.co/api/v2/version-group/4/'}}, {'level_learned_at': 0, 'move_learn_method': {'name': 'tutor', 'url': 'https://pokeapi.co/api/v2/move-learn-method/3/'}, 'version_group': {'name': 'emerald', 'url': 'https://pokeapi.co/api/v2/version-group/6/'}}, {'level_learned_at': 0, 'move_learn_method': {'name': 'machine', 'url': 'https://pokeapi.co/api/v2/move-learn-method/4/'}, 'version_group': {'name': 'diamond-pearl', 'url': 'https://pokeapi.co/api/v2/version-group/8/'}}, {'level_learned_at': 0, 'move_learn_method': {'name': 'machine', 'url': 'https://pokeapi.co/api/v2/move-learn-method/4/'}, 'version_group': {'name': 'platinum', 'url': 'https://pokeapi.co/api/v2/version-group/9/'}}, {'level_learned_at': 0, 'move_learn_method': {'name': 'machine', 'url': 'https://pokeapi.co/api/v2/move-learn-method/4/'}, 'version_group': {'name': 'heartgold-soulsilver', 'url': 'https://pokeapi.co/api/v2/version-group/10/'}}, {'level_learned_at': 0, 'move_learn_method': {'name': 'machine', 'url': 'https://pokeapi.co/api/v2/move-learn-method/4/'}, 'version_group': {'name': 'sword-shield', 'url': 'https://pokeapi.co/api/v2/version-group/20/'}}, {'level_learned_at': 0, 'move_learn_method': {'name': 'machine', 'url': 'https://pokeapi.co/api/v2/move-learn-method/4/'}, 'version_group': {'name': 'brilliant-diamond-and-shining-pearl', 'url': 'https://pokeapi.co/api/v2/version-group/23/'}}, {'level_learned_at': 0, 'move_learn_method': {'name': 'machine', 'url': 'https://pokeapi.co/api/v2/move-learn-method/4/'}, 'version_group': {'name': 'scarlet-violet', 'url': 'https://pokeapi.co/api/v2/version-group/25/'}}]}, {'move': {'name': 'charm', 'url': 'https://pokeapi.co/api/v2/move/204/'}, 'version_group_details': [{'level_learned_at': 1, 'move_learn_method': {'name': 'level-up', 'url': 'https://pokeapi.co/api/v2/move-learn-method/1/'}, 'version_group': {'name': 'sword-shield', 'url': 'https://pokeapi.co/api/v2/version-group/20/'}}, {'level_learned_at': 0, 'move_learn_method': {'name': 'machine', 'url': 'https://pokeapi.co/api/v2/move-learn-method/4/'}, 'version_group': {'name': 'sword-shield', 'url': 'https://pokeapi.co/api/v2/version-group/20/'}}, {'level_learned_at': 1, 'move_learn_method': {'name': 'level-up', 'url': 'https://pokeapi.co/api/v2/move-learn-method/1/'}, 'version_group': {'name': 'brilliant-diamond-and-shining-pearl', 'url': 'https://pokeapi.co/api/v2/version-group/23/'}}, {'level_learned_at': 1, 'move_learn_method': {'name': 'level-up', 'url': 'https://pokeapi.co/api/v2/move-learn-method/1/'}, 'version_group': {'name': 'scarlet-violet', 'url': 'https://pokeapi.co/api/v2/version-group/25/'}}, {'level_learned_at': 0, 'move_learn_method': {'name': 'machine', 'url': 'https://pokeapi.co/api/v2/move-learn-method/4/'}, 'version_group': {'name': 'scarlet-violet', 'url': 'https://pokeapi.co/api/v2/version-group/25/'}}]}, {'move': {'name': 'rollout', 'url': 'https://pokeapi.co/api/v2/move/205/'}, 'version_group_details': [{'level_learned_at': 0, 'move_learn_method': {'name': 'machine', 'url': 'https://pokeapi.co/api/v2/move-learn-method/4/'}, 'version_group': {'name': 'gold-silver', 'url': 'https://pokeapi.co/api/v2/version-group/3/'}}, {'level_learned_at': 0, 'move_learn_method': {'name': 'machine', 'url': 'https://pokeapi.co/api/v2/move-learn-method/4/'}, 'version_group': {'name': 'crystal', 'url': 'https://pokeapi.co/api/v2/version-group/4/'}}, {'level_learned_at': 0, 'move_learn_method': {'name': 'tutor', 'url': 'https://pokeapi.co/api/v2/move-learn-method/3/'}, 'version_group': {'name': 'emerald', 'url': 'https://pokeapi.co/api/v2/version-group/6/'}}, {'level_learned_at': 0, 'move_learn_method': {'name': 'tutor', 'url': 'https://pokeapi.co/api/v2/move-learn-method/3/'}, 'version_group': {'name': 'platinum', 'url': 'https://pokeapi.co/api/v2/version-group/9/'}}, {'level_learned_at': 0, 'move_learn_method': {'name': 'tutor', 'url': 'https://pokeapi.co/api/v2/move-learn-method/3/'}, 'version_group': {'name': 'heartgold-soulsilver', 'url': 'https://pokeapi.co/api/v2/version-group/10/'}}]}, {'move': {'name': 'swagger', 'url': 'https://pokeapi.co/api/v2/move/207/'}, 'version_group_details': [{'level_learned_at': 0, 'move_learn_method': {'name': 'machine', 'url': 'https://pokeapi.co/api/v2/move-learn-method/4/'}, 'version_group': {'name': 'gold-silver', 'url': 'https://pokeapi.co/api/v2/version-group/3/'}}, {'level_learned_at': 0, 'move_learn_method': {'name': 'machine', 'url': 'https://pokeapi.co/api/v2/move-learn-method/4/'}, 'version_group': {'name': 'crystal', 'url': 'https://pokeapi.co/api/v2/version-group/4/'}}, {'level_learned_at': 0, 'move_learn_method': {'name': 'tutor', 'url': 'https://pokeapi.co/api/v2/move-learn-method/3/'}, 'version_group': {'name': 'emerald', 'url': 'https://pokeapi.co/api/v2/version-group/6/'}}, {'level_learned_at': 0, 'move_learn_method': {'name': 'machine', 'url': 'https://pokeapi.co/api/v2/move-learn-method/4/'}, 'version_group': {'name': 'diamond-pearl', 'url': 'https://pokeapi.co/api/v2/version-group/8/'}}, {'level_learned_at': 0, 'move_learn_method': {'name': 'machine', 'url': 'https://pokeapi.co/api/v2/move-learn-method/4/'}, 'version_group': {'name': 'platinum', 'url': 'https://pokeapi.co/api/v2/version-group/9/'}}, {'level_learned_at': 0, 'move_learn_method': {'name': 'machine', 'url': 'https://pokeapi.co/api/v2/move-learn-method/4/'}, 'version_group': {'name': 'heartgold-soulsilver', 'url': 'https://pokeapi.co/api/v2/version-group/10/'}}, {'level_learned_at': 0, 'move_learn_method': {'name': 'machine', 'url': 'https://pokeapi.co/api/v2/move-learn-method/4/'}, 'version_group': {'name': 'black-white', 'url': 'https://pokeapi.co/api/v2/version-group/11/'}}, {'level_learned_at': 0, 'move_learn_method': {'name': 'tutor', 'url': 'https://pokeapi.co/api/v2/move-learn-method/3/'}, 'version_group': {'name': 'xd', 'url': 'https://pokeapi.co/api/v2/version-group/13/'}}, {'level_learned_at': 0, 'move_learn_method': {'name': 'machine', 'url': 'https://pokeapi.co/api/v2/move-learn-method/4/'}, 'version_group': {'name': 'black-2-white-2', 'url': 'https://pokeapi.co/api/v2/version-group/14/'}}, {'level_learned_at': 0, 'move_learn_method': {'name': 'machine', 'url': 'https://pokeapi.co/api/v2/move-learn-method/4/'}, 'version_group': {'name': 'x-y', 'url': 'https://pokeapi.co/api/v2/version-group/15/'}}, {'level_learned_at': 0, 'move_learn_method': {'name': 'machine', 'url': 'https://pokeapi.co/api/v2/move-learn-method/4/'}, 'version_group': {'name': 'omega-ruby-alpha-sapphire', 'url': 'https://pokeapi.co/api/v2/version-group/16/'}}, {'level_learned_at': 0, 'move_learn_method': {'name': 'machine', 'url': 'https://pokeapi.co/api/v2/move-learn-method/4/'}, 'version_group': {'name': 'sun-moon', 'url': 'https://pokeapi.co/api/v2/version-group/17/'}}, {'level_learned_at': 0, 'move_learn_method': {'name': 'machine', 'url': 'https://pokeapi.co/api/v2/move-learn-method/4/'}, 'version_group': {'name': 'ultra-sun-ultra-moon', 'url': 'https://pokeapi.co/api/v2/version-group/18/'}}, {'level_learned_at': 0, 'move_learn_method': {'name': 'machine', 'url': 'https://pokeapi.co/api/v2/move-learn-method/4/'}, 'version_group': {'name': 'brilliant-diamond-and-shining-pearl', 'url': 'https://pokeapi.co/api/v2/version-group/23/'}}]}, {'move': {'name': 'spark', 'url': 'https://pokeapi.co/api/v2/move/209/'}, 'version_group_details': [{'level_learned_at': 26, 'move_learn_method': {'name': 'level-up', 'url': 'https://pokeapi.co/api/v2/move-learn-method/1/'}, 'version_group': {'name': 'omega-ruby-alpha-sapphire', 'url': 'https://pokeapi.co/api/v2/version-group/16/'}}, {'level_learned_at': 26, 'move_learn_method': {'name': 'level-up', 'url': 'https://pokeapi.co/api/v2/move-learn-method/1/'}, 'version_group': {'name': 'sun-moon', 'url': 'https://pokeapi.co/api/v2/version-group/17/'}}, {'level_learned_at': 26, 'move_learn_method': {'name': 'level-up', 'url': 'https://pokeapi.co/api/v2/move-learn-method/1/'}, 'version_group': {'name': 'ultra-sun-ultra-moon', 'url': 'https://pokeapi.co/api/v2/version-group/18/'}}, {'level_learned_at': 20, 'move_learn_method': {'name': 'level-up', 'url': 'https://pokeapi.co/api/v2/move-learn-method/1/'}, 'version_group': {'name': 'sword-shield', 'url': 'https://pokeapi.co/api/v2/version-group/20/'}}, {'level_learned_at': 20, 'move_learn_method': {'name': 'level-up', 'url': 'https://pokeapi.co/api/v2/move-learn-method/1/'}, 'version_group': {'name': 'brilliant-diamond-and-shining-pearl', 'url': 'https://pokeapi.co/api/v2/version-group/23/'}}, {'level_learned_at': 21, 'move_learn_method': {'name': 'level-up', 'url': 'https://pokeapi.co/api/v2/move-learn-method/1/'}, 'version_group': {'name': 'legends-arceus', 'url': 'https://pokeapi.co/api/v2/version-group/24/'}}, {'level_learned_at': 20, 'move_learn_method': {'name': 'level-up', 'url': 'https://pokeapi.co/api/v2/move-learn-method/1/'}, 'version_group': {'name': 'scarlet-violet', 'url': 'https://pokeapi.co/api/v2/version-group/25/'}}]}, {'move': {'name': 'attract', 'url': 'https://pokeapi.co/api/v2/move/213/'}, 'version_group_details': [{'level_learned_at': 0, 'move_learn_method': {'name': 'machine', 'url': 'https://pokeapi.co/api/v2/move-learn-method/4/'}, 'version_group': {'name': 'gold-silver', 'url': 'https://pokeapi.co/api/v2/version-group/3/'}}, {'level_learned_at': 0, 'move_learn_method': {'name': 'machine', 'url': 'https://pokeapi.co/api/v2/move-learn-method/4/'}, 'version_group': {'name': 'crystal', 'url': 'https://pokeapi.co/api/v2/version-group/4/'}}, {'level_learned_at': 0, 'move_learn_method': {'name': 'machine', 'url': 'https://pokeapi.co/api/v2/move-learn-method/4/'}, 'version_group': {'name': 'ruby-sapphire', 'url': 'https://pokeapi.co/api/v2/version-group/5/'}}, {'level_learned_at': 0, 'move_learn_method': {'name': 'machine', 'url': 'https://pokeapi.co/api/v2/move-learn-method/4/'}, 'version_group': {'name': 'emerald', 'url': 'https://pokeapi.co/api/v2/version-group/6/'}}, {'level_learned_at': 0, 'move_learn_method': {'name': 'machine', 'url': 'https://pokeapi.co/api/v2/move-learn-method/4/'}, 'version_group': {'name': 'firered-leafgreen', 'url': 'https://pokeapi.co/api/v2/version-group/7/'}}, {'level_learned_at': 0, 'move_learn_method': {'name': 'machine', 'url': 'https://pokeapi.co/api/v2/move-learn-method/4/'}, 'version_group': {'name': 'diamond-pearl', 'url': 'https://pokeapi.co/api/v2/version-group/8/'}}, {'level_learned_at': 0, 'move_learn_method': {'name': 'machine', 'url': 'https://pokeapi.co/api/v2/move-learn-method/4/'}, 'version_group': {'name': 'platinum', 'url': 'https://pokeapi.co/api/v2/version-group/9/'}}, {'level_learned_at': 0, 'move_learn_method': {'name': 'machine', 'url': 'https://pokeapi.co/api/v2/move-learn-method/4/'}, 'version_group': {'name': 'heartgold-soulsilver', 'url': 'https://pokeapi.co/api/v2/version-group/10/'}}, {'level_learned_at': 0, 'move_learn_method': {'name': 'machine', 'url': 'https://pokeapi.co/api/v2/move-learn-method/4/'}, 'version_group': {'name': 'black-white', 'url': 'https://pokeapi.co/api/v2/version-group/11/'}}, {'level_learned_at': 0, 'move_learn_method': {'name': 'machine', 'url': 'https://pokeapi.co/api/v2/move-learn-method/4/'}, 'version_group': {'name': 'colosseum', 'url': 'https://pokeapi.co/api/v2/version-group/12/'}}, {'level_learned_at': 0, 'move_learn_method': {'name': 'machine', 'url': 'https://pokeapi.co/api/v2/move-learn-method/4/'}, 'version_group': {'name': 'xd', 'url': 'https://pokeapi.co/api/v2/version-group/13/'}}, {'level_learned_at': 0, 'move_learn_method': {'name': 'machine', 'url': 'https://pokeapi.co/api/v2/move-learn-method/4/'}, 'version_group': {'name': 'black-2-white-2', 'url': 'https://pokeapi.co/api/v2/version-group/14/'}}, {'level_learned_at': 0, 'move_learn_method': {'name': 'machine', 'url': 'https://pokeapi.co/api/v2/move-learn-method/4/'}, 'version_group': {'name': 'x-y', 'url': 'https://pokeapi.co/api/v2/version-group/15/'}}, {'level_learned_at': 0, 'move_learn_method': {'name': 'machine', 'url': 'https://pokeapi.co/api/v2/move-learn-method/4/'}, 'version_group': {'name': 'omega-ruby-alpha-sapphire', 'url': 'https://pokeapi.co/api/v2/version-group/16/'}}, {'level_learned_at': 0, 'move_learn_method': {'name': 'machine', 'url': 'https://pokeapi.co/api/v2/move-learn-method/4/'}, 'version_group': {'name': 'sun-moon', 'url': 'https://pokeapi.co/api/v2/version-group/17/'}}, {'level_learned_at': 0, 'move_learn_method': {'name': 'machine', 'url': 'https://pokeapi.co/api/v2/move-learn-method/4/'}, 'version_group': {'name': 'ultra-sun-ultra-moon', 'url': 'https://pokeapi.co/api/v2/version-group/18/'}}, {'level_learned_at': 0, 'move_learn_method': {'name': 'machine', 'url': 'https://pokeapi.co/api/v2/move-learn-method/4/'}, 'version_group': {'name': 'sword-shield', 'url': 'https://pokeapi.co/api/v2/version-group/20/'}}, {'level_learned_at': 0, 'move_learn_method': {'name': 'machine', 'url': 'https://pokeapi.co/api/v2/move-learn-method/4/'}, 'version_group': {'name': 'brilliant-diamond-and-shining-pearl', 'url': 'https://pokeapi.co/api/v2/version-group/23/'}}]}, {'move': {'name': 'sleep-talk', 'url': 'https://pokeapi.co/api/v2/move/214/'}, 'version_group_details': [{'level_learned_at': 0, 'move_learn_method': {'name': 'machine', 'url': 'https://pokeapi.co/api/v2/move-learn-method/4/'}, 'version_group': {'name': 'gold-silver', 'url': 'https://pokeapi.co/api/v2/version-group/3/'}}, {'level_learned_at': 0, 'move_learn_method': {'name': 'machine', 'url': 'https://pokeapi.co/api/v2/move-learn-method/4/'}, 'version_group': {'name': 'crystal', 'url': 'https://pokeapi.co/api/v2/version-group/4/'}}, {'level_learned_at': 0, 'move_learn_method': {'name': 'tutor', 'url': 'https://pokeapi.co/api/v2/move-learn-method/3/'}, 'version_group': {'name': 'emerald', 'url': 'https://pokeapi.co/api/v2/version-group/6/'}}, {'level_learned_at': 0, 'move_learn_method': {'name': 'machine', 'url': 'https://pokeapi.co/api/v2/move-learn-method/4/'}, 'version_group': {'name': 'diamond-pearl', 'url': 'https://pokeapi.co/api/v2/version-group/8/'}}, {'level_learned_at': 0, 'move_learn_method': {'name': 'machine', 'url': 'https://pokeapi.co/api/v2/move-learn-method/4/'}, 'version_group': {'name': 'platinum', 'url': 'https://pokeapi.co/api/v2/version-group/9/'}}, {'level_learned_at': 0, 'move_learn_method': {'name': 'machine', 'url': 'https://pokeapi.co/api/v2/move-learn-method/4/'}, 'version_group': {'name': 'heartgold-soulsilver', 'url': 'https://pokeapi.co/api/v2/version-group/10/'}}, {'level_learned_at': 0, 'move_learn_method': {'name': 'tutor', 'url': 'https://pokeapi.co/api/v2/move-learn-method/3/'}, 'version_group': {'name': 'black-2-white-2', 'url': 'https://pokeapi.co/api/v2/version-group/14/'}}, {'level_learned_at': 0, 'move_learn_method': {'name': 'machine', 'url': 'https://pokeapi.co/api/v2/move-learn-method/4/'}, 'version_group': {'name': 'x-y', 'url': 'https://pokeapi.co/api/v2/version-group/15/'}}, {'level_learned_at': 0, 'move_learn_method': {'name': 'machine', 'url': 'https://pokeapi.co/api/v2/move-learn-method/4/'}, 'version_group': {'name': 'omega-ruby-alpha-sapphire', 'url': 'https://pokeapi.co/api/v2/version-group/16/'}}, {'level_learned_at': 0, 'move_learn_method': {'name': 'machine', 'url': 'https://pokeapi.co/api/v2/move-learn-method/4/'}, 'version_group': {'name': 'sun-moon', 'url': 'https://pokeapi.co/api/v2/version-group/17/'}}, {'level_learned_at': 0, 'move_learn_method': {'name': 'machine', 'url': 'https://pokeapi.co/api/v2/move-learn-method/4/'}, 'version_group': {'name': 'ultra-sun-ultra-moon', 'url': 'https://pokeapi.co/api/v2/version-group/18/'}}, {'level_learned_at': 0, 'move_learn_method': {'name': 'machine', 'url': 'https://pokeapi.co/api/v2/move-learn-method/4/'}, 'version_group': {'name': 'sword-shield', 'url': 'https://pokeapi.co/api/v2/version-group/20/'}}, {'level_learned_at': 0, 'move_learn_method': {'name': 'machine', 'url': 'https://pokeapi.co/api/v2/move-learn-method/4/'}, 'version_group': {'name': 'brilliant-diamond-and-shining-pearl', 'url': 'https://pokeapi.co/api/v2/version-group/23/'}}, {'level_learned_at': 0, 'move_learn_method': {'name': 'machine', 'url': 'https://pokeapi.co/api/v2/move-learn-method/4/'}, 'version_group': {'name': 'scarlet-violet', 'url': 'https://pokeapi.co/api/v2/version-group/25/'}}]}, {'move': {'name': 'return', 'url': 'https://pokeapi.co/api/v2/move/216/'}, 'version_group_details': [{'level_learned_at': 0, 'move_learn_method': {'name': 'machine', 'url': 'https://pokeapi.co/api/v2/move-learn-method/4/'}, 'version_group': {'name': 'gold-silver', 'url': 'https://pokeapi.co/api/v2/version-group/3/'}}, {'level_learned_at': 0, 'move_learn_method': {'name': 'machine', 'url': 'https://pokeapi.co/api/v2/move-learn-method/4/'}, 'version_group': {'name': 'crystal', 'url': 'https://pokeapi.co/api/v2/version-group/4/'}}, {'level_learned_at': 0, 'move_learn_method': {'name': 'machine', 'url': 'https://pokeapi.co/api/v2/move-learn-method/4/'}, 'version_group': {'name': 'ruby-sapphire', 'url': 'https://pokeapi.co/api/v2/version-group/5/'}}, {'level_learned_at': 0, 'move_learn_method': {'name': 'machine', 'url': 'https://pokeapi.co/api/v2/move-learn-method/4/'}, 'version_group': {'name': 'emerald', 'url': 'https://pokeapi.co/api/v2/version-group/6/'}}, {'level_learned_at': 0, 'move_learn_method': {'name': 'machine', 'url': 'https://pokeapi.co/api/v2/move-learn-method/4/'}, 'version_group': {'name': 'firered-leafgreen', 'url': 'https://pokeapi.co/api/v2/version-group/7/'}}, {'level_learned_at': 0, 'move_learn_method': {'name': 'machine', 'url': 'https://pokeapi.co/api/v2/move-learn-method/4/'}, 'version_group': {'name': 'diamond-pearl', 'url': 'https://pokeapi.co/api/v2/version-group/8/'}}, {'level_learned_at': 0, 'move_learn_method': {'name': 'machine', 'url': 'https://pokeapi.co/api/v2/move-learn-method/4/'}, 'version_group': {'name': 'platinum', 'url': 'https://pokeapi.co/api/v2/version-group/9/'}}, {'level_learned_at': 0, 'move_learn_method': {'name': 'machine', 'url': 'https://pokeapi.co/api/v2/move-learn-method/4/'}, 'version_group': {'name': 'heartgold-soulsilver', 'url': 'https://pokeapi.co/api/v2/version-group/10/'}}, {'level_learned_at': 0, 'move_learn_method': {'name': 'machine', 'url': 'https://pokeapi.co/api/v2/move-learn-method/4/'}, 'version_group': {'name': 'black-white', 'url': 'https://pokeapi.co/api/v2/version-group/11/'}}, {'level_learned_at': 0, 'move_learn_method': {'name': 'machine', 'url': 'https://pokeapi.co/api/v2/move-learn-method/4/'}, 'version_group': {'name': 'colosseum', 'url': 'https://pokeapi.co/api/v2/version-group/12/'}}, {'level_learned_at': 0, 'move_learn_method': {'name': 'machine', 'url': 'https://pokeapi.co/api/v2/move-learn-method/4/'}, 'version_group': {'name': 'xd', 'url': 'https://pokeapi.co/api/v2/version-group/13/'}}, {'level_learned_at': 0, 'move_learn_method': {'name': 'machine', 'url': 'https://pokeapi.co/api/v2/move-learn-method/4/'}, 'version_group': {'name': 'black-2-white-2', 'url': 'https://pokeapi.co/api/v2/version-group/14/'}}, {'level_learned_at': 0, 'move_learn_method': {'name': 'machine', 'url': 'https://pokeapi.co/api/v2/move-learn-method/4/'}, 'version_group': {'name': 'x-y', 'url': 'https://pokeapi.co/api/v2/version-group/15/'}}, {'level_learned_at': 0, 'move_learn_method': {'name': 'machine', 'url': 'https://pokeapi.co/api/v2/move-learn-method/4/'}, 'version_group': {'name': 'omega-ruby-alpha-sapphire', 'url': 'https://pokeapi.co/api/v2/version-group/16/'}}, {'level_learned_at': 0, 'move_learn_method': {'name': 'machine', 'url': 'https://pokeapi.co/api/v2/move-learn-method/4/'}, 'version_group': {'name': 'sun-moon', 'url': 'https://pokeapi.co/api/v2/version-group/17/'}}, {'level_learned_at': 0, 'move_learn_method': {'name': 'machine', 'url': 'https://pokeapi.co/api/v2/move-learn-method/4/'}, 'version_group': {'name': 'ultra-sun-ultra-moon', 'url': 'https://pokeapi.co/api/v2/version-group/18/'}}]}, {'move': {'name': 'frustration', 'url': 'https://pokeapi.co/api/v2/move/218/'}, 'version_group_details': [{'level_learned_at': 0, 'move_learn_method': {'name': 'machine', 'url': 'https://pokeapi.co/api/v2/move-learn-method/4/'}, 'version_group': {'name': 'gold-silver', 'url': 'https://pokeapi.co/api/v2/version-group/3/'}}, {'level_learned_at': 0, 'move_learn_method': {'name': 'machine', 'url': 'https://pokeapi.co/api/v2/move-learn-method/4/'}, 'version_group': {'name': 'crystal', 'url': 'https://pokeapi.co/api/v2/version-group/4/'}}, {'level_learned_at': 0, 'move_learn_method': {'name': 'machine', 'url': 'https://pokeapi.co/api/v2/move-learn-method/4/'}, 'version_group': {'name': 'ruby-sapphire', 'url': 'https://pokeapi.co/api/v2/version-group/5/'}}, {'level_learned_at': 0, 'move_learn_method': {'name': 'machine', 'url': 'https://pokeapi.co/api/v2/move-learn-method/4/'}, 'version_group': {'name': 'emerald', 'url': 'https://pokeapi.co/api/v2/version-group/6/'}}, {'level_learned_at': 0, 'move_learn_method': {'name': 'machine', 'url': 'https://pokeapi.co/api/v2/move-learn-method/4/'}, 'version_group': {'name': 'firered-leafgreen', 'url': 'https://pokeapi.co/api/v2/version-group/7/'}}, {'level_learned_at': 0, 'move_learn_method': {'name': 'machine', 'url': 'https://pokeapi.co/api/v2/move-learn-method/4/'}, 'version_group': {'name': 'diamond-pearl', 'url': 'https://pokeapi.co/api/v2/version-group/8/'}}, {'level_learned_at': 0, 'move_learn_method': {'name': 'machine', 'url': 'https://pokeapi.co/api/v2/move-learn-method/4/'}, 'version_group': {'name': 'platinum', 'url': 'https://pokeapi.co/api/v2/version-group/9/'}}, {'level_learned_at': 0, 'move_learn_method': {'name': 'machine', 'url': 'https://pokeapi.co/api/v2/move-learn-method/4/'}, 'version_group': {'name': 'heartgold-soulsilver', 'url': 'https://pokeapi.co/api/v2/version-group/10/'}}, {'level_learned_at': 0, 'move_learn_method': {'name': 'machine', 'url': 'https://pokeapi.co/api/v2/move-learn-method/4/'}, 'version_group': {'name': 'black-white', 'url': 'https://pokeapi.co/api/v2/version-group/11/'}}, {'level_learned_at': 0, 'move_learn_method': {'name': 'machine', 'url': 'https://pokeapi.co/api/v2/move-learn-method/4/'}, 'version_group': {'name': 'colosseum', 'url': 'https://pokeapi.co/api/v2/version-group/12/'}}, {'level_learned_at': 0, 'move_learn_method': {'name': 'machine', 'url': 'https://pokeapi.co/api/v2/move-learn-method/4/'}, 'version_group': {'name': 'xd', 'url': 'https://pokeapi.co/api/v2/version-group/13/'}}, {'level_learned_at': 0, 'move_learn_method': {'name': 'machine', 'url': 'https://pokeapi.co/api/v2/move-learn-method/4/'}, 'version_group': {'name': 'black-2-white-2', 'url': 'https://pokeapi.co/api/v2/version-group/14/'}}, {'level_learned_at': 0, 'move_learn_method': {'name': 'machine', 'url': 'https://pokeapi.co/api/v2/move-learn-method/4/'}, 'version_group': {'name': 'x-y', 'url': 'https://pokeapi.co/api/v2/version-group/15/'}}, {'level_learned_at': 0, 'move_learn_method': {'name': 'machine', 'url': 'https://pokeapi.co/api/v2/move-learn-method/4/'}, 'version_group': {'name': 'omega-ruby-alpha-sapphire', 'url': 'https://pokeapi.co/api/v2/version-group/16/'}}, {'level_learned_at': 0, 'move_learn_method': {'name': 'machine', 'url': 'https://pokeapi.co/api/v2/move-learn-method/4/'}, 'version_group': {'name': 'sun-moon', 'url': 'https://pokeapi.co/api/v2/version-group/17/'}}, {'level_learned_at': 0, 'move_learn_method': {'name': 'machine', 'url': 'https://pokeapi.co/api/v2/move-learn-method/4/'}, 'version_group': {'name': 'ultra-sun-ultra-moon', 'url': 'https://pokeapi.co/api/v2/version-group/18/'}}]}, {'move': {'name': 'dynamic-punch', 'url': 'https://pokeapi.co/api/v2/move/223/'}, 'version_group_details': [{'level_learned_at': 0, 'move_learn_method': {'name': 'machine', 'url': 'https://pokeapi.co/api/v2/move-learn-method/4/'}, 'version_group': {'name': 'gold-silver', 'url': 'https://pokeapi.co/api/v2/version-group/3/'}}, {'level_learned_at': 0, 'move_learn_method': {'name': 'machine', 'url': 'https://pokeapi.co/api/v2/move-learn-method/4/'}, 'version_group': {'name': 'crystal', 'url': 'https://pokeapi.co/api/v2/version-group/4/'}}, {'level_learned_at': 0, 'move_learn_method': {'name': 'tutor', 'url': 'https://pokeapi.co/api/v2/move-learn-method/3/'}, 'version_group': {'name': 'emerald', 'url': 'https://pokeapi.co/api/v2/version-group/6/'}}]}, {'move': {'name': 'encore', 'url': 'https://pokeapi.co/api/v2/move/227/'}, 'version_group_details': [{'level_learned_at': 0, 'move_learn_method': {'name': 'machine', 'url': 'https://pokeapi.co/api/v2/move-learn-method/4/'}, 'version_group': {'name': 'sword-shield', 'url': 'https://pokeapi.co/api/v2/version-group/20/'}}, {'level_learned_at': 0, 'move_learn_method': {'name': 'machine', 'url': 'https://pokeapi.co/api/v2/move-learn-method/4/'}, 'version_group': {'name': 'scarlet-violet', 'url': 'https://pokeapi.co/api/v2/version-group/25/'}}]}, {'move': {'name': 'iron-tail', 'url': 'https://pokeapi.co/api/v2/move/231/'}, 'version_group_details': [{'level_learned_at': 0, 'move_learn_method': {'name': 'machine', 'url': 'https://pokeapi.co/api/v2/move-learn-method/4/'}, 'version_group': {'name': 'gold-silver', 'url': 'https://pokeapi.co/api/v2/version-group/3/'}}, {'level_learned_at': 0, 'move_learn_method': {'name': 'machine', 'url': 'https://pokeapi.co/api/v2/move-learn-method/4/'}, 'version_group': {'name': 'crystal', 'url': 'https://pokeapi.co/api/v2/version-group/4/'}}, {'level_learned_at': 0, 'move_learn_method': {'name': 'machine', 'url': 'https://pokeapi.co/api/v2/move-learn-method/4/'}, 'version_group': {'name': 'ruby-sapphire', 'url': 'https://pokeapi.co/api/v2/version-group/5/'}}, {'level_learned_at': 0, 'move_learn_method': {'name': 'machine', 'url': 'https://pokeapi.co/api/v2/move-learn-method/4/'}, 'version_group': {'name': 'emerald', 'url': 'https://pokeapi.co/api/v2/version-group/6/'}}, {'level_learned_at': 0, 'move_learn_method': {'name': 'machine', 'url': 'https://pokeapi.co/api/v2/move-learn-method/4/'}, 'version_group': {'name': 'firered-leafgreen', 'url': 'https://pokeapi.co/api/v2/version-group/7/'}}, {'level_learned_at': 0, 'move_learn_method': {'name': 'machine', 'url': 'https://pokeapi.co/api/v2/move-learn-method/4/'}, 'version_group': {'name': 'diamond-pearl', 'url': 'https://pokeapi.co/api/v2/version-group/8/'}}, {'level_learned_at': 0, 'move_learn_method': {'name': 'machine', 'url': 'https://pokeapi.co/api/v2/move-learn-method/4/'}, 'version_group': {'name': 'platinum', 'url': 'https://pokeapi.co/api/v2/version-group/9/'}}, {'level_learned_at': 0, 'move_learn_method': {'name': 'machine', 'url': 'https://pokeapi.co/api/v2/move-learn-method/4/'}, 'version_group': {'name': 'heartgold-soulsilver', 'url': 'https://pokeapi.co/api/v2/version-group/10/'}}, {'level_learned_at': 0, 'move_learn_method': {'name': 'machine', 'url': 'https://pokeapi.co/api/v2/move-learn-method/4/'}, 'version_group': {'name': 'colosseum', 'url': 'https://pokeapi.co/api/v2/version-group/12/'}}, {'level_learned_at': 0, 'move_learn_method': {'name': 'machine', 'url': 'https://pokeapi.co/api/v2/move-learn-method/4/'}, 'version_group': {'name': 'xd', 'url': 'https://pokeapi.co/api/v2/version-group/13/'}}, {'level_learned_at': 0, 'move_learn_method': {'name': 'tutor', 'url': 'https://pokeapi.co/api/v2/move-learn-method/3/'}, 'version_group': {'name': 'black-2-white-2', 'url': 'https://pokeapi.co/api/v2/version-group/14/'}}, {'level_learned_at': 0, 'move_learn_method': {'name': 'tutor', 'url': 'https://pokeapi.co/api/v2/move-learn-method/3/'}, 'version_group': {'name': 'omega-ruby-alpha-sapphire', 'url': 'https://pokeapi.co/api/v2/version-group/16/'}}, {'level_learned_at': 0, 'move_learn_method': {'name': 'tutor', 'url': 'https://pokeapi.co/api/v2/move-learn-method/3/'}, 'version_group': {'name': 'ultra-sun-ultra-moon', 'url': 'https://pokeapi.co/api/v2/version-group/18/'}}, {'level_learned_at': 0, 'move_learn_method': {'name': 'machine', 'url': 'https://pokeapi.co/api/v2/move-learn-method/4/'}, 'version_group': {'name': 'lets-go-pikachu-lets-go-eevee', 'url': 'https://pokeapi.co/api/v2/version-group/19/'}}, {'level_learned_at': 0, 'move_learn_method': {'name': 'machine', 'url': 'https://pokeapi.co/api/v2/move-learn-method/4/'}, 'version_group': {'name': 'sword-shield', 'url': 'https://pokeapi.co/api/v2/version-group/20/'}}, {'level_learned_at': 0, 'move_learn_method': {'name': 'machine', 'url': 'https://pokeapi.co/api/v2/move-learn-method/4/'}, 'version_group': {'name': 'brilliant-diamond-and-shining-pearl', 'url': 'https://pokeapi.co/api/v2/version-group/23/'}}, {'level_learned_at': 37, 'move_learn_method': {'name': 'level-up', 'url': 'https://pokeapi.co/api/v2/move-learn-method/1/'}, 'version_group': {'name': 'legends-arceus', 'url': 'https://pokeapi.co/api/v2/version-group/24/'}}, {'level_learned_at': 28, 'move_learn_method': {'name': 'level-up', 'url': 'https://pokeapi.co/api/v2/move-learn-method/1/'}, 'version_group': {'name': 'scarlet-violet', 'url': 'https://pokeapi.co/api/v2/version-group/25/'}}]}, {'move': {'name': 'hidden-power', 'url': 'https://pokeapi.co/api/v2/move/237/'}, 'version_group_details': [{'level_learned_at': 0, 'move_learn_method': {'name': 'machine', 'url': 'https://pokeapi.co/api/v2/move-learn-method/4/'}, 'version_group': {'name': 'gold-silver', 'url': 'https://pokeapi.co/api/v2/version-group/3/'}}, {'level_learned_at': 0, 'move_learn_method': {'name': 'machine', 'url': 'https://pokeapi.co/api/v2/move-learn-method/4/'}, 'version_group': {'name': 'crystal', 'url': 'https://pokeapi.co/api/v2/version-group/4/'}}, {'level_learned_at': 0, 'move_learn_method': {'name': 'machine', 'url': 'https://pokeapi.co/api/v2/move-learn-method/4/'}, 'version_group': {'name': 'ruby-sapphire', 'url': 'https://pokeapi.co/api/v2/version-group/5/'}}, {'level_learned_at': 0, 'move_learn_method': {'name': 'machine', 'url': 'https://pokeapi.co/api/v2/move-learn-method/4/'}, 'version_group': {'name': 'emerald', 'url': 'https://pokeapi.co/api/v2/version-group/6/'}}, {'level_learned_at': 0, 'move_learn_method': {'name': 'machine', 'url': 'https://pokeapi.co/api/v2/move-learn-method/4/'}, 'version_group': {'name': 'firered-leafgreen', 'url': 'https://pokeapi.co/api/v2/version-group/7/'}}, {'level_learned_at': 0, 'move_learn_method': {'name': 'machine', 'url': 'https://pokeapi.co/api/v2/move-learn-method/4/'}, 'version_group': {'name': 'diamond-pearl', 'url': 'https://pokeapi.co/api/v2/version-group/8/'}}, {'level_learned_at': 0, 'move_learn_method': {'name': 'machine', 'url': 'https://pokeapi.co/api/v2/move-learn-method/4/'}, 'version_group': {'name': 'platinum', 'url': 'https://pokeapi.co/api/v2/version-group/9/'}}, {'level_learned_at': 0, 'move_learn_method': {'name': 'machine', 'url': 'https://pokeapi.co/api/v2/move-learn-method/4/'}, 'version_group': {'name': 'heartgold-soulsilver', 'url': 'https://pokeapi.co/api/v2/version-group/10/'}}, {'level_learned_at': 0, 'move_learn_method': {'name': 'machine', 'url': 'https://pokeapi.co/api/v2/move-learn-method/4/'}, 'version_group': {'name': 'black-white', 'url': 'https://pokeapi.co/api/v2/version-group/11/'}}, {'level_learned_at': 0, 'move_learn_method': {'name': 'machine', 'url': 'https://pokeapi.co/api/v2/move-learn-method/4/'}, 'version_group': {'name': 'colosseum', 'url': 'https://pokeapi.co/api/v2/version-group/12/'}}, {'level_learned_at': 0, 'move_learn_method': {'name': 'machine', 'url': 'https://pokeapi.co/api/v2/move-learn-method/4/'}, 'version_group': {'name': 'xd', 'url': 'https://pokeapi.co/api/v2/version-group/13/'}}, {'level_learned_at': 0, 'move_learn_method': {'name': 'machine', 'url': 'https://pokeapi.co/api/v2/move-learn-method/4/'}, 'version_group': {'name': 'black-2-white-2', 'url': 'https://pokeapi.co/api/v2/version-group/14/'}}, {'level_learned_at': 0, 'move_learn_method': {'name': 'machine', 'url': 'https://pokeapi.co/api/v2/move-learn-method/4/'}, 'version_group': {'name': 'x-y', 'url': 'https://pokeapi.co/api/v2/version-group/15/'}}, {'level_learned_at': 0, 'move_learn_method': {'name': 'machine', 'url': 'https://pokeapi.co/api/v2/move-learn-method/4/'}, 'version_group': {'name': 'omega-ruby-alpha-sapphire', 'url': 'https://pokeapi.co/api/v2/version-group/16/'}}, {'level_learned_at': 0, 'move_learn_method': {'name': 'machine', 'url': 'https://pokeapi.co/api/v2/move-learn-method/4/'}, 'version_group': {'name': 'sun-moon', 'url': 'https://pokeapi.co/api/v2/version-group/17/'}}, {'level_learned_at': 0, 'move_learn_method': {'name': 'machine', 'url': 'https://pokeapi.co/api/v2/move-learn-method/4/'}, 'version_group': {'name': 'ultra-sun-ultra-moon', 'url': 'https://pokeapi.co/api/v2/version-group/18/'}}]}, {'move': {'name': 'rain-dance', 'url': 'https://pokeapi.co/api/v2/move/240/'}, 'version_group_details': [{'level_learned_at': 0, 'move_learn_method': {'name': 'machine', 'url': 'https://pokeapi.co/api/v2/move-learn-method/4/'}, 'version_group': {'name': 'gold-silver', 'url': 'https://pokeapi.co/api/v2/version-group/3/'}}, {'level_learned_at': 0, 'move_learn_method': {'name': 'machine', 'url': 'https://pokeapi.co/api/v2/move-learn-method/4/'}, 'version_group': {'name': 'crystal', 'url': 'https://pokeapi.co/api/v2/version-group/4/'}}, {'level_learned_at': 0, 'move_learn_method': {'name': 'machine', 'url': 'https://pokeapi.co/api/v2/move-learn-method/4/'}, 'version_group': {'name': 'ruby-sapphire', 'url': 'https://pokeapi.co/api/v2/version-group/5/'}}, {'level_learned_at': 0, 'move_learn_method': {'name': 'machine', 'url': 'https://pokeapi.co/api/v2/move-learn-method/4/'}, 'version_group': {'name': 'emerald', 'url': 'https://pokeapi.co/api/v2/version-group/6/'}}, {'level_learned_at': 0, 'move_learn_method': {'name': 'machine', 'url': 'https://pokeapi.co/api/v2/move-learn-method/4/'}, 'version_group': {'name': 'firered-leafgreen', 'url': 'https://pokeapi.co/api/v2/version-group/7/'}}, {'level_learned_at': 0, 'move_learn_method': {'name': 'machine', 'url': 'https://pokeapi.co/api/v2/move-learn-method/4/'}, 'version_group': {'name': 'diamond-pearl', 'url': 'https://pokeapi.co/api/v2/version-group/8/'}}, {'level_learned_at': 0, 'move_learn_method': {'name': 'machine', 'url': 'https://pokeapi.co/api/v2/move-learn-method/4/'}, 'version_group': {'name': 'platinum', 'url': 'https://pokeapi.co/api/v2/version-group/9/'}}, {'level_learned_at': 0, 'move_learn_method': {'name': 'machine', 'url': 'https://pokeapi.co/api/v2/move-learn-method/4/'}, 'version_group': {'name': 'heartgold-soulsilver', 'url': 'https://pokeapi.co/api/v2/version-group/10/'}}, {'level_learned_at': 0, 'move_learn_method': {'name': 'machine', 'url': 'https://pokeapi.co/api/v2/move-learn-method/4/'}, 'version_group': {'name': 'black-white', 'url': 'https://pokeapi.co/api/v2/version-group/11/'}}, {'level_learned_at': 0, 'move_learn_method': {'name': 'machine', 'url': 'https://pokeapi.co/api/v2/move-learn-method/4/'}, 'version_group': {'name': 'colosseum', 'url': 'https://pokeapi.co/api/v2/version-group/12/'}}, {'level_learned_at': 0, 'move_learn_method': {'name': 'machine', 'url': 'https://pokeapi.co/api/v2/move-learn-method/4/'}, 'version_group': {'name': 'xd', 'url': 'https://pokeapi.co/api/v2/version-group/13/'}}, {'level_learned_at': 0, 'move_learn_method': {'name': 'machine', 'url': 'https://pokeapi.co/api/v2/move-learn-method/4/'}, 'version_group': {'name': 'black-2-white-2', 'url': 'https://pokeapi.co/api/v2/version-group/14/'}}, {'level_learned_at': 0, 'move_learn_method': {'name': 'machine', 'url': 'https://pokeapi.co/api/v2/move-learn-method/4/'}, 'version_group': {'name': 'x-y', 'url': 'https://pokeapi.co/api/v2/version-group/15/'}}, {'level_learned_at': 0, 'move_learn_method': {'name': 'machine', 'url': 'https://pokeapi.co/api/v2/move-learn-method/4/'}, 'version_group': {'name': 'omega-ruby-alpha-sapphire', 'url': 'https://pokeapi.co/api/v2/version-group/16/'}}, {'level_learned_at': 0, 'move_learn_method': {'name': 'machine', 'url': 'https://pokeapi.co/api/v2/move-learn-method/4/'}, 'version_group': {'name': 'sun-moon', 'url': 'https://pokeapi.co/api/v2/version-group/17/'}}, {'level_learned_at': 0, 'move_learn_method': {'name': 'machine', 'url': 'https://pokeapi.co/api/v2/move-learn-method/4/'}, 'version_group': {'name': 'ultra-sun-ultra-moon', 'url': 'https://pokeapi.co/api/v2/version-group/18/'}}, {'level_learned_at': 0, 'move_learn_method': {'name': 'machine', 'url': 'https://pokeapi.co/api/v2/move-learn-method/4/'}, 'version_group': {'name': 'sword-shield', 'url': 'https://pokeapi.co/api/v2/version-group/20/'}}, {'level_learned_at': 0, 'move_learn_method': {'name': 'machine', 'url': 'https://pokeapi.co/api/v2/move-learn-method/4/'}, 'version_group': {'name': 'brilliant-diamond-and-shining-pearl', 'url': 'https://pokeapi.co/api/v2/version-group/23/'}}, {'level_learned_at': 0, 'move_learn_method': {'name': 'machine', 'url': 'https://pokeapi.co/api/v2/move-learn-method/4/'}, 'version_group': {'name': 'scarlet-violet', 'url': 'https://pokeapi.co/api/v2/version-group/25/'}}]}, {'move': {'name': 'rock-smash', 'url': 'https://pokeapi.co/api/v2/move/249/'}, 'version_group_details': [{'level_learned_at': 0, 'move_learn_method': {'name': 'machine', 'url': 'https://pokeapi.co/api/v2/move-learn-method/4/'}, 'version_group': {'name': 'ruby-sapphire', 'url': 'https://pokeapi.co/api/v2/version-group/5/'}}, {'level_learned_at': 0, 'move_learn_method': {'name': 'machine', 'url': 'https://pokeapi.co/api/v2/move-learn-method/4/'}, 'version_group': {'name': 'emerald', 'url': 'https://pokeapi.co/api/v2/version-group/6/'}}, {'level_learned_at': 0, 'move_learn_method': {'name': 'machine', 'url': 'https://pokeapi.co/api/v2/move-learn-method/4/'}, 'version_group': {'name': 'firered-leafgreen', 'url': 'https://pokeapi.co/api/v2/version-group/7/'}}, {'level_learned_at': 0, 'move_learn_method': {'name': 'machine', 'url': 'https://pokeapi.co/api/v2/move-learn-method/4/'}, 'version_group': {'name': 'diamond-pearl', 'url': 'https://pokeapi.co/api/v2/version-group/8/'}}, {'level_learned_at': 0, 'move_learn_method': {'name': 'machine', 'url': 'https://pokeapi.co/api/v2/move-learn-method/4/'}, 'version_group': {'name': 'platinum', 'url': 'https://pokeapi.co/api/v2/version-group/9/'}}, {'level_learned_at': 0, 'move_learn_method': {'name': 'machine', 'url': 'https://pokeapi.co/api/v2/move-learn-method/4/'}, 'version_group': {'name': 'heartgold-soulsilver', 'url': 'https://pokeapi.co/api/v2/version-group/10/'}}, {'level_learned_at': 0, 'move_learn_method': {'name': 'machine', 'url': 'https://pokeapi.co/api/v2/move-learn-method/4/'}, 'version_group': {'name': 'black-white', 'url': 'https://pokeapi.co/api/v2/version-group/11/'}}, {'level_learned_at': 0, 'move_learn_method': {'name': 'machine', 'url': 'https://pokeapi.co/api/v2/move-learn-method/4/'}, 'version_group': {'name': 'colosseum', 'url': 'https://pokeapi.co/api/v2/version-group/12/'}}, {'level_learned_at': 0, 'move_learn_method': {'name': 'machine', 'url': 'https://pokeapi.co/api/v2/move-learn-method/4/'}, 'version_group': {'name': 'xd', 'url': 'https://pokeapi.co/api/v2/version-group/13/'}}, {'level_learned_at': 0, 'move_learn_method': {'name': 'machine', 'url': 'https://pokeapi.co/api/v2/move-learn-method/4/'}, 'version_group': {'name': 'black-2-white-2', 'url': 'https://pokeapi.co/api/v2/version-group/14/'}}, {'level_learned_at': 0, 'move_learn_method': {'name': 'machine', 'url': 'https://pokeapi.co/api/v2/move-learn-method/4/'}, 'version_group': {'name': 'x-y', 'url': 'https://pokeapi.co/api/v2/version-group/15/'}}, {'level_learned_at': 0, 'move_learn_method': {'name': 'machine', 'url': 'https://pokeapi.co/api/v2/move-learn-method/4/'}, 'version_group': {'name': 'omega-ruby-alpha-sapphire', 'url': 'https://pokeapi.co/api/v2/version-group/16/'}}, {'level_learned_at': 0, 'move_learn_method': {'name': 'machine', 'url': 'https://pokeapi.co/api/v2/move-learn-method/4/'}, 'version_group': {'name': 'brilliant-diamond-and-shining-pearl', 'url': 'https://pokeapi.co/api/v2/version-group/23/'}}]}, {'move': {'name': 'uproar', 'url': 'https://pokeapi.co/api/v2/move/253/'}, 'version_group_details': [{'level_learned_at': 0, 'move_learn_method': {'name': 'machine', 'url': 'https://pokeapi.co/api/v2/move-learn-method/4/'}, 'version_group': {'name': 'sword-shield', 'url': 'https://pokeapi.co/api/v2/version-group/20/'}}]}, {'move': {'name': 'facade', 'url': 'https://pokeapi.co/api/v2/move/263/'}, 'version_group_details': [{'level_learned_at': 0, 'move_learn_method': {'name': 'machine', 'url': 'https://pokeapi.co/api/v2/move-learn-method/4/'}, 'version_group': {'name': 'ruby-sapphire', 'url': 'https://pokeapi.co/api/v2/version-group/5/'}}, {'level_learned_at': 0, 'move_learn_method': {'name': 'machine', 'url': 'https://pokeapi.co/api/v2/move-learn-method/4/'}, 'version_group': {'name': 'emerald', 'url': 'https://pokeapi.co/api/v2/version-group/6/'}}, {'level_learned_at': 0, 'move_learn_method': {'name': 'machine', 'url': 'https://pokeapi.co/api/v2/move-learn-method/4/'}, 'version_group': {'name': 'firered-leafgreen', 'url': 'https://pokeapi.co/api/v2/version-group/7/'}}, {'level_learned_at': 0, 'move_learn_method': {'name': 'machine', 'url': 'https://pokeapi.co/api/v2/move-learn-method/4/'}, 'version_group': {'name': 'diamond-pearl', 'url': 'https://pokeapi.co/api/v2/version-group/8/'}}, {'level_learned_at': 0, 'move_learn_method': {'name': 'machine', 'url': 'https://pokeapi.co/api/v2/move-learn-method/4/'}, 'version_group': {'name': 'platinum', 'url': 'https://pokeapi.co/api/v2/version-group/9/'}}, {'level_learned_at': 0, 'move_learn_method': {'name': 'machine', 'url': 'https://pokeapi.co/api/v2/move-learn-method/4/'}, 'version_group': {'name': 'heartgold-soulsilver', 'url': 'https://pokeapi.co/api/v2/version-group/10/'}}, {'level_learned_at': 0, 'move_learn_method': {'name': 'machine', 'url': 'https://pokeapi.co/api/v2/move-learn-method/4/'}, 'version_group': {'name': 'black-white', 'url': 'https://pokeapi.co/api/v2/version-group/11/'}}, {'level_learned_at': 0, 'move_learn_method': {'name': 'machine', 'url': 'https://pokeapi.co/api/v2/move-learn-method/4/'}, 'version_group': {'name': 'colosseum', 'url': 'https://pokeapi.co/api/v2/version-group/12/'}}, {'level_learned_at': 0, 'move_learn_method': {'name': 'machine', 'url': 'https://pokeapi.co/api/v2/move-learn-method/4/'}, 'version_group': {'name': 'xd', 'url': 'https://pokeapi.co/api/v2/version-group/13/'}}, {'level_learned_at': 0, 'move_learn_method': {'name': 'machine', 'url': 'https://pokeapi.co/api/v2/move-learn-method/4/'}, 'version_group': {'name': 'black-2-white-2', 'url': 'https://pokeapi.co/api/v2/version-group/14/'}}, {'level_learned_at': 0, 'move_learn_method': {'name': 'machine', 'url': 'https://pokeapi.co/api/v2/move-learn-method/4/'}, 'version_group': {'name': 'x-y', 'url': 'https://pokeapi.co/api/v2/version-group/15/'}}, {'level_learned_at': 0, 'move_learn_method': {'name': 'machine', 'url': 'https://pokeapi.co/api/v2/move-learn-method/4/'}, 'version_group': {'name': 'omega-ruby-alpha-sapphire', 'url': 'https://pokeapi.co/api/v2/version-group/16/'}}, {'level_learned_at': 0, 'move_learn_method': {'name': 'machine', 'url': 'https://pokeapi.co/api/v2/move-learn-method/4/'}, 'version_group': {'name': 'sun-moon', 'url': 'https://pokeapi.co/api/v2/version-group/17/'}}, {'level_learned_at': 0, 'move_learn_method': {'name': 'machine', 'url': 'https://pokeapi.co/api/v2/move-learn-method/4/'}, 'version_group': {'name': 'ultra-sun-ultra-moon', 'url': 'https://pokeapi.co/api/v2/version-group/18/'}}, {'level_learned_at': 0, 'move_learn_method': {'name': 'machine', 'url': 'https://pokeapi.co/api/v2/move-learn-method/4/'}, 'version_group': {'name': 'lets-go-pikachu-lets-go-eevee', 'url': 'https://pokeapi.co/api/v2/version-group/19/'}}, {'level_learned_at': 0, 'move_learn_method': {'name': 'machine', 'url': 'https://pokeapi.co/api/v2/move-learn-method/4/'}, 'version_group': {'name': 'sword-shield', 'url': 'https://pokeapi.co/api/v2/version-group/20/'}}, {'level_learned_at': 0, 'move_learn_method': {'name': 'machine', 'url': 'https://pokeapi.co/api/v2/move-learn-method/4/'}, 'version_group': {'name': 'brilliant-diamond-and-shining-pearl', 'url': 'https://pokeapi.co/api/v2/version-group/23/'}}, {'level_learned_at': 0, 'move_learn_method': {'name': 'machine', 'url': 'https://pokeapi.co/api/v2/move-learn-method/4/'}, 'version_group': {'name': 'scarlet-violet', 'url': 'https://pokeapi.co/api/v2/version-group/25/'}}]}, {'move': {'name': 'focus-punch', 'url': 'https://pokeapi.co/api/v2/move/264/'}, 'version_group_details': [{'level_learned_at': 0, 'move_learn_method': {'name': 'machine', 'url': 'https://pokeapi.co/api/v2/move-learn-method/4/'}, 'version_group': {'name': 'ruby-sapphire', 'url': 'https://pokeapi.co/api/v2/version-group/5/'}}, {'level_learned_at': 0, 'move_learn_method': {'name': 'machine', 'url': 'https://pokeapi.co/api/v2/move-learn-method/4/'}, 'version_group': {'name': 'emerald', 'url': 'https://pokeapi.co/api/v2/version-group/6/'}}, {'level_learned_at': 0, 'move_learn_method': {'name': 'machine', 'url': 'https://pokeapi.co/api/v2/move-learn-method/4/'}, 'version_group': {'name': 'firered-leafgreen', 'url': 'https://pokeapi.co/api/v2/version-group/7/'}}, {'level_learned_at': 0, 'move_learn_method': {'name': 'machine', 'url': 'https://pokeapi.co/api/v2/move-learn-method/4/'}, 'version_group': {'name': 'diamond-pearl', 'url': 'https://pokeapi.co/api/v2/version-group/8/'}}, {'level_learned_at': 0, 'move_learn_method': {'name': 'machine', 'url': 'https://pokeapi.co/api/v2/move-learn-method/4/'}, 'version_group': {'name': 'platinum', 'url': 'https://pokeapi.co/api/v2/version-group/9/'}}, {'level_learned_at': 0, 'move_learn_method': {'name': 'machine', 'url': 'https://pokeapi.co/api/v2/move-learn-method/4/'}, 'version_group': {'name': 'heartgold-soulsilver', 'url': 'https://pokeapi.co/api/v2/version-group/10/'}}, {'level_learned_at': 0, 'move_learn_method': {'name': 'machine', 'url': 'https://pokeapi.co/api/v2/move-learn-method/4/'}, 'version_group': {'name': 'colosseum', 'url': 'https://pokeapi.co/api/v2/version-group/12/'}}, {'level_learned_at': 0, 'move_learn_method': {'name': 'machine', 'url': 'https://pokeapi.co/api/v2/move-learn-method/4/'}, 'version_group': {'name': 'xd', 'url': 'https://pokeapi.co/api/v2/version-group/13/'}}, {'level_learned_at': 0, 'move_learn_method': {'name': 'tutor', 'url': 'https://pokeapi.co/api/v2/move-learn-method/3/'}, 'version_group': {'name': 'omega-ruby-alpha-sapphire', 'url': 'https://pokeapi.co/api/v2/version-group/16/'}}, {'level_learned_at': 0, 'move_learn_method': {'name': 'tutor', 'url': 'https://pokeapi.co/api/v2/move-learn-method/3/'}, 'version_group': {'name': 'ultra-sun-ultra-moon', 'url': 'https://pokeapi.co/api/v2/version-group/18/'}}, {'level_learned_at': 0, 'move_learn_method': {'name': 'machine', 'url': 'https://pokeapi.co/api/v2/move-learn-method/4/'}, 'version_group': {'name': 'brilliant-diamond-and-shining-pearl', 'url': 'https://pokeapi.co/api/v2/version-group/23/'}}, {'level_learned_at': 0, 'move_learn_method': {'name': 'machine', 'url': 'https://pokeapi.co/api/v2/move-learn-method/4/'}, 'version_group': {'name': 'scarlet-violet', 'url': 'https://pokeapi.co/api/v2/version-group/25/'}}]}, {'move': {'name': 'charge', 'url': 'https://pokeapi.co/api/v2/move/268/'}, 'version_group_details': [{'level_learned_at': 0, 'move_learn_method': {'name': 'machine', 'url': 'https://pokeapi.co/api/v2/move-learn-method/4/'}, 'version_group': {'name': 'scarlet-violet', 'url': 'https://pokeapi.co/api/v2/version-group/25/'}}]}, {'move': {'name': 'helping-hand', 'url': 'https://pokeapi.co/api/v2/move/270/'}, 'version_group_details': [{'level_learned_at': 0, 'move_learn_method': {'name': 'tutor', 'url': 'https://pokeapi.co/api/v2/move-learn-method/3/'}, 'version_group': {'name': 'platinum', 'url': 'https://pokeapi.co/api/v2/version-group/9/'}}, {'level_learned_at': 0, 'move_learn_method': {'name': 'tutor', 'url': 'https://pokeapi.co/api/v2/move-learn-method/3/'}, 'version_group': {'name': 'heartgold-soulsilver', 'url': 'https://pokeapi.co/api/v2/version-group/10/'}}, {'level_learned_at': 0, 'move_learn_method': {'name': 'tutor', 'url': 'https://pokeapi.co/api/v2/move-learn-method/3/'}, 'version_group': {'name': 'black-2-white-2', 'url': 'https://pokeapi.co/api/v2/version-group/14/'}}, {'level_learned_at': 0, 'move_learn_method': {'name': 'tutor', 'url': 'https://pokeapi.co/api/v2/move-learn-method/3/'}, 'version_group': {'name': 'omega-ruby-alpha-sapphire', 'url': 'https://pokeapi.co/api/v2/version-group/16/'}}, {'level_learned_at': 0, 'move_learn_method': {'name': 'tutor', 'url': 'https://pokeapi.co/api/v2/move-learn-method/3/'}, 'version_group': {'name': 'ultra-sun-ultra-moon', 'url': 'https://pokeapi.co/api/v2/version-group/18/'}}, {'level_learned_at': 0, 'move_learn_method': {'name': 'machine', 'url': 'https://pokeapi.co/api/v2/move-learn-method/4/'}, 'version_group': {'name': 'lets-go-pikachu-lets-go-eevee', 'url': 'https://pokeapi.co/api/v2/version-group/19/'}}, {'level_learned_at': 0, 'move_learn_method': {'name': 'machine', 'url': 'https://pokeapi.co/api/v2/move-learn-method/4/'}, 'version_group': {'name': 'sword-shield', 'url': 'https://pokeapi.co/api/v2/version-group/20/'}}, {'level_learned_at': 0, 'move_learn_method': {'name': 'machine', 'url': 'https://pokeapi.co/api/v2/move-learn-method/4/'}, 'version_group': {'name': 'scarlet-violet', 'url': 'https://pokeapi.co/api/v2/version-group/25/'}}]}, {'move': {'name': 'brick-break', 'url': 'https://pokeapi.co/api/v2/move/280/'}, 'version_group_details': [{'level_learned_at': 0, 'move_learn_method': {'name': 'machine', 'url': 'https://pokeapi.co/api/v2/move-learn-method/4/'}, 'version_group': {'name': 'ruby-sapphire', 'url': 'https://pokeapi.co/api/v2/version-group/5/'}}, {'level_learned_at': 0, 'move_learn_method': {'name': 'machine', 'url': 'https://pokeapi.co/api/v2/move-learn-method/4/'}, 'version_group': {'name': 'emerald', 'url': 'https://pokeapi.co/api/v2/version-group/6/'}}, {'level_learned_at': 0, 'move_learn_method': {'name': 'machine', 'url': 'https://pokeapi.co/api/v2/move-learn-method/4/'}, 'version_group': {'name': 'firered-leafgreen', 'url': 'https://pokeapi.co/api/v2/version-group/7/'}}, {'level_learned_at': 0, 'move_learn_method': {'name': 'machine', 'url': 'https://pokeapi.co/api/v2/move-learn-method/4/'}, 'version_group': {'name': 'diamond-pearl', 'url': 'https://pokeapi.co/api/v2/version-group/8/'}}, {'level_learned_at': 0, 'move_learn_method': {'name': 'machine', 'url': 'https://pokeapi.co/api/v2/move-learn-method/4/'}, 'version_group': {'name': 'platinum', 'url': 'https://pokeapi.co/api/v2/version-group/9/'}}, {'level_learned_at': 0, 'move_learn_method': {'name': 'machine', 'url': 'https://pokeapi.co/api/v2/move-learn-method/4/'}, 'version_group': {'name': 'heartgold-soulsilver', 'url': 'https://pokeapi.co/api/v2/version-group/10/'}}, {'level_learned_at': 0, 'move_learn_method': {'name': 'machine', 'url': 'https://pokeapi.co/api/v2/move-learn-method/4/'}, 'version_group': {'name': 'black-white', 'url': 'https://pokeapi.co/api/v2/version-group/11/'}}, {'level_learned_at': 0, 'move_learn_method': {'name': 'machine', 'url': 'https://pokeapi.co/api/v2/move-learn-method/4/'}, 'version_group': {'name': 'colosseum', 'url': 'https://pokeapi.co/api/v2/version-group/12/'}}, {'level_learned_at': 0, 'move_learn_method': {'name': 'machine', 'url': 'https://pokeapi.co/api/v2/move-learn-method/4/'}, 'version_group': {'name': 'xd', 'url': 'https://pokeapi.co/api/v2/version-group/13/'}}, {'level_learned_at': 0, 'move_learn_method': {'name': 'machine', 'url': 'https://pokeapi.co/api/v2/move-learn-method/4/'}, 'version_group': {'name': 'black-2-white-2', 'url': 'https://pokeapi.co/api/v2/version-group/14/'}}, {'level_learned_at': 0, 'move_learn_method': {'name': 'machine', 'url': 'https://pokeapi.co/api/v2/move-learn-method/4/'}, 'version_group': {'name': 'x-y', 'url': 'https://pokeapi.co/api/v2/version-group/15/'}}, {'level_learned_at': 0, 'move_learn_method': {'name': 'machine', 'url': 'https://pokeapi.co/api/v2/move-learn-method/4/'}, 'version_group': {'name': 'omega-ruby-alpha-sapphire', 'url': 'https://pokeapi.co/api/v2/version-group/16/'}}, {'level_learned_at': 0, 'move_learn_method': {'name': 'machine', 'url': 'https://pokeapi.co/api/v2/move-learn-method/4/'}, 'version_group': {'name': 'sun-moon', 'url': 'https://pokeapi.co/api/v2/version-group/17/'}}, {'level_learned_at': 0, 'move_learn_method': {'name': 'machine', 'url': 'https://pokeapi.co/api/v2/move-learn-method/4/'}, 'version_group': {'name': 'ultra-sun-ultra-moon', 'url': 'https://pokeapi.co/api/v2/version-group/18/'}}, {'level_learned_at': 0, 'move_learn_method': {'name': 'machine', 'url': 'https://pokeapi.co/api/v2/move-learn-method/4/'}, 'version_group': {'name': 'lets-go-pikachu-lets-go-eevee', 'url': 'https://pokeapi.co/api/v2/version-group/19/'}}, {'level_learned_at': 0, 'move_learn_method': {'name': 'machine', 'url': 'https://pokeapi.co/api/v2/move-learn-method/4/'}, 'version_group': {'name': 'sword-shield', 'url': 'https://pokeapi.co/api/v2/version-group/20/'}}, {'level_learned_at': 0, 'move_learn_method': {'name': 'machine', 'url': 'https://pokeapi.co/api/v2/move-learn-method/4/'}, 'version_group': {'name': 'brilliant-diamond-and-shining-pearl', 'url': 'https://pokeapi.co/api/v2/version-group/23/'}}, {'level_learned_at': 0, 'move_learn_method': {'name': 'machine', 'url': 'https://pokeapi.co/api/v2/move-learn-method/4/'}, 'version_group': {'name': 'scarlet-violet', 'url': 'https://pokeapi.co/api/v2/version-group/25/'}}]}, {'move': {'name': 'knock-off', 'url': 'https://pokeapi.co/api/v2/move/282/'}, 'version_group_details': [{'level_learned_at': 0, 'move_learn_method': {'name': 'tutor', 'url': 'https://pokeapi.co/api/v2/move-learn-method/3/'}, 'version_group': {'name': 'platinum', 'url': 'https://pokeapi.co/api/v2/version-group/9/'}}, {'level_learned_at': 0, 'move_learn_method': {'name': 'tutor', 'url': 'https://pokeapi.co/api/v2/move-learn-method/3/'}, 'version_group': {'name': 'heartgold-soulsilver', 'url': 'https://pokeapi.co/api/v2/version-group/10/'}}, {'level_learned_at': 0, 'move_learn_method': {'name': 'tutor', 'url': 'https://pokeapi.co/api/v2/move-learn-method/3/'}, 'version_group': {'name': 'black-2-white-2', 'url': 'https://pokeapi.co/api/v2/version-group/14/'}}, {'level_learned_at': 0, 'move_learn_method': {'name': 'tutor', 'url': 'https://pokeapi.co/api/v2/move-learn-method/3/'}, 'version_group': {'name': 'omega-ruby-alpha-sapphire', 'url': 'https://pokeapi.co/api/v2/version-group/16/'}}, {'level_learned_at': 0, 'move_learn_method': {'name': 'tutor', 'url': 'https://pokeapi.co/api/v2/move-learn-method/3/'}, 'version_group': {'name': 'ultra-sun-ultra-moon', 'url': 'https://pokeapi.co/api/v2/version-group/18/'}}, {'level_learned_at': 0, 'move_learn_method': {'name': 'machine', 'url': 'https://pokeapi.co/api/v2/move-learn-method/4/'}, 'version_group': {'name': 'scarlet-violet', 'url': 'https://pokeapi.co/api/v2/version-group/25/'}}]}, {'move': {'name': 'endeavor', 'url': 'https://pokeapi.co/api/v2/move/283/'}, 'version_group_details': [{'level_learned_at': 0, 'move_learn_method': {'name': 'machine', 'url': 'https://pokeapi.co/api/v2/move-learn-method/4/'}, 'version_group': {'name': 'scarlet-violet', 'url': 'https://pokeapi.co/api/v2/version-group/25/'}}]}, {'move': {'name': 'secret-power', 'url': 'https://pokeapi.co/api/v2/move/290/'}, 'version_group_details': [{'level_learned_at': 0, 'move_learn_method': {'name': 'machine', 'url': 'https://pokeapi.co/api/v2/move-learn-method/4/'}, 'version_group': {'name': 'ruby-sapphire', 'url': 'https://pokeapi.co/api/v2/version-group/5/'}}, {'level_learned_at': 0, 'move_learn_method': {'name': 'machine', 'url': 'https://pokeapi.co/api/v2/move-learn-method/4/'}, 'version_group': {'name': 'emerald', 'url': 'https://pokeapi.co/api/v2/version-group/6/'}}, {'level_learned_at': 0, 'move_learn_method': {'name': 'machine', 'url': 'https://pokeapi.co/api/v2/move-learn-method/4/'}, 'version_group': {'name': 'firered-leafgreen', 'url': 'https://pokeapi.co/api/v2/version-group/7/'}}, {'level_learned_at': 0, 'move_learn_method': {'name': 'machine', 'url': 'https://pokeapi.co/api/v2/move-learn-method/4/'}, 'version_group': {'name': 'diamond-pearl', 'url': 'https://pokeapi.co/api/v2/version-group/8/'}}, {'level_learned_at': 0, 'move_learn_method': {'name': 'machine', 'url': 'https://pokeapi.co/api/v2/move-learn-method/4/'}, 'version_group': {'name': 'platinum', 'url': 'https://pokeapi.co/api/v2/version-group/9/'}}, {'level_learned_at': 0, 'move_learn_method': {'name': 'machine', 'url': 'https://pokeapi.co/api/v2/move-learn-method/4/'}, 'version_group': {'name': 'heartgold-soulsilver', 'url': 'https://pokeapi.co/api/v2/version-group/10/'}}, {'level_learned_at': 0, 'move_learn_method': {'name': 'machine', 'url': 'https://pokeapi.co/api/v2/move-learn-method/4/'}, 'version_group': {'name': 'colosseum', 'url': 'https://pokeapi.co/api/v2/version-group/12/'}}, {'level_learned_at': 0, 'move_learn_method': {'name': 'machine', 'url': 'https://pokeapi.co/api/v2/move-learn-method/4/'}, 'version_group': {'name': 'xd', 'url': 'https://pokeapi.co/api/v2/version-group/13/'}}, {'level_learned_at': 0, 'move_learn_method': {'name': 'machine', 'url': 'https://pokeapi.co/api/v2/move-learn-method/4/'}, 'version_group': {'name': 'omega-ruby-alpha-sapphire', 'url': 'https://pokeapi.co/api/v2/version-group/16/'}}]}, {'move': {'name': 'fake-tears', 'url': 'https://pokeapi.co/api/v2/move/313/'}, 'version_group_details': [{'level_learned_at': 0, 'move_learn_method': {'name': 'machine', 'url': 'https://pokeapi.co/api/v2/move-learn-method/4/'}, 'version_group': {'name': 'scarlet-violet', 'url': 'https://pokeapi.co/api/v2/version-group/25/'}}]}, {'move': {'name': 'signal-beam', 'url': 'https://pokeapi.co/api/v2/move/324/'}, 'version_group_details': [{'level_learned_at': 0, 'move_learn_method': {'name': 'tutor', 'url': 'https://pokeapi.co/api/v2/move-learn-method/3/'}, 'version_group': {'name': 'platinum', 'url': 'https://pokeapi.co/api/v2/version-group/9/'}}, {'level_learned_at': 0, 'move_learn_method': {'name': 'tutor', 'url': 'https://pokeapi.co/api/v2/move-learn-method/3/'}, 'version_group': {'name': 'heartgold-soulsilver', 'url': 'https://pokeapi.co/api/v2/version-group/10/'}}, {'level_learned_at': 0, 'move_learn_method': {'name': 'tutor', 'url': 'https://pokeapi.co/api/v2/move-learn-method/3/'}, 'version_group': {'name': 'black-2-white-2', 'url': 'https://pokeapi.co/api/v2/version-group/14/'}}, {'level_learned_at': 0, 'move_learn_method': {'name': 'tutor', 'url': 'https://pokeapi.co/api/v2/move-learn-method/3/'}, 'version_group': {'name': 'omega-ruby-alpha-sapphire', 'url': 'https://pokeapi.co/api/v2/version-group/16/'}}, {'level_learned_at': 0, 'move_learn_method': {'name': 'tutor', 'url': 'https://pokeapi.co/api/v2/move-learn-method/3/'}, 'version_group': {'name': 'ultra-sun-ultra-moon', 'url': 'https://pokeapi.co/api/v2/version-group/18/'}}]}, {'move': {'name': 'covet', 'url': 'https://pokeapi.co/api/v2/move/343/'}, 'version_group_details': [{'level_learned_at': 0, 'move_learn_method': {'name': 'tutor', 'url': 'https://pokeapi.co/api/v2/move-learn-method/3/'}, 'version_group': {'name': 'black-2-white-2', 'url': 'https://pokeapi.co/api/v2/version-group/14/'}}, {'level_learned_at': 0, 'move_learn_method': {'name': 'tutor', 'url': 'https://pokeapi.co/api/v2/move-learn-method/3/'}, 'version_group': {'name': 'omega-ruby-alpha-sapphire', 'url': 'https://pokeapi.co/api/v2/version-group/16/'}}, {'level_learned_at': 0, 'move_learn_method': {'name': 'tutor', 'url': 'https://pokeapi.co/api/v2/move-learn-method/3/'}, 'version_group': {'name': 'ultra-sun-ultra-moon', 'url': 'https://pokeapi.co/api/v2/version-group/18/'}}]}, {'move': {'name': 'volt-tackle', 'url': 'https://pokeapi.co/api/v2/move/344/'}, 'version_group_details': [{'level_learned_at': 0, 'move_learn_method': {'name': 'tutor', 'url': 'https://pokeapi.co/api/v2/move-learn-method/3/'}, 'version_group': {'name': 'sun-moon', 'url': 'https://pokeapi.co/api/v2/version-group/17/'}}, {'level_learned_at': 0, 'move_learn_method': {'name': 'tutor', 'url': 'https://pokeapi.co/api/v2/move-learn-method/3/'}, 'version_group': {'name': 'ultra-sun-ultra-moon', 'url': 'https://pokeapi.co/api/v2/version-group/18/'}}]}, {'move': {'name': 'calm-mind', 'url': 'https://pokeapi.co/api/v2/move/347/'}, 'version_group_details': [{'level_learned_at': 0, 'move_learn_method': {'name': 'machine', 'url': 'https://pokeapi.co/api/v2/move-learn-method/4/'}, 'version_group': {'name': 'lets-go-pikachu-lets-go-eevee', 'url': 'https://pokeapi.co/api/v2/version-group/19/'}}]}, {'move': {'name': 'shock-wave', 'url': 'https://pokeapi.co/api/v2/move/351/'}, 'version_group_details': [{'level_learned_at': 0, 'move_learn_method': {'name': 'machine', 'url': 'https://pokeapi.co/api/v2/move-learn-method/4/'}, 'version_group': {'name': 'ruby-sapphire', 'url': 'https://pokeapi.co/api/v2/version-group/5/'}}, {'level_learned_at': 0, 'move_learn_method': {'name': 'machine', 'url': 'https://pokeapi.co/api/v2/move-learn-method/4/'}, 'version_group': {'name': 'emerald', 'url': 'https://pokeapi.co/api/v2/version-group/6/'}}, {'level_learned_at': 0, 'move_learn_method': {'name': 'machine', 'url': 'https://pokeapi.co/api/v2/move-learn-method/4/'}, 'version_group': {'name': 'firered-leafgreen', 'url': 'https://pokeapi.co/api/v2/version-group/7/'}}, {'level_learned_at': 0, 'move_learn_method': {'name': 'machine', 'url': 'https://pokeapi.co/api/v2/move-learn-method/4/'}, 'version_group': {'name': 'diamond-pearl', 'url': 'https://pokeapi.co/api/v2/version-group/8/'}}, {'level_learned_at': 0, 'move_learn_method': {'name': 'machine', 'url': 'https://pokeapi.co/api/v2/move-learn-method/4/'}, 'version_group': {'name': 'platinum', 'url': 'https://pokeapi.co/api/v2/version-group/9/'}}, {'level_learned_at': 0, 'move_learn_method': {'name': 'machine', 'url': 'https://pokeapi.co/api/v2/move-learn-method/4/'}, 'version_group': {'name': 'heartgold-soulsilver', 'url': 'https://pokeapi.co/api/v2/version-group/10/'}}, {'level_learned_at': 0, 'move_learn_method': {'name': 'machine', 'url': 'https://pokeapi.co/api/v2/move-learn-method/4/'}, 'version_group': {'name': 'colosseum', 'url': 'https://pokeapi.co/api/v2/version-group/12/'}}, {'level_learned_at': 0, 'move_learn_method': {'name': 'machine', 'url': 'https://pokeapi.co/api/v2/move-learn-method/4/'}, 'version_group': {'name': 'xd', 'url': 'https://pokeapi.co/api/v2/version-group/13/'}}, {'level_learned_at': 0, 'move_learn_method': {'name': 'tutor', 'url': 'https://pokeapi.co/api/v2/move-learn-method/3/'}, 'version_group': {'name': 'omega-ruby-alpha-sapphire', 'url': 'https://pokeapi.co/api/v2/version-group/16/'}}, {'level_learned_at': 0, 'move_learn_method': {'name': 'tutor', 'url': 'https://pokeapi.co/api/v2/move-learn-method/3/'}, 'version_group': {'name': 'ultra-sun-ultra-moon', 'url': 'https://pokeapi.co/api/v2/version-group/18/'}}, {'level_learned_at': 0, 'move_learn_method': {'name': 'machine', 'url': 'https://pokeapi.co/api/v2/move-learn-method/4/'}, 'version_group': {'name': 'brilliant-diamond-and-shining-pearl', 'url': 'https://pokeapi.co/api/v2/version-group/23/'}}]}, {'move': {'name': 'natural-gift', 'url': 'https://pokeapi.co/api/v2/move/363/'}, 'version_group_details': [{'level_learned_at': 0, 'move_learn_method': {'name': 'machine', 'url': 'https://pokeapi.co/api/v2/move-learn-method/4/'}, 'version_group': {'name': 'diamond-pearl', 'url': 'https://pokeapi.co/api/v2/version-group/8/'}}, {'level_learned_at': 0, 'move_learn_method': {'name': 'machine', 'url': 'https://pokeapi.co/api/v2/move-learn-method/4/'}, 'version_group': {'name': 'platinum', 'url': 'https://pokeapi.co/api/v2/version-group/9/'}}, {'level_learned_at': 0, 'move_learn_method': {'name': 'machine', 'url': 'https://pokeapi.co/api/v2/move-learn-method/4/'}, 'version_group': {'name': 'heartgold-soulsilver', 'url': 'https://pokeapi.co/api/v2/version-group/10/'}}]}, {'move': {'name': 'feint', 'url': 'https://pokeapi.co/api/v2/move/364/'}, 'version_group_details': [{'level_learned_at': 29, 'move_learn_method': {'name': 'level-up', 'url': 'https://pokeapi.co/api/v2/move-learn-method/1/'}, 'version_group': {'name': 'diamond-pearl', 'url': 'https://pokeapi.co/api/v2/version-group/8/'}}, {'level_learned_at': 29, 'move_learn_method': {'name': 'level-up', 'url': 'https://pokeapi.co/api/v2/move-learn-method/1/'}, 'version_group': {'name': 'platinum', 'url': 'https://pokeapi.co/api/v2/version-group/9/'}}, {'level_learned_at': 29, 'move_learn_method': {'name': 'level-up', 'url': 'https://pokeapi.co/api/v2/move-learn-method/1/'}, 'version_group': {'name': 'heartgold-soulsilver', 'url': 'https://pokeapi.co/api/v2/version-group/10/'}}, {'level_learned_at': 34, 'move_learn_method': {'name': 'level-up', 'url': 'https://pokeapi.co/api/v2/move-learn-method/1/'}, 'version_group': {'name': 'black-white', 'url': 'https://pokeapi.co/api/v2/version-group/11/'}}, {'level_learned_at': 34, 'move_learn_method': {'name': 'level-up', 'url': 'https://pokeapi.co/api/v2/move-learn-method/1/'}, 'version_group': {'name': 'black-2-white-2', 'url': 'https://pokeapi.co/api/v2/version-group/14/'}}, {'level_learned_at': 34, 'move_learn_method': {'name': 'level-up', 'url': 'https://pokeapi.co/api/v2/move-learn-method/1/'}, 'version_group': {'name': 'x-y', 'url': 'https://pokeapi.co/api/v2/version-group/15/'}}, {'level_learned_at': 21, 'move_learn_method': {'name': 'level-up', 'url': 'https://pokeapi.co/api/v2/move-learn-method/1/'}, 'version_group': {'name': 'omega-ruby-alpha-sapphire', 'url': 'https://pokeapi.co/api/v2/version-group/16/'}}, {'level_learned_at': 21, 'move_learn_method': {'name': 'level-up', 'url': 'https://pokeapi.co/api/v2/move-learn-method/1/'}, 'version_group': {'name': 'sun-moon', 'url': 'https://pokeapi.co/api/v2/version-group/17/'}}, {'level_learned_at': 21, 'move_learn_method': {'name': 'level-up', 'url': 'https://pokeapi.co/api/v2/move-learn-method/1/'}, 'version_group': {'name': 'ultra-sun-ultra-moon', 'url': 'https://pokeapi.co/api/v2/version-group/18/'}}, {'level_learned_at': 16, 'move_learn_method': {'name': 'level-up', 'url': 'https://pokeapi.co/api/v2/move-learn-method/1/'}, 'version_group': {'name': 'sword-shield', 'url': 'https://pokeapi.co/api/v2/version-group/20/'}}, {'level_learned_at': 16, 'move_learn_method': {'name': 'level-up', 'url': 'https://pokeapi.co/api/v2/move-learn-method/1/'}, 'version_group': {'name': 'brilliant-diamond-and-shining-pearl', 'url': 'https://pokeapi.co/api/v2/version-group/23/'}}, {'level_learned_at': 16, 'move_learn_method': {'name': 'level-up', 'url': 'https://pokeapi.co/api/v2/move-learn-method/1/'}, 'version_group': {'name': 'scarlet-violet', 'url': 'https://pokeapi.co/api/v2/version-group/25/'}}]}, {'move': {'name': 'fling', 'url': 'https://pokeapi.co/api/v2/move/374/'}, 'version_group_details': [{'level_learned_at': 0, 'move_learn_method': {'name': 'machine', 'url': 'https://pokeapi.co/api/v2/move-learn-method/4/'}, 'version_group': {'name': 'diamond-pearl', 'url': 'https://pokeapi.co/api/v2/version-group/8/'}}, {'level_learned_at': 0, 'move_learn_method': {'name': 'machine', 'url': 'https://pokeapi.co/api/v2/move-learn-method/4/'}, 'version_group': {'name': 'platinum', 'url': 'https://pokeapi.co/api/v2/version-group/9/'}}, {'level_learned_at': 0, 'move_learn_method': {'name': 'machine', 'url': 'https://pokeapi.co/api/v2/move-learn-method/4/'}, 'version_group': {'name': 'heartgold-soulsilver', 'url': 'https://pokeapi.co/api/v2/version-group/10/'}}, {'level_learned_at': 0, 'move_learn_method': {'name': 'machine', 'url': 'https://pokeapi.co/api/v2/move-learn-method/4/'}, 'version_group': {'name': 'black-white', 'url': 'https://pokeapi.co/api/v2/version-group/11/'}}, {'level_learned_at': 0, 'move_learn_method': {'name': 'machine', 'url': 'https://pokeapi.co/api/v2/move-learn-method/4/'}, 'version_group': {'name': 'black-2-white-2', 'url': 'https://pokeapi.co/api/v2/version-group/14/'}}, {'level_learned_at': 0, 'move_learn_method': {'name': 'machine', 'url': 'https://pokeapi.co/api/v2/move-learn-method/4/'}, 'version_group': {'name': 'x-y', 'url': 'https://pokeapi.co/api/v2/version-group/15/'}}, {'level_learned_at': 0, 'move_learn_method': {'name': 'machine', 'url': 'https://pokeapi.co/api/v2/move-learn-method/4/'}, 'version_group': {'name': 'omega-ruby-alpha-sapphire', 'url': 'https://pokeapi.co/api/v2/version-group/16/'}}, {'level_learned_at': 0, 'move_learn_method': {'name': 'machine', 'url': 'https://pokeapi.co/api/v2/move-learn-method/4/'}, 'version_group': {'name': 'sun-moon', 'url': 'https://pokeapi.co/api/v2/version-group/17/'}}, {'level_learned_at': 0, 'move_learn_method': {'name': 'machine', 'url': 'https://pokeapi.co/api/v2/move-learn-method/4/'}, 'version_group': {'name': 'ultra-sun-ultra-moon', 'url': 'https://pokeapi.co/api/v2/version-group/18/'}}, {'level_learned_at': 0, 'move_learn_method': {'name': 'machine', 'url': 'https://pokeapi.co/api/v2/move-learn-method/4/'}, 'version_group': {'name': 'sword-shield', 'url': 'https://pokeapi.co/api/v2/version-group/20/'}}, {'level_learned_at': 0, 'move_learn_method': {'name': 'machine', 'url': 'https://pokeapi.co/api/v2/move-learn-method/4/'}, 'version_group': {'name': 'brilliant-diamond-and-shining-pearl', 'url': 'https://pokeapi.co/api/v2/version-group/23/'}}, {'level_learned_at': 0, 'move_learn_method': {'name': 'machine', 'url': 'https://pokeapi.co/api/v2/move-learn-method/4/'}, 'version_group': {'name': 'scarlet-violet', 'url': 'https://pokeapi.co/api/v2/version-group/25/'}}]}, {'move': {'name': 'magnet-rise', 'url': 'https://pokeapi.co/api/v2/move/393/'}, 'version_group_details': [{'level_learned_at': 0, 'move_learn_method': {'name': 'tutor', 'url': 'https://pokeapi.co/api/v2/move-learn-method/3/'}, 'version_group': {'name': 'platinum', 'url': 'https://pokeapi.co/api/v2/version-group/9/'}}, {'level_learned_at': 0, 'move_learn_method': {'name': 'tutor', 'url': 'https://pokeapi.co/api/v2/move-learn-method/3/'}, 'version_group': {'name': 'heartgold-soulsilver', 'url': 'https://pokeapi.co/api/v2/version-group/10/'}}, {'level_learned_at': 0, 'move_learn_method': {'name': 'tutor', 'url': 'https://pokeapi.co/api/v2/move-learn-method/3/'}, 'version_group': {'name': 'black-2-white-2', 'url': 'https://pokeapi.co/api/v2/version-group/14/'}}, {'level_learned_at': 0, 'move_learn_method': {'name': 'tutor', 'url': 'https://pokeapi.co/api/v2/move-learn-method/3/'}, 'version_group': {'name': 'omega-ruby-alpha-sapphire', 'url': 'https://pokeapi.co/api/v2/version-group/16/'}}, {'level_learned_at': 0, 'move_learn_method': {'name': 'tutor', 'url': 'https://pokeapi.co/api/v2/move-learn-method/3/'}, 'version_group': {'name': 'ultra-sun-ultra-moon', 'url': 'https://pokeapi.co/api/v2/version-group/18/'}}]}, {'move': {'name': 'nasty-plot', 'url': 'https://pokeapi.co/api/v2/move/417/'}, 'version_group_details': [{'level_learned_at': 1, 'move_learn_method': {'name': 'level-up', 'url': 'https://pokeapi.co/api/v2/move-learn-method/1/'}, 'version_group': {'name': 'sword-shield', 'url': 'https://pokeapi.co/api/v2/version-group/20/'}}, {'level_learned_at': 0, 'move_learn_method': {'name': 'machine', 'url': 'https://pokeapi.co/api/v2/move-learn-method/4/'}, 'version_group': {'name': 'sword-shield', 'url': 'https://pokeapi.co/api/v2/version-group/20/'}}, {'level_learned_at': 1, 'move_learn_method': {'name': 'level-up', 'url': 'https://pokeapi.co/api/v2/move-learn-method/1/'}, 'version_group': {'name': 'brilliant-diamond-and-shining-pearl', 'url': 'https://pokeapi.co/api/v2/version-group/23/'}}, {'level_learned_at': 0, 'move_learn_method': {'name': 'machine', 'url': 'https://pokeapi.co/api/v2/move-learn-method/4/'}, 'version_group': {'name': 'brilliant-diamond-and-shining-pearl', 'url': 'https://pokeapi.co/api/v2/version-group/23/'}}, {'level_learned_at': 1, 'move_learn_method': {'name': 'level-up', 'url': 'https://pokeapi.co/api/v2/move-learn-method/1/'}, 'version_group': {'name': 'scarlet-violet', 'url': 'https://pokeapi.co/api/v2/version-group/25/'}}, {'level_learned_at': 0, 'move_learn_method': {'name': 'machine', 'url': 'https://pokeapi.co/api/v2/move-learn-method/4/'}, 'version_group': {'name': 'scarlet-violet', 'url': 'https://pokeapi.co/api/v2/version-group/25/'}}]}, {'move': {'name': 'discharge', 'url': 'https://pokeapi.co/api/v2/move/435/'}, 'version_group_details': [{'level_learned_at': 37, 'move_learn_method': {'name': 'level-up', 'url': 'https://pokeapi.co/api/v2/move-learn-method/1/'}, 'version_group': {'name': 'diamond-pearl', 'url': 'https://pokeapi.co/api/v2/version-group/8/'}}, {'level_learned_at': 37, 'move_learn_method': {'name': 'level-up', 'url': 'https://pokeapi.co/api/v2/move-learn-method/1/'}, 'version_group': {'name': 'platinum', 'url': 'https://pokeapi.co/api/v2/version-group/9/'}}, {'level_learned_at': 37, 'move_learn_method': {'name': 'level-up', 'url': 'https://pokeapi.co/api/v2/move-learn-method/1/'}, 'version_group': {'name': 'heartgold-soulsilver', 'url': 'https://pokeapi.co/api/v2/version-group/10/'}}, {'level_learned_at': 42, 'move_learn_method': {'name': 'level-up', 'url': 'https://pokeapi.co/api/v2/move-learn-method/1/'}, 'version_group': {'name': 'black-white', 'url': 'https://pokeapi.co/api/v2/version-group/11/'}}, {'level_learned_at': 42, 'move_learn_method': {'name': 'level-up', 'url': 'https://pokeapi.co/api/v2/move-learn-method/1/'}, 'version_group': {'name': 'black-2-white-2', 'url': 'https://pokeapi.co/api/v2/version-group/14/'}}, {'level_learned_at': 42, 'move_learn_method': {'name': 'level-up', 'url': 'https://pokeapi.co/api/v2/move-learn-method/1/'}, 'version_group': {'name': 'x-y', 'url': 'https://pokeapi.co/api/v2/version-group/15/'}}, {'level_learned_at': 34, 'move_learn_method': {'name': 'level-up', 'url': 'https://pokeapi.co/api/v2/move-learn-method/1/'}, 'version_group': {'name': 'omega-ruby-alpha-sapphire', 'url': 'https://pokeapi.co/api/v2/version-group/16/'}}, {'level_learned_at': 34, 'move_learn_method': {'name': 'level-up', 'url': 'https://pokeapi.co/api/v2/move-learn-method/1/'}, 'version_group': {'name': 'sun-moon', 'url': 'https://pokeapi.co/api/v2/version-group/17/'}}, {'level_learned_at': 34, 'move_learn_method': {'name': 'level-up', 'url': 'https://pokeapi.co/api/v2/move-learn-method/1/'}, 'version_group': {'name': 'ultra-sun-ultra-moon', 'url': 'https://pokeapi.co/api/v2/version-group/18/'}}, {'level_learned_at': 32, 'move_learn_method': {'name': 'level-up', 'url': 'https://pokeapi.co/api/v2/move-learn-method/1/'}, 'version_group': {'name': 'sword-shield', 'url': 'https://pokeapi.co/api/v2/version-group/20/'}}, {'level_learned_at': 32, 'move_learn_method': {'name': 'level-up', 'url': 'https://pokeapi.co/api/v2/move-learn-method/1/'}, 'version_group': {'name': 'brilliant-diamond-and-shining-pearl', 'url': 'https://pokeapi.co/api/v2/version-group/23/'}}, {'level_learned_at': 32, 'move_learn_method': {'name': 'level-up', 'url': 'https://pokeapi.co/api/v2/move-learn-method/1/'}, 'version_group': {'name': 'scarlet-violet', 'url': 'https://pokeapi.co/api/v2/version-group/25/'}}]}, {'move': {'name': 'captivate', 'url': 'https://pokeapi.co/api/v2/move/445/'}, 'version_group_details': [{'level_learned_at': 0, 'move_learn_method': {'name': 'machine', 'url': 'https://pokeapi.co/api/v2/move-learn-method/4/'}, 'version_group': {'name': 'diamond-pearl', 'url': 'https://pokeapi.co/api/v2/version-group/8/'}}, {'level_learned_at': 0, 'move_learn_method': {'name': 'machine', 'url': 'https://pokeapi.co/api/v2/move-learn-method/4/'}, 'version_group': {'name': 'platinum', 'url': 'https://pokeapi.co/api/v2/version-group/9/'}}, {'level_learned_at': 0, 'move_learn_method': {'name': 'machine', 'url': 'https://pokeapi.co/api/v2/move-learn-method/4/'}, 'version_group': {'name': 'heartgold-soulsilver', 'url': 'https://pokeapi.co/api/v2/version-group/10/'}}]}, {'move': {'name': 'grass-knot', 'url': 'https://pokeapi.co/api/v2/move/447/'}, 'version_group_details': [{'level_learned_at': 0, 'move_learn_method': {'name': 'machine', 'url': 'https://pokeapi.co/api/v2/move-learn-method/4/'}, 'version_group': {'name': 'diamond-pearl', 'url': 'https://pokeapi.co/api/v2/version-group/8/'}}, {'level_learned_at': 0, 'move_learn_method': {'name': 'machine', 'url': 'https://pokeapi.co/api/v2/move-learn-method/4/'}, 'version_group': {'name': 'platinum', 'url': 'https://pokeapi.co/api/v2/version-group/9/'}}, {'level_learned_at': 0, 'move_learn_method': {'name': 'machine', 'url': 'https://pokeapi.co/api/v2/move-learn-method/4/'}, 'version_group': {'name': 'heartgold-soulsilver', 'url': 'https://pokeapi.co/api/v2/version-group/10/'}}, {'level_learned_at': 0, 'move_learn_method': {'name': 'machine', 'url': 'https://pokeapi.co/api/v2/move-learn-method/4/'}, 'version_group': {'name': 'black-white', 'url': 'https://pokeapi.co/api/v2/version-group/11/'}}, {'level_learned_at': 0, 'move_learn_method': {'name': 'machine', 'url': 'https://pokeapi.co/api/v2/move-learn-method/4/'}, 'version_group': {'name': 'black-2-white-2', 'url': 'https://pokeapi.co/api/v2/version-group/14/'}}, {'level_learned_at': 0, 'move_learn_method': {'name': 'machine', 'url': 'https://pokeapi.co/api/v2/move-learn-method/4/'}, 'version_group': {'name': 'x-y', 'url': 'https://pokeapi.co/api/v2/version-group/15/'}}, {'level_learned_at': 0, 'move_learn_method': {'name': 'machine', 'url': 'https://pokeapi.co/api/v2/move-learn-method/4/'}, 'version_group': {'name': 'omega-ruby-alpha-sapphire', 'url': 'https://pokeapi.co/api/v2/version-group/16/'}}, {'level_learned_at': 0, 'move_learn_method': {'name': 'machine', 'url': 'https://pokeapi.co/api/v2/move-learn-method/4/'}, 'version_group': {'name': 'sun-moon', 'url': 'https://pokeapi.co/api/v2/version-group/17/'}}, {'level_learned_at': 0, 'move_learn_method': {'name': 'machine', 'url': 'https://pokeapi.co/api/v2/move-learn-method/4/'}, 'version_group': {'name': 'ultra-sun-ultra-moon', 'url': 'https://pokeapi.co/api/v2/version-group/18/'}}, {'level_learned_at': 0, 'move_learn_method': {'name': 'machine', 'url': 'https://pokeapi.co/api/v2/move-learn-method/4/'}, 'version_group': {'name': 'sword-shield', 'url': 'https://pokeapi.co/api/v2/version-group/20/'}}, {'level_learned_at': 0, 'move_learn_method': {'name': 'machine', 'url': 'https://pokeapi.co/api/v2/move-learn-method/4/'}, 'version_group': {'name': 'brilliant-diamond-and-shining-pearl', 'url': 'https://pokeapi.co/api/v2/version-group/23/'}}, {'level_learned_at': 0, 'move_learn_method': {'name': 'machine', 'url': 'https://pokeapi.co/api/v2/move-learn-method/4/'}, 'version_group': {'name': 'scarlet-violet', 'url': 'https://pokeapi.co/api/v2/version-group/25/'}}]}, {'move': {'name': 'charge-beam', 'url': 'https://pokeapi.co/api/v2/move/451/'}, 'version_group_details': [{'level_learned_at': 0, 'move_learn_method': {'name': 'machine', 'url': 'https://pokeapi.co/api/v2/move-learn-method/4/'}, 'version_group': {'name': 'diamond-pearl', 'url': 'https://pokeapi.co/api/v2/version-group/8/'}}, {'level_learned_at': 0, 'move_learn_method': {'name': 'machine', 'url': 'https://pokeapi.co/api/v2/move-learn-method/4/'}, 'version_group': {'name': 'platinum', 'url': 'https://pokeapi.co/api/v2/version-group/9/'}}, {'level_learned_at': 0, 'move_learn_method': {'name': 'machine', 'url': 'https://pokeapi.co/api/v2/move-learn-method/4/'}, 'version_group': {'name': 'heartgold-soulsilver', 'url': 'https://pokeapi.co/api/v2/version-group/10/'}}, {'level_learned_at': 0, 'move_learn_method': {'name': 'machine', 'url': 'https://pokeapi.co/api/v2/move-learn-method/4/'}, 'version_group': {'name': 'black-white', 'url': 'https://pokeapi.co/api/v2/version-group/11/'}}, {'level_learned_at': 0, 'move_learn_method': {'name': 'machine', 'url': 'https://pokeapi.co/api/v2/move-learn-method/4/'}, 'version_group': {'name': 'black-2-white-2', 'url': 'https://pokeapi.co/api/v2/version-group/14/'}}, {'level_learned_at': 0, 'move_learn_method': {'name': 'machine', 'url': 'https://pokeapi.co/api/v2/move-learn-method/4/'}, 'version_group': {'name': 'x-y', 'url': 'https://pokeapi.co/api/v2/version-group/15/'}}, {'level_learned_at': 0, 'move_learn_method': {'name': 'machine', 'url': 'https://pokeapi.co/api/v2/move-learn-method/4/'}, 'version_group': {'name': 'omega-ruby-alpha-sapphire', 'url': 'https://pokeapi.co/api/v2/version-group/16/'}}, {'level_learned_at': 0, 'move_learn_method': {'name': 'machine', 'url': 'https://pokeapi.co/api/v2/move-learn-method/4/'}, 'version_group': {'name': 'sun-moon', 'url': 'https://pokeapi.co/api/v2/version-group/17/'}}, {'level_learned_at': 0, 'move_learn_method': {'name': 'machine', 'url': 'https://pokeapi.co/api/v2/move-learn-method/4/'}, 'version_group': {'name': 'ultra-sun-ultra-moon', 'url': 'https://pokeapi.co/api/v2/version-group/18/'}}, {'level_learned_at': 0, 'move_learn_method': {'name': 'machine', 'url': 'https://pokeapi.co/api/v2/move-learn-method/4/'}, 'version_group': {'name': 'brilliant-diamond-and-shining-pearl', 'url': 'https://pokeapi.co/api/v2/version-group/23/'}}, {'level_learned_at': 0, 'move_learn_method': {'name': 'machine', 'url': 'https://pokeapi.co/api/v2/move-learn-method/4/'}, 'version_group': {'name': 'scarlet-violet', 'url': 'https://pokeapi.co/api/v2/version-group/25/'}}]}, {'move': {'name': 'electro-ball', 'url': 'https://pokeapi.co/api/v2/move/486/'}, 'version_group_details': [{'level_learned_at': 18, 'move_learn_method': {'name': 'level-up', 'url': 'https://pokeapi.co/api/v2/move-learn-method/1/'}, 'version_group': {'name': 'black-white', 'url': 'https://pokeapi.co/api/v2/version-group/11/'}}, {'level_learned_at': 18, 'move_learn_method': {'name': 'level-up', 'url': 'https://pokeapi.co/api/v2/move-learn-method/1/'}, 'version_group': {'name': 'black-2-white-2', 'url': 'https://pokeapi.co/api/v2/version-group/14/'}}, {'level_learned_at': 18, 'move_learn_method': {'name': 'level-up', 'url': 'https://pokeapi.co/api/v2/move-learn-method/1/'}, 'version_group': {'name': 'x-y', 'url': 'https://pokeapi.co/api/v2/version-group/15/'}}, {'level_learned_at': 13, 'move_learn_method': {'name': 'level-up', 'url': 'https://pokeapi.co/api/v2/move-learn-method/1/'}, 'version_group': {'name': 'omega-ruby-alpha-sapphire', 'url': 'https://pokeapi.co/api/v2/version-group/16/'}}, {'level_learned_at': 13, 'move_learn_method': {'name': 'level-up', 'url': 'https://pokeapi.co/api/v2/move-learn-method/1/'}, 'version_group': {'name': 'sun-moon', 'url': 'https://pokeapi.co/api/v2/version-group/17/'}}, {'level_learned_at': 13, 'move_learn_method': {'name': 'level-up', 'url': 'https://pokeapi.co/api/v2/move-learn-method/1/'}, 'version_group': {'name': 'ultra-sun-ultra-moon', 'url': 'https://pokeapi.co/api/v2/version-group/18/'}}, {'level_learned_at': 12, 'move_learn_method': {'name': 'level-up', 'url': 'https://pokeapi.co/api/v2/move-learn-method/1/'}, 'version_group': {'name': 'sword-shield', 'url': 'https://pokeapi.co/api/v2/version-group/20/'}}, {'level_learned_at': 0, 'move_learn_method': {'name': 'machine', 'url': 'https://pokeapi.co/api/v2/move-learn-method/4/'}, 'version_group': {'name': 'sword-shield', 'url': 'https://pokeapi.co/api/v2/version-group/20/'}}, {'level_learned_at': 12, 'move_learn_method': {'name': 'level-up', 'url': 'https://pokeapi.co/api/v2/move-learn-method/1/'}, 'version_group': {'name': 'brilliant-diamond-and-shining-pearl', 'url': 'https://pokeapi.co/api/v2/version-group/23/'}}, {'level_learned_at': 12, 'move_learn_method': {'name': 'level-up', 'url': 'https://pokeapi.co/api/v2/move-learn-method/1/'}, 'version_group': {'name': 'scarlet-violet', 'url': 'https://pokeapi.co/api/v2/version-group/25/'}}, {'level_learned_at': 0, 'move_learn_method': {'name': 'machine', 'url': 'https://pokeapi.co/api/v2/move-learn-method/4/'}, 'version_group': {'name': 'scarlet-violet', 'url': 'https://pokeapi.co/api/v2/version-group/25/'}}]}, {'move': {'name': 'round', 'url': 'https://pokeapi.co/api/v2/move/496/'}, 'version_group_details': [{'level_learned_at': 0, 'move_learn_method': {'name': 'machine', 'url': 'https://pokeapi.co/api/v2/move-learn-method/4/'}, 'version_group': {'name': 'black-white', 'url': 'https://pokeapi.co/api/v2/version-group/11/'}}, {'level_learned_at': 0, 'move_learn_method': {'name': 'machine', 'url': 'https://pokeapi.co/api/v2/move-learn-method/4/'}, 'version_group': {'name': 'black-2-white-2', 'url': 'https://pokeapi.co/api/v2/version-group/14/'}}, {'level_learned_at': 0, 'move_learn_method': {'name': 'machine', 'url': 'https://pokeapi.co/api/v2/move-learn-method/4/'}, 'version_group': {'name': 'x-y', 'url': 'https://pokeapi.co/api/v2/version-group/15/'}}, {'level_learned_at': 0, 'move_learn_method': {'name': 'machine', 'url': 'https://pokeapi.co/api/v2/move-learn-method/4/'}, 'version_group': {'name': 'omega-ruby-alpha-sapphire', 'url': 'https://pokeapi.co/api/v2/version-group/16/'}}, {'level_learned_at': 0, 'move_learn_method': {'name': 'machine', 'url': 'https://pokeapi.co/api/v2/move-learn-method/4/'}, 'version_group': {'name': 'sun-moon', 'url': 'https://pokeapi.co/api/v2/version-group/17/'}}, {'level_learned_at': 0, 'move_learn_method': {'name': 'machine', 'url': 'https://pokeapi.co/api/v2/move-learn-method/4/'}, 'version_group': {'name': 'ultra-sun-ultra-moon', 'url': 'https://pokeapi.co/api/v2/version-group/18/'}}, {'level_learned_at': 0, 'move_learn_method': {'name': 'machine', 'url': 'https://pokeapi.co/api/v2/move-learn-method/4/'}, 'version_group': {'name': 'sword-shield', 'url': 'https://pokeapi.co/api/v2/version-group/20/'}}]}, {'move': {'name': 'echoed-voice', 'url': 'https://pokeapi.co/api/v2/move/497/'}, 'version_group_details': [{'level_learned_at': 0, 'move_learn_method': {'name': 'machine', 'url': 'https://pokeapi.co/api/v2/move-learn-method/4/'}, 'version_group': {'name': 'black-white', 'url': 'https://pokeapi.co/api/v2/version-group/11/'}}, {'level_learned_at': 0, 'move_learn_method': {'name': 'machine', 'url': 'https://pokeapi.co/api/v2/move-learn-method/4/'}, 'version_group': {'name': 'black-2-white-2', 'url': 'https://pokeapi.co/api/v2/version-group/14/'}}, {'level_learned_at': 0, 'move_learn_method': {'name': 'machine', 'url': 'https://pokeapi.co/api/v2/move-learn-method/4/'}, 'version_group': {'name': 'x-y', 'url': 'https://pokeapi.co/api/v2/version-group/15/'}}, {'level_learned_at': 0, 'move_learn_method': {'name': 'machine', 'url': 'https://pokeapi.co/api/v2/move-learn-method/4/'}, 'version_group': {'name': 'omega-ruby-alpha-sapphire', 'url': 'https://pokeapi.co/api/v2/version-group/16/'}}, {'level_learned_at': 0, 'move_learn_method': {'name': 'machine', 'url': 'https://pokeapi.co/api/v2/move-learn-method/4/'}, 'version_group': {'name': 'sun-moon', 'url': 'https://pokeapi.co/api/v2/version-group/17/'}}, {'level_learned_at': 0, 'move_learn_method': {'name': 'machine', 'url': 'https://pokeapi.co/api/v2/move-learn-method/4/'}, 'version_group': {'name': 'ultra-sun-ultra-moon', 'url': 'https://pokeapi.co/api/v2/version-group/18/'}}]}, {'move': {'name': 'volt-switch', 'url': 'https://pokeapi.co/api/v2/move/521/'}, 'version_group_details': [{'level_learned_at': 0, 'move_learn_method': {'name': 'machine', 'url': 'https://pokeapi.co/api/v2/move-learn-method/4/'}, 'version_group': {'name': 'black-white', 'url': 'https://pokeapi.co/api/v2/version-group/11/'}}, {'level_learned_at': 0, 'move_learn_method': {'name': 'machine', 'url': 'https://pokeapi.co/api/v2/move-learn-method/4/'}, 'version_group': {'name': 'black-2-white-2', 'url': 'https://pokeapi.co/api/v2/version-group/14/'}}, {'level_learned_at': 0, 'move_learn_method': {'name': 'machine', 'url': 'https://pokeapi.co/api/v2/move-learn-method/4/'}, 'version_group': {'name': 'x-y', 'url': 'https://pokeapi.co/api/v2/version-group/15/'}}, {'level_learned_at': 0, 'move_learn_method': {'name': 'machine', 'url': 'https://pokeapi.co/api/v2/move-learn-method/4/'}, 'version_group': {'name': 'omega-ruby-alpha-sapphire', 'url': 'https://pokeapi.co/api/v2/version-group/16/'}}, {'level_learned_at': 0, 'move_learn_method': {'name': 'machine', 'url': 'https://pokeapi.co/api/v2/move-learn-method/4/'}, 'version_group': {'name': 'sun-moon', 'url': 'https://pokeapi.co/api/v2/version-group/17/'}}, {'level_learned_at': 0, 'move_learn_method': {'name': 'machine', 'url': 'https://pokeapi.co/api/v2/move-learn-method/4/'}, 'version_group': {'name': 'ultra-sun-ultra-moon', 'url': 'https://pokeapi.co/api/v2/version-group/18/'}}, {'level_learned_at': 0, 'move_learn_method': {'name': 'machine', 'url': 'https://pokeapi.co/api/v2/move-learn-method/4/'}, 'version_group': {'name': 'sword-shield', 'url': 'https://pokeapi.co/api/v2/version-group/20/'}}, {'level_learned_at': 0, 'move_learn_method': {'name': 'machine', 'url': 'https://pokeapi.co/api/v2/move-learn-method/4/'}, 'version_group': {'name': 'brilliant-diamond-and-shining-pearl', 'url': 'https://pokeapi.co/api/v2/version-group/23/'}}, {'level_learned_at': 0, 'move_learn_method': {'name': 'machine', 'url': 'https://pokeapi.co/api/v2/move-learn-method/4/'}, 'version_group': {'name': 'scarlet-violet', 'url': 'https://pokeapi.co/api/v2/version-group/25/'}}]}, {'move': {'name': 'electroweb', 'url': 'https://pokeapi.co/api/v2/move/527/'}, 'version_group_details': [{'level_learned_at': 0, 'move_learn_method': {'name': 'tutor', 'url': 'https://pokeapi.co/api/v2/move-learn-method/3/'}, 'version_group': {'name': 'omega-ruby-alpha-sapphire', 'url': 'https://pokeapi.co/api/v2/version-group/16/'}}, {'level_learned_at': 0, 'move_learn_method': {'name': 'tutor', 'url': 'https://pokeapi.co/api/v2/move-learn-method/3/'}, 'version_group': {'name': 'ultra-sun-ultra-moon', 'url': 'https://pokeapi.co/api/v2/version-group/18/'}}, {'level_learned_at': 0, 'move_learn_method': {'name': 'machine', 'url': 'https://pokeapi.co/api/v2/move-learn-method/4/'}, 'version_group': {'name': 'sword-shield', 'url': 'https://pokeapi.co/api/v2/version-group/20/'}}, {'level_learned_at': 0, 'move_learn_method': {'name': 'machine', 'url': 'https://pokeapi.co/api/v2/move-learn-method/4/'}, 'version_group': {'name': 'scarlet-violet', 'url': 'https://pokeapi.co/api/v2/version-group/25/'}}]}, {'move': {'name': 'wild-charge', 'url': 'https://pokeapi.co/api/v2/move/528/'}, 'version_group_details': [{'level_learned_at': 0, 'move_learn_method': {'name': 'machine', 'url': 'https://pokeapi.co/api/v2/move-learn-method/4/'}, 'version_group': {'name': 'black-white', 'url': 'https://pokeapi.co/api/v2/version-group/11/'}}, {'level_learned_at': 0, 'move_learn_method': {'name': 'machine', 'url': 'https://pokeapi.co/api/v2/move-learn-method/4/'}, 'version_group': {'name': 'black-2-white-2', 'url': 'https://pokeapi.co/api/v2/version-group/14/'}}, {'level_learned_at': 0, 'move_learn_method': {'name': 'machine', 'url': 'https://pokeapi.co/api/v2/move-learn-method/4/'}, 'version_group': {'name': 'x-y', 'url': 'https://pokeapi.co/api/v2/version-group/15/'}}, {'level_learned_at': 50, 'move_learn_method': {'name': 'level-up', 'url': 'https://pokeapi.co/api/v2/move-learn-method/1/'}, 'version_group': {'name': 'omega-ruby-alpha-sapphire', 'url': 'https://pokeapi.co/api/v2/version-group/16/'}}, {'level_learned_at': 0, 'move_learn_method': {'name': 'machine', 'url': 'https://pokeapi.co/api/v2/move-learn-method/4/'}, 'version_group': {'name': 'omega-ruby-alpha-sapphire', 'url': 'https://pokeapi.co/api/v2/version-group/16/'}}, {'level_learned_at': 50, 'move_learn_method': {'name': 'level-up', 'url': 'https://pokeapi.co/api/v2/move-learn-method/1/'}, 'version_group': {'name': 'sun-moon', 'url': 'https://pokeapi.co/api/v2/version-group/17/'}}, {'level_learned_at': 0, 'move_learn_method': {'name': 'machine', 'url': 'https://pokeapi.co/api/v2/move-learn-method/4/'}, 'version_group': {'name': 'sun-moon', 'url': 'https://pokeapi.co/api/v2/version-group/17/'}}, {'level_learned_at': 50, 'move_learn_method': {'name': 'level-up', 'url': 'https://pokeapi.co/api/v2/move-learn-method/1/'}, 'version_group': {'name': 'ultra-sun-ultra-moon', 'url': 'https://pokeapi.co/api/v2/version-group/18/'}}, {'level_learned_at': 0, 'move_learn_method': {'name': 'machine', 'url': 'https://pokeapi.co/api/v2/move-learn-method/4/'}, 'version_group': {'name': 'ultra-sun-ultra-moon', 'url': 'https://pokeapi.co/api/v2/version-group/18/'}}, {'level_learned_at': 0, 'move_learn_method': {'name': 'machine', 'url': 'https://pokeapi.co/api/v2/move-learn-method/4/'}, 'version_group': {'name': 'sword-shield', 'url': 'https://pokeapi.co/api/v2/version-group/20/'}}, {'level_learned_at': 0, 'move_learn_method': {'name': 'machine', 'url': 'https://pokeapi.co/api/v2/move-learn-method/4/'}, 'version_group': {'name': 'scarlet-violet', 'url': 'https://pokeapi.co/api/v2/version-group/25/'}}]}, {'move': {'name': 'disarming-voice', 'url': 'https://pokeapi.co/api/v2/move/574/'}, 'version_group_details': [{'level_learned_at': 0, 'move_learn_method': {'name': 'machine', 'url': 'https://pokeapi.co/api/v2/move-learn-method/4/'}, 'version_group': {'name': 'scarlet-violet', 'url': 'https://pokeapi.co/api/v2/version-group/25/'}}]}, {'move': {'name': 'draining-kiss', 'url': 'https://pokeapi.co/api/v2/move/577/'}, 'version_group_details': [{'level_learned_at': 0, 'move_learn_method': {'name': 'machine', 'url': 'https://pokeapi.co/api/v2/move-learn-method/4/'}, 'version_group': {'name': 'sword-shield', 'url': 'https://pokeapi.co/api/v2/version-group/20/'}}, {'level_learned_at': 0, 'move_learn_method': {'name': 'machine', 'url': 'https://pokeapi.co/api/v2/move-learn-method/4/'}, 'version_group': {'name': 'scarlet-violet', 'url': 'https://pokeapi.co/api/v2/version-group/25/'}}]}, {'move': {'name': 'play-rough', 'url': 'https://pokeapi.co/api/v2/move/583/'}, 'version_group_details': [{'level_learned_at': 0, 'move_learn_method': {'name': 'machine', 'url': 'https://pokeapi.co/api/v2/move-learn-method/4/'}, 'version_group': {'name': 'sword-shield', 'url': 'https://pokeapi.co/api/v2/version-group/20/'}}, {'level_learned_at': 0, 'move_learn_method': {'name': 'machine', 'url': 'https://pokeapi.co/api/v2/move-learn-method/4/'}, 'version_group': {'name': 'scarlet-violet', 'url': 'https://pokeapi.co/api/v2/version-group/25/'}}]}, {'move': {'name': 'play-nice', 'url': 'https://pokeapi.co/api/v2/move/589/'}, 'version_group_details': [{'level_learned_at': 7, 'move_learn_method': {'name': 'level-up', 'url': 'https://pokeapi.co/api/v2/move-learn-method/1/'}, 'version_group': {'name': 'x-y', 'url': 'https://pokeapi.co/api/v2/version-group/15/'}}, {'level_learned_at': 7, 'move_learn_method': {'name': 'level-up', 'url': 'https://pokeapi.co/api/v2/move-learn-method/1/'}, 'version_group': {'name': 'omega-ruby-alpha-sapphire', 'url': 'https://pokeapi.co/api/v2/version-group/16/'}}, {'level_learned_at': 7, 'move_learn_method': {'name': 'level-up', 'url': 'https://pokeapi.co/api/v2/move-learn-method/1/'}, 'version_group': {'name': 'sun-moon', 'url': 'https://pokeapi.co/api/v2/version-group/17/'}}, {'level_learned_at': 7, 'move_learn_method': {'name': 'level-up', 'url': 'https://pokeapi.co/api/v2/move-learn-method/1/'}, 'version_group': {'name': 'ultra-sun-ultra-moon', 'url': 'https://pokeapi.co/api/v2/version-group/18/'}}, {'level_learned_at': 1, 'move_learn_method': {'name': 'level-up', 'url': 'https://pokeapi.co/api/v2/move-learn-method/1/'}, 'version_group': {'name': 'sword-shield', 'url': 'https://pokeapi.co/api/v2/version-group/20/'}}, {'level_learned_at': 1, 'move_learn_method': {'name': 'level-up', 'url': 'https://pokeapi.co/api/v2/move-learn-method/1/'}, 'version_group': {'name': 'brilliant-diamond-and-shining-pearl', 'url': 'https://pokeapi.co/api/v2/version-group/23/'}}, {'level_learned_at': 1, 'move_learn_method': {'name': 'level-up', 'url': 'https://pokeapi.co/api/v2/move-learn-method/1/'}, 'version_group': {'name': 'scarlet-violet', 'url': 'https://pokeapi.co/api/v2/version-group/25/'}}]}, {'move': {'name': 'confide', 'url': 'https://pokeapi.co/api/v2/move/590/'}, 'version_group_details': [{'level_learned_at': 0, 'move_learn_method': {'name': 'machine', 'url': 'https://pokeapi.co/api/v2/move-learn-method/4/'}, 'version_group': {'name': 'x-y', 'url': 'https://pokeapi.co/api/v2/version-group/15/'}}, {'level_learned_at': 0, 'move_learn_method': {'name': 'machine', 'url': 'https://pokeapi.co/api/v2/move-learn-method/4/'}, 'version_group': {'name': 'omega-ruby-alpha-sapphire', 'url': 'https://pokeapi.co/api/v2/version-group/16/'}}, {'level_learned_at': 0, 'move_learn_method': {'name': 'machine', 'url': 'https://pokeapi.co/api/v2/move-learn-method/4/'}, 'version_group': {'name': 'sun-moon', 'url': 'https://pokeapi.co/api/v2/version-group/17/'}}, {'level_learned_at': 0, 'move_learn_method': {'name': 'machine', 'url': 'https://pokeapi.co/api/v2/move-learn-method/4/'}, 'version_group': {'name': 'ultra-sun-ultra-moon', 'url': 'https://pokeapi.co/api/v2/version-group/18/'}}]}, {'move': {'name': 'eerie-impulse', 'url': 'https://pokeapi.co/api/v2/move/598/'}, 'version_group_details': [{'level_learned_at': 0, 'move_learn_method': {'name': 'machine', 'url': 'https://pokeapi.co/api/v2/move-learn-method/4/'}, 'version_group': {'name': 'scarlet-violet', 'url': 'https://pokeapi.co/api/v2/version-group/25/'}}]}, {'move': {'name': 'electric-terrain', 'url': 'https://pokeapi.co/api/v2/move/604/'}, 'version_group_details': [{'level_learned_at': 0, 'move_learn_method': {'name': 'machine', 'url': 'https://pokeapi.co/api/v2/move-learn-method/4/'}, 'version_group': {'name': 'sword-shield', 'url': 'https://pokeapi.co/api/v2/version-group/20/'}}, {'level_learned_at': 0, 'move_learn_method': {'name': 'machine', 'url': 'https://pokeapi.co/api/v2/move-learn-method/4/'}, 'version_group': {'name': 'scarlet-violet', 'url': 'https://pokeapi.co/api/v2/version-group/25/'}}]}, {'move': {'name': 'nuzzle', 'url': 'https://pokeapi.co/api/v2/move/609/'}, 'version_group_details': [{'level_learned_at': 23, 'move_learn_method': {'name': 'level-up', 'url': 'https://pokeapi.co/api/v2/move-learn-method/1/'}, 'version_group': {'name': 'x-y', 'url': 'https://pokeapi.co/api/v2/version-group/15/'}}, {'level_learned_at': 29, 'move_learn_method': {'name': 'level-up', 'url': 'https://pokeapi.co/api/v2/move-learn-method/1/'}, 'version_group': {'name': 'omega-ruby-alpha-sapphire', 'url': 'https://pokeapi.co/api/v2/version-group/16/'}}, {'level_learned_at': 29, 'move_learn_method': {'name': 'level-up', 'url': 'https://pokeapi.co/api/v2/move-learn-method/1/'}, 'version_group': {'name': 'sun-moon', 'url': 'https://pokeapi.co/api/v2/version-group/17/'}}, {'level_learned_at': 29, 'move_learn_method': {'name': 'level-up', 'url': 'https://pokeapi.co/api/v2/move-learn-method/1/'}, 'version_group': {'name': 'ultra-sun-ultra-moon', 'url': 'https://pokeapi.co/api/v2/version-group/18/'}}, {'level_learned_at': 1, 'move_learn_method': {'name': 'level-up', 'url': 'https://pokeapi.co/api/v2/move-learn-method/1/'}, 'version_group': {'name': 'sword-shield', 'url': 'https://pokeapi.co/api/v2/version-group/20/'}}, {'level_learned_at': 1, 'move_learn_method': {'name': 'level-up', 'url': 'https://pokeapi.co/api/v2/move-learn-method/1/'}, 'version_group': {'name': 'brilliant-diamond-and-shining-pearl', 'url': 'https://pokeapi.co/api/v2/version-group/23/'}}, {'level_learned_at': 1, 'move_learn_method': {'name': 'level-up', 'url': 'https://pokeapi.co/api/v2/move-learn-method/1/'}, 'version_group': {'name': 'scarlet-violet', 'url': 'https://pokeapi.co/api/v2/version-group/25/'}}]}, {'move': {'name': 'laser-focus', 'url': 'https://pokeapi.co/api/v2/move/673/'}, 'version_group_details': [{'level_learned_at': 0, 'move_learn_method': {'name': 'tutor', 'url': 'https://pokeapi.co/api/v2/move-learn-method/3/'}, 'version_group': {'name': 'ultra-sun-ultra-moon', 'url': 'https://pokeapi.co/api/v2/version-group/18/'}}]}, {'move': {'name': 'rising-voltage', 'url': 'https://pokeapi.co/api/v2/move/804/'}, 'version_group_details': [{'level_learned_at': 0, 'move_learn_method': {'name': 'tutor', 'url': 'https://pokeapi.co/api/v2/move-learn-method/3/'}, 'version_group': {'name': 'sword-shield', 'url': 'https://pokeapi.co/api/v2/version-group/20/'}}]}, {'move': {'name': 'tera-blast', 'url': 'https://pokeapi.co/api/v2/move/851/'}, 'version_group_details': [{'level_learned_at': 0, 'move_learn_method': {'name': 'machine', 'url': 'https://pokeapi.co/api/v2/move-learn-method/4/'}, 'version_group': {'name': 'scarlet-violet', 'url': 'https://pokeapi.co/api/v2/version-group/25/'}}]}, {'move': {'name': 'trailblaze', 'url': 'https://pokeapi.co/api/v2/move/885/'}, 'version_group_details': [{'level_learned_at': 0, 'move_learn_method': {'name': 'machine', 'url': 'https://pokeapi.co/api/v2/move-learn-method/4/'}, 'version_group': {'name': 'scarlet-violet', 'url': 'https://pokeapi.co/api/v2/version-group/25/'}}]}, {'move': {'name': 'alluring-voice', 'url': 'https://pokeapi.co/api/v2/move/914/'}, 'version_group_details': [{'level_learned_at': 0, 'move_learn_method': {'name': 'machine', 'url': 'https://pokeapi.co/api/v2/move-learn-method/4/'}, 'version_group': {'name': 'scarlet-violet', 'url': 'https://pokeapi.co/api/v2/version-group/25/'}}]}, {'move': {'name': 'upper-hand', 'url': 'https://pokeapi.co/api/v2/move/918/'}, 'version_group_details': [{'level_learned_at': 0, 'move_learn_method': {'name': 'machine', 'url': 'https://pokeapi.co/api/v2/move-learn-method/4/'}, 'version_group': {'name': 'scarlet-violet', 'url': 'https://pokeapi.co/api/v2/version-group/25/'}}]}], 'name': 'pikachu', 'order': 35, 'past_abilities': [], 'past_types': [], 'species': {'name': 'pikachu', 'url': 'https://pokeapi.co/api/v2/pokemon-species/25/'}, 'sprites': {'back_default': 'https://raw.githubusercontent.com/PokeAPI/sprites/master/sprites/pokemon/back/25.png', 'back_female': 'https://raw.githubusercontent.com/PokeAPI/sprites/master/sprites/pokemon/back/female/25.png', 'back_shiny': 'https://raw.githubusercontent.com/PokeAPI/sprites/master/sprites/pokemon/back/shiny/25.png', 'back_shiny_female': 'https://raw.githubusercontent.com/PokeAPI/sprites/master/sprites/pokemon/back/shiny/female/25.png', 'front_default': 'https://raw.githubusercontent.com/PokeAPI/sprites/master/sprites/pokemon/25.png', 'front_female': 'https://raw.githubusercontent.com/PokeAPI/sprites/master/sprites/pokemon/female/25.png', 'front_shiny': 'https://raw.githubusercontent.com/PokeAPI/sprites/master/sprites/pokemon/shiny/25.png', 'front_shiny_female': 'https://raw.githubusercontent.com/PokeAPI/sprites/master/sprites/pokemon/shiny/female/25.png', 'other': {'dream_world': {'front_default': 'https://raw.githubusercontent.com/PokeAPI/sprites/master/sprites/pokemon/other/dream-world/25.svg', 'front_female': None}, 'home': {'front_default': 'https://raw.githubusercontent.com/PokeAPI/sprites/master/sprites/pokemon/other/home/25.png', 'front_female': 'https://raw.githubusercontent.com/PokeAPI/sprites/master/sprites/pokemon/other/home/female/25.png', 'front_shiny': 'https://raw.githubusercontent.com/PokeAPI/sprites/master/sprites/pokemon/other/home/shiny/25.png', 'front_shiny_female': 'https://raw.githubusercontent.com/PokeAPI/sprites/master/sprites/pokemon/other/home/shiny/female/25.png'}, 'official-artwork': {'front_default': 'https://raw.githubusercontent.com/PokeAPI/sprites/master/sprites/pokemon/other/official-artwork/25.png', 'front_shiny': 'https://raw.githubusercontent.com/PokeAPI/sprites/master/sprites/pokemon/other/official-artwork/shiny/25.png'}, 'showdown': {'back_default': 'https://raw.githubusercontent.com/PokeAPI/sprites/master/sprites/pokemon/other/showdown/back/25.gif', 'back_female': 'https://raw.githubusercontent.com/PokeAPI/sprites/master/sprites/pokemon/other/showdown/back/female/25.gif', 'back_shiny': 'https://raw.githubusercontent.com/PokeAPI/sprites/master/sprites/pokemon/other/showdown/back/shiny/25.gif', 'back_shiny_female': None, 'front_default': 'https://raw.githubusercontent.com/PokeAPI/sprites/master/sprites/pokemon/other/showdown/25.gif', 'front_female': 'https://raw.githubusercontent.com/PokeAPI/sprites/master/sprites/pokemon/other/showdown/female/25.gif', 'front_shiny': 'https://raw.githubusercontent.com/PokeAPI/sprites/master/sprites/pokemon/other/showdown/shiny/25.gif', 'front_shiny_female': 'https://raw.githubusercontent.com/PokeAPI/sprites/master/sprites/pokemon/other/showdown/shiny/female/25.gif'}}, 'versions': {'generation-i': {'red-blue': {'back_default': 'https://raw.githubusercontent.com/PokeAPI/sprites/master/sprites/pokemon/versions/generation-i/red-blue/back/25.png', 'back_gray': 'https://raw.githubusercontent.com/PokeAPI/sprites/master/sprites/pokemon/versions/generation-i/red-blue/back/gray/25.png', 'back_transparent': 'https://raw.githubusercontent.com/PokeAPI/sprites/master/sprites/pokemon/versions/generation-i/red-blue/transparent/back/25.png', 'front_default': 'https://raw.githubusercontent.com/PokeAPI/sprites/master/sprites/pokemon/versions/generation-i/red-blue/25.png', 'front_gray': 'https://raw.githubusercontent.com/PokeAPI/sprites/master/sprites/pokemon/versions/generation-i/red-blue/gray/25.png', 'front_transparent': 'https://raw.githubusercontent.com/PokeAPI/sprites/master/sprites/pokemon/versions/generation-i/red-blue/transparent/25.png'}, 'yellow': {'back_default': 'https://raw.githubusercontent.com/PokeAPI/sprites/master/sprites/pokemon/versions/generation-i/yellow/back/25.png', 'back_gray': 'https://raw.githubusercontent.com/PokeAPI/sprites/master/sprites/pokemon/versions/generation-i/yellow/back/gray/25.png', 'back_transparent': 'https://raw.githubusercontent.com/PokeAPI/sprites/master/sprites/pokemon/versions/generation-i/yellow/transparent/back/25.png', 'front_default': 'https://raw.githubusercontent.com/PokeAPI/sprites/master/sprites/pokemon/versions/generation-i/yellow/25.png', 'front_gray': 'https://raw.githubusercontent.com/PokeAPI/sprites/master/sprites/pokemon/versions/generation-i/yellow/gray/25.png', 'front_transparent': 'https://raw.githubusercontent.com/PokeAPI/sprites/master/sprites/pokemon/versions/generation-i/yellow/transparent/25.png'}}, 'generation-ii': {'crystal': {'back_default': 'https://raw.githubusercontent.com/PokeAPI/sprites/master/sprites/pokemon/versions/generation-ii/crystal/back/25.png', 'back_shiny': 'https://raw.githubusercontent.com/PokeAPI/sprites/master/sprites/pokemon/versions/generation-ii/crystal/back/shiny/25.png', 'back_shiny_transparent': 'https://raw.githubusercontent.com/PokeAPI/sprites/master/sprites/pokemon/versions/generation-ii/crystal/transparent/back/shiny/25.png', 'back_transparent': 'https://raw.githubusercontent.com/PokeAPI/sprites/master/sprites/pokemon/versions/generation-ii/crystal/transparent/back/25.png', 'front_default': 'https://raw.githubusercontent.com/PokeAPI/sprites/master/sprites/pokemon/versions/generation-ii/crystal/25.png', 'front_shiny': 'https://raw.githubusercontent.com/PokeAPI/sprites/master/sprites/pokemon/versions/generation-ii/crystal/shiny/25.png', 'front_shiny_transparent': 'https://raw.githubusercontent.com/PokeAPI/sprites/master/sprites/pokemon/versions/generation-ii/crystal/transparent/shiny/25.png', 'front_transparent': 'https://raw.githubusercontent.com/PokeAPI/sprites/master/sprites/pokemon/versions/generation-ii/crystal/transparent/25.png'}, 'gold': {'back_default': 'https://raw.githubusercontent.com/PokeAPI/sprites/master/sprites/pokemon/versions/generation-ii/gold/back/25.png', 'back_shiny': 'https://raw.githubusercontent.com/PokeAPI/sprites/master/sprites/pokemon/versions/generation-ii/gold/back/shiny/25.png', 'front_default': 'https://raw.githubusercontent.com/PokeAPI/sprites/master/sprites/pokemon/versions/generation-ii/gold/25.png', 'front_shiny': 'https://raw.githubusercontent.com/PokeAPI/sprites/master/sprites/pokemon/versions/generation-ii/gold/shiny/25.png', 'front_transparent': 'https://raw.githubusercontent.com/PokeAPI/sprites/master/sprites/pokemon/versions/generation-ii/gold/transparent/25.png'}, 'silver': {'back_default': 'https://raw.githubusercontent.com/PokeAPI/sprites/master/sprites/pokemon/versions/generation-ii/silver/back/25.png', 'back_shiny': 'https://raw.githubusercontent.com/PokeAPI/sprites/master/sprites/pokemon/versions/generation-ii/silver/back/shiny/25.png', 'front_default': 'https://raw.githubusercontent.com/PokeAPI/sprites/master/sprites/pokemon/versions/generation-ii/silver/25.png', 'front_shiny': 'https://raw.githubusercontent.com/PokeAPI/sprites/master/sprites/pokemon/versions/generation-ii/silver/shiny/25.png', 'front_transparent': 'https://raw.githubusercontent.com/PokeAPI/sprites/master/sprites/pokemon/versions/generation-ii/silver/transparent/25.png'}}, 'generation-iii': {'emerald': {'front_default': 'https://raw.githubusercontent.com/PokeAPI/sprites/master/sprites/pokemon/versions/generation-iii/emerald/25.png', 'front_shiny': 'https://raw.githubusercontent.com/PokeAPI/sprites/master/sprites/pokemon/versions/generation-iii/emerald/shiny/25.png'}, 'firered-leafgreen': {'back_default': 'https://raw.githubusercontent.com/PokeAPI/sprites/master/sprites/pokemon/versions/generation-iii/firered-leafgreen/back/25.png', 'back_shiny': 'https://raw.githubusercontent.com/PokeAPI/sprites/master/sprites/pokemon/versions/generation-iii/firered-leafgreen/back/shiny/25.png', 'front_default': 'https://raw.githubusercontent.com/PokeAPI/sprites/master/sprites/pokemon/versions/generation-iii/firered-leafgreen/25.png', 'front_shiny': 'https://raw.githubusercontent.com/PokeAPI/sprites/master/sprites/pokemon/versions/generation-iii/firered-leafgreen/shiny/25.png'}, 'ruby-sapphire': {'back_default': 'https://raw.githubusercontent.com/PokeAPI/sprites/master/sprites/pokemon/versions/generation-iii/ruby-sapphire/back/25.png', 'back_shiny': 'https://raw.githubusercontent.com/PokeAPI/sprites/master/sprites/pokemon/versions/generation-iii/ruby-sapphire/back/shiny/25.png', 'front_default': 'https://raw.githubusercontent.com/PokeAPI/sprites/master/sprites/pokemon/versions/generation-iii/ruby-sapphire/25.png', 'front_shiny': 'https://raw.githubusercontent.com/PokeAPI/sprites/master/sprites/pokemon/versions/generation-iii/ruby-sapphire/shiny/25.png'}}, 'generation-iv': {'diamond-pearl': {'back_default': 'https://raw.githubusercontent.com/PokeAPI/sprites/master/sprites/pokemon/versions/generation-iv/diamond-pearl/back/25.png', 'back_female': 'https://raw.githubusercontent.com/PokeAPI/sprites/master/sprites/pokemon/versions/generation-iv/diamond-pearl/back/female/25.png', 'back_shiny': 'https://raw.githubusercontent.com/PokeAPI/sprites/master/sprites/pokemon/versions/generation-iv/diamond-pearl/back/shiny/25.png', 'back_shiny_female': 'https://raw.githubusercontent.com/PokeAPI/sprites/master/sprites/pokemon/versions/generation-iv/diamond-pearl/back/shiny/female/25.png', 'front_default': 'https://raw.githubusercontent.com/PokeAPI/sprites/master/sprites/pokemon/versions/generation-iv/diamond-pearl/25.png', 'front_female': 'https://raw.githubusercontent.com/PokeAPI/sprites/master/sprites/pokemon/versions/generation-iv/diamond-pearl/female/25.png', 'front_shiny': 'https://raw.githubusercontent.com/PokeAPI/sprites/master/sprites/pokemon/versions/generation-iv/diamond-pearl/shiny/25.png', 'front_shiny_female': 'https://raw.githubusercontent.com/PokeAPI/sprites/master/sprites/pokemon/versions/generation-iv/diamond-pearl/shiny/female/25.png'}, 'heartgold-soulsilver': {'back_default': 'https://raw.githubusercontent.com/PokeAPI/sprites/master/sprites/pokemon/versions/generation-iv/heartgold-soulsilver/back/25.png', 'back_female': 'https://raw.githubusercontent.com/PokeAPI/sprites/master/sprites/pokemon/versions/generation-iv/heartgold-soulsilver/back/female/25.png', 'back_shiny': 'https://raw.githubusercontent.com/PokeAPI/sprites/master/sprites/pokemon/versions/generation-iv/heartgold-soulsilver/back/shiny/25.png', 'back_shiny_female': 'https://raw.githubusercontent.com/PokeAPI/sprites/master/sprites/pokemon/versions/generation-iv/heartgold-soulsilver/back/shiny/female/25.png', 'front_default': 'https://raw.githubusercontent.com/PokeAPI/sprites/master/sprites/pokemon/versions/generation-iv/heartgold-soulsilver/25.png', 'front_female': 'https://raw.githubusercontent.com/PokeAPI/sprites/master/sprites/pokemon/versions/generation-iv/heartgold-soulsilver/female/25.png', 'front_shiny': 'https://raw.githubusercontent.com/PokeAPI/sprites/master/sprites/pokemon/versions/generation-iv/heartgold-soulsilver/shiny/25.png', 'front_shiny_female': 'https://raw.githubusercontent.com/PokeAPI/sprites/master/sprites/pokemon/versions/generation-iv/heartgold-soulsilver/shiny/female/25.png'}, 'platinum': {'back_default': 'https://raw.githubusercontent.com/PokeAPI/sprites/master/sprites/pokemon/versions/generation-iv/platinum/back/25.png', 'back_female': 'https://raw.githubusercontent.com/PokeAPI/sprites/master/sprites/pokemon/versions/generation-iv/platinum/back/female/25.png', 'back_shiny': 'https://raw.githubusercontent.com/PokeAPI/sprites/master/sprites/pokemon/versions/generation-iv/platinum/back/shiny/25.png', 'back_shiny_female': 'https://raw.githubusercontent.com/PokeAPI/sprites/master/sprites/pokemon/versions/generation-iv/platinum/back/shiny/female/25.png', 'front_default': 'https://raw.githubusercontent.com/PokeAPI/sprites/master/sprites/pokemon/versions/generation-iv/platinum/25.png', 'front_female': 'https://raw.githubusercontent.com/PokeAPI/sprites/master/sprites/pokemon/versions/generation-iv/platinum/female/25.png', 'front_shiny': 'https://raw.githubusercontent.com/PokeAPI/sprites/master/sprites/pokemon/versions/generation-iv/platinum/shiny/25.png', 'front_shiny_female': 'https://raw.githubusercontent.com/PokeAPI/sprites/master/sprites/pokemon/versions/generation-iv/platinum/shiny/female/25.png'}}, 'generation-v': {'black-white': {'animated': {'back_default': 'https://raw.githubusercontent.com/PokeAPI/sprites/master/sprites/pokemon/versions/generation-v/black-white/animated/back/25.gif', 'back_female': 'https://raw.githubusercontent.com/PokeAPI/sprites/master/sprites/pokemon/versions/generation-v/black-white/animated/back/female/25.gif', 'back_shiny': 'https://raw.githubusercontent.com/PokeAPI/sprites/master/sprites/pokemon/versions/generation-v/black-white/animated/back/shiny/25.gif', 'back_shiny_female': 'https://raw.githubusercontent.com/PokeAPI/sprites/master/sprites/pokemon/versions/generation-v/black-white/animated/back/shiny/female/25.gif', 'front_default': 'https://raw.githubusercontent.com/PokeAPI/sprites/master/sprites/pokemon/versions/generation-v/black-white/animated/25.gif', 'front_female': 'https://raw.githubusercontent.com/PokeAPI/sprites/master/sprites/pokemon/versions/generation-v/black-white/animated/female/25.gif', 'front_shiny': 'https://raw.githubusercontent.com/PokeAPI/sprites/master/sprites/pokemon/versions/generation-v/black-white/animated/shiny/25.gif', 'front_shiny_female': 'https://raw.githubusercontent.com/PokeAPI/sprites/master/sprites/pokemon/versions/generation-v/black-white/animated/shiny/female/25.gif'}, 'back_default': 'https://raw.githubusercontent.com/PokeAPI/sprites/master/sprites/pokemon/versions/generation-v/black-white/back/25.png', 'back_female': 'https://raw.githubusercontent.com/PokeAPI/sprites/master/sprites/pokemon/versions/generation-v/black-white/back/female/25.png', 'back_shiny': 'https://raw.githubusercontent.com/PokeAPI/sprites/master/sprites/pokemon/versions/generation-v/black-white/back/shiny/25.png', 'back_shiny_female': 'https://raw.githubusercontent.com/PokeAPI/sprites/master/sprites/pokemon/versions/generation-v/black-white/back/shiny/female/25.png', 'front_default': 'https://raw.githubusercontent.com/PokeAPI/sprites/master/sprites/pokemon/versions/generation-v/black-white/25.png', 'front_female': 'https://raw.githubusercontent.com/PokeAPI/sprites/master/sprites/pokemon/versions/generation-v/black-white/female/25.png', 'front_shiny': 'https://raw.githubusercontent.com/PokeAPI/sprites/master/sprites/pokemon/versions/generation-v/black-white/shiny/25.png', 'front_shiny_female': 'https://raw.githubusercontent.com/PokeAPI/sprites/master/sprites/pokemon/versions/generation-v/black-white/shiny/female/25.png'}}, 'generation-vi': {'omegaruby-alphasapphire': {'front_default': 'https://raw.githubusercontent.com/PokeAPI/sprites/master/sprites/pokemon/versions/generation-vi/omegaruby-alphasapphire/25.png', 'front_female': 'https://raw.githubusercontent.com/PokeAPI/sprites/master/sprites/pokemon/versions/generation-vi/omegaruby-alphasapphire/female/25.png', 'front_shiny': 'https://raw.githubusercontent.com/PokeAPI/sprites/master/sprites/pokemon/versions/generation-vi/omegaruby-alphasapphire/shiny/25.png', 'front_shiny_female': 'https://raw.githubusercontent.com/PokeAPI/sprites/master/sprites/pokemon/versions/generation-vi/omegaruby-alphasapphire/shiny/female/25.png'}, 'x-y': {'front_default': 'https://raw.githubusercontent.com/PokeAPI/sprites/master/sprites/pokemon/versions/generation-vi/x-y/25.png', 'front_female': 'https://raw.githubusercontent.com/PokeAPI/sprites/master/sprites/pokemon/versions/generation-vi/x-y/female/25.png', 'front_shiny': 'https://raw.githubusercontent.com/PokeAPI/sprites/master/sprites/pokemon/versions/generation-vi/x-y/shiny/25.png', 'front_shiny_female': 'https://raw.githubusercontent.com/PokeAPI/sprites/master/sprites/pokemon/versions/generation-vi/x-y/shiny/female/25.png'}}, 'generation-vii': {'icons': {'front_default': 'https://raw.githubusercontent.com/PokeAPI/sprites/master/sprites/pokemon/versions/generation-vii/icons/25.png', 'front_female': None}, 'ultra-sun-ultra-moon': {'front_default': 'https://raw.githubusercontent.com/PokeAPI/sprites/master/sprites/pokemon/versions/generation-vii/ultra-sun-ultra-moon/25.png', 'front_female': 'https://raw.githubusercontent.com/PokeAPI/sprites/master/sprites/pokemon/versions/generation-vii/ultra-sun-ultra-moon/female/25.png', 'front_shiny': 'https://raw.githubusercontent.com/PokeAPI/sprites/master/sprites/pokemon/versions/generation-vii/ultra-sun-ultra-moon/shiny/25.png', 'front_shiny_female': 'https://raw.githubusercontent.com/PokeAPI/sprites/master/sprites/pokemon/versions/generation-vii/ultra-sun-ultra-moon/shiny/female/25.png'}}, 'generation-viii': {'icons': {'front_default': 'https://raw.githubusercontent.com/PokeAPI/sprites/master/sprites/pokemon/versions/generation-viii/icons/25.png', 'front_female': 'https://raw.githubusercontent.com/PokeAPI/sprites/master/sprites/pokemon/versions/generation-viii/icons/female/25.png'}}}}, 'stats': [{'base_stat': 35, 'effort': 0, 'stat': {'name': 'hp', 'url': 'https://pokeapi.co/api/v2/stat/1/'}}, {'base_stat': 55, 'effort': 0, 'stat': {'name': 'attack', 'url': 'https://pokeapi.co/api/v2/stat/2/'}}, {'base_stat': 40, 'effort': 0, 'stat': {'name': 'defense', 'url': 'https://pokeapi.co/api/v2/stat/3/'}}, {'base_stat': 50, 'effort': 0, 'stat': {'name': 'special-attack', 'url': 'https://pokeapi.co/api/v2/stat/4/'}}, {'base_stat': 50, 'effort': 0, 'stat': {'name': 'special-defense', 'url': 'https://pokeapi.co/api/v2/stat/5/'}}, {'base_stat': 90, 'effort': 2, 'stat': {'name': 'speed', 'url': 'https://pokeapi.co/api/v2/stat/6/'}}], 'types': [{'slot': 1, 'type': {'name': 'electric', 'url': 'https://pokeapi.co/api/v2/type/13/'}}], 'weight': 60}\n"
     ]
    }
   ],
   "source": [
    "import requests\n",
    "\n",
    "# URL to fetch data from\n",
    "url = 'https://pokeapi.co/api/v2/pokemon/pikachu'\n",
    "\n",
    "# Send a GET request to the URL\n",
    "response = requests.get(url)\n",
    "\n",
    "# Check if the request was successful\n",
    "if response.status_code == 200:\n",
    "    # Print the JSON response\n",
    "    data = response.json()\n",
    "    print(data)\n",
    "else:\n",
    "    print(f\"Failed to fetch data. Status code: {response.status_code}\")\n"
   ]
  },
  {
   "cell_type": "markdown",
   "id": "24b5fc94-9971-4f53-8354-febafb8de9bb",
   "metadata": {},
   "source": [
    "#### libraries"
   ]
  },
  {
   "cell_type": "code",
   "execution_count": null,
   "id": "a9a9e842-f6f1-45a3-bb75-117e48b03bbb",
   "metadata": {},
   "outputs": [],
   "source": [
    "#read csv file open = ('sample_data/california_housing_test.csv')\n",
    "#content = file.read()\n",
    "#file.close()"
   ]
  },
  {
   "cell_type": "code",
   "execution_count": null,
   "id": "3d5073f8-f271-4c5c-b2a0-42c747a17916",
   "metadata": {},
   "outputs": [],
   "source": [
    "# import csv\n",
    "\n",
    "# data_dict = {}\n",
    "# for index, row in enumerate(csv.reader(content.strip().split('\\n'))):\n",
    "#     if index == 0:\n",
    "#         # Initialize dictionary with column headers as keys\n",
    "#         for column in row:\n",
    "#             data_dict[column] = []\n",
    "#     else:\n",
    "#         # Append each element in the row to the correct list in the dictionary\n",
    "#         for col_index, value in enumerate(row):\n",
    "#             data_dict[list(data_dict.keys())[col_index]].append(value)\n",
    "\n",
    "# # Print the dictionary to verify contents\n",
    "# print(data_dict\n",
    "#not clean so\n",
    "#sum(float(room.replace(' ',' ')) for room in data_dict['total_rooms'] if room.replace(' ','').replace('.','').isdigit())"
   ]
  },
  {
   "cell_type": "code",
   "execution_count": null,
   "id": "0226c2d0-f309-4946-9f74-9133a52562f6",
   "metadata": {},
   "outputs": [],
   "source": [
    "# import pandas pd\n",
    "# contents = pd.read_csv('sample_data/california_housing_test.csv')\n",
    "# contents\n",
    "# df = pd.read_csv('sample_data/california_housing_test.csv')"
   ]
  },
  {
   "cell_type": "code",
   "execution_count": null,
   "id": "447e421c-44eb-4d72-a165-0a353fe93f9b",
   "metadata": {},
   "outputs": [],
   "source": [
    "# import pandas pd\n",
    "# contents = pd.read_csv('sample_data/california_housing_test.csv')\n",
    "# contents['totla_bedrooms'].sum()"
   ]
  },
  {
   "cell_type": "code",
   "execution_count": 306,
   "id": "8208be04-7e43-4b9f-92e9-e90e9639750b",
   "metadata": {},
   "outputs": [
    {
     "name": "stdout",
     "output_type": "stream",
     "text": [
      "Package                           Version\n",
      "--------------------------------- ------------------\n",
      "aext-assistant                    4.0.15\n",
      "aext-assistant-server             4.0.15\n",
      "aext-core                         4.0.15\n",
      "aext-core-server                  4.0.15\n",
      "aext-panels                       4.0.15\n",
      "aext-panels-server                4.0.15\n",
      "aext-share-notebook               4.0.15\n",
      "aext-share-notebook-server        4.0.15\n",
      "aext-shared                       4.0.15\n",
      "aiobotocore                       2.12.3\n",
      "aiohttp                           3.9.5\n",
      "aioitertools                      0.7.1\n",
      "aiosignal                         1.2.0\n",
      "alabaster                         0.7.16\n",
      "altair                            5.0.1\n",
      "anaconda-anon-usage               0.4.4\n",
      "anaconda-catalogs                 0.2.0\n",
      "anaconda-client                   1.12.3\n",
      "anaconda-cloud-auth               0.5.1\n",
      "anaconda-navigator                2.6.3\n",
      "anaconda-project                  0.11.1\n",
      "annotated-types                   0.6.0\n",
      "anyio                             4.2.0\n",
      "appdirs                           1.4.4\n",
      "archspec                          0.2.3\n",
      "argon2-cffi                       21.3.0\n",
      "argon2-cffi-bindings              21.2.0\n",
      "arrow                             1.2.3\n",
      "astroid                           2.14.2\n",
      "astropy                           6.1.0\n",
      "astropy-iers-data                 0.2024.6.3.0.31.14\n",
      "asttokens                         2.0.5\n",
      "async-lru                         2.0.4\n",
      "atomicwrites                      1.4.0\n",
      "attrs                             23.1.0\n",
      "Automat                           20.2.0\n",
      "autopep8                          2.0.4\n",
      "Babel                             2.11.0\n",
      "bcrypt                            3.2.0\n",
      "beautifulsoup4                    4.12.3\n",
      "binaryornot                       0.4.4\n",
      "black                             24.4.2\n",
      "bleach                            4.1.0\n",
      "blinker                           1.6.2\n",
      "bokeh                             3.4.1\n",
      "boltons                           23.0.0\n",
      "botocore                          1.34.69\n",
      "Bottleneck                        1.3.7\n",
      "Brotli                            1.0.9\n",
      "cachetools                        5.3.3\n",
      "certifi                           2024.8.30\n",
      "cffi                              1.16.0\n",
      "chardet                           4.0.0\n",
      "charset-normalizer                2.0.4\n",
      "click                             8.1.7\n",
      "cloudpickle                       2.2.1\n",
      "colorama                          0.4.6\n",
      "colorcet                          3.1.0\n",
      "comm                              0.2.1\n",
      "conda                             24.9.1\n",
      "conda-build                       24.5.1\n",
      "conda-content-trust               0.2.0\n",
      "conda_index                       0.5.0\n",
      "conda-libmamba-solver             24.1.0\n",
      "conda-pack                        0.7.1\n",
      "conda-package-handling            2.3.0\n",
      "conda_package_streaming           0.10.0"
     ]
    }
   ],
   "source": [
    "!pip list"
   ]
  },
  {
   "cell_type": "markdown",
   "id": "2ba58888-ca5e-41e9-b28d-b1a9175e54d0",
   "metadata": {},
   "source": [
    "#### classes"
   ]
  },
  {
   "cell_type": "code",
   "execution_count": 312,
   "id": "cc36df51-3536-4c00-adec-145cba9b6357",
   "metadata": {},
   "outputs": [],
   "source": [
    "class VincesList:\n",
    "    def __init__(self):\n",
    "        \"\"\"Initialize an empty list.\"\"\"\n",
    "        self._items = []\n",
    "\n",
    "    def add(self, item):\n",
    "        \"\"\"Add an item to the end of the list.\"\"\"\n",
    "        self._items.append(item)\n",
    "\n",
    "    def __getitem__(self, index):\n",
    "        \"\"\"Retrieve an item by index.\"\"\"\n",
    "        return self._items[index]\n",
    "\n",
    "    def __setitem__(self, index, value):\n",
    "        \"\"\"Set an item at a specific index.\"\"\"\n",
    "        self._items[index] = value\n",
    "\n",
    "    def __repr__(self):\n",
    "        \"\"\"Return a string representation of the list.\"\"\"\n",
    "        return str(self._items)\n",
    "\n",
    "    def __len__(self):\n",
    "        \"\"\"Return the length of the list.\"\"\"\n",
    "        return len(self._items)"
   ]
  },
  {
   "cell_type": "code",
   "execution_count": 316,
   "id": "9e6740ae-cff6-492e-bfab-5f4547b21d2a",
   "metadata": {},
   "outputs": [
    {
     "data": {
      "text/plain": [
       "[]"
      ]
     },
     "execution_count": 316,
     "metadata": {},
     "output_type": "execute_result"
    }
   ],
   "source": [
    "my_list = VincesList()\n",
    "\n",
    "my_list"
   ]
  },
  {
   "cell_type": "code",
   "execution_count": 318,
   "id": "885d8e4b-cf29-4cb7-bf04-e23e564fc77b",
   "metadata": {},
   "outputs": [
    {
     "data": {
      "text/plain": [
       "['Data Nerd', 'Finance Nerd']"
      ]
     },
     "execution_count": 318,
     "metadata": {},
     "output_type": "execute_result"
    }
   ],
   "source": [
    "my_list.add(\"Data Nerd\")\n",
    "my_list.add(\"Finance Nerd\")\n",
    "\n",
    "my_list"
   ]
  },
  {
   "cell_type": "code",
   "execution_count": 320,
   "id": "57e5fd41-f849-43d6-b355-6de01b3e4c8b",
   "metadata": {},
   "outputs": [
    {
     "data": {
      "text/plain": [
       "2"
      ]
     },
     "execution_count": 320,
     "metadata": {},
     "output_type": "execute_result"
    }
   ],
   "source": [
    "len(my_list)"
   ]
  },
  {
   "cell_type": "code",
   "execution_count": 375,
   "id": "4f7022a4-3699-46dc-a6f5-1e3e48fbb0b5",
   "metadata": {},
   "outputs": [],
   "source": [
    "class BaseSalary:\n",
    "  def __init__(self, base_salary, bonus_rate=0.1, symbol=\"$\"):\n",
    "    self.base_salary = base_salary\n",
    "    self.bonus_rate = bonus_rate\n",
    "    self.symbol = symbol\n",
    "    self.total_salary = base_salary * (1 + bonus_rate)\n",
    "    self.bonus = self.total_salary - self.base_salary\n",
    "\n",
    "  def __repr__(self):\n",
    "    return f'{self.symbol}{self.base_salary:,.0f}'\n",
    "\n",
    "  def show_salary(self):\n",
    "    return f'{self.symbol}{self.total_salary:,.0f}'\n",
    "\n",
    "  def show_bonus(self):\n",
    "    return f'{self.symbol}{self.bonus:,.0f}'"
   ]
  },
  {
   "cell_type": "code",
   "execution_count": 377,
   "id": "fe21cb62-c03d-4a5d-baa1-70cabeae5675",
   "metadata": {},
   "outputs": [
    {
     "data": {
      "text/plain": [
       "'$'"
      ]
     },
     "execution_count": 377,
     "metadata": {},
     "output_type": "execute_result"
    }
   ],
   "source": [
    "salary = BaseSalary(100000)\n",
    "salary.base_salary\n",
    "salary.symbol"
   ]
  },
  {
   "cell_type": "code",
   "execution_count": 379,
   "id": "1caf46e5-8cd7-4610-8c29-838c7ece2e81",
   "metadata": {},
   "outputs": [
    {
     "data": {
      "text/plain": [
       "$100,000"
      ]
     },
     "execution_count": 379,
     "metadata": {},
     "output_type": "execute_result"
    }
   ],
   "source": [
    "salary"
   ]
  },
  {
   "cell_type": "code",
   "execution_count": 389,
   "id": "24b24259-59a8-48b5-b7b3-e56504c63195",
   "metadata": {},
   "outputs": [
    {
     "data": {
      "text/plain": [
       "'$110,000'"
      ]
     },
     "execution_count": 389,
     "metadata": {},
     "output_type": "execute_result"
    }
   ],
   "source": [
    "salary.show_salary()"
   ]
  },
  {
   "cell_type": "code",
   "execution_count": 391,
   "id": "7a36de6d-7dbd-419f-ac4f-d3d65097237c",
   "metadata": {},
   "outputs": [
    {
     "data": {
      "text/plain": [
       "'$10,000'"
      ]
     },
     "execution_count": 391,
     "metadata": {},
     "output_type": "execute_result"
    }
   ],
   "source": [
    "salary.show_bonus()"
   ]
  },
  {
   "cell_type": "code",
   "execution_count": null,
   "id": "860d576a-475d-419b-a2c8-fb8d7565db85",
   "metadata": {},
   "outputs": [],
   "source": [
    "# Problem Statement: Create a class named JobPosting with attributes title, company, and location.\n",
    "# Create an instance of an object (called job) of this class with the \n",
    "# title 'Data Scientist', company 'Tech Innovations', and location 'New York'.\n",
    "# Print the attributes of the object.\n",
    "#Code Needed: job = JobPosting('Data Scientist', 'Tech Innovations', 'New York')\n",
    "#Hint: Use the __init__ method to initialize the attributes of the class."
   ]
  },
  {
   "cell_type": "code",
   "execution_count": 393,
   "id": "69682468-6644-48fb-a34a-b89e7d98c288",
   "metadata": {},
   "outputs": [
    {
     "name": "stdout",
     "output_type": "stream",
     "text": [
      "Job Title: Data Scientist\n",
      "Company: Tech Innovations\n",
      "Location: New York\n"
     ]
    }
   ],
   "source": [
    "class JobPosting :\n",
    "  def __init__(self, title, company, location):\n",
    "        self.title = title\n",
    "        self.company = company\n",
    "        self.location = location\n",
    "job = JobPosting('Data Scientist', 'Tech Innovations', 'New York')\n",
    "print(f\"Job Title: {job.title}\")\n",
    "print(f\"Company: {job.company}\")\n",
    "print(f\"Location: {job.location}\")"
   ]
  },
  {
   "cell_type": "code",
   "execution_count": null,
   "id": "4669ebb6-db40-4c6b-9de0-29d5d06fc422",
   "metadata": {},
   "outputs": [],
   "source": [
    "#Problem Statement: Create a class named JobPosting with a method to_dict that converts the job posting details to a dictionary.\n",
    "#Instantiate an object (called job) of this class with the title \n",
    "#'Data Scientist', company 'Tech Innovations', location 'New York', and salary as 120000.\n",
    "# Convert its details to a dictionary using the to_dict method.\n",
    "Print the dictionary.\n",
    "# Code Needed: job = JobPosting('Data Scientist', 'Tech Innovations', 'New York', 120000)\n",
    "# Hint: Use a method to convert the attributes of the class to a dictionary."
   ]
  },
  {
   "cell_type": "code",
   "execution_count": 395,
   "id": "293169fc-75ca-42c8-91ab-5504000d9f75",
   "metadata": {},
   "outputs": [
    {
     "name": "stdout",
     "output_type": "stream",
     "text": [
      "{'title': 'Data Scientist', 'company': 'Tech Innovations', 'location': 'New York', 'salary': 120000}\n"
     ]
    }
   ],
   "source": [
    "# Define the JobPosting class\n",
    "class JobPosting:\n",
    "    def __init__(self, title, company, location, salary):\n",
    "        self.title = title\n",
    "        self.company = company\n",
    "        self.location = location\n",
    "        self.salary = salary\n",
    "\n",
    "    # Method to convert job details to a dictionary\n",
    "    def to_dict(self):\n",
    "        return {\n",
    "            'title': self.title,\n",
    "            'company': self.company,\n",
    "            'location': self.location,\n",
    "            'salary': self.salary\n",
    "        }\n",
    "\n",
    "# Create an instance of the JobPosting class\n",
    "job = JobPosting('Data Scientist', 'Tech Innovations', 'New York', 120000)\n",
    "\n",
    "# Convert the job details to a dictionary and print\n",
    "job_dict = job.to_dict()\n",
    "print(job_dict)\n"
   ]
  },
  {
   "cell_type": "code",
   "execution_count": 397,
   "id": "037d34ae-1991-4a46-8cfb-62d5991d417c",
   "metadata": {},
   "outputs": [
    {
     "name": "stdout",
     "output_type": "stream",
     "text": [
      "The job with the higher salary is: Data Scientist\n"
     ]
    }
   ],
   "source": [
    "# Define the JobPosting class\n",
    "class JobPosting:\n",
    "    def __init__(self, title, company, location, salary):\n",
    "        self.title = title\n",
    "        self.company = company\n",
    "        self.location = location\n",
    "        self.salary = salary\n",
    "\n",
    "    # Method to compare salaries of two job postings\n",
    "    def compare_salary(self, other_job):\n",
    "        if self.salary > other_job.salary:\n",
    "            return self.title\n",
    "        elif self.salary < other_job.salary:\n",
    "            return other_job.title\n",
    "        else:\n",
    "            return \"Both jobs have the same salary.\"\n",
    "\n",
    "# Create two instances of the JobPosting class\n",
    "job1 = JobPosting('Data Scientist', 'Tech Innovations', 'New York', 120000)\n",
    "job2 = JobPosting('Data Analyst', 'Data Driven Co', 'San Francisco', 100000)\n",
    "\n",
    "# Compare their salaries and print the result\n",
    "higher_salary_job = job1.compare_salary(job2)\n",
    "print(f\"The job with the higher salary is: {higher_salary_job}\")\n"
   ]
  },
  {
   "cell_type": "code",
   "execution_count": 399,
   "id": "64c6a416-f9d7-41c1-804e-ee471fb8e42a",
   "metadata": {},
   "outputs": [
    {
     "name": "stdout",
     "output_type": "stream",
     "text": [
      "Data Scientist\n"
     ]
    }
   ],
   "source": [
    "class JobPosting:\n",
    "    def __init__(self, title, company, location, salary):\n",
    "        self.title = title\n",
    "        self.company = company\n",
    "        self.location = location\n",
    "        self.salary = salary\n",
    "    \n",
    "    def compare_salary(self, other_job):\n",
    "        if self.salary > other_job.salary:\n",
    "            return self.title\n",
    "        else:\n",
    "            return other_job.title\n",
    "\n",
    "job1 = JobPosting('Data Scientist', 'Tech Innovations', 'New York', 120000)\n",
    "job2 = JobPosting('Data Analyst', 'Data Driven Co', 'San Francisco', 100000)\n",
    "\n",
    "print(job1.compare_salary(job2))"
   ]
  },
  {
   "cell_type": "code",
   "execution_count": 4,
   "id": "80b9d34c-297e-4dca-966d-e74d37e398e1",
   "metadata": {},
   "outputs": [],
   "source": [
    "import pandas as pd\n",
    "from datasets import load_dataset\n",
    "import matplotlib.pyplot as plt  # we will use this for plotting\n"
   ]
  },
  {
   "cell_type": "code",
   "execution_count": 6,
   "id": "55295226-d344-4fbd-ac4f-395efd5fe22b",
   "metadata": {},
   "outputs": [
    {
     "data": {
      "text/plain": [
       "[<matplotlib.lines.Line2D at 0x24b526ae300>]"
      ]
     },
     "execution_count": 6,
     "metadata": {},
     "output_type": "execute_result"
    },
    {
     "data": {
      "image/png": "[encoded data removed]",
      "text/plain": [
       "<Figure size 640x480 with 1 Axes>"
      ]
     },
     "metadata": {},
     "output_type": "display_data"
    }
   ],
   "source": [
    "x = [1, 2, 3, 4]\n",
    "y = [1, 2, 3, 4]\n",
    "\n",
    "plt.plot(x, y)"
   ]
  },
  {
   "cell_type": "code",
   "execution_count": 8,
   "id": "e08625d7-d813-422e-b1d1-51649141b40c",
   "metadata": {},
   "outputs": [
    {
     "data": {
      "image/png": "[encoded data removed]",
      "text/plain": [
       "<Figure size 640x480 with 1 Axes>"
      ]
     },
     "metadata": {},
     "output_type": "display_data"
    }
   ],
   "source": [
    "x = [1, 2, 3, 4]\n",
    "y = [1, 2, 3, 4]\n",
    "\n",
    "plt.plot(x, y)\n",
    "plt.show()"
   ]
  },
  {
   "cell_type": "code",
   "execution_count": 10,
   "id": "e0a0fbc0-60d9-444a-97e9-aa4882f2869a",
   "metadata": {},
   "outputs": [
    {
     "ename": "NameError",
     "evalue": "name 'dfc' is not defined",
     "output_type": "error",
     "traceback": [
      "\u001b[1;31m---------------------------------------------------------------------------\u001b[0m",
      "\u001b[1;31mNameError\u001b[0m                                 Traceback (most recent call last)",
      "Cell \u001b[1;32mIn[10], line 1\u001b[0m\n\u001b[1;32m----> 1\u001b[0m dfc\u001b[38;5;241m.\u001b[39minfo()\n",
      "\u001b[1;31mNameError\u001b[0m: name 'dfc' is not defined"
     ]
    }
   ],
   "source": [
    "dfc.info()"
   ]
  },
  {
   "cell_type": "code",
   "execution_count": null,
   "id": "faa014bf-5bd1-4231-b89c-edccd8c37b56",
   "metadata": {},
   "outputs": [],
   "source": []
  },
  {
   "cell_type": "code",
   "execution_count": null,
   "id": "3648c889-ed74-41b6-b6c0-af1044b9bdcc",
   "metadata": {},
   "outputs": [],
   "source": []
  },
  {
   "cell_type": "code",
   "execution_count": null,
   "id": "91c25549-adac-403c-9795-669fa796cec2",
   "metadata": {},
   "outputs": [],
   "source": []
  },
  {
   "cell_type": "code",
   "execution_count": null,
   "id": "26dc037c-4b38-4b41-a706-dd0fd32e0beb",
   "metadata": {},
   "outputs": [],
   "source": []
  },
  {
   "cell_type": "code",
   "execution_count": null,
   "id": "d27688b1-da77-4629-aad4-35aea629e6f3",
   "metadata": {},
   "outputs": [],
   "source": []
  }
 ],
 "metadata": {
  "kernelspec": {
   "display_name": "Python 3 (ipykernel)",
   "language": "python",
   "name": "python3"
  },
  "language_info": {
   "codemirror_mode": {
    "name": "ipython",
    "version": 3
   },
   "file_extension": ".py",
   "mimetype": "text/x-python",
   "name": "python",
   "nbconvert_exporter": "python",
   "pygments_lexer": "ipython3",
   "version": "3.12.4"
  }
 },
 "nbformat": 4,
 "nbformat_minor": 5
}
